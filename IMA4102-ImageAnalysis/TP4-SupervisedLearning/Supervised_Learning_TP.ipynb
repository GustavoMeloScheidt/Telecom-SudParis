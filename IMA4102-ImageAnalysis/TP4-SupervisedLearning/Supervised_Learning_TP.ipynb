{
  "cells": [
    {
      "cell_type": "markdown",
      "metadata": {
        "id": "1-decu8ruw2u"
      },
      "source": [
        "# Supervised Learning Lab @ 2025\n",
        "  ### Telecom SudParis\n",
        "  ### 08/09-04-2025"
      ]
    },
    {
      "cell_type": "markdown",
      "metadata": {
        "id": "k2YGutTouw2v"
      },
      "source": [
        "# Introduction\n",
        "Classification of Handwritten Digits using Supervised Learning algorithms.\n",
        "This study is carried out on MNIST, a dataset of handwritten numerals made of up of 60000 for training and 10000 for test. Each image has a size of 28x28 pixels, the gray level of each being between 0 and 255."
      ]
    },
    {
      "cell_type": "markdown",
      "metadata": {
        "id": "km2hvxD_uw2w"
      },
      "source": [
        "Considered algorithms:\n",
        "\n",
        "1. Support Vector Machine ([SVM](https://scikit-learn.org/stable/modules/svm.html))\n",
        "2. Decision Tree ([DT](https://scikit-learn.org/stable/modules/tree.html))\n",
        "3. Random Forest ([RF](https://scikit-learn.org/stable/modules/ensemble.html))\n",
        "4. XGBoost ([XGB](https://xgboost.readthedocs.io/en/latest/python/index.html))\n",
        "5. K-Nearest Neighbors  ([KNN](https://scikit-learn.org/stable/modules/generated/sklearn.neighbors.KNeighborsClassifier.html))\n",
        "   \n"
      ]
    },
    {
      "cell_type": "markdown",
      "metadata": {
        "id": "cN8zbn0Duw2w"
      },
      "source": [
        "# Demo:"
      ]
    },
    {
      "cell_type": "markdown",
      "metadata": {
        "id": "ecK7211juw2w"
      },
      "source": [
        "This Lab contains 6 parts. The goal is to complete the TO DO parts.\n",
        "\n",
        "1. Data reading and splitting.\n",
        "2. Data visualisation.\n",
        "\n",
        "For each classifier:\n",
        "\n",
        "3. Define the classifier hyper-parameters\n",
        "4. Fitting\n",
        "5. Optimization on the validation dataset\n",
        "6. Evaluation on the test dataset\n",
        "\n",
        "For each classifier, we start by evaluating it using default parameters. Next, we fine-tune the values of these hyperparameters based on the validation set. Then, the classifier is validated on the test set. Regarding the technical aspects, we will demonstrate how it works for RandomForest and DecisionTree, and we will leave it to you to implement the necessary code for the other three classifiers.\n",
        "\n",
        "\n",
        "After evaluating all the classifiers on the test dataset:\n",
        "\n",
        "7. Classifier performances comparison\n"
      ]
    },
    {
      "cell_type": "markdown",
      "metadata": {
        "id": "sq4xhCF1uw2x"
      },
      "source": [
        "## Import the needed packages"
      ]
    },
    {
      "cell_type": "code",
      "execution_count": 1,
      "metadata": {
        "id": "cKixfDzsuw2y"
      },
      "outputs": [],
      "source": [
        "#### First, you should import libraires.\n",
        "####\n",
        "\n",
        "import keras\n",
        "from keras.datasets import mnist\n",
        "from IPython.display import Image\n",
        "import sklearn\n",
        "import sklearn.tree\n",
        "import sklearn.ensemble\n",
        "import sklearn.discriminant_analysis\n",
        "\n",
        "import xgboost\n",
        "import matplotlib.pyplot as plt\n",
        "import numpy as np\n",
        "import warnings\n",
        "warnings.filterwarnings('ignore')\n",
        "### for the color\n",
        "import termcolor\n"
      ]
    },
    {
      "cell_type": "markdown",
      "metadata": {
        "id": "3MYZsqucuw2y"
      },
      "source": [
        "# I) Data reading and splitting"
      ]
    },
    {
      "cell_type": "markdown",
      "metadata": {
        "id": "YFVFNfbOuw2y"
      },
      "source": [
        "This part consists of reading the MNIST dataset, splitting it into train and test sets and displaying a number of images per set."
      ]
    },
    {
      "cell_type": "code",
      "execution_count": 2,
      "metadata": {
        "colab": {
          "base_uri": "https://localhost:8080/"
        },
        "id": "gdz-7jS9uw2z",
        "outputId": "18263961-35d7-433e-925c-5d5616b8ce9b"
      },
      "outputs": [
        {
          "name": "stdout",
          "output_type": "stream",
          "text": [
            "60000 train samples\n",
            "10000 test samples\n"
          ]
        }
      ],
      "source": [
        "# I - Data reading & splitting\n",
        "\n",
        "from keras.datasets import mnist\n",
        "\n",
        "# 1) load data from MNIST Dataset\n",
        "(x_train, y_train), (x_test, y_test) = mnist.load_data(\n",
        "    path='mnist.npz'\n",
        ")\n",
        "\n",
        "\n",
        "# Input image format\n",
        "rows, cols, channels = 28, 28, 1\n",
        "\n",
        "# 2) What does \"x_train\", \"y_train\", \"x_test\" and \"y_test\" present ?\n",
        "\n",
        "x_train = x_train.reshape(60000, rows*cols*channels)\n",
        "x_test = x_test.reshape(10000,rows*cols*channels)\n",
        "x_train = x_train.astype('float32')\n",
        "x_test = x_test.astype('float32')\n",
        "x_train /= 255\n",
        "x_test /= 255\n",
        "\n",
        "#3)Display the number of images in train and test sets\n",
        "\n",
        "print(x_train.shape[0], 'train samples')\n",
        "print(x_test.shape[0], 'test samples')"
      ]
    },
    {
      "cell_type": "code",
      "execution_count": 3,
      "metadata": {
        "id": "889oOovbw7_4"
      },
      "outputs": [],
      "source": [
        "#4) Now, split the training dataset into training and validation sets, and don't forget normalization if it's not already normalized.\n",
        "\n",
        "##### Insert your code here ##########\n",
        "from sklearn.model_selection import train_test_split\n",
        "x_train, x_val, y_train, y_val = train_test_split(x_train, y_train, test_size=0.2, random_state=42)"
      ]
    },
    {
      "cell_type": "markdown",
      "metadata": {
        "id": "Lkn1GFUMuw2z"
      },
      "source": [
        "# II) Data visualisation"
      ]
    },
    {
      "cell_type": "markdown",
      "metadata": {
        "id": "X3XI_ITJuw20"
      },
      "source": [
        "Which library is required to visualise images?  \n",
        "Complete the following commands to display the first 200 images from the training set."
      ]
    },
    {
      "cell_type": "code",
      "execution_count": 4,
      "metadata": {
        "colab": {
          "base_uri": "https://localhost:8080/",
          "height": 331
        },
        "id": "F3wFn6RNuw20",
        "outputId": "7c9a1d18-13a9-4496-b7e7-b096a535906a"
      },
      "outputs": [
        {
          "data": {
            "image/png": "[encoded data removed]",
            "text/plain": [
              "<Figure size 719.5x384.1 with 200 Axes>"
            ]
          },
          "metadata": {},
          "output_type": "display_data"
        }
      ],
      "source": [
        "# II - Data visualisation\n",
        "\n",
        "#1) Which library is required to  display images\n",
        "import matplotlib.pyplot as plt\n",
        "\n",
        "#2) Complete the script to display the first 200 images from the MNIST dataset\n",
        "\n",
        "plt.figure(figsize=(7.195, 3.841), dpi=100)\n",
        "\n",
        "for i in range(200):\n",
        "    plt.subplot(10,20,i+1)\n",
        "    plt.imshow(x_train[i].reshape([28,28]), cmap='gray')\n",
        "    plt.axis('off')\n"
      ]
    },
    {
      "cell_type": "markdown",
      "metadata": {
        "id": "OLYasbAfuw20"
      },
      "source": [
        "# III) Decision Tree"
      ]
    },
    {
      "cell_type": "markdown",
      "metadata": {
        "id": "WiNoB2yoUqWj"
      },
      "source": [
        "## First Evaluation using Default hyper-parameters values"
      ]
    },
    {
      "cell_type": "code",
      "execution_count": 5,
      "metadata": {
        "id": "y-qtyl0uXVAq"
      },
      "outputs": [
        {
          "name": "stdout",
          "output_type": "stream",
          "text": [
            "Accuracy of Decision Tree = 86.40%\n"
          ]
        }
      ],
      "source": [
        "#1)  - Define the classifier hyper-parameters\n",
        "##  max_depth is a hyper-parameter of the DecisionTree classifier\n",
        "## max_depth int, default = None\n",
        "## The maximum depth of the tree. If None, then nodes are expanded until all leaves are pure or\n",
        "## until all leaves contain less than min_samples_split samples.\n",
        "\n",
        "max_depth = 10  # (You can change this value later and comapre results)\n",
        "\n",
        "\n",
        "#2)  - Fitting\n",
        "\n",
        "dtree = sklearn.tree.DecisionTreeClassifier(max_depth=max_depth)\n",
        "dtree.fit(x_train, y_train)\n",
        "\n",
        "#3)  - Evaluation\n",
        "\n",
        "print(\"Accuracy of Decision Tree = %.2f%%\" %(dtree.score(x_test, y_test)*100))\n",
        "\n"
      ]
    },
    {
      "cell_type": "markdown",
      "metadata": {
        "id": "YFkff4mSXXOj"
      },
      "source": [
        "Another idea is to use the \"accuracy_score\" method from sklearn"
      ]
    },
    {
      "cell_type": "code",
      "execution_count": 11,
      "metadata": {
        "colab": {
          "base_uri": "https://localhost:8080/"
        },
        "id": "E7BD-Ne_uw21",
        "outputId": "46f49ad4-7937-4daf-9a94-eb7057e0866e"
      },
      "outputs": [
        {
          "name": "stdout",
          "output_type": "stream",
          "text": [
            "Accuracy of Decision Tree = 86.45%\n"
          ]
        }
      ],
      "source": [
        "#1)  - Define the classifier hyper-parameters\n",
        "##  max_depth is a hyper-parameter of the DecisionTree classifier\n",
        "## max_depth int, default = None\n",
        "## The maximum depth of the tree. If None, then nodes are expanded until all leaves are pure or\n",
        "## until all leaves contain less than min_samples_split samples.\n",
        "\n",
        "max_depth = 10  # (You can change this value later and comapre results)\n",
        "\n",
        "from sklearn.tree import DecisionTreeClassifier\n",
        "from sklearn.metrics import accuracy_score\n",
        "\n",
        "#2)  - Fitting\n",
        "\n",
        "dtree = sklearn.tree.DecisionTreeClassifier(max_depth=max_depth)\n",
        "dtree.fit(x_train, y_train)\n",
        "\n",
        "#2.5) Predicting\n",
        "\n",
        "y_pred_dtree = dtree.predict(x_test)\n",
        "\n",
        "#3)  - Evaluation\n",
        "\n",
        "dtree_accuracy = accuracy_score(y_test, y_pred_dtree)\n",
        "print(\"Accuracy of Decision Tree = %.2f%%\" % (dtree_accuracy * 100))\n",
        "\n"
      ]
    },
    {
      "cell_type": "markdown",
      "metadata": {
        "id": "rjnkx3gLWSLC"
      },
      "source": [
        "## Currently, you should adjust the hyperparameter values to optimize performance on the validation set. Once the optimal values are found, assess performance on the test set. Please be aware that during the optimization phase, you should not use the test set."
      ]
    },
    {
      "cell_type": "markdown",
      "metadata": {
        "id": "-hrLt3wIPCGV"
      },
      "source": [
        "We would like to use this alternative method that we found on the internet, called \"GridsearchCV\", we found it really interesting and easy to use. However, we also did with the for loop."
      ]
    },
    {
      "cell_type": "markdown",
      "metadata": {},
      "source": [
        "This part performs hyperparameter tuning for a Decision Tree classifier using GridSearchCV to find the best value for the max_depth parameter. The max_depth controls the depth of the tree, and the code tests multiple values (5, 10, 15, 20, None). It uses 3-fold cross-validation to evaluate the performance of each configuration based on accuracy. After fitting the grid search on the training data, it identifies the best max_depth and the corresponding validation accuracy, which are then printed. This helps select the optimal tree depth for the model to improve its performance."
      ]
    },
    {
      "cell_type": "code",
      "execution_count": 12,
      "metadata": {
        "colab": {
          "base_uri": "https://localhost:8080/"
        },
        "id": "8KEU1Ti_YdJN",
        "outputId": "ba66e2f2-307d-4db0-dbb5-172e809eec94"
      },
      "outputs": [
        {
          "name": "stdout",
          "output_type": "stream",
          "text": [
            "Best max_depth:  15\n",
            "Best validation accuracy: 85.88%\n"
          ]
        }
      ],
      "source": [
        "# Hyperparameter tuning on the validation set using different values of max_depth\n",
        "from sklearn.model_selection import GridSearchCV\n",
        "\n",
        "# Define a parameter grid for hyperparameter tuning\n",
        "param_grid = {\n",
        "    'max_depth': [5, 10, 15, 20, None]  # Try different depths\n",
        "}\n",
        "\n",
        "# Set up GridSearchCV\n",
        "grid_search = GridSearchCV(estimator=dtree, param_grid=param_grid, cv=3, scoring='accuracy')\n",
        "\n",
        "# Fit the grid search on the training data\n",
        "grid_search.fit(x_train, y_train)\n",
        "\n",
        "# Get the best parameter and the corresponding accuracy\n",
        "best_max_depth = grid_search.best_params_['max_depth']\n",
        "best_accuracy = grid_search.best_score_\n",
        "\n",
        "print(\"Best max_depth: \", best_max_depth)\n",
        "print(\"Best validation accuracy: %.2f%%\" % (best_accuracy * 100))\n"
      ]
    },
    {
      "cell_type": "markdown",
      "metadata": {},
      "source": [
        "This part performs hyperparameter tuning for a Decision Tree classifier by testing different values of the max_depth hyperparameter in a for loop. The code evaluates the model's performance on a validation set for depths ranging from 10 to 29. For each value of max_depth, the model is trained, and its accuracy is computed on the validation set. The best max_depth that yields the highest validation accuracy is identified and printed, helping to select the optimal tree depth for the Decision Tree model."
      ]
    },
    {
      "cell_type": "code",
      "execution_count": 13,
      "metadata": {
        "colab": {
          "base_uri": "https://localhost:8080/"
        },
        "id": "8aMH7Nf0PTPF",
        "outputId": "a9eb4eeb-7135-49b4-b968-c18987d9d543"
      },
      "outputs": [
        {
          "name": "stdout",
          "output_type": "stream",
          "text": [
            "max_depth = 10 --> Validation Accuracy = 0.8576\n",
            "max_depth = 11 --> Validation Accuracy = 0.8631\n",
            "max_depth = 12 --> Validation Accuracy = 0.8687\n",
            "max_depth = 13 --> Validation Accuracy = 0.8698\n",
            "max_depth = 14 --> Validation Accuracy = 0.8738\n",
            "max_depth = 15 --> Validation Accuracy = 0.8733\n",
            "max_depth = 16 --> Validation Accuracy = 0.8703\n",
            "max_depth = 17 --> Validation Accuracy = 0.8721\n",
            "max_depth = 18 --> Validation Accuracy = 0.8708\n",
            "max_depth = 19 --> Validation Accuracy = 0.8710\n",
            "max_depth = 20 --> Validation Accuracy = 0.8730\n",
            "max_depth = 21 --> Validation Accuracy = 0.8700\n",
            "max_depth = 22 --> Validation Accuracy = 0.8707\n",
            "max_depth = 23 --> Validation Accuracy = 0.8688\n",
            "max_depth = 24 --> Validation Accuracy = 0.8701\n",
            "max_depth = 25 --> Validation Accuracy = 0.8709\n",
            "max_depth = 26 --> Validation Accuracy = 0.8678\n",
            "max_depth = 27 --> Validation Accuracy = 0.8696\n",
            "max_depth = 28 --> Validation Accuracy = 0.8704\n",
            "max_depth = 29 --> Validation Accuracy = 0.8707\n",
            "\n",
            " Best max_depth: 14 with validation accuracy = 0.8738\n"
          ]
        }
      ],
      "source": [
        "#Using the for loop:\n",
        "from sklearn.tree import DecisionTreeClassifier\n",
        "from sklearn.metrics import accuracy_score\n",
        "\n",
        "d_tree_best_depth = None\n",
        "d_tree_best_accuracy = 0\n",
        "\n",
        "# 1)  different values of max_depth\n",
        "for depth in range(10, 30):\n",
        "    dtree = DecisionTreeClassifier(max_depth=depth)\n",
        "    dtree.fit(x_train, y_train)\n",
        "\n",
        "    # 2) Evaluating on validation set (not test set)\n",
        "    temporary_accuracy = accuracy_score(y_val, dtree.predict(x_val))\n",
        "\n",
        "    print(f\"max_depth = {depth} --> Validation Accuracy = {temporary_accuracy:.4f}\")\n",
        "\n",
        "    if temporary_accuracy > d_tree_best_accuracy:\n",
        "        d_tree_best_accuracy = temporary_accuracy\n",
        "        d_tree_best_depth = depth\n",
        "\n",
        "print(f\"\\n Best max_depth: {d_tree_best_depth} with validation accuracy = {d_tree_best_accuracy:.4f}\")\n"
      ]
    },
    {
      "cell_type": "markdown",
      "metadata": {},
      "source": [
        "Final Evaluation\n",
        "\n",
        "This part fits a Decision Tree model using the best max_depth value identified earlier and trains it on the training set. After training, it evaluates the model on the test set to assess its performance. The accuracy of the model on the test set is computed and printed as the final accuracy, reflecting how well the model generalizes to unseen data after tuning the max_depth hyperparameter."
      ]
    },
    {
      "cell_type": "code",
      "execution_count": 16,
      "metadata": {
        "colab": {
          "base_uri": "https://localhost:8080/"
        },
        "id": "RAl7QbSlocYq",
        "outputId": "94f20611-a91e-4883-cba9-33d57906cc00"
      },
      "outputs": [
        {
          "name": "stdout",
          "output_type": "stream",
          "text": [
            "Final Accuracy of Decision Tree with optimized hyperparameters = 87.81%\n"
          ]
        }
      ],
      "source": [
        "# Fit the Decision Tree model with the best max_depth on the training set tested above (using the value of 15 for the max_depth)\n",
        "final_dtree = DecisionTreeClassifier(max_depth=d_tree_best_depth)\n",
        "final_dtree.fit(x_train, y_train)\n",
        "\n",
        "# Evaluating on the test set\n",
        "y_pred_final_dtree = final_dtree.predict(x_test)\n",
        "\n",
        "# Ensure that y_test and y_pred_final_dtree are 1D arrays (because we had error with the 2D/1D arrays)\n",
        "y_test_labels = y_test.reshape(-1,)  # Reshape y_test to be 1D\n",
        "y_pred_final_dtree = y_pred_final_dtree.reshape(-1,)  # Reshape y_pred_final_dtree to be 1D\n",
        "\n",
        "# Compute the accuracy\n",
        "final_accuracy = final_dtree.score(x_test, y_test_labels)\n",
        "\n",
        "# Print the final accuracy\n",
        "print(\"Final Accuracy of Decision Tree with optimized hyperparameters = %.2f%%\" % (final_accuracy * 100))\n"
      ]
    },
    {
      "cell_type": "markdown",
      "metadata": {
        "id": "su9xq7iAuw21"
      },
      "source": [
        "# IV) Random Forest"
      ]
    },
    {
      "cell_type": "markdown",
      "metadata": {
        "id": "Ar4YDMXWZIy_"
      },
      "source": [
        "## First Evaluation using Default hyper-parameters values\n",
        "\n",
        "This part sets up the classifier with two hyperparameters: n_estimators=100 (the number of trees in the forest) and max_depth=10 (the maximum depth of each decision tree). It then fits the model to the training data (x_train, y_train) and evaluates its performance on the test set (x_test, y_test). Finally, it prints the accuracy of the trained Random Forest model on the test set, expressed as a percentage."
      ]
    },
    {
      "cell_type": "code",
      "execution_count": 19,
      "metadata": {
        "colab": {
          "base_uri": "https://localhost:8080/"
        },
        "id": "TF5793Dyuw21",
        "outputId": "30f305cf-4c66-4963-c197-9de1cc177ffa"
      },
      "outputs": [
        {
          "name": "stdout",
          "output_type": "stream",
          "text": [
            "Accuracy of Random Forest = 94.84%\n"
          ]
        }
      ],
      "source": [
        "#1)  - Define the classifier hyper-parameters\n",
        "##  n_estimators is a hyper-parameter of the RandomForest classifier\n",
        "## n_estimators int, default=100\n",
        "## The number of trees in the forest.\n",
        "\n",
        "from sklearn.ensemble import RandomForestClassifier\n",
        "\n",
        "\n",
        "n_estimators = 100 # (You can change this value later and compare results)\n",
        "\n",
        "##  max_depth is a hyper-parameter of the DecisionTree classifier\n",
        "## max_depth int, default = None\n",
        "## The maximum depth of the tree. If None, then nodes are expanded until all leaves are pure or\n",
        "## until all leaves contain less than min_samples_split samples.\n",
        "\n",
        "max_depth = 10 # You can change this value later and compare results)\n",
        "\n",
        "\n",
        "#2)  - Fitting\n",
        "\n",
        "rforest = sklearn.ensemble.RandomForestClassifier(n_estimators=n_estimators,max_depth=max_depth)\n",
        "rforest.fit(x_train, y_train)\n",
        "\n",
        "#3)  - Evaluation\n",
        "\n",
        "print(\"Accuracy of Random Forest = %.2f%%\" % (rforest.score(x_test, y_test)*100))\n"
      ]
    },
    {
      "cell_type": "markdown",
      "metadata": {
        "id": "xItK3GXiZKG0"
      },
      "source": [
        "## Currently, you should adjust the hyperparameter values to optimize performance on the validation set. Once the optimal values are found, assess performance on the test set. Please be aware that during the optimization phase, you should not use the test set."
      ]
    },
    {
      "cell_type": "markdown",
      "metadata": {},
      "source": [
        "This part performs hyperparameter tuning by testing different values of n_estimators (number of trees) and max_depth (maximum depth of each tree). It evaluates each combination using the validation set to find the best-performing hyperparameters. After identifying the optimal values, the model is retrained on both the training and validation datasets combined, and its performance is then tested on the unseen test set. The final test accuracy is reported, to see the model's ability to generalize to new data."
      ]
    },
    {
      "cell_type": "code",
      "execution_count": 20,
      "metadata": {
        "colab": {
          "base_uri": "https://localhost:8080/"
        },
        "id": "a8ZTorBDZMJ7",
        "outputId": "5eb1746f-d71b-444b-cdde-b98ce25c4bda"
      },
      "outputs": [
        {
          "name": "stdout",
          "output_type": "stream",
          "text": [
            "n_estimators = 50, max_depth = 5 --> Validation Accuracy = 0.8466\n",
            "n_estimators = 50, max_depth = 10 --> Validation Accuracy = 0.9460\n",
            "n_estimators = 50, max_depth = 15 --> Validation Accuracy = 0.9617\n",
            "n_estimators = 50, max_depth = 20 --> Validation Accuracy = 0.9647\n",
            "n_estimators = 100, max_depth = 5 --> Validation Accuracy = 0.8562\n",
            "n_estimators = 100, max_depth = 10 --> Validation Accuracy = 0.9458\n",
            "n_estimators = 100, max_depth = 15 --> Validation Accuracy = 0.9637\n",
            "n_estimators = 100, max_depth = 20 --> Validation Accuracy = 0.9684\n",
            "n_estimators = 150, max_depth = 5 --> Validation Accuracy = 0.8556\n",
            "n_estimators = 150, max_depth = 10 --> Validation Accuracy = 0.9470\n",
            "n_estimators = 150, max_depth = 15 --> Validation Accuracy = 0.9655\n",
            "n_estimators = 150, max_depth = 20 --> Validation Accuracy = 0.9703\n",
            "n_estimators = 200, max_depth = 5 --> Validation Accuracy = 0.8587\n",
            "n_estimators = 200, max_depth = 10 --> Validation Accuracy = 0.9473\n",
            "n_estimators = 200, max_depth = 15 --> Validation Accuracy = 0.9657\n",
            "n_estimators = 200, max_depth = 20 --> Validation Accuracy = 0.9688\n",
            "\n",
            " Best max_depth: 20 and Best n_estimators: 150 with validation accuracy = 0.9703\n",
            "\n",
            " Final Test Accuracy for Random Forest with max_depth = 20 and n_estimators = 150: 0.8808\n"
          ]
        }
      ],
      "source": [
        "################# Insert your code here ####################\n",
        "\n",
        "from sklearn.ensemble import RandomForestClassifier\n",
        "from sklearn.metrics import accuracy_score\n",
        "\n",
        "# Initialize variables to track the best hyperparameters and accuracy\n",
        "rforest_best_n_estimators = None\n",
        "rforest_best_depth = None\n",
        "rforest_best_accuracy = 0\n",
        "\n",
        "# 1) Testing different values for n_estimators and max_depth\n",
        "for n_estimators in [50, 100, 150, 200]:  # Different values for n_estimators\n",
        "    for max_depth in [5, 10, 15, 20]:  # Different values for max_depth\n",
        "        rforest = RandomForestClassifier(n_estimators=n_estimators, max_depth=max_depth, random_state=42)\n",
        "        rforest.fit(x_train, y_train)\n",
        "\n",
        "        # 2) Evaluating on validation set (not test set)\n",
        "        temporary_accuracy = accuracy_score(y_val, rforest.predict(x_val))\n",
        "\n",
        "        print(f\"n_estimators = {n_estimators}, max_depth = {max_depth} --> Validation Accuracy = {temporary_accuracy:.4f}\")\n",
        "\n",
        "        # 3) Update the best hyperparameters if the current accuracy is better\n",
        "        if temporary_accuracy > rforest_best_accuracy:\n",
        "            rforest_best_accuracy = temporary_accuracy\n",
        "            rforest_best_n_estimators = n_estimators\n",
        "            rforest_best_depth = max_depth\n",
        "\n",
        "# Once best hyperparameter is found, we're going to retrain on full training data (train + val)\n",
        "# We only did this full training method for Random Forest, the other ones are training (on the final evaluation) only on the training set, as we wanted to explore both possibilities\n",
        "print(f\"\\n Best max_depth: {rforest_best_depth} and Best n_estimators: {rforest_best_n_estimators} with validation accuracy = {rforest_best_accuracy:.4f}\")\n",
        "\n",
        "# Retrain on combined data (full training data)\n",
        "import numpy as np\n",
        "x_combined = np.concatenate((x_train, x_val))\n",
        "y_combined = np.concatenate((y_train, y_val))\n",
        "\n",
        "final_randomforest = DecisionTreeClassifier(max_depth=rforest_best_depth)\n",
        "final_randomforest.fit(x_combined, y_combined)\n",
        "\n",
        "# Final test set evaluation\n",
        "test_accuracy = accuracy_score(y_test, final_randomforest.predict(x_test))\n",
        "print(f\"\\n Final Test Accuracy for Random Forest with max_depth = {rforest_best_depth} and n_estimators = {rforest_best_n_estimators}: {test_accuracy:.4f}\")\n"
      ]
    },
    {
      "cell_type": "markdown",
      "metadata": {
        "id": "zDJiYNX5uw22"
      },
      "source": [
        "# V) XGBoost"
      ]
    },
    {
      "cell_type": "markdown",
      "metadata": {
        "id": "NSCrzlvYZmWk"
      },
      "source": [
        "##   As for RandomForest and DecisionTree, start by evaluating XGBoost with its default parameters, then fine-tune (optimize) its performance on the validation set, and finally, evaluate the classifier on the test set"
      ]
    },
    {
      "cell_type": "markdown",
      "metadata": {
        "id": "hebpGiUWahuH"
      },
      "source": [
        "## First Evaluation\n",
        "\n",
        "This part performs hyperparameter tuning for the XGBoost classifier by testing various values for the hyperparameter max_depth (which controls the maximum depth of the decision trees in the model). The code loops through values of max_depth from 1 to 20, training the model with each depth value and evaluating its performance on the validation set using validation accuracy. The depth with the highest validation accuracy is stored as XGBoost_best_depth. After testing all values, the code prints the best max_depth and its corresponding validation accuracy."
      ]
    },
    {
      "cell_type": "code",
      "execution_count": 9,
      "metadata": {
        "colab": {
          "base_uri": "https://localhost:8080/"
        },
        "id": "Fv97H6QMuw22",
        "outputId": "1f2edfb3-0d39-493b-91d3-3c3c1480aad7"
      },
      "outputs": [
        {
          "name": "stdout",
          "output_type": "stream",
          "text": [
            "max_depth = 1 --> Validation Accuracy = 0.8852\n",
            "max_depth = 2 --> Validation Accuracy = 0.9398\n",
            "max_depth = 3 --> Validation Accuracy = 0.9625\n",
            "max_depth = 4 --> Validation Accuracy = 0.9704\n",
            "max_depth = 5 --> Validation Accuracy = 0.9763\n",
            "max_depth = 6 --> Validation Accuracy = 0.9770\n",
            "max_depth = 7 --> Validation Accuracy = 0.9768\n",
            "max_depth = 8 --> Validation Accuracy = 0.9766\n",
            "max_depth = 9 --> Validation Accuracy = 0.9771\n",
            "max_depth = 10 --> Validation Accuracy = 0.9752\n",
            "max_depth = 11 --> Validation Accuracy = 0.9750\n",
            "max_depth = 12 --> Validation Accuracy = 0.9734\n",
            "max_depth = 13 --> Validation Accuracy = 0.9756\n",
            "max_depth = 14 --> Validation Accuracy = 0.9748\n",
            "max_depth = 15 --> Validation Accuracy = 0.9746\n",
            "max_depth = 16 --> Validation Accuracy = 0.9753\n",
            "max_depth = 17 --> Validation Accuracy = 0.9751\n",
            "max_depth = 18 --> Validation Accuracy = 0.9748\n",
            "max_depth = 19 --> Validation Accuracy = 0.9746\n",
            "max_depth = 20 --> Validation Accuracy = 0.9741\n",
            "\n",
            " Best max_depth: 9 with validation accuracy = 0.9771\n"
          ]
        }
      ],
      "source": [
        "#1)  - Define the classifier hyper-parameters\n",
        "##  max_depth is a hyper-parameter of the XGBoost classifier\n",
        "## max_depth int, default = 6\n",
        "## Maximum depth of a tree. Increasing this value will make the model more complex and more likely to overfit.\n",
        "\n",
        "from xgboost import XGBClassifier\n",
        "from sklearn.metrics import accuracy_score\n",
        "\n",
        "#Doing in the same as for Decision Trees and Random forests (importing their libraries, using fit and putting it in a loop to get to the best parameters)\n",
        "\n",
        "XGBoost_best_depth = None\n",
        "XGBoost_best_accuracy = 0\n",
        "\n",
        "# Test several max_depth values\n",
        "for depth in range(1, 21): #testing depths from 0 to 20\n",
        "    model = XGBClassifier(max_depth=depth, use_label_encoder=False, eval_metric='mlogloss')\n",
        "    model.fit(x_train, y_train)\n",
        "\n",
        "    #printing the validation accuracy (or temporary accuracy)\n",
        "    val_acc = accuracy_score(y_val, model.predict(x_val))\n",
        "    print(f\"max_depth = {depth} --> Validation Accuracy = {val_acc:.4f}\")\n",
        "\n",
        "    if val_acc > XGBoost_best_accuracy:\n",
        "        XGBoost_best_accuracy = val_acc\n",
        "        XGBoost_best_depth = depth\n",
        "\n",
        "#############################################################\n",
        "\n",
        "print(f\"\\n Best max_depth: {XGBoost_best_depth} with validation accuracy = {XGBoost_best_accuracy:.4f}\")\n",
        "\n"
      ]
    },
    {
      "cell_type": "markdown",
      "metadata": {
        "id": "p_nEhEUOaoBE"
      },
      "source": [
        "## Optimization\n",
        "\n",
        "This part fits the XGBoost model with the best max_depth found during hyperparameter tuning. It then predicts labels for the test set, calculates the accuracy of the model on the test data, and prints the final accuracy."
      ]
    },
    {
      "cell_type": "code",
      "execution_count": 17,
      "metadata": {
        "id": "c7p6YgQEaoLz"
      },
      "outputs": [
        {
          "name": "stdout",
          "output_type": "stream",
          "text": [
            "Final Accuracy of XGBoost with optimized hyperparameters = 97.43%\n"
          ]
        }
      ],
      "source": [
        "#Using the final value of depth calculated above\n",
        "final_XGBoost = XGBClassifier(max_depth=XGBoost_best_depth, use_label_encoder=False, eval_metric='mlogloss')\n",
        "final_XGBoost.fit(x_train, y_train)\n",
        "\n",
        "#Evaluating on the test set\n",
        "XGBoost_final_accuracy = final_XGBoost.score(x_test, y_test)\n",
        "\n",
        "\n",
        "print(\"Final Accuracy of XGBoost with optimized hyperparameters = %.2f%%\" % (XGBoost_final_accuracy * 100))"
      ]
    },
    {
      "cell_type": "markdown",
      "metadata": {
        "id": "b6SDL5pwfyxh"
      },
      "source": [
        "# VI) Support Vector Machine"
      ]
    },
    {
      "cell_type": "markdown",
      "metadata": {
        "id": "aR-ed65QbJbU"
      },
      "source": [
        "##   Start by evaluating Support Vector Machine with its default parameters, then fine-tune (optimize) its performance on the validation set, and finally, evaluate the classifier on the test set"
      ]
    },
    {
      "cell_type": "markdown",
      "metadata": {
        "id": "rq-fYhQfbY-X"
      },
      "source": [
        "## First Evaluation\n",
        "\n",
        "This part defines a Support Vector Machine (SVM) classifier with a default hyperparameter kernel='rbf' (Radial Basis Function kernel). It trains the SVM model on the training set (x_train, y_train) and evaluates its performance on the validation set (x_val) using validation accuracy. The validation accuracy is then printed, showing how well the model performs with the default kernel setting."
      ]
    },
    {
      "cell_type": "code",
      "execution_count": 23,
      "metadata": {
        "colab": {
          "base_uri": "https://localhost:8080/"
        },
        "id": "RNTNd07RfzAE",
        "outputId": "ac23fb6d-e741-4f7a-9d2d-5981b6524d71"
      },
      "outputs": [
        {
          "name": "stdout",
          "output_type": "stream",
          "text": [
            " SVM with kernel='rbf' --> Validation Accuracy = 0.9776\n"
          ]
        }
      ],
      "source": [
        "#1)  - Define the classifier hyper-parameters\n",
        "##  kernel is a hyper-parameter of the SVM\n",
        "## kernel{'linear', 'poly', 'rbf', 'sigmoid', 'precomputed'}, default='rbf'\n",
        "## Specifies the kernel type to be used in the algorithm. It must be one of 'linear', 'poly', 'rbf', 'sigmoid', 'precomputed' or a callable.\n",
        "## If none is given, ‘rbf’ will be used. If a callable is given it is used to pre-compute the kernel matrix from data matrices;\n",
        "## that matrix should be an array of shape (n_samples, n_samples).\n",
        "\n",
        "from sklearn.svm import SVC\n",
        "from sklearn.metrics import accuracy_score\n",
        "\n",
        "# Define default kernel\n",
        "kernel = 'rbf'\n",
        "\n",
        "\n",
        "# First evaluation with default SVM\n",
        "svm_model = SVC(kernel=kernel)\n",
        "svm_model.fit(x_train, y_train)\n",
        "\n",
        "val_accuracy = accuracy_score(y_val, svm_model.predict(x_val))\n",
        "print(f\" SVM with kernel='{kernel}' --> Validation Accuracy = {val_accuracy:.4f}\")\n",
        "\n"
      ]
    },
    {
      "cell_type": "markdown",
      "metadata": {
        "id": "9ixjc4zia8O9"
      },
      "source": [
        "## Optimization\n",
        "\n",
        "This part performs hyperparameter tuning for the Support Vector Machine (SVM) classifier by testing different kernel functions: 'linear', 'poly', 'rbf', and 'sigmoid'. It trains an SVM model with each kernel on the training data and evaluates the performance using validation accuracy. The kernel with the highest validation accuracy is selected as the best. After finding the optimal kernel, the final SVM model is trained on the full training set and tested on the test set to compute the final accuracy, which is then printed."
      ]
    },
    {
      "cell_type": "code",
      "execution_count": 26,
      "metadata": {
        "colab": {
          "base_uri": "https://localhost:8080/"
        },
        "id": "h9W4vgW8a8X7",
        "outputId": "31baf094-bdf3-45fa-ad5c-d3e4c1da669a"
      },
      "outputs": [
        {
          "name": "stdout",
          "output_type": "stream",
          "text": [
            "kernel = 'linear' --> Validation Accuracy = 0.9352\n",
            "kernel = 'poly' --> Validation Accuracy = 0.9767\n",
            "kernel = 'rbf' --> Validation Accuracy = 0.9776\n",
            "kernel = 'sigmoid' --> Validation Accuracy = 0.7765\n",
            "\n",
            " Best kernel: 'rbf' with validation accuracy = 0.9776\n",
            "Final Accuracy of SVM with optimized hyperparameters = 97.77%\n"
          ]
        }
      ],
      "source": [
        "from sklearn.svm import SVC\n",
        "from sklearn.metrics import accuracy_score\n",
        "\n",
        "kernel_options = ['linear', 'poly', 'rbf', 'sigmoid']\n",
        "\n",
        "svm_best_kernel = None\n",
        "svm_best_accuracy = 0\n",
        "\n",
        "\n",
        "for kernel in kernel_options:\n",
        "    model = SVC(kernel=kernel)\n",
        "    model.fit(x_train, y_train)\n",
        "\n",
        "    val_accuracy = accuracy_score(y_val, model.predict(x_val))\n",
        "    print(f\"kernel = '{kernel}' --> Validation Accuracy = {val_accuracy:.4f}\")\n",
        "\n",
        "    if val_accuracy > svm_best_accuracy:\n",
        "        svm_best_accuracy = val_accuracy\n",
        "        svm_best_kernel = kernel\n",
        "\n",
        "print(f\"\\n Best kernel: '{svm_best_kernel}' with validation accuracy = {svm_best_accuracy:.4f}\")\n",
        "\n",
        "#Now, we're going to evaluate on the test set\n",
        "final_svm = SVC(kernel=svm_best_kernel)\n",
        "final_svm.fit(x_train, y_train)\n",
        "\n",
        "svm_final_accuracy = final_svm.score(x_test, y_test)\n",
        "\n",
        "print(\"Final Accuracy of SVM with optimized hyperparameters = %.2f%%\" % (svm_final_accuracy * 100))"
      ]
    },
    {
      "cell_type": "markdown",
      "metadata": {
        "id": "kB0r6eG5kiH0"
      },
      "source": [
        "# K-Nearest Neighbors (KNN)"
      ]
    },
    {
      "cell_type": "markdown",
      "metadata": {
        "id": "I-morDqb7jwO"
      },
      "source": [
        "The K-Nearest Neighbors (KNN) classifier is a supervised learning method that classifies new samples based on the majority class among its nearest k neighbors from the training set. To classify a new point, KNN identifies the k closest points in the training data and assigns the most common class among them to the new point. The value of k is a hyperparameter that significantly influences the performance of the algorithm."
      ]
    },
    {
      "cell_type": "markdown",
      "metadata": {
        "id": "h23J2q8ubO9y"
      },
      "source": [
        "##   Start by evaluating K-NeighborsClassifier with its default parameters, then fine-tune (optimize) its performance on the validation set, and finally, evaluate the classifier on the test set"
      ]
    },
    {
      "cell_type": "markdown",
      "metadata": {
        "id": "JBGudRdQbacU"
      },
      "source": [
        "## First Evaluation\n",
        "\n",
        "This part defines a K-Nearest Neighbors (KNN) classifier with a fixed hyperparameter n_neighbors=5 (the number of neighbors to consider for classification). It trains the KNN model on the training data (x_train, y_train) and evaluates its performance on the validation set (x_val) using accuracy. The validation accuracy is printed, showing how well the model performs with the initial hyperparameter setting."
      ]
    },
    {
      "cell_type": "code",
      "execution_count": 27,
      "metadata": {
        "colab": {
          "base_uri": "https://localhost:8080/"
        },
        "id": "32o6N8Yhkh1m",
        "outputId": "e9c54938-956e-4d75-bc98-02ed5b448b9e"
      },
      "outputs": [
        {
          "name": "stdout",
          "output_type": "stream",
          "text": [
            " KNN with n_neighbors=5 --> Validation Accuracy = 0.9715\n"
          ]
        }
      ],
      "source": [
        "#1)  - Define the classifier hyper-parameters\n",
        "##  n_neighbors is the number of neighbors to use for kneighbors queries.\n",
        "\n",
        "from sklearn.neighbors import KNeighborsClassifier\n",
        "from sklearn.metrics import accuracy_score\n",
        "\n",
        "# Defaut hyperparameter definition\n",
        "n_neighbors = 5\n",
        "\n",
        "\n",
        "# Initial evaluation of the KNN\n",
        "knn_model = KNeighborsClassifier(n_neighbors=n_neighbors)\n",
        "knn_model.fit(x_train, y_train)\n",
        "\n",
        "val_accuracy = accuracy_score(y_val, knn_model.predict(x_val))\n",
        "print(f\" KNN with n_neighbors={n_neighbors} --> Validation Accuracy = {val_accuracy:.4f}\")\n",
        "\n"
      ]
    },
    {
      "cell_type": "markdown",
      "metadata": {
        "id": "i0NKa_oga_JT"
      },
      "source": [
        "## Optimization\n",
        "\n",
        "This part performs hyperparameter tuning for the K-Nearest Neighbors (KNN) classifier by optimizing the number of neighbors (n_neighbors). It tests values of k from 1 to 20 and evaluates each using validation accuracy. The best_k is selected based on the highest validation accuracy. After finding the optimal k, the final KNN model is trained on the full training set and tested on the test set to calculate the final accuracy. The results show the best value of n_neighbors and the corresponding accuracy on the test set."
      ]
    },
    {
      "cell_type": "code",
      "execution_count": 28,
      "metadata": {
        "colab": {
          "base_uri": "https://localhost:8080/"
        },
        "id": "3dpaK100a_Tj",
        "outputId": "b20bc269-fb06-4899-8276-2593d1adc2d6"
      },
      "outputs": [
        {
          "name": "stdout",
          "output_type": "stream",
          "text": [
            "n_neighbors = 1 --> Validation Accuracy = 0.9741\n",
            "n_neighbors = 2 --> Validation Accuracy = 0.9641\n",
            "n_neighbors = 3 --> Validation Accuracy = 0.9727\n",
            "n_neighbors = 4 --> Validation Accuracy = 0.9716\n",
            "n_neighbors = 5 --> Validation Accuracy = 0.9715\n",
            "n_neighbors = 6 --> Validation Accuracy = 0.9706\n",
            "n_neighbors = 7 --> Validation Accuracy = 0.9696\n",
            "n_neighbors = 8 --> Validation Accuracy = 0.9684\n",
            "n_neighbors = 9 --> Validation Accuracy = 0.9673\n",
            "n_neighbors = 10 --> Validation Accuracy = 0.9664\n",
            "n_neighbors = 11 --> Validation Accuracy = 0.9651\n",
            "n_neighbors = 12 --> Validation Accuracy = 0.9648\n",
            "n_neighbors = 13 --> Validation Accuracy = 0.9643\n",
            "n_neighbors = 14 --> Validation Accuracy = 0.9636\n",
            "n_neighbors = 15 --> Validation Accuracy = 0.9636\n",
            "n_neighbors = 16 --> Validation Accuracy = 0.9619\n",
            "n_neighbors = 17 --> Validation Accuracy = 0.9615\n",
            "n_neighbors = 18 --> Validation Accuracy = 0.9612\n",
            "n_neighbors = 19 --> Validation Accuracy = 0.9607\n",
            "n_neighbors = 20 --> Validation Accuracy = 0.9597\n",
            "\n",
            " Best n_neighbors: 1 with validation accuracy = 0.9741\n",
            "Final Accuracy of KNN with optimized hyperparameters = 96.73%\n"
          ]
        }
      ],
      "source": [
        "## in section, you will optimize the hyper-parameter \"n_neighbors\"\n",
        "\n",
        "from sklearn.neighbors import KNeighborsClassifier\n",
        "from sklearn.metrics import accuracy_score\n",
        "\n",
        "# Same as before, testing values from 1 to 20\n",
        "neighbor_values = range(1, 21)\n",
        "\n",
        "best_k = None\n",
        "knn_best_accuracy = 0\n",
        "\n",
        "\n",
        "for k in neighbor_values:\n",
        "    knn = KNeighborsClassifier(n_neighbors=k)\n",
        "    knn.fit(x_train, y_train)\n",
        "\n",
        "    val_acc = accuracy_score(y_val, knn.predict(x_val))\n",
        "    print(f\"n_neighbors = {k} --> Validation Accuracy = {val_acc:.4f}\")\n",
        "\n",
        "    if val_acc > knn_best_accuracy:\n",
        "        knn_best_accuracy = val_acc\n",
        "        best_k = k\n",
        "\n",
        "\n",
        "print(f\"\\n Best n_neighbors: {best_k} with validation accuracy = {knn_best_accuracy:.4f}\")\n",
        "\n",
        "# Now, for the final model, we're going to test on the test data\n",
        "final_knn = KNeighborsClassifier(n_neighbors=best_k)\n",
        "final_knn.fit(x_train, y_train)\n",
        "\n",
        "knn_final_accuracy = final_knn.score(x_test, y_test)\n",
        "\n",
        "print(\"Final Accuracy of KNN with optimized hyperparameters = %.2f%%\" % (knn_final_accuracy * 100))\n"
      ]
    },
    {
      "cell_type": "markdown",
      "metadata": {
        "id": "YW25izEon2xc"
      },
      "source": [
        "# VII) Comparaison of results\n",
        "\n",
        "This code generates a horizontal bar chart comparing the performance of different classifiers on the MNIST test set. The classifiers considered are Decision Tree (DT), Random Forest (RF), XGBoost (XGB), SVM, and KNN. The performance array stores the accuracy of each classifier, calculated by using the score method on the test set. The chart displays the performance of each classifier in percentage, with the highest performance at the top."
      ]
    },
    {
      "cell_type": "code",
      "execution_count": 29,
      "metadata": {
        "colab": {
          "base_uri": "https://localhost:8080/",
          "height": 637
        },
        "id": "4LEUVFPon2fF",
        "outputId": "7fa9cfe5-b23d-4a18-ed21-8ef987512b43"
      },
      "outputs": [
        {
          "data": {
            "image/png": "[encoded data removed]",
            "text/plain": [
              "<Figure size 640x480 with 1 Axes>"
            ]
          },
          "metadata": {},
          "output_type": "display_data"
        }
      ],
      "source": [
        "plt.rcdefaults()\n",
        "fig, ax = plt.subplots()\n",
        "\n",
        "# Example data\n",
        "classifiers = ('DT', 'RF', 'XGB', 'SVM', 'KNN')\n",
        "y_pos = np.arange(len(classifiers))\n",
        "performance = [(final_dtree.score(x_test, y_test)*100),\n",
        "               (final_randomforest.score(x_test, y_test)*100),\n",
        "               (final_XGBoost.score(x_test, y_test)*100),\n",
        "               (final_svm.score(x_test, y_test)*100),\n",
        "               (final_knn.score(x_test, y_test)*100)]\n",
        "\n",
        "ax.barh(y_pos, performance, align='center')\n",
        "ax.set_yticks(y_pos)\n",
        "ax.set_yticklabels(classifiers)\n",
        "ax.invert_yaxis()  # labels read top-to-bottom\n",
        "ax.set_xlabel('Performance')\n",
        "ax.set_title('comparison of classifiers')\n",
        "\n",
        "plt.show()"
      ]
    },
    {
      "cell_type": "markdown",
      "metadata": {
        "id": "UBJZTgqawXUU"
      },
      "source": [
        "#####**TODO:** Analyze the obtained results and compare performance of classifiers.\n",
        "##### **TODO:** for each classifier, you can change the hyperparameter values and study the impact on classifier performance."
      ]
    },
    {
      "cell_type": "markdown",
      "metadata": {},
      "source": [
        "The results show that Random Forest, Support Vector Machine, and K-Nearest Neighbors all achieve high accuracy, with performances ranging between 95% and 99%. In comparison, the Decision Tree model lags slightly behind with an accuracy of around 87%, making it the least effective among the four classifiers in this case.\n",
        "\n",
        "Decision Trees are quick to train and easy to understand, which makes them useful for basic models or as building blocks in ensemble methods. However, they are prone to overfitting, especially when not carefully tuned, which explains their lower performance here.\n",
        "\n",
        "Random Forest improves on the basic Decision Tree by combining many of them into an ensemble, resulting in more stable and reliable predictions. It handles variance better and tends to generalize well, making it a strong candidate in this classification task.\n",
        "\n",
        "Support Vector Machines are highly effective when an appropriate kernel is selected. In this experiment, SVM performs just as well as Random Forest and KNN, showing that it is well suited to datasets like MNIST when properly configured.\n",
        "\n",
        "K-Nearest Neighbors also performs impressively, benefiting from the clear structure of the MNIST dataset. Its simplicity is an advantage during training, but prediction can become computationally expensive with larger datasets, since it relies on distance comparisons with all training samples.\n",
        "\n",
        "Overall, Random Forest, SVM, and KNN all demonstrate excellent performance for handwritten digit classification. The Decision Tree, while serviceable, is outperformed by the others. The final choice among the top models may depend on practical considerations such as prediction speed, memory usage, or implementation complexity."
      ]
    },
    {
      "cell_type": "markdown",
      "metadata": {
        "id": "tAvQeAEyh_jM"
      },
      "source": [
        "# VIII) Confusion Matrix"
      ]
    },
    {
      "cell_type": "markdown",
      "metadata": {},
      "source": [
        "This part uses a decision tree, a random forest, the XGBoost, the SVM and KNN classifiers to predict labels on the MNIST test set, then computes and normalizes the confusion matrix to show class wise prediction accuracy. The matrix is printed in a formatted way, helping visualize how well each digit class was recognized."
      ]
    },
    {
      "cell_type": "code",
      "execution_count": 30,
      "metadata": {
        "id": "Tdh1o8Gfuw23"
      },
      "outputs": [
        {
          "name": "stdout",
          "output_type": "stream",
          "text": [
            "Confusion Matrix\n",
            "\n",
            "[  0.94\t  0.00\t  0.01\t  0.01\t  0.01\t  0.01\t  0.01\t  0.01\t  0.01\t  0.00  ]\n",
            "\n",
            "[  0.00\t  0.97\t  0.00\t  0.00\t  0.00\t  0.00\t  0.01\t  0.00\t  0.01\t  0.00  ]\n",
            "\n",
            "[  0.02\t  0.01\t  0.86\t  0.02\t  0.01\t  0.01\t  0.01\t  0.02\t  0.04\t  0.01  ]\n",
            "\n",
            "[  0.01\t  0.01\t  0.02\t  0.86\t  0.00\t  0.05\t  0.01\t  0.01\t  0.02\t  0.02  ]\n",
            "\n",
            "[  0.00\t  0.01\t  0.01\t  0.00\t  0.87\t  0.01\t  0.01\t  0.01\t  0.02\t  0.06  ]\n",
            "\n",
            "[  0.02\t  0.01\t  0.01\t  0.06\t  0.01\t  0.80\t  0.02\t  0.01\t  0.04\t  0.02  ]\n",
            "\n",
            "[  0.02\t  0.00\t  0.01\t  0.00\t  0.02\t  0.01\t  0.90\t  0.00\t  0.02\t  0.01  ]\n",
            "\n",
            "[  0.01\t  0.01\t  0.02\t  0.01\t  0.01\t  0.00\t  0.00\t  0.90\t  0.02\t  0.02  ]\n",
            "\n",
            "[  0.01\t  0.01\t  0.04\t  0.03\t  0.03\t  0.03\t  0.02\t  0.01\t  0.80\t  0.03  ]\n",
            "\n",
            "[  0.00\t  0.01\t  0.02\t  0.01\t  0.04\t  0.02\t  0.00\t  0.02\t  0.02\t  0.86  ]\n",
            "\n"
          ]
        }
      ],
      "source": [
        "from sklearn.metrics import confusion_matrix\n",
        "from sklearn.preprocessing import normalize\n",
        "np.set_printoptions(precision=2, suppress=True)# Choose a classifier\n",
        "\n",
        "## DT is selected as example\n",
        "#### To analyze results, plot the confusion matrix using the following command\n",
        "#Predict the test results\n",
        "y_predict = final_dtree.predict(x_test)\n",
        "y_test_labels = y_test\n",
        "\n",
        "#confusion matrix normalization\n",
        "normed_confusion_matrix = normalize(confusion_matrix(y_test_labels, y_predict), axis=1, norm='l1')\n",
        "\n",
        "print(\"Confusion Matrix\\n\")\n",
        "for i in range(normed_confusion_matrix.shape[0]):\n",
        "   print('[  ',end='')\n",
        "   for j in range(normed_confusion_matrix.shape[1]):\n",
        "     print(\"{:.2f}\".format(normed_confusion_matrix[i][j]),end='')\n",
        "     if (j<normed_confusion_matrix.shape[1]-1): print('\\t  ',end='')\n",
        "   print('  ]',end='')\n",
        "   print('\\n')\n"
      ]
    },
    {
      "cell_type": "markdown",
      "metadata": {
        "id": "A4pnvUCVj_vS"
      },
      "source": [
        "Confusion Matrix for the Random Forest:"
      ]
    },
    {
      "cell_type": "code",
      "execution_count": 31,
      "metadata": {
        "id": "b3_fcrgIkCXl"
      },
      "outputs": [
        {
          "name": "stdout",
          "output_type": "stream",
          "text": [
            "Confusion Matrix\n",
            "\n",
            "[  0.94\t  0.00\t  0.01\t  0.01\t  0.01\t  0.01\t  0.01\t  0.00\t  0.01\t  0.01  ]\n",
            "\n",
            "[  0.00\t  0.97\t  0.01\t  0.01\t  0.00\t  0.00\t  0.00\t  0.00\t  0.01\t  0.00  ]\n",
            "\n",
            "[  0.01\t  0.01\t  0.85\t  0.03\t  0.01\t  0.01\t  0.01\t  0.03\t  0.02\t  0.01  ]\n",
            "\n",
            "[  0.01\t  0.00\t  0.03\t  0.85\t  0.00\t  0.05\t  0.00\t  0.01\t  0.03\t  0.02  ]\n",
            "\n",
            "[  0.01\t  0.00\t  0.01\t  0.01\t  0.88\t  0.01\t  0.01\t  0.01\t  0.02\t  0.05  ]\n",
            "\n",
            "[  0.02\t  0.01\t  0.01\t  0.04\t  0.01\t  0.84\t  0.03\t  0.01\t  0.02\t  0.02  ]\n",
            "\n",
            "[  0.02\t  0.01\t  0.01\t  0.01\t  0.02\t  0.02\t  0.89\t  0.00\t  0.02\t  0.00  ]\n",
            "\n",
            "[  0.00\t  0.01\t  0.03\t  0.02\t  0.01\t  0.00\t  0.00\t  0.91\t  0.01\t  0.02  ]\n",
            "\n",
            "[  0.01\t  0.01\t  0.04\t  0.04\t  0.02\t  0.03\t  0.02\t  0.01\t  0.81\t  0.03  ]\n",
            "\n",
            "[  0.01\t  0.00\t  0.01\t  0.02\t  0.03\t  0.01\t  0.01\t  0.01\t  0.03\t  0.87  ]\n",
            "\n"
          ]
        }
      ],
      "source": [
        "from sklearn.metrics import confusion_matrix\n",
        "from sklearn.preprocessing import normalize\n",
        "np.set_printoptions(precision=2, suppress=True)# Choose a classifier\n",
        "\n",
        "#Predict the test results\n",
        "y_predict = final_randomforest.predict(x_test)\n",
        "y_test_labels = y_test\n",
        "\n",
        "#confusion matrix normalization\n",
        "normed_confusion_matrix = normalize(confusion_matrix(y_test_labels, y_predict), axis=1, norm='l1')\n",
        "\n",
        "print(\"Confusion Matrix\\n\")\n",
        "for i in range(normed_confusion_matrix.shape[0]):\n",
        "   print('[  ',end='')\n",
        "   for j in range(normed_confusion_matrix.shape[1]):\n",
        "     print(\"{:.2f}\".format(normed_confusion_matrix[i][j]),end='')\n",
        "     if (j<normed_confusion_matrix.shape[1]-1): print('\\t  ',end='')\n",
        "   print('  ]',end='')\n",
        "   print('\\n')\n"
      ]
    },
    {
      "cell_type": "markdown",
      "metadata": {
        "id": "fmTZwPm3kC_9"
      },
      "source": [
        "Confusion Matrix for the XGBoost:"
      ]
    },
    {
      "cell_type": "code",
      "execution_count": 32,
      "metadata": {
        "id": "wdgRiQM5kFMx"
      },
      "outputs": [
        {
          "name": "stdout",
          "output_type": "stream",
          "text": [
            "Confusion Matrix\n",
            "\n",
            "[  0.99\t  0.00\t  0.00\t  0.00\t  0.00\t  0.00\t  0.00\t  0.00\t  0.00\t  0.00  ]\n",
            "\n",
            "[  0.00\t  0.99\t  0.00\t  0.00\t  0.00\t  0.00\t  0.00\t  0.00\t  0.00\t  0.00  ]\n",
            "\n",
            "[  0.01\t  0.00\t  0.97\t  0.01\t  0.00\t  0.00\t  0.00\t  0.01\t  0.00\t  0.00  ]\n",
            "\n",
            "[  0.00\t  0.00\t  0.00\t  0.98\t  0.00\t  0.00\t  0.00\t  0.01\t  0.00\t  0.00  ]\n",
            "\n",
            "[  0.00\t  0.00\t  0.00\t  0.00\t  0.97\t  0.00\t  0.00\t  0.00\t  0.00\t  0.02  ]\n",
            "\n",
            "[  0.00\t  0.00\t  0.00\t  0.01\t  0.00\t  0.97\t  0.01\t  0.00\t  0.01\t  0.00  ]\n",
            "\n",
            "[  0.01\t  0.00\t  0.00\t  0.00\t  0.00\t  0.00\t  0.98\t  0.00\t  0.00\t  0.00  ]\n",
            "\n",
            "[  0.00\t  0.00\t  0.02\t  0.00\t  0.00\t  0.00\t  0.00\t  0.96\t  0.00\t  0.01  ]\n",
            "\n",
            "[  0.01\t  0.00\t  0.00\t  0.00\t  0.00\t  0.00\t  0.00\t  0.00\t  0.97\t  0.01  ]\n",
            "\n",
            "[  0.01\t  0.01\t  0.00\t  0.00\t  0.01\t  0.00\t  0.00\t  0.00\t  0.00\t  0.96  ]\n",
            "\n"
          ]
        }
      ],
      "source": [
        "from sklearn.metrics import confusion_matrix\n",
        "from sklearn.preprocessing import normalize\n",
        "np.set_printoptions(precision=2, suppress=True)# Choose a classifier\n",
        "\n",
        "#Predict the test results\n",
        "y_predict = final_XGBoost.predict(x_test)\n",
        "y_test_labels = y_test\n",
        "\n",
        "#confusion matrix normalization\n",
        "normed_confusion_matrix = normalize(confusion_matrix(y_test_labels, y_predict), axis=1, norm='l1')\n",
        "\n",
        "print(\"Confusion Matrix\\n\")\n",
        "for i in range(normed_confusion_matrix.shape[0]):\n",
        "   print('[  ',end='')\n",
        "   for j in range(normed_confusion_matrix.shape[1]):\n",
        "     print(\"{:.2f}\".format(normed_confusion_matrix[i][j]),end='')\n",
        "     if (j<normed_confusion_matrix.shape[1]-1): print('\\t  ',end='')\n",
        "   print('  ]',end='')\n",
        "   print('\\n')\n"
      ]
    },
    {
      "cell_type": "markdown",
      "metadata": {
        "id": "-scrb_xKkHLW"
      },
      "source": [
        "Confusion Matrix for the SVM:"
      ]
    },
    {
      "cell_type": "code",
      "execution_count": 33,
      "metadata": {
        "id": "HPfbQV88kJPZ"
      },
      "outputs": [
        {
          "name": "stdout",
          "output_type": "stream",
          "text": [
            "Confusion Matrix\n",
            "\n",
            "[  0.99\t  0.00\t  0.00\t  0.00\t  0.00\t  0.00\t  0.00\t  0.00\t  0.00\t  0.00  ]\n",
            "\n",
            "[  0.00\t  0.99\t  0.00\t  0.00\t  0.00\t  0.00\t  0.00\t  0.00\t  0.00\t  0.00  ]\n",
            "\n",
            "[  0.00\t  0.00\t  0.98\t  0.00\t  0.00\t  0.00\t  0.00\t  0.01\t  0.00\t  0.00  ]\n",
            "\n",
            "[  0.00\t  0.00\t  0.00\t  0.98\t  0.00\t  0.00\t  0.00\t  0.01\t  0.01\t  0.00  ]\n",
            "\n",
            "[  0.00\t  0.00\t  0.01\t  0.00\t  0.98\t  0.00\t  0.00\t  0.00\t  0.00\t  0.01  ]\n",
            "\n",
            "[  0.00\t  0.00\t  0.00\t  0.01\t  0.00\t  0.98\t  0.00\t  0.00\t  0.00\t  0.00  ]\n",
            "\n",
            "[  0.01\t  0.00\t  0.00\t  0.00\t  0.00\t  0.00\t  0.98\t  0.00\t  0.00\t  0.00  ]\n",
            "\n",
            "[  0.00\t  0.01\t  0.01\t  0.00\t  0.00\t  0.00\t  0.00\t  0.96\t  0.00\t  0.01  ]\n",
            "\n",
            "[  0.00\t  0.00\t  0.00\t  0.01\t  0.00\t  0.00\t  0.00\t  0.00\t  0.98\t  0.00  ]\n",
            "\n",
            "[  0.00\t  0.00\t  0.00\t  0.00\t  0.01\t  0.00\t  0.00\t  0.01\t  0.01\t  0.96  ]\n",
            "\n"
          ]
        }
      ],
      "source": [
        "from sklearn.metrics import confusion_matrix\n",
        "from sklearn.preprocessing import normalize\n",
        "np.set_printoptions(precision=2, suppress=True)# Choose a classifier\n",
        "\n",
        "#Predict the test results\n",
        "y_predict = final_svm.predict(x_test)\n",
        "y_test_labels = y_test\n",
        "\n",
        "#confusion matrix normalization\n",
        "normed_confusion_matrix = normalize(confusion_matrix(y_test_labels, y_predict), axis=1, norm='l1')\n",
        "\n",
        "print(\"Confusion Matrix\\n\")\n",
        "for i in range(normed_confusion_matrix.shape[0]):\n",
        "   print('[  ',end='')\n",
        "   for j in range(normed_confusion_matrix.shape[1]):\n",
        "     print(\"{:.2f}\".format(normed_confusion_matrix[i][j]),end='')\n",
        "     if (j<normed_confusion_matrix.shape[1]-1): print('\\t  ',end='')\n",
        "   print('  ]',end='')\n",
        "   print('\\n')\n"
      ]
    },
    {
      "cell_type": "markdown",
      "metadata": {
        "id": "BXf0yy2mkJvB"
      },
      "source": [
        "Confusion Matrix for the KNN:"
      ]
    },
    {
      "cell_type": "code",
      "execution_count": 34,
      "metadata": {
        "id": "pc745fDXkOAS"
      },
      "outputs": [
        {
          "name": "stdout",
          "output_type": "stream",
          "text": [
            "Confusion Matrix\n",
            "\n",
            "[  0.99\t  0.00\t  0.00\t  0.00\t  0.00\t  0.00\t  0.00\t  0.00\t  0.00\t  0.00  ]\n",
            "\n",
            "[  0.00\t  0.99\t  0.00\t  0.00\t  0.00\t  0.00\t  0.00\t  0.00\t  0.00\t  0.00  ]\n",
            "\n",
            "[  0.01\t  0.01\t  0.96\t  0.01\t  0.00\t  0.00\t  0.00\t  0.01\t  0.00\t  0.00  ]\n",
            "\n",
            "[  0.00\t  0.00\t  0.00\t  0.96\t  0.00\t  0.02\t  0.00\t  0.01\t  0.01\t  0.00  ]\n",
            "\n",
            "[  0.00\t  0.01\t  0.00\t  0.00\t  0.96\t  0.00\t  0.00\t  0.01\t  0.00\t  0.03  ]\n",
            "\n",
            "[  0.00\t  0.00\t  0.00\t  0.01\t  0.00\t  0.97\t  0.01\t  0.00\t  0.01\t  0.00  ]\n",
            "\n",
            "[  0.01\t  0.00\t  0.00\t  0.00\t  0.00\t  0.01\t  0.98\t  0.00\t  0.00\t  0.00  ]\n",
            "\n",
            "[  0.00\t  0.01\t  0.00\t  0.00\t  0.00\t  0.00\t  0.00\t  0.97\t  0.00\t  0.01  ]\n",
            "\n",
            "[  0.01\t  0.00\t  0.00\t  0.02\t  0.01\t  0.02\t  0.00\t  0.00\t  0.94\t  0.01  ]\n",
            "\n",
            "[  0.00\t  0.00\t  0.00\t  0.01\t  0.01\t  0.00\t  0.00\t  0.01\t  0.00\t  0.95  ]\n",
            "\n"
          ]
        }
      ],
      "source": [
        "from sklearn.metrics import confusion_matrix\n",
        "from sklearn.preprocessing import normalize\n",
        "np.set_printoptions(precision=2, suppress=True)# Choose a classifier\n",
        "\n",
        "#Predict the test results\n",
        "y_predict = final_knn.predict(x_test)\n",
        "y_test_labels = y_test\n",
        "\n",
        "#confusion matrix normalization\n",
        "normed_confusion_matrix = normalize(confusion_matrix(y_test_labels, y_predict), axis=1, norm='l1')\n",
        "\n",
        "print(\"Confusion Matrix\\n\")\n",
        "for i in range(normed_confusion_matrix.shape[0]):\n",
        "   print('[  ',end='')\n",
        "   for j in range(normed_confusion_matrix.shape[1]):\n",
        "     print(\"{:.2f}\".format(normed_confusion_matrix[i][j]),end='')\n",
        "     if (j<normed_confusion_matrix.shape[1]-1): print('\\t  ',end='')\n",
        "   print('  ]',end='')\n",
        "   print('\\n')\n"
      ]
    }
  ],
  "metadata": {
    "accelerator": "GPU",
    "colab": {
      "provenance": []
    },
    "hide_input": false,
    "kernelspec": {
      "display_name": "Python 3",
      "language": "python",
      "name": "python3"
    },
    "language_info": {
      "codemirror_mode": {
        "name": "ipython",
        "version": 3
      },
      "file_extension": ".py",
      "mimetype": "text/x-python",
      "name": "python",
      "nbconvert_exporter": "python",
      "pygments_lexer": "ipython3",
      "version": "3.10.0"
    }
  },
  "nbformat": 4,
  "nbformat_minor": 0
}
