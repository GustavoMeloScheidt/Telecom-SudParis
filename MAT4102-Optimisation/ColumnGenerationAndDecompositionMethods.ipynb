{
 "cells": [
  {
   "cell_type": "markdown",
   "metadata": {
    "id": "kacI1sRq5O8d"
   },
   "source": [
    "$$\\mbox{Network Design}$$\n",
    "$$\\mbox{Linear Programming, Column Generation, Dantzig-Wolfe Decomposition, Benders Decomposition}$$"
   ]
  },
  {
   "cell_type": "markdown",
   "metadata": {
    "id": "7rs2ZyGk5uv3"
   },
   "source": [
    "We are going to use Julia. There are different options to do that.\n",
    "- You can install Julia on your computer (you might need an editor such as atom) and execute evrything locally. You can just copy some parts of the code given in the html file.\n",
    "- In addition to that, you can also install jupyter on your machine and then open the file *.ipynb\n",
    "- Use google colab, in this case, you need to have a google account (and you d'ont need to install Julia). The file is stored on the Google drive, and programs are executed on a virtual machine.  You have to open the *.ipynb and run the installation cell below. "
   ]
  },
  {
   "cell_type": "code",
   "execution_count": 1,
   "metadata": {
    "executionInfo": {
     "elapsed": 35516,
     "status": "ok",
     "timestamp": 1686058836161,
     "user": {
      "displayName": "walid benameur",
      "userId": "15823031990919506834"
     },
     "user_tz": -120
    },
    "id": "OjgAUK6346bx"
   },
   "outputs": [],
   "source": [
    "# Installation cell\n",
    "%%capture\n",
    "%%shell\n",
    "if ! command -v julia 3>&1 > /dev/null\n",
    "then\n",
    "    wget -q 'https://julialang-s3.julialang.org/bin/linux/x64/1.7/julia-1.7.2-linux-x86_64.tar.gz' \\\n",
    "        -O /tmp/julia.tar.gz\n",
    "    tar -x -f /tmp/julia.tar.gz -C /usr/local --strip-components 1\n",
    "    rm /tmp/julia.tar.gz\n",
    "fi\n",
    "julia -e 'using Pkg; pkg\"add IJulia; precompile;\"'\n",
    "echo 'Done'"
   ]
  },
  {
   "cell_type": "markdown",
   "metadata": {
    "id": "XdMpcQduyaQc"
   },
   "source": [
    "After you run the first cell (the cell directly above this text), go to Colab's menu bar and select **Edit** and select **Notebook settings** from the drop down. Select *Julia 1.7* in Runtime type. You can also select your prefered harwdware acceleration (defaults to GPU). \n",
    "\n",
    "<br/>You should see something like this:\n",
    "\n",
    "> ![Colab Img](https://raw.githubusercontent.com/Dsantra92/Julia-on-Colab/master/misc/julia_menu.png)\n",
    "\n",
    "<br/>Click on SAVE\n",
    "<br/>**We are ready to get going**\n",
    "\n",
    "\n",
    "\n"
   ]
  },
  {
   "cell_type": "code",
   "execution_count": 4,
   "metadata": {
    "colab": {
     "base_uri": "https://localhost:8080/"
    },
    "executionInfo": {
     "elapsed": 1174,
     "status": "ok",
     "timestamp": 1686058879258,
     "user": {
      "displayName": "walid benameur",
      "userId": "15823031990919506834"
     },
     "user_tz": -120
    },
    "id": "iIxu4TjlJnBG",
    "outputId": "d9619e4b-70d8-40b4-e0a0-2d98f2acfa4e"
   },
   "outputs": [
    {
     "data": {
      "text/plain": [
       "v\"1.8.5\""
      ]
     },
     "execution_count": 4,
     "metadata": {},
     "output_type": "execute_result"
    }
   ],
   "source": [
    "VERSION\n"
   ]
  },
  {
   "cell_type": "markdown",
   "metadata": {
    "id": "9UhI-pT62fgO"
   },
   "source": [
    "# Introduction to Julia"
   ]
  },
  {
   "cell_type": "code",
   "execution_count": 5,
   "metadata": {
    "colab": {
     "base_uri": "https://localhost:8080/"
    },
    "executionInfo": {
     "elapsed": 409,
     "status": "ok",
     "timestamp": 1686046690376,
     "user": {
      "displayName": "walid benameur",
      "userId": "15823031990919506834"
     },
     "user_tz": -120
    },
    "id": "2bdzzZhflaHU",
    "outputId": "7068d556-0a7d-4c7a-a08a-5b1668ae2bec"
   },
   "outputs": [
    {
     "name": "stdout",
     "output_type": "stream",
     "text": [
      "This is really the first time I use Julia\n"
     ]
    }
   ],
   "source": [
    "println(\"This is really the first time I use Julia\")"
   ]
  },
  {
   "cell_type": "markdown",
   "metadata": {
    "id": "E5A1WvvamdWR"
   },
   "source": [
    "Several packages can be used under Julia. They facilitate modeling and problem solving.\n",
    "Install JuMP and GLPK (a solver) as follows:"
   ]
  },
  {
   "cell_type": "code",
   "execution_count": 6,
   "metadata": {
    "colab": {
     "base_uri": "https://localhost:8080/"
    },
    "executionInfo": {
     "elapsed": 141374,
     "status": "ok",
     "timestamp": 1686051381908,
     "user": {
      "displayName": "walid benameur",
      "userId": "15823031990919506834"
     },
     "user_tz": -120
    },
    "id": "GrLrq83Nm0S-",
    "outputId": "94379c20-bd4d-470c-e632-1a69189ed898"
   },
   "outputs": [
    {
     "name": "stderr",
     "output_type": "stream",
     "text": [
      "\u001b[32m\u001b[1m   Resolving\u001b[22m\u001b[39m package versions...\n",
      "\u001b[32m\u001b[1m  No Changes\u001b[22m\u001b[39m to `~/.julia/environments/v1.8/Project.toml`\n",
      "\u001b[32m\u001b[1m  No Changes\u001b[22m\u001b[39m to `~/.julia/environments/v1.8/Manifest.toml`\n",
      "\u001b[32m\u001b[1m   Resolving\u001b[22m\u001b[39m package versions...\n",
      "\u001b[32m\u001b[1m  No Changes\u001b[22m\u001b[39m to `~/.julia/environments/v1.8/Project.toml`\n",
      "\u001b[32m\u001b[1m  No Changes\u001b[22m\u001b[39m to `~/.julia/environments/v1.8/Manifest.toml`\n"
     ]
    }
   ],
   "source": [
    "import Pkg\n",
    "\n",
    "Pkg.add(\"JuMP\")\n",
    "\n",
    "Pkg.add(\"GLPK\")"
   ]
  },
  {
   "cell_type": "markdown",
   "metadata": {
    "id": "GcZ8UFMzm-lH"
   },
   "source": [
    "The following program allows to solve the next linar program: \n",
    "\n",
    "$$\n",
    "\\begin{array}{ll}\n",
    "& \\min  5x + 3y \\\\\n",
    "& 2 x + 3y \\geq 100 \\\\\n",
    "& 3x + 10y \\geq 150 \\\\\n",
    "& 0 \\leq x \\\\\n",
    "& 0 \\leq y \\leq 3 \\\\\n",
    "\\end{array}\n",
    "$$"
   ]
  },
  {
   "cell_type": "code",
   "execution_count": 39,
   "metadata": {
    "colab": {
     "base_uri": "https://localhost:8080/",
     "height": 323
    },
    "executionInfo": {
     "elapsed": 303,
     "status": "ok",
     "timestamp": 1686051434230,
     "user": {
      "displayName": "walid benameur",
      "userId": "15823031990919506834"
     },
     "user_tz": -120
    },
    "id": "OzfJKtAhnM7E",
    "outputId": "665afe53-56bd-4f02-8158-0e7a6a8df23f"
   },
   "outputs": [
    {
     "data": {
      "text/latex": [
       "$$ \\begin{aligned}\n",
       "\\min\\quad & 5 x + 3 y\\\\\n",
       "\\text{Subject to} \\quad & 2 x + 3 y \\geq 100.0\\\\\n",
       " & 3 x + 10 y \\geq 150.0\\\\\n",
       " & x \\geq 0.0\\\\\n",
       " & y \\geq 0.0\\\\\n",
       " & y \\leq 3.0\\\\\n",
       "\\end{aligned} $$"
      ]
     },
     "metadata": {},
     "output_type": "display_data"
    },
    {
     "name": "stdout",
     "output_type": "stream",
     "text": [
      "termination_status(model) = MathOptInterface.OPTIMAL\n",
      "primal_status(model) = MathOptInterface.FEASIBLE_POINT\n",
      "dual_status(model) = MathOptInterface.FEASIBLE_POINT\n",
      "objective_value(model) = 236.5\n",
      "value(x) = 45.5\n",
      "value(y) = 3.0\n",
      "dual.(c1) = 2.5000000000000004\n",
      "dual.(c2) = 0.0\n"
     ]
    },
    {
     "data": {
      "text/plain": [
       "0.0"
      ]
     },
     "execution_count": 39,
     "metadata": {},
     "output_type": "execute_result"
    }
   ],
   "source": [
    "using JuMP\n",
    "using GLPK\n",
    "model = Model(GLPK.Optimizer)\n",
    "@variable(model, x >= 0)\n",
    "@variable(model, 0 <= y <= 3)\n",
    "@objective(model, Min, 5x + 3y)\n",
    "@constraint(model, c1, 2x + 3y >= 100)\n",
    "@constraint(model, c2, 3x + 10y >= 150)\n",
    "print(model)\n",
    "optimize!(model)\n",
    "@show termination_status(model)\n",
    "@show primal_status(model)\n",
    "@show dual_status(model)\n",
    "@show objective_value(model)\n",
    "@show value(x)\n",
    "@show value(y)\n",
    "@show(dual.(c1))\n",
    "@show(dual.(c2))"
   ]
  },
  {
   "cell_type": "markdown",
   "metadata": {
    "id": "SQxYFKyenlvy"
   },
   "source": [
    "Let us build a random graph. Add the following package."
   ]
  },
  {
   "cell_type": "code",
   "execution_count": 8,
   "metadata": {
    "colab": {
     "base_uri": "https://localhost:8080/"
    },
    "executionInfo": {
     "elapsed": 11876,
     "status": "ok",
     "timestamp": 1686051450967,
     "user": {
      "displayName": "walid benameur",
      "userId": "15823031990919506834"
     },
     "user_tz": -120
    },
    "id": "B091WMPwnxBd",
    "outputId": "f94f726d-24a9-4072-f10e-928626253e32"
   },
   "outputs": [
    {
     "name": "stderr",
     "output_type": "stream",
     "text": [
      "\u001b[32m\u001b[1m   Resolving\u001b[22m\u001b[39m package versions...\n",
      "\u001b[32m\u001b[1m  No Changes\u001b[22m\u001b[39m to `~/.julia/environments/v1.8/Project.toml`\n",
      "\u001b[32m\u001b[1m  No Changes\u001b[22m\u001b[39m to `~/.julia/environments/v1.8/Manifest.toml`\n"
     ]
    }
   ],
   "source": [
    "Pkg.add(\"Graphs\")\n",
    "using Graphs"
   ]
  },
  {
   "cell_type": "markdown",
   "metadata": {
    "id": "WklIsWkCoEIz"
   },
   "source": [
    "Try the following code to build a random simple directed graph"
   ]
  },
  {
   "cell_type": "code",
   "execution_count": 9,
   "metadata": {
    "id": "pc9sEPhfoHTr"
   },
   "outputs": [],
   "source": [
    "nG = 8                                        ### number of vertices\n",
    "global G = SimpleDiGraph(nG)     \n",
    "\n",
    "for i in 1:nG\n",
    "        for  j in 1:rand(1:Int(floor(nG/2)))  ### the outdegree of each vertex is randomly chosen here\n",
    "            bol = false\n",
    "            while !bol\n",
    "                v = rand(1:nG)\n",
    "                if !(v==i)                    #### to avoid loops\n",
    "                    bol = add_edge!(G,i,v)\n",
    "                end\n",
    "            end\n",
    "        end\n",
    "end"
   ]
  },
  {
   "cell_type": "markdown",
   "metadata": {
    "id": "l74U59-GoVt2"
   },
   "source": [
    "What is G ?"
   ]
  },
  {
   "cell_type": "code",
   "execution_count": 10,
   "metadata": {
    "colab": {
     "base_uri": "https://localhost:8080/"
    },
    "executionInfo": {
     "elapsed": 560,
     "status": "ok",
     "timestamp": 1686051896376,
     "user": {
      "displayName": "walid benameur",
      "userId": "15823031990919506834"
     },
     "user_tz": -120
    },
    "id": "BBsToq9uoXYK",
    "outputId": "b2bca631-3bd5-497a-cba6-efcc56b94a64"
   },
   "outputs": [
    {
     "data": {
      "text/plain": [
       "{8, 19} directed simple Int64 graph"
      ]
     },
     "execution_count": 10,
     "metadata": {},
     "output_type": "execute_result"
    }
   ],
   "source": [
    "G"
   ]
  },
  {
   "cell_type": "markdown",
   "metadata": {
    "id": "F5cGrUdHofLo"
   },
   "source": [
    "Let us draw the graph G. First add these packages."
   ]
  },
  {
   "cell_type": "code",
   "execution_count": 11,
   "metadata": {
    "colab": {
     "base_uri": "https://localhost:8080/"
    },
    "executionInfo": {
     "elapsed": 44027,
     "status": "ok",
     "timestamp": 1686051519267,
     "user": {
      "displayName": "walid benameur",
      "userId": "15823031990919506834"
     },
     "user_tz": -120
    },
    "id": "cjd-gryLogtO",
    "outputId": "af33a316-2f8f-4575-ec83-d6ea4c682f48"
   },
   "outputs": [
    {
     "name": "stderr",
     "output_type": "stream",
     "text": [
      "\u001b[32m\u001b[1m   Resolving\u001b[22m\u001b[39m package versions...\n",
      "\u001b[32m\u001b[1m  No Changes\u001b[22m\u001b[39m to `~/.julia/environments/v1.8/Project.toml`\n",
      "\u001b[32m\u001b[1m  No Changes\u001b[22m\u001b[39m to `~/.julia/environments/v1.8/Manifest.toml`\n",
      "\u001b[32m\u001b[1m   Resolving\u001b[22m\u001b[39m package versions...\n",
      "\u001b[32m\u001b[1m  No Changes\u001b[22m\u001b[39m to `~/.julia/environments/v1.8/Project.toml`\n",
      "\u001b[32m\u001b[1m  No Changes\u001b[22m\u001b[39m to `~/.julia/environments/v1.8/Manifest.toml`\n",
      "\u001b[32m\u001b[1m   Resolving\u001b[22m\u001b[39m package versions...\n",
      "\u001b[32m\u001b[1m  No Changes\u001b[22m\u001b[39m to `~/.julia/environments/v1.8/Project.toml`\n",
      "\u001b[32m\u001b[1m  No Changes\u001b[22m\u001b[39m to `~/.julia/environments/v1.8/Manifest.toml`\n"
     ]
    }
   ],
   "source": [
    "Pkg.add(\"GraphPlot\")\n",
    "Pkg.add(\"Compose\")\n",
    "Pkg.add(\"Cairo\")\n",
    "using GraphPlot, Compose, Cairo"
   ]
  },
  {
   "cell_type": "markdown",
   "metadata": {
    "id": "dpeq-ptYo9YN"
   },
   "source": [
    "We might store the groph plot in a PDF file as follows:"
   ]
  },
  {
   "cell_type": "code",
   "execution_count": 13,
   "metadata": {
    "colab": {
     "base_uri": "https://localhost:8080/",
     "height": 399
    },
    "executionInfo": {
     "elapsed": 916,
     "status": "ok",
     "timestamp": 1686051902124,
     "user": {
      "displayName": "walid benameur",
      "userId": "15823031990919506834"
     },
     "user_tz": -120
    },
    "id": "NBl5JkFPo-Ex",
    "outputId": "07001803-4bff-4af5-ab90-b992abc8b355"
   },
   "outputs": [
    {
     "data": {
      "image/png": "[encoded data removed]",
      "image/svg+xml": [
       "<?xml version=\"1.0\" encoding=\"UTF-8\"?>\n",
       "<svg xmlns=\"http://www.w3.org/2000/svg\"\n",
       "     xmlns:xlink=\"http://www.w3.org/1999/xlink\"\n",
       "     version=\"1.2\"\n",
       "     width=\"141.42mm\" height=\"100mm\" viewBox=\"0 0 141.42 100\"\n",
       "     stroke=\"none\"\n",
       "     fill=\"#000000\"\n",
       "     stroke-width=\"0.3\"\n",
       "     font-size=\"3.88\"\n",
       ">\n",
       "<defs>\n",
       "  <marker id=\"arrow\" markerWidth=\"15\" markerHeight=\"7\" refX=\"5\" refY=\"3.5\" orient=\"auto\" markerUnits=\"strokeWidth\">\n",
       "    <path d=\"M0,0 L15,3.5 L0,7 z\" stroke=\"context-stroke\" fill=\"context-stroke\"/>\n",
       "  </marker>\n",
       "</defs>\n",
       "<g stroke-width=\"1.06\" fill=\"#000000\" fill-opacity=\"0.000\" stroke=\"#D3D3D3\" id=\"img-bc55a373-1\">\n",
       "  <g transform=\"translate(53.62,57.13)\">\n",
       "    <path fill=\"none\" d=\"M18.9,22.1 L-18.9,-22.1 \" class=\"primitive\"/>\n",
       "  </g>\n",
       "  <g transform=\"translate(64.37,68.03)\">\n",
       "    <path fill=\"none\" d=\"M-8.39,-11.11 L8.39,11.11 \" class=\"primitive\"/>\n",
       "  </g>\n",
       "  <g transform=\"translate(63.03,31)\">\n",
       "    <path fill=\"none\" d=\"M-8.02,19.14 L8.02,-19.14 \" class=\"primitive\"/>\n",
       "  </g>\n",
       "  <g transform=\"translate(42.77,42.78)\">\n",
       "    <path fill=\"none\" d=\"M7.77,7.87 L-7.77,-7.87 \" class=\"primitive\"/>\n",
       "  </g>\n",
       "  <g transform=\"translate(81.64,48.72)\">\n",
       "    <path fill=\"none\" d=\"M-23.07,4.05 L23.07,-4.05 \" class=\"primitive\"/>\n",
       "  </g>\n",
       "  <g transform=\"translate(71.77,24.95)\">\n",
       "    <path fill=\"none\" d=\"M0.59,-12.93 L-0.59,12.93 \" class=\"primitive\"/>\n",
       "  </g>\n",
       "  <g transform=\"translate(32.65,55.66)\">\n",
       "    <path fill=\"none\" d=\"M-15.71,1.5 L15.71,-1.5 \" class=\"primitive\"/>\n",
       "  </g>\n",
       "  <g transform=\"translate(41.4,49.61)\">\n",
       "    <path fill=\"none\" d=\"M-24.75,6.72 L24.75,-6.72 \" class=\"primitive\"/>\n",
       "  </g>\n",
       "  <g transform=\"translate(42.77,42.78)\">\n",
       "    <path fill=\"none\" d=\"M-7.77,-7.87 L7.77,7.87 \" class=\"primitive\"/>\n",
       "  </g>\n",
       "  <g transform=\"translate(52.28,20.11)\">\n",
       "    <path fill=\"none\" d=\"M-16.23,9.44 L16.23,-9.44 \" class=\"primitive\"/>\n",
       "  </g>\n",
       "  <g transform=\"translate(21.9,44.77)\">\n",
       "    <path fill=\"none\" d=\"M7.59,-9.66 L-7.59,9.66 \" class=\"primitive\"/>\n",
       "  </g>\n",
       "  <g transform=\"translate(91.15,26.06)\">\n",
       "    <path fill=\"none\" d=\"M15.51,14.77 L-15.51,-14.77 \" class=\"primitive\"/>\n",
       "  </g>\n",
       "  <g transform=\"translate(119.7,67.72)\">\n",
       "    <path fill=\"none\" d=\"M-8.47,-20.41 L8.47,20.41 \" class=\"primitive\"/>\n",
       "  </g>\n",
       "  <g transform=\"translate(90.39,42.67)\">\n",
       "    <path fill=\"none\" d=\"M14.19,0.81 L-14.19,-0.81 \" class=\"primitive\"/>\n",
       "  </g>\n",
       "  <g transform=\"translate(102.42,87.03)\">\n",
       "    <path fill=\"none\" d=\"M22.15,3.78 L-22.15,-3.78 \" class=\"primitive\"/>\n",
       "  </g>\n",
       "  <g transform=\"translate(119.7,67.72)\">\n",
       "    <path fill=\"none\" d=\"M8.47,20.41 L-8.47,-20.41 \" class=\"primitive\"/>\n",
       "  </g>\n",
       "  <g transform=\"translate(73.11,61.97)\">\n",
       "    <path fill=\"none\" d=\"M-1.72,-16.74 L1.72,16.74 \" class=\"primitive\"/>\n",
       "  </g>\n",
       "  <g transform=\"translate(62.26,47.61)\">\n",
       "    <path fill=\"none\" d=\"M5.02,-3.48 L-5.02,3.48 \" class=\"primitive\"/>\n",
       "  </g>\n",
       "  <g transform=\"translate(41.4,49.61)\">\n",
       "    <path fill=\"none\" d=\"M24.75,-6.72 L-24.75,6.72 \" class=\"primitive\"/>\n",
       "  </g>\n",
       "</g>\n",
       "<g stroke-width=\"1.06\" stroke=\"#D3D3D3\" id=\"img-bc55a373-2\">\n",
       "  <g transform=\"translate(36.63,37.27)\">\n",
       "    <path fill=\"none\" d=\"M-0.77,1.85 L-1.91,-2.23 2.68,0.38 \" class=\"primitive\"/>\n",
       "  </g>\n",
       "  <g transform=\"translate(71.02,76.83)\">\n",
       "    <path fill=\"none\" d=\"M0.91,-1.82 L1.74,2.3 -2.65,-0.48 \" class=\"primitive\"/>\n",
       "  </g>\n",
       "  <g transform=\"translate(70,14.37)\">\n",
       "    <path fill=\"none\" d=\"M-2.46,0.85 L1.05,-2.5 1.41,1.66 \" class=\"primitive\"/>\n",
       "  </g>\n",
       "  <g transform=\"translate(37.12,37.05)\">\n",
       "    <path fill=\"none\" d=\"M-0.6,1.89 L-2.11,-2.14 2.71,0.25 \" class=\"primitive\"/>\n",
       "  </g>\n",
       "  <g transform=\"translate(101.13,45.3)\">\n",
       "    <path fill=\"none\" d=\"M-2.28,-1.07 L3.58,-0.63 -1.31,1.7 \" class=\"primitive\"/>\n",
       "  </g>\n",
       "  <g transform=\"translate(71.3,35.27)\">\n",
       "    <path fill=\"none\" d=\"M2.07,-1.26 L-0.12,2.61 -1.95,-1.35 \" class=\"primitive\"/>\n",
       "  </g>\n",
       "  <g transform=\"translate(44.7,54.51)\">\n",
       "    <path fill=\"none\" d=\"M-2.1,-1.24 L3.66,-0.35 -1.56,1.59 \" class=\"primitive\"/>\n",
       "  </g>\n",
       "  <g transform=\"translate(62.7,43.82)\">\n",
       "    <path fill=\"none\" d=\"M-2.45,-0.86 L3.45,-0.94 -1,1.8 \" class=\"primitive\"/>\n",
       "  </g>\n",
       "  <g transform=\"translate(48.43,48.51)\">\n",
       "    <path fill=\"none\" d=\"M0.6,-1.89 L2.11,2.14 -2.71,-0.25 \" class=\"primitive\"/>\n",
       "  </g>\n",
       "  <g transform=\"translate(65.66,12.33)\">\n",
       "    <path fill=\"none\" d=\"M-2.71,-0.27 L2.85,-1.66 -0.15,1.93 \" class=\"primitive\"/>\n",
       "  </g>\n",
       "  <g transform=\"translate(16.11,52.15)\">\n",
       "    <path fill=\"none\" d=\"M2.66,-0.45 L-1.79,2.28 -0.87,-1.83 \" class=\"primitive\"/>\n",
       "  </g>\n",
       "  <g transform=\"translate(77.84,13.39)\">\n",
       "    <path fill=\"none\" d=\"M-0.52,1.9 L-2.2,-2.1 2.72,0.2 \" class=\"primitive\"/>\n",
       "  </g>\n",
       "  <g transform=\"translate(127.13,85.63)\">\n",
       "    <path fill=\"none\" d=\"M1.41,-1.65 L1.04,2.5 -2.45,-0.85 \" class=\"primitive\"/>\n",
       "  </g>\n",
       "  <g transform=\"translate(79.88,42.07)\">\n",
       "    <path fill=\"none\" d=\"M1.68,1.53 L-3.68,-0.21 2,-1.32 \" class=\"primitive\"/>\n",
       "  </g>\n",
       "  <g transform=\"translate(83.86,83.86)\">\n",
       "    <path fill=\"none\" d=\"M1.32,1.69 L-3.59,-0.61 2.27,-1.08 \" class=\"primitive\"/>\n",
       "  </g>\n",
       "  <g transform=\"translate(112.27,49.82)\">\n",
       "    <path fill=\"none\" d=\"M-1.41,1.65 L-1.04,-2.5 2.45,0.85 \" class=\"primitive\"/>\n",
       "  </g>\n",
       "  <g transform=\"translate(74.56,76.11)\">\n",
       "    <path fill=\"none\" d=\"M1.88,-1.41 L0.27,2.6 -2.14,-1.2 \" class=\"primitive\"/>\n",
       "  </g>\n",
       "  <g transform=\"translate(59.88,49.26)\">\n",
       "    <path fill=\"none\" d=\"M2.73,0.11 L-2.64,1.83 -0.09,-1.93 \" class=\"primitive\"/>\n",
       "  </g>\n",
       "  <g transform=\"translate(20.09,55.39)\">\n",
       "    <path fill=\"none\" d=\"M2.45,0.86 L-3.45,0.94 1,-1.8 \" class=\"primitive\"/>\n",
       "  </g>\n",
       "</g>\n",
       "<g font-size=\"4\" stroke=\"#000000\" stroke-opacity=\"0.000\" fill=\"#000000\" id=\"img-bc55a373-3\">\n",
       "</g>\n",
       "<g stroke-width=\"0\" stroke=\"#000000\" stroke-opacity=\"0.000\" fill=\"#40E0D0\" id=\"img-bc55a373-4\">\n",
       "  <g transform=\"translate(75.21,82.38)\">\n",
       "    <circle cx=\"0\" cy=\"0\" r=\"5\" class=\"primitive\"/>\n",
       "  </g>\n",
       "  <g transform=\"translate(53.52,53.67)\">\n",
       "    <circle cx=\"0\" cy=\"0\" r=\"5\" class=\"primitive\"/>\n",
       "  </g>\n",
       "  <g transform=\"translate(72.53,8.33)\">\n",
       "    <circle cx=\"0\" cy=\"0\" r=\"5\" class=\"primitive\"/>\n",
       "  </g>\n",
       "  <g transform=\"translate(11.79,57.65)\">\n",
       "    <circle cx=\"0\" cy=\"0\" r=\"5\" class=\"primitive\"/>\n",
       "  </g>\n",
       "  <g transform=\"translate(32.02,31.88)\">\n",
       "    <circle cx=\"0\" cy=\"0\" r=\"5\" class=\"primitive\"/>\n",
       "  </g>\n",
       "  <g transform=\"translate(109.77,43.78)\">\n",
       "    <circle cx=\"0\" cy=\"0\" r=\"5\" class=\"primitive\"/>\n",
       "  </g>\n",
       "  <g transform=\"translate(129.64,91.67)\">\n",
       "    <circle cx=\"0\" cy=\"0\" r=\"5\" class=\"primitive\"/>\n",
       "  </g>\n",
       "  <g transform=\"translate(71.01,41.56)\">\n",
       "    <circle cx=\"0\" cy=\"0\" r=\"5\" class=\"primitive\"/>\n",
       "  </g>\n",
       "</g>\n",
       "<g font-size=\"4\" stroke=\"#000000\" stroke-opacity=\"0.000\" fill=\"#000000\" id=\"img-bc55a373-5\">\n",
       "  <g transform=\"translate(75.21,82.38)\">\n",
       "    <g class=\"primitive\">\n",
       "      <text text-anchor=\"middle\" dy=\"0.35em\">1</text>\n",
       "    </g>\n",
       "  </g>\n",
       "  <g transform=\"translate(53.52,53.67)\">\n",
       "    <g class=\"primitive\">\n",
       "      <text text-anchor=\"middle\" dy=\"0.35em\">2</text>\n",
       "    </g>\n",
       "  </g>\n",
       "  <g transform=\"translate(72.53,8.33)\">\n",
       "    <g class=\"primitive\">\n",
       "      <text text-anchor=\"middle\" dy=\"0.35em\">3</text>\n",
       "    </g>\n",
       "  </g>\n",
       "  <g transform=\"translate(11.79,57.65)\">\n",
       "    <g class=\"primitive\">\n",
       "      <text text-anchor=\"middle\" dy=\"0.35em\">4</text>\n",
       "    </g>\n",
       "  </g>\n",
       "  <g transform=\"translate(32.02,31.88)\">\n",
       "    <g class=\"primitive\">\n",
       "      <text text-anchor=\"middle\" dy=\"0.35em\">5</text>\n",
       "    </g>\n",
       "  </g>\n",
       "  <g transform=\"translate(109.77,43.78)\">\n",
       "    <g class=\"primitive\">\n",
       "      <text text-anchor=\"middle\" dy=\"0.35em\">6</text>\n",
       "    </g>\n",
       "  </g>\n",
       "  <g transform=\"translate(129.64,91.67)\">\n",
       "    <g class=\"primitive\">\n",
       "      <text text-anchor=\"middle\" dy=\"0.35em\">7</text>\n",
       "    </g>\n",
       "  </g>\n",
       "  <g transform=\"translate(71.01,41.56)\">\n",
       "    <g class=\"primitive\">\n",
       "      <text text-anchor=\"middle\" dy=\"0.35em\">8</text>\n",
       "    </g>\n",
       "  </g>\n",
       "</g>\n",
       "</svg>\n"
      ],
      "text/html": [
       "<?xml version=\"1.0\" encoding=\"UTF-8\"?>\n",
       "<svg xmlns=\"http://www.w3.org/2000/svg\"\n",
       "     xmlns:xlink=\"http://www.w3.org/1999/xlink\"\n",
       "     version=\"1.2\"\n",
       "     width=\"141.42mm\" height=\"100mm\" viewBox=\"0 0 141.42 100\"\n",
       "     stroke=\"none\"\n",
       "     fill=\"#000000\"\n",
       "     stroke-width=\"0.3\"\n",
       "     font-size=\"3.88\"\n",
       "\n",
       "     id=\"img-be319638\">\n",
       "<defs>\n",
       "  <marker id=\"arrow\" markerWidth=\"15\" markerHeight=\"7\" refX=\"5\" refY=\"3.5\" orient=\"auto\" markerUnits=\"strokeWidth\">\n",
       "    <path d=\"M0,0 L15,3.5 L0,7 z\" stroke=\"context-stroke\" fill=\"context-stroke\"/>\n",
       "  </marker>\n",
       "</defs>\n",
       "<g stroke-width=\"1.06\" fill=\"#000000\" fill-opacity=\"0.000\" stroke=\"#D3D3D3\" id=\"img-be319638-1\">\n",
       "  <g transform=\"translate(53.62,57.13)\">\n",
       "    <path fill=\"none\" d=\"M18.9,22.1 L-18.9,-22.1 \" class=\"primitive\"/>\n",
       "  </g>\n",
       "  <g transform=\"translate(64.37,68.03)\">\n",
       "    <path fill=\"none\" d=\"M-8.39,-11.11 L8.39,11.11 \" class=\"primitive\"/>\n",
       "  </g>\n",
       "  <g transform=\"translate(63.03,31)\">\n",
       "    <path fill=\"none\" d=\"M-8.02,19.14 L8.02,-19.14 \" class=\"primitive\"/>\n",
       "  </g>\n",
       "  <g transform=\"translate(42.77,42.78)\">\n",
       "    <path fill=\"none\" d=\"M7.77,7.87 L-7.77,-7.87 \" class=\"primitive\"/>\n",
       "  </g>\n",
       "  <g transform=\"translate(81.64,48.72)\">\n",
       "    <path fill=\"none\" d=\"M-23.07,4.05 L23.07,-4.05 \" class=\"primitive\"/>\n",
       "  </g>\n",
       "  <g transform=\"translate(71.77,24.95)\">\n",
       "    <path fill=\"none\" d=\"M0.59,-12.93 L-0.59,12.93 \" class=\"primitive\"/>\n",
       "  </g>\n",
       "  <g transform=\"translate(32.65,55.66)\">\n",
       "    <path fill=\"none\" d=\"M-15.71,1.5 L15.71,-1.5 \" class=\"primitive\"/>\n",
       "  </g>\n",
       "  <g transform=\"translate(41.4,49.61)\">\n",
       "    <path fill=\"none\" d=\"M-24.75,6.72 L24.75,-6.72 \" class=\"primitive\"/>\n",
       "  </g>\n",
       "  <g transform=\"translate(42.77,42.78)\">\n",
       "    <path fill=\"none\" d=\"M-7.77,-7.87 L7.77,7.87 \" class=\"primitive\"/>\n",
       "  </g>\n",
       "  <g transform=\"translate(52.28,20.11)\">\n",
       "    <path fill=\"none\" d=\"M-16.23,9.44 L16.23,-9.44 \" class=\"primitive\"/>\n",
       "  </g>\n",
       "  <g transform=\"translate(21.9,44.77)\">\n",
       "    <path fill=\"none\" d=\"M7.59,-9.66 L-7.59,9.66 \" class=\"primitive\"/>\n",
       "  </g>\n",
       "  <g transform=\"translate(91.15,26.06)\">\n",
       "    <path fill=\"none\" d=\"M15.51,14.77 L-15.51,-14.77 \" class=\"primitive\"/>\n",
       "  </g>\n",
       "  <g transform=\"translate(119.7,67.72)\">\n",
       "    <path fill=\"none\" d=\"M-8.47,-20.41 L8.47,20.41 \" class=\"primitive\"/>\n",
       "  </g>\n",
       "  <g transform=\"translate(90.39,42.67)\">\n",
       "    <path fill=\"none\" d=\"M14.19,0.81 L-14.19,-0.81 \" class=\"primitive\"/>\n",
       "  </g>\n",
       "  <g transform=\"translate(102.42,87.03)\">\n",
       "    <path fill=\"none\" d=\"M22.15,3.78 L-22.15,-3.78 \" class=\"primitive\"/>\n",
       "  </g>\n",
       "  <g transform=\"translate(119.7,67.72)\">\n",
       "    <path fill=\"none\" d=\"M8.47,20.41 L-8.47,-20.41 \" class=\"primitive\"/>\n",
       "  </g>\n",
       "  <g transform=\"translate(73.11,61.97)\">\n",
       "    <path fill=\"none\" d=\"M-1.72,-16.74 L1.72,16.74 \" class=\"primitive\"/>\n",
       "  </g>\n",
       "  <g transform=\"translate(62.26,47.61)\">\n",
       "    <path fill=\"none\" d=\"M5.02,-3.48 L-5.02,3.48 \" class=\"primitive\"/>\n",
       "  </g>\n",
       "  <g transform=\"translate(41.4,49.61)\">\n",
       "    <path fill=\"none\" d=\"M24.75,-6.72 L-24.75,6.72 \" class=\"primitive\"/>\n",
       "  </g>\n",
       "</g>\n",
       "<g stroke-width=\"1.06\" stroke=\"#D3D3D3\" id=\"img-be319638-2\">\n",
       "  <g transform=\"translate(36.63,37.27)\">\n",
       "    <path fill=\"none\" d=\"M-0.77,1.85 L-1.91,-2.23 2.68,0.38 \" class=\"primitive\"/>\n",
       "  </g>\n",
       "  <g transform=\"translate(71.02,76.83)\">\n",
       "    <path fill=\"none\" d=\"M0.91,-1.82 L1.74,2.3 -2.65,-0.48 \" class=\"primitive\"/>\n",
       "  </g>\n",
       "  <g transform=\"translate(70,14.37)\">\n",
       "    <path fill=\"none\" d=\"M-2.46,0.85 L1.05,-2.5 1.41,1.66 \" class=\"primitive\"/>\n",
       "  </g>\n",
       "  <g transform=\"translate(37.12,37.05)\">\n",
       "    <path fill=\"none\" d=\"M-0.6,1.89 L-2.11,-2.14 2.71,0.25 \" class=\"primitive\"/>\n",
       "  </g>\n",
       "  <g transform=\"translate(101.13,45.3)\">\n",
       "    <path fill=\"none\" d=\"M-2.28,-1.07 L3.58,-0.63 -1.31,1.7 \" class=\"primitive\"/>\n",
       "  </g>\n",
       "  <g transform=\"translate(71.3,35.27)\">\n",
       "    <path fill=\"none\" d=\"M2.07,-1.26 L-0.12,2.61 -1.95,-1.35 \" class=\"primitive\"/>\n",
       "  </g>\n",
       "  <g transform=\"translate(44.7,54.51)\">\n",
       "    <path fill=\"none\" d=\"M-2.1,-1.24 L3.66,-0.35 -1.56,1.59 \" class=\"primitive\"/>\n",
       "  </g>\n",
       "  <g transform=\"translate(62.7,43.82)\">\n",
       "    <path fill=\"none\" d=\"M-2.45,-0.86 L3.45,-0.94 -1,1.8 \" class=\"primitive\"/>\n",
       "  </g>\n",
       "  <g transform=\"translate(48.43,48.51)\">\n",
       "    <path fill=\"none\" d=\"M0.6,-1.89 L2.11,2.14 -2.71,-0.25 \" class=\"primitive\"/>\n",
       "  </g>\n",
       "  <g transform=\"translate(65.66,12.33)\">\n",
       "    <path fill=\"none\" d=\"M-2.71,-0.27 L2.85,-1.66 -0.15,1.93 \" class=\"primitive\"/>\n",
       "  </g>\n",
       "  <g transform=\"translate(16.11,52.15)\">\n",
       "    <path fill=\"none\" d=\"M2.66,-0.45 L-1.79,2.28 -0.87,-1.83 \" class=\"primitive\"/>\n",
       "  </g>\n",
       "  <g transform=\"translate(77.84,13.39)\">\n",
       "    <path fill=\"none\" d=\"M-0.52,1.9 L-2.2,-2.1 2.72,0.2 \" class=\"primitive\"/>\n",
       "  </g>\n",
       "  <g transform=\"translate(127.13,85.63)\">\n",
       "    <path fill=\"none\" d=\"M1.41,-1.65 L1.04,2.5 -2.45,-0.85 \" class=\"primitive\"/>\n",
       "  </g>\n",
       "  <g transform=\"translate(79.88,42.07)\">\n",
       "    <path fill=\"none\" d=\"M1.68,1.53 L-3.68,-0.21 2,-1.32 \" class=\"primitive\"/>\n",
       "  </g>\n",
       "  <g transform=\"translate(83.86,83.86)\">\n",
       "    <path fill=\"none\" d=\"M1.32,1.69 L-3.59,-0.61 2.27,-1.08 \" class=\"primitive\"/>\n",
       "  </g>\n",
       "  <g transform=\"translate(112.27,49.82)\">\n",
       "    <path fill=\"none\" d=\"M-1.41,1.65 L-1.04,-2.5 2.45,0.85 \" class=\"primitive\"/>\n",
       "  </g>\n",
       "  <g transform=\"translate(74.56,76.11)\">\n",
       "    <path fill=\"none\" d=\"M1.88,-1.41 L0.27,2.6 -2.14,-1.2 \" class=\"primitive\"/>\n",
       "  </g>\n",
       "  <g transform=\"translate(59.88,49.26)\">\n",
       "    <path fill=\"none\" d=\"M2.73,0.11 L-2.64,1.83 -0.09,-1.93 \" class=\"primitive\"/>\n",
       "  </g>\n",
       "  <g transform=\"translate(20.09,55.39)\">\n",
       "    <path fill=\"none\" d=\"M2.45,0.86 L-3.45,0.94 1,-1.8 \" class=\"primitive\"/>\n",
       "  </g>\n",
       "</g>\n",
       "<g font-size=\"4\" stroke=\"#000000\" stroke-opacity=\"0.000\" fill=\"#000000\" id=\"img-be319638-3\">\n",
       "</g>\n",
       "<g stroke-width=\"0\" stroke=\"#000000\" stroke-opacity=\"0.000\" fill=\"#40E0D0\" id=\"img-be319638-4\">\n",
       "  <g transform=\"translate(75.21,82.38)\">\n",
       "    <circle cx=\"0\" cy=\"0\" r=\"5\" class=\"primitive\"/>\n",
       "  </g>\n",
       "  <g transform=\"translate(53.52,53.67)\">\n",
       "    <circle cx=\"0\" cy=\"0\" r=\"5\" class=\"primitive\"/>\n",
       "  </g>\n",
       "  <g transform=\"translate(72.53,8.33)\">\n",
       "    <circle cx=\"0\" cy=\"0\" r=\"5\" class=\"primitive\"/>\n",
       "  </g>\n",
       "  <g transform=\"translate(11.79,57.65)\">\n",
       "    <circle cx=\"0\" cy=\"0\" r=\"5\" class=\"primitive\"/>\n",
       "  </g>\n",
       "  <g transform=\"translate(32.02,31.88)\">\n",
       "    <circle cx=\"0\" cy=\"0\" r=\"5\" class=\"primitive\"/>\n",
       "  </g>\n",
       "  <g transform=\"translate(109.77,43.78)\">\n",
       "    <circle cx=\"0\" cy=\"0\" r=\"5\" class=\"primitive\"/>\n",
       "  </g>\n",
       "  <g transform=\"translate(129.64,91.67)\">\n",
       "    <circle cx=\"0\" cy=\"0\" r=\"5\" class=\"primitive\"/>\n",
       "  </g>\n",
       "  <g transform=\"translate(71.01,41.56)\">\n",
       "    <circle cx=\"0\" cy=\"0\" r=\"5\" class=\"primitive\"/>\n",
       "  </g>\n",
       "</g>\n",
       "<g font-size=\"4\" stroke=\"#000000\" stroke-opacity=\"0.000\" fill=\"#000000\" id=\"img-be319638-5\">\n",
       "  <g transform=\"translate(75.21,82.38)\">\n",
       "    <g class=\"primitive\">\n",
       "      <text text-anchor=\"middle\" dy=\"0.35em\">1</text>\n",
       "    </g>\n",
       "  </g>\n",
       "  <g transform=\"translate(53.52,53.67)\">\n",
       "    <g class=\"primitive\">\n",
       "      <text text-anchor=\"middle\" dy=\"0.35em\">2</text>\n",
       "    </g>\n",
       "  </g>\n",
       "  <g transform=\"translate(72.53,8.33)\">\n",
       "    <g class=\"primitive\">\n",
       "      <text text-anchor=\"middle\" dy=\"0.35em\">3</text>\n",
       "    </g>\n",
       "  </g>\n",
       "  <g transform=\"translate(11.79,57.65)\">\n",
       "    <g class=\"primitive\">\n",
       "      <text text-anchor=\"middle\" dy=\"0.35em\">4</text>\n",
       "    </g>\n",
       "  </g>\n",
       "  <g transform=\"translate(32.02,31.88)\">\n",
       "    <g class=\"primitive\">\n",
       "      <text text-anchor=\"middle\" dy=\"0.35em\">5</text>\n",
       "    </g>\n",
       "  </g>\n",
       "  <g transform=\"translate(109.77,43.78)\">\n",
       "    <g class=\"primitive\">\n",
       "      <text text-anchor=\"middle\" dy=\"0.35em\">6</text>\n",
       "    </g>\n",
       "  </g>\n",
       "  <g transform=\"translate(129.64,91.67)\">\n",
       "    <g class=\"primitive\">\n",
       "      <text text-anchor=\"middle\" dy=\"0.35em\">7</text>\n",
       "    </g>\n",
       "  </g>\n",
       "  <g transform=\"translate(71.01,41.56)\">\n",
       "    <g class=\"primitive\">\n",
       "      <text text-anchor=\"middle\" dy=\"0.35em\">8</text>\n",
       "    </g>\n",
       "  </g>\n",
       "</g>\n",
       "<script> <![CDATA[\n",
       "(function(N){var k=/[\\.\\/]/,L=/\\s*,\\s*/,C=function(a,d){return a-d},a,v,y={n:{}},M=function(){for(var a=0,d=this.length;a<d;a++)if(\"undefined\"!=typeof this[a])return this[a]},A=function(){for(var a=this.length;--a;)if(\"undefined\"!=typeof this[a])return this[a]},w=function(k,d){k=String(k);var f=v,n=Array.prototype.slice.call(arguments,2),u=w.listeners(k),p=0,b,q=[],e={},l=[],r=a;l.firstDefined=M;l.lastDefined=A;a=k;for(var s=v=0,x=u.length;s<x;s++)\"zIndex\"in u[s]&&(q.push(u[s].zIndex),0>u[s].zIndex&&\n",
       "(e[u[s].zIndex]=u[s]));for(q.sort(C);0>q[p];)if(b=e[q[p++] ],l.push(b.apply(d,n)),v)return v=f,l;for(s=0;s<x;s++)if(b=u[s],\"zIndex\"in b)if(b.zIndex==q[p]){l.push(b.apply(d,n));if(v)break;do if(p++,(b=e[q[p] ])&&l.push(b.apply(d,n)),v)break;while(b)}else e[b.zIndex]=b;else if(l.push(b.apply(d,n)),v)break;v=f;a=r;return l};w._events=y;w.listeners=function(a){a=a.split(k);var d=y,f,n,u,p,b,q,e,l=[d],r=[];u=0;for(p=a.length;u<p;u++){e=[];b=0;for(q=l.length;b<q;b++)for(d=l[b].n,f=[d[a[u] ],d[\"*\"] ],n=2;n--;)if(d=\n",
       "f[n])e.push(d),r=r.concat(d.f||[]);l=e}return r};w.on=function(a,d){a=String(a);if(\"function\"!=typeof d)return function(){};for(var f=a.split(L),n=0,u=f.length;n<u;n++)(function(a){a=a.split(k);for(var b=y,f,e=0,l=a.length;e<l;e++)b=b.n,b=b.hasOwnProperty(a[e])&&b[a[e] ]||(b[a[e] ]={n:{}});b.f=b.f||[];e=0;for(l=b.f.length;e<l;e++)if(b.f[e]==d){f=!0;break}!f&&b.f.push(d)})(f[n]);return function(a){+a==+a&&(d.zIndex=+a)}};w.f=function(a){var d=[].slice.call(arguments,1);return function(){w.apply(null,\n",
       "[a,null].concat(d).concat([].slice.call(arguments,0)))}};w.stop=function(){v=1};w.nt=function(k){return k?(new RegExp(\"(?:\\\\.|\\\\/|^)\"+k+\"(?:\\\\.|\\\\/|$)\")).test(a):a};w.nts=function(){return a.split(k)};w.off=w.unbind=function(a,d){if(a){var f=a.split(L);if(1<f.length)for(var n=0,u=f.length;n<u;n++)w.off(f[n],d);else{for(var f=a.split(k),p,b,q,e,l=[y],n=0,u=f.length;n<u;n++)for(e=0;e<l.length;e+=q.length-2){q=[e,1];p=l[e].n;if(\"*\"!=f[n])p[f[n] ]&&q.push(p[f[n] ]);else for(b in p)p.hasOwnProperty(b)&&\n",
       "q.push(p[b]);l.splice.apply(l,q)}n=0;for(u=l.length;n<u;n++)for(p=l[n];p.n;){if(d){if(p.f){e=0;for(f=p.f.length;e<f;e++)if(p.f[e]==d){p.f.splice(e,1);break}!p.f.length&&delete p.f}for(b in p.n)if(p.n.hasOwnProperty(b)&&p.n[b].f){q=p.n[b].f;e=0;for(f=q.length;e<f;e++)if(q[e]==d){q.splice(e,1);break}!q.length&&delete p.n[b].f}}else for(b in delete p.f,p.n)p.n.hasOwnProperty(b)&&p.n[b].f&&delete p.n[b].f;p=p.n}}}else w._events=y={n:{}}};w.once=function(a,d){var f=function(){w.unbind(a,f);return d.apply(this,\n",
       "arguments)};return w.on(a,f)};w.version=\"0.4.2\";w.toString=function(){return\"You are running Eve 0.4.2\"};\"undefined\"!=typeof module&&module.exports?module.exports=w:\"function\"===typeof define&&define.amd?define(\"eve\",[],function(){return w}):N.eve=w})(this);\n",
       "(function(N,k){\"function\"===typeof define&&define.amd?define(\"Snap.svg\",[\"eve\"],function(L){return k(N,L)}):k(N,N.eve)})(this,function(N,k){var L=function(a){var k={},y=N.requestAnimationFrame||N.webkitRequestAnimationFrame||N.mozRequestAnimationFrame||N.oRequestAnimationFrame||N.msRequestAnimationFrame||function(a){setTimeout(a,16)},M=Array.isArray||function(a){return a instanceof Array||\"[object Array]\"==Object.prototype.toString.call(a)},A=0,w=\"M\"+(+new Date).toString(36),z=function(a){if(null==\n",
       "a)return this.s;var b=this.s-a;this.b+=this.dur*b;this.B+=this.dur*b;this.s=a},d=function(a){if(null==a)return this.spd;this.spd=a},f=function(a){if(null==a)return this.dur;this.s=this.s*a/this.dur;this.dur=a},n=function(){delete k[this.id];this.update();a(\"mina.stop.\"+this.id,this)},u=function(){this.pdif||(delete k[this.id],this.update(),this.pdif=this.get()-this.b)},p=function(){this.pdif&&(this.b=this.get()-this.pdif,delete this.pdif,k[this.id]=this)},b=function(){var a;if(M(this.start)){a=[];\n",
       "for(var b=0,e=this.start.length;b<e;b++)a[b]=+this.start[b]+(this.end[b]-this.start[b])*this.easing(this.s)}else a=+this.start+(this.end-this.start)*this.easing(this.s);this.set(a)},q=function(){var l=0,b;for(b in k)if(k.hasOwnProperty(b)){var e=k[b],f=e.get();l++;e.s=(f-e.b)/(e.dur/e.spd);1<=e.s&&(delete k[b],e.s=1,l--,function(b){setTimeout(function(){a(\"mina.finish.\"+b.id,b)})}(e));e.update()}l&&y(q)},e=function(a,r,s,x,G,h,J){a={id:w+(A++).toString(36),start:a,end:r,b:s,s:0,dur:x-s,spd:1,get:G,\n",
       "set:h,easing:J||e.linear,status:z,speed:d,duration:f,stop:n,pause:u,resume:p,update:b};k[a.id]=a;r=0;for(var K in k)if(k.hasOwnProperty(K)&&(r++,2==r))break;1==r&&y(q);return a};e.time=Date.now||function(){return+new Date};e.getById=function(a){return k[a]||null};e.linear=function(a){return a};e.easeout=function(a){return Math.pow(a,1.7)};e.easein=function(a){return Math.pow(a,0.48)};e.easeinout=function(a){if(1==a)return 1;if(0==a)return 0;var b=0.48-a/1.04,e=Math.sqrt(0.1734+b*b);a=e-b;a=Math.pow(Math.abs(a),\n",
       "1/3)*(0>a?-1:1);b=-e-b;b=Math.pow(Math.abs(b),1/3)*(0>b?-1:1);a=a+b+0.5;return 3*(1-a)*a*a+a*a*a};e.backin=function(a){return 1==a?1:a*a*(2.70158*a-1.70158)};e.backout=function(a){if(0==a)return 0;a-=1;return a*a*(2.70158*a+1.70158)+1};e.elastic=function(a){return a==!!a?a:Math.pow(2,-10*a)*Math.sin(2*(a-0.075)*Math.PI/0.3)+1};e.bounce=function(a){a<1/2.75?a*=7.5625*a:a<2/2.75?(a-=1.5/2.75,a=7.5625*a*a+0.75):a<2.5/2.75?(a-=2.25/2.75,a=7.5625*a*a+0.9375):(a-=2.625/2.75,a=7.5625*a*a+0.984375);return a};\n",
       "return N.mina=e}(\"undefined\"==typeof k?function(){}:k),C=function(){function a(c,t){if(c){if(c.tagName)return x(c);if(y(c,\"array\")&&a.set)return a.set.apply(a,c);if(c instanceof e)return c;if(null==t)return c=G.doc.querySelector(c),x(c)}return new s(null==c?\"100%\":c,null==t?\"100%\":t)}function v(c,a){if(a){\"#text\"==c&&(c=G.doc.createTextNode(a.text||\"\"));\"string\"==typeof c&&(c=v(c));if(\"string\"==typeof a)return\"xlink:\"==a.substring(0,6)?c.getAttributeNS(m,a.substring(6)):\"xml:\"==a.substring(0,4)?c.getAttributeNS(la,\n",
       "a.substring(4)):c.getAttribute(a);for(var da in a)if(a[h](da)){var b=J(a[da]);b?\"xlink:\"==da.substring(0,6)?c.setAttributeNS(m,da.substring(6),b):\"xml:\"==da.substring(0,4)?c.setAttributeNS(la,da.substring(4),b):c.setAttribute(da,b):c.removeAttribute(da)}}else c=G.doc.createElementNS(la,c);return c}function y(c,a){a=J.prototype.toLowerCase.call(a);return\"finite\"==a?isFinite(c):\"array\"==a&&(c instanceof Array||Array.isArray&&Array.isArray(c))?!0:\"null\"==a&&null===c||a==typeof c&&null!==c||\"object\"==\n",
       "a&&c===Object(c)||$.call(c).slice(8,-1).toLowerCase()==a}function M(c){if(\"function\"==typeof c||Object(c)!==c)return c;var a=new c.constructor,b;for(b in c)c[h](b)&&(a[b]=M(c[b]));return a}function A(c,a,b){function m(){var e=Array.prototype.slice.call(arguments,0),f=e.join(\"\\u2400\"),d=m.cache=m.cache||{},l=m.count=m.count||[];if(d[h](f)){a:for(var e=l,l=f,B=0,H=e.length;B<H;B++)if(e[B]===l){e.push(e.splice(B,1)[0]);break a}return b?b(d[f]):d[f]}1E3<=l.length&&delete d[l.shift()];l.push(f);d[f]=c.apply(a,\n",
       "e);return b?b(d[f]):d[f]}return m}function w(c,a,b,m,e,f){return null==e?(c-=b,a-=m,c||a?(180*I.atan2(-a,-c)/C+540)%360:0):w(c,a,e,f)-w(b,m,e,f)}function z(c){return c%360*C/180}function d(c){var a=[];c=c.replace(/(?:^|\\s)(\\w+)\\(([^)]+)\\)/g,function(c,b,m){m=m.split(/\\s*,\\s*|\\s+/);\"rotate\"==b&&1==m.length&&m.push(0,0);\"scale\"==b&&(2<m.length?m=m.slice(0,2):2==m.length&&m.push(0,0),1==m.length&&m.push(m[0],0,0));\"skewX\"==b?a.push([\"m\",1,0,I.tan(z(m[0])),1,0,0]):\"skewY\"==b?a.push([\"m\",1,I.tan(z(m[0])),\n",
       "0,1,0,0]):a.push([b.charAt(0)].concat(m));return c});return a}function f(c,t){var b=O(c),m=new a.Matrix;if(b)for(var e=0,f=b.length;e<f;e++){var h=b[e],d=h.length,B=J(h[0]).toLowerCase(),H=h[0]!=B,l=H?m.invert():0,E;\"t\"==B&&2==d?m.translate(h[1],0):\"t\"==B&&3==d?H?(d=l.x(0,0),B=l.y(0,0),H=l.x(h[1],h[2]),l=l.y(h[1],h[2]),m.translate(H-d,l-B)):m.translate(h[1],h[2]):\"r\"==B?2==d?(E=E||t,m.rotate(h[1],E.x+E.width/2,E.y+E.height/2)):4==d&&(H?(H=l.x(h[2],h[3]),l=l.y(h[2],h[3]),m.rotate(h[1],H,l)):m.rotate(h[1],\n",
       "h[2],h[3])):\"s\"==B?2==d||3==d?(E=E||t,m.scale(h[1],h[d-1],E.x+E.width/2,E.y+E.height/2)):4==d?H?(H=l.x(h[2],h[3]),l=l.y(h[2],h[3]),m.scale(h[1],h[1],H,l)):m.scale(h[1],h[1],h[2],h[3]):5==d&&(H?(H=l.x(h[3],h[4]),l=l.y(h[3],h[4]),m.scale(h[1],h[2],H,l)):m.scale(h[1],h[2],h[3],h[4])):\"m\"==B&&7==d&&m.add(h[1],h[2],h[3],h[4],h[5],h[6])}return m}function n(c,t){if(null==t){var m=!0;t=\"linearGradient\"==c.type||\"radialGradient\"==c.type?c.node.getAttribute(\"gradientTransform\"):\"pattern\"==c.type?c.node.getAttribute(\"patternTransform\"):\n",
       "c.node.getAttribute(\"transform\");if(!t)return new a.Matrix;t=d(t)}else t=a._.rgTransform.test(t)?J(t).replace(/\\.{3}|\\u2026/g,c._.transform||aa):d(t),y(t,\"array\")&&(t=a.path?a.path.toString.call(t):J(t)),c._.transform=t;var b=f(t,c.getBBox(1));if(m)return b;c.matrix=b}function u(c){c=c.node.ownerSVGElement&&x(c.node.ownerSVGElement)||c.node.parentNode&&x(c.node.parentNode)||a.select(\"svg\")||a(0,0);var t=c.select(\"defs\"),t=null==t?!1:t.node;t||(t=r(\"defs\",c.node).node);return t}function p(c){return c.node.ownerSVGElement&&\n",
       "x(c.node.ownerSVGElement)||a.select(\"svg\")}function b(c,a,m){function b(c){if(null==c)return aa;if(c==+c)return c;v(B,{width:c});try{return B.getBBox().width}catch(a){return 0}}function h(c){if(null==c)return aa;if(c==+c)return c;v(B,{height:c});try{return B.getBBox().height}catch(a){return 0}}function e(b,B){null==a?d[b]=B(c.attr(b)||0):b==a&&(d=B(null==m?c.attr(b)||0:m))}var f=p(c).node,d={},B=f.querySelector(\".svg---mgr\");B||(B=v(\"rect\"),v(B,{x:-9E9,y:-9E9,width:10,height:10,\"class\":\"svg---mgr\",\n",
       "fill:\"none\"}),f.appendChild(B));switch(c.type){case \"rect\":e(\"rx\",b),e(\"ry\",h);case \"image\":e(\"width\",b),e(\"height\",h);case \"text\":e(\"x\",b);e(\"y\",h);break;case \"circle\":e(\"cx\",b);e(\"cy\",h);e(\"r\",b);break;case \"ellipse\":e(\"cx\",b);e(\"cy\",h);e(\"rx\",b);e(\"ry\",h);break;case \"line\":e(\"x1\",b);e(\"x2\",b);e(\"y1\",h);e(\"y2\",h);break;case \"marker\":e(\"refX\",b);e(\"markerWidth\",b);e(\"refY\",h);e(\"markerHeight\",h);break;case \"radialGradient\":e(\"fx\",b);e(\"fy\",h);break;case \"tspan\":e(\"dx\",b);e(\"dy\",h);break;default:e(a,\n",
       "b)}f.removeChild(B);return d}function q(c){y(c,\"array\")||(c=Array.prototype.slice.call(arguments,0));for(var a=0,b=0,m=this.node;this[a];)delete this[a++];for(a=0;a<c.length;a++)\"set\"==c[a].type?c[a].forEach(function(c){m.appendChild(c.node)}):m.appendChild(c[a].node);for(var h=m.childNodes,a=0;a<h.length;a++)this[b++]=x(h[a]);return this}function e(c){if(c.snap in E)return E[c.snap];var a=this.id=V(),b;try{b=c.ownerSVGElement}catch(m){}this.node=c;b&&(this.paper=new s(b));this.type=c.tagName;this.anims=\n",
       "{};this._={transform:[]};c.snap=a;E[a]=this;\"g\"==this.type&&(this.add=q);if(this.type in{g:1,mask:1,pattern:1})for(var e in s.prototype)s.prototype[h](e)&&(this[e]=s.prototype[e])}function l(c){this.node=c}function r(c,a){var b=v(c);a.appendChild(b);return x(b)}function s(c,a){var b,m,f,d=s.prototype;if(c&&\"svg\"==c.tagName){if(c.snap in E)return E[c.snap];var l=c.ownerDocument;b=new e(c);m=c.getElementsByTagName(\"desc\")[0];f=c.getElementsByTagName(\"defs\")[0];m||(m=v(\"desc\"),m.appendChild(l.createTextNode(\"Created with Snap\")),\n",
       "b.node.appendChild(m));f||(f=v(\"defs\"),b.node.appendChild(f));b.defs=f;for(var ca in d)d[h](ca)&&(b[ca]=d[ca]);b.paper=b.root=b}else b=r(\"svg\",G.doc.body),v(b.node,{height:a,version:1.1,width:c,xmlns:la});return b}function x(c){return!c||c instanceof e||c instanceof l?c:c.tagName&&\"svg\"==c.tagName.toLowerCase()?new s(c):c.tagName&&\"object\"==c.tagName.toLowerCase()&&\"image/svg+xml\"==c.type?new s(c.contentDocument.getElementsByTagName(\"svg\")[0]):new e(c)}a.version=\"0.3.0\";a.toString=function(){return\"Snap v\"+\n",
       "this.version};a._={};var G={win:N,doc:N.document};a._.glob=G;var h=\"hasOwnProperty\",J=String,K=parseFloat,U=parseInt,I=Math,P=I.max,Q=I.min,Y=I.abs,C=I.PI,aa=\"\",$=Object.prototype.toString,F=/^\\s*((#[a-f\\d]{6})|(#[a-f\\d]{3})|rgba?\\(\\s*([\\d\\.]+%?\\s*,\\s*[\\d\\.]+%?\\s*,\\s*[\\d\\.]+%?(?:\\s*,\\s*[\\d\\.]+%?)?)\\s*\\)|hsba?\\(\\s*([\\d\\.]+(?:deg|\\xb0|%)?\\s*,\\s*[\\d\\.]+%?\\s*,\\s*[\\d\\.]+(?:%?\\s*,\\s*[\\d\\.]+)?%?)\\s*\\)|hsla?\\(\\s*([\\d\\.]+(?:deg|\\xb0|%)?\\s*,\\s*[\\d\\.]+%?\\s*,\\s*[\\d\\.]+(?:%?\\s*,\\s*[\\d\\.]+)?%?)\\s*\\))\\s*$/i;a._.separator=\n",
       "RegExp(\"[,\\t\\n\\x0B\\f\\r \\u00a0\\u1680\\u180e\\u2000\\u2001\\u2002\\u2003\\u2004\\u2005\\u2006\\u2007\\u2008\\u2009\\u200a\\u202f\\u205f\\u3000\\u2028\\u2029]+\");var S=RegExp(\"[\\t\\n\\x0B\\f\\r \\u00a0\\u1680\\u180e\\u2000\\u2001\\u2002\\u2003\\u2004\\u2005\\u2006\\u2007\\u2008\\u2009\\u200a\\u202f\\u205f\\u3000\\u2028\\u2029]*,[\\t\\n\\x0B\\f\\r \\u00a0\\u1680\\u180e\\u2000\\u2001\\u2002\\u2003\\u2004\\u2005\\u2006\\u2007\\u2008\\u2009\\u200a\\u202f\\u205f\\u3000\\u2028\\u2029]*\"),X={hs:1,rg:1},W=RegExp(\"([a-z])[\\t\\n\\x0B\\f\\r \\u00a0\\u1680\\u180e\\u2000\\u2001\\u2002\\u2003\\u2004\\u2005\\u2006\\u2007\\u2008\\u2009\\u200a\\u202f\\u205f\\u3000\\u2028\\u2029,]*((-?\\\\d*\\\\.?\\\\d*(?:e[\\\\-+]?\\\\d+)?[\\t\\n\\x0B\\f\\r \\u00a0\\u1680\\u180e\\u2000\\u2001\\u2002\\u2003\\u2004\\u2005\\u2006\\u2007\\u2008\\u2009\\u200a\\u202f\\u205f\\u3000\\u2028\\u2029]*,?[\\t\\n\\x0B\\f\\r \\u00a0\\u1680\\u180e\\u2000\\u2001\\u2002\\u2003\\u2004\\u2005\\u2006\\u2007\\u2008\\u2009\\u200a\\u202f\\u205f\\u3000\\u2028\\u2029]*)+)\",\n",
       "\"ig\"),ma=RegExp(\"([rstm])[\\t\\n\\x0B\\f\\r \\u00a0\\u1680\\u180e\\u2000\\u2001\\u2002\\u2003\\u2004\\u2005\\u2006\\u2007\\u2008\\u2009\\u200a\\u202f\\u205f\\u3000\\u2028\\u2029,]*((-?\\\\d*\\\\.?\\\\d*(?:e[\\\\-+]?\\\\d+)?[\\t\\n\\x0B\\f\\r \\u00a0\\u1680\\u180e\\u2000\\u2001\\u2002\\u2003\\u2004\\u2005\\u2006\\u2007\\u2008\\u2009\\u200a\\u202f\\u205f\\u3000\\u2028\\u2029]*,?[\\t\\n\\x0B\\f\\r \\u00a0\\u1680\\u180e\\u2000\\u2001\\u2002\\u2003\\u2004\\u2005\\u2006\\u2007\\u2008\\u2009\\u200a\\u202f\\u205f\\u3000\\u2028\\u2029]*)+)\",\"ig\"),Z=RegExp(\"(-?\\\\d*\\\\.?\\\\d*(?:e[\\\\-+]?\\\\d+)?)[\\t\\n\\x0B\\f\\r \\u00a0\\u1680\\u180e\\u2000\\u2001\\u2002\\u2003\\u2004\\u2005\\u2006\\u2007\\u2008\\u2009\\u200a\\u202f\\u205f\\u3000\\u2028\\u2029]*,?[\\t\\n\\x0B\\f\\r \\u00a0\\u1680\\u180e\\u2000\\u2001\\u2002\\u2003\\u2004\\u2005\\u2006\\u2007\\u2008\\u2009\\u200a\\u202f\\u205f\\u3000\\u2028\\u2029]*\",\n",
       "\"ig\"),na=0,ba=\"S\"+(+new Date).toString(36),V=function(){return ba+(na++).toString(36)},m=\"http://www.w3.org/1999/xlink\",la=\"http://www.w3.org/2000/svg\",E={},ca=a.url=function(c){return\"url('#\"+c+\"')\"};a._.$=v;a._.id=V;a.format=function(){var c=/\\{([^\\}]+)\\}/g,a=/(?:(?:^|\\.)(.+?)(?=\\[|\\.|$|\\()|\\[('|\")(.+?)\\2\\])(\\(\\))?/g,b=function(c,b,m){var h=m;b.replace(a,function(c,a,b,m,t){a=a||m;h&&(a in h&&(h=h[a]),\"function\"==typeof h&&t&&(h=h()))});return h=(null==h||h==m?c:h)+\"\"};return function(a,m){return J(a).replace(c,\n",
       "function(c,a){return b(c,a,m)})}}();a._.clone=M;a._.cacher=A;a.rad=z;a.deg=function(c){return 180*c/C%360};a.angle=w;a.is=y;a.snapTo=function(c,a,b){b=y(b,\"finite\")?b:10;if(y(c,\"array\"))for(var m=c.length;m--;){if(Y(c[m]-a)<=b)return c[m]}else{c=+c;m=a%c;if(m<b)return a-m;if(m>c-b)return a-m+c}return a};a.getRGB=A(function(c){if(!c||(c=J(c)).indexOf(\"-\")+1)return{r:-1,g:-1,b:-1,hex:\"none\",error:1,toString:ka};if(\"none\"==c)return{r:-1,g:-1,b:-1,hex:\"none\",toString:ka};!X[h](c.toLowerCase().substring(0,\n",
       "2))&&\"#\"!=c.charAt()&&(c=T(c));if(!c)return{r:-1,g:-1,b:-1,hex:\"none\",error:1,toString:ka};var b,m,e,f,d;if(c=c.match(F)){c[2]&&(e=U(c[2].substring(5),16),m=U(c[2].substring(3,5),16),b=U(c[2].substring(1,3),16));c[3]&&(e=U((d=c[3].charAt(3))+d,16),m=U((d=c[3].charAt(2))+d,16),b=U((d=c[3].charAt(1))+d,16));c[4]&&(d=c[4].split(S),b=K(d[0]),\"%\"==d[0].slice(-1)&&(b*=2.55),m=K(d[1]),\"%\"==d[1].slice(-1)&&(m*=2.55),e=K(d[2]),\"%\"==d[2].slice(-1)&&(e*=2.55),\"rgba\"==c[1].toLowerCase().slice(0,4)&&(f=K(d[3])),\n",
       "d[3]&&\"%\"==d[3].slice(-1)&&(f/=100));if(c[5])return d=c[5].split(S),b=K(d[0]),\"%\"==d[0].slice(-1)&&(b/=100),m=K(d[1]),\"%\"==d[1].slice(-1)&&(m/=100),e=K(d[2]),\"%\"==d[2].slice(-1)&&(e/=100),\"deg\"!=d[0].slice(-3)&&\"\\u00b0\"!=d[0].slice(-1)||(b/=360),\"hsba\"==c[1].toLowerCase().slice(0,4)&&(f=K(d[3])),d[3]&&\"%\"==d[3].slice(-1)&&(f/=100),a.hsb2rgb(b,m,e,f);if(c[6])return d=c[6].split(S),b=K(d[0]),\"%\"==d[0].slice(-1)&&(b/=100),m=K(d[1]),\"%\"==d[1].slice(-1)&&(m/=100),e=K(d[2]),\"%\"==d[2].slice(-1)&&(e/=100),\n",
       "\"deg\"!=d[0].slice(-3)&&\"\\u00b0\"!=d[0].slice(-1)||(b/=360),\"hsla\"==c[1].toLowerCase().slice(0,4)&&(f=K(d[3])),d[3]&&\"%\"==d[3].slice(-1)&&(f/=100),a.hsl2rgb(b,m,e,f);b=Q(I.round(b),255);m=Q(I.round(m),255);e=Q(I.round(e),255);f=Q(P(f,0),1);c={r:b,g:m,b:e,toString:ka};c.hex=\"#\"+(16777216|e|m<<8|b<<16).toString(16).slice(1);c.opacity=y(f,\"finite\")?f:1;return c}return{r:-1,g:-1,b:-1,hex:\"none\",error:1,toString:ka}},a);a.hsb=A(function(c,b,m){return a.hsb2rgb(c,b,m).hex});a.hsl=A(function(c,b,m){return a.hsl2rgb(c,\n",
       "b,m).hex});a.rgb=A(function(c,a,b,m){if(y(m,\"finite\")){var e=I.round;return\"rgba(\"+[e(c),e(a),e(b),+m.toFixed(2)]+\")\"}return\"#\"+(16777216|b|a<<8|c<<16).toString(16).slice(1)});var T=function(c){var a=G.doc.getElementsByTagName(\"head\")[0]||G.doc.getElementsByTagName(\"svg\")[0];T=A(function(c){if(\"red\"==c.toLowerCase())return\"rgb(255, 0, 0)\";a.style.color=\"rgb(255, 0, 0)\";a.style.color=c;c=G.doc.defaultView.getComputedStyle(a,aa).getPropertyValue(\"color\");return\"rgb(255, 0, 0)\"==c?null:c});return T(c)},\n",
       "qa=function(){return\"hsb(\"+[this.h,this.s,this.b]+\")\"},ra=function(){return\"hsl(\"+[this.h,this.s,this.l]+\")\"},ka=function(){return 1==this.opacity||null==this.opacity?this.hex:\"rgba(\"+[this.r,this.g,this.b,this.opacity]+\")\"},D=function(c,b,m){null==b&&y(c,\"object\")&&\"r\"in c&&\"g\"in c&&\"b\"in c&&(m=c.b,b=c.g,c=c.r);null==b&&y(c,string)&&(m=a.getRGB(c),c=m.r,b=m.g,m=m.b);if(1<c||1<b||1<m)c/=255,b/=255,m/=255;return[c,b,m]},oa=function(c,b,m,e){c=I.round(255*c);b=I.round(255*b);m=I.round(255*m);c={r:c,\n",
       "g:b,b:m,opacity:y(e,\"finite\")?e:1,hex:a.rgb(c,b,m),toString:ka};y(e,\"finite\")&&(c.opacity=e);return c};a.color=function(c){var b;y(c,\"object\")&&\"h\"in c&&\"s\"in c&&\"b\"in c?(b=a.hsb2rgb(c),c.r=b.r,c.g=b.g,c.b=b.b,c.opacity=1,c.hex=b.hex):y(c,\"object\")&&\"h\"in c&&\"s\"in c&&\"l\"in c?(b=a.hsl2rgb(c),c.r=b.r,c.g=b.g,c.b=b.b,c.opacity=1,c.hex=b.hex):(y(c,\"string\")&&(c=a.getRGB(c)),y(c,\"object\")&&\"r\"in c&&\"g\"in c&&\"b\"in c&&!(\"error\"in c)?(b=a.rgb2hsl(c),c.h=b.h,c.s=b.s,c.l=b.l,b=a.rgb2hsb(c),c.v=b.b):(c={hex:\"none\"},\n",
       "c.r=c.g=c.b=c.h=c.s=c.v=c.l=-1,c.error=1));c.toString=ka;return c};a.hsb2rgb=function(c,a,b,m){y(c,\"object\")&&\"h\"in c&&\"s\"in c&&\"b\"in c&&(b=c.b,a=c.s,c=c.h,m=c.o);var e,h,d;c=360*c%360/60;d=b*a;a=d*(1-Y(c%2-1));b=e=h=b-d;c=~~c;b+=[d,a,0,0,a,d][c];e+=[a,d,d,a,0,0][c];h+=[0,0,a,d,d,a][c];return oa(b,e,h,m)};a.hsl2rgb=function(c,a,b,m){y(c,\"object\")&&\"h\"in c&&\"s\"in c&&\"l\"in c&&(b=c.l,a=c.s,c=c.h);if(1<c||1<a||1<b)c/=360,a/=100,b/=100;var e,h,d;c=360*c%360/60;d=2*a*(0.5>b?b:1-b);a=d*(1-Y(c%2-1));b=e=\n",
       "h=b-d/2;c=~~c;b+=[d,a,0,0,a,d][c];e+=[a,d,d,a,0,0][c];h+=[0,0,a,d,d,a][c];return oa(b,e,h,m)};a.rgb2hsb=function(c,a,b){b=D(c,a,b);c=b[0];a=b[1];b=b[2];var m,e;m=P(c,a,b);e=m-Q(c,a,b);c=((0==e?0:m==c?(a-b)/e:m==a?(b-c)/e+2:(c-a)/e+4)+360)%6*60/360;return{h:c,s:0==e?0:e/m,b:m,toString:qa}};a.rgb2hsl=function(c,a,b){b=D(c,a,b);c=b[0];a=b[1];b=b[2];var m,e,h;m=P(c,a,b);e=Q(c,a,b);h=m-e;c=((0==h?0:m==c?(a-b)/h:m==a?(b-c)/h+2:(c-a)/h+4)+360)%6*60/360;m=(m+e)/2;return{h:c,s:0==h?0:0.5>m?h/(2*m):h/(2-2*\n",
       "m),l:m,toString:ra}};a.parsePathString=function(c){if(!c)return null;var b=a.path(c);if(b.arr)return a.path.clone(b.arr);var m={a:7,c:6,o:2,h:1,l:2,m:2,r:4,q:4,s:4,t:2,v:1,u:3,z:0},e=[];y(c,\"array\")&&y(c[0],\"array\")&&(e=a.path.clone(c));e.length||J(c).replace(W,function(c,a,b){var h=[];c=a.toLowerCase();b.replace(Z,function(c,a){a&&h.push(+a)});\"m\"==c&&2<h.length&&(e.push([a].concat(h.splice(0,2))),c=\"l\",a=\"m\"==a?\"l\":\"L\");\"o\"==c&&1==h.length&&e.push([a,h[0] ]);if(\"r\"==c)e.push([a].concat(h));else for(;h.length>=\n",
       "m[c]&&(e.push([a].concat(h.splice(0,m[c]))),m[c]););});e.toString=a.path.toString;b.arr=a.path.clone(e);return e};var O=a.parseTransformString=function(c){if(!c)return null;var b=[];y(c,\"array\")&&y(c[0],\"array\")&&(b=a.path.clone(c));b.length||J(c).replace(ma,function(c,a,m){var e=[];a.toLowerCase();m.replace(Z,function(c,a){a&&e.push(+a)});b.push([a].concat(e))});b.toString=a.path.toString;return b};a._.svgTransform2string=d;a._.rgTransform=RegExp(\"^[a-z][\\t\\n\\x0B\\f\\r \\u00a0\\u1680\\u180e\\u2000\\u2001\\u2002\\u2003\\u2004\\u2005\\u2006\\u2007\\u2008\\u2009\\u200a\\u202f\\u205f\\u3000\\u2028\\u2029]*-?\\\\.?\\\\d\",\n",
       "\"i\");a._.transform2matrix=f;a._unit2px=b;a._.getSomeDefs=u;a._.getSomeSVG=p;a.select=function(c){return x(G.doc.querySelector(c))};a.selectAll=function(c){c=G.doc.querySelectorAll(c);for(var b=(a.set||Array)(),m=0;m<c.length;m++)b.push(x(c[m]));return b};setInterval(function(){for(var c in E)if(E[h](c)){var a=E[c],b=a.node;(\"svg\"!=a.type&&!b.ownerSVGElement||\"svg\"==a.type&&(!b.parentNode||\"ownerSVGElement\"in b.parentNode&&!b.ownerSVGElement))&&delete E[c]}},1E4);(function(c){function m(c){function a(c,\n",
       "b){var m=v(c.node,b);(m=(m=m&&m.match(d))&&m[2])&&\"#\"==m.charAt()&&(m=m.substring(1))&&(f[m]=(f[m]||[]).concat(function(a){var m={};m[b]=ca(a);v(c.node,m)}))}function b(c){var a=v(c.node,\"xlink:href\");a&&\"#\"==a.charAt()&&(a=a.substring(1))&&(f[a]=(f[a]||[]).concat(function(a){c.attr(\"xlink:href\",\"#\"+a)}))}var e=c.selectAll(\"*\"),h,d=/^\\s*url\\((\"|'|)(.*)\\1\\)\\s*$/;c=[];for(var f={},l=0,E=e.length;l<E;l++){h=e[l];a(h,\"fill\");a(h,\"stroke\");a(h,\"filter\");a(h,\"mask\");a(h,\"clip-path\");b(h);var t=v(h.node,\n",
       "\"id\");t&&(v(h.node,{id:h.id}),c.push({old:t,id:h.id}))}l=0;for(E=c.length;l<E;l++)if(e=f[c[l].old])for(h=0,t=e.length;h<t;h++)e[h](c[l].id)}function e(c,a,b){return function(m){m=m.slice(c,a);1==m.length&&(m=m[0]);return b?b(m):m}}function d(c){return function(){var a=c?\"<\"+this.type:\"\",b=this.node.attributes,m=this.node.childNodes;if(c)for(var e=0,h=b.length;e<h;e++)a+=\" \"+b[e].name+'=\"'+b[e].value.replace(/\"/g,'\\\\\"')+'\"';if(m.length){c&&(a+=\">\");e=0;for(h=m.length;e<h;e++)3==m[e].nodeType?a+=m[e].nodeValue:\n",
       "1==m[e].nodeType&&(a+=x(m[e]).toString());c&&(a+=\"</\"+this.type+\">\")}else c&&(a+=\"/>\");return a}}c.attr=function(c,a){if(!c)return this;if(y(c,\"string\"))if(1<arguments.length){var b={};b[c]=a;c=b}else return k(\"snap.util.getattr.\"+c,this).firstDefined();for(var m in c)c[h](m)&&k(\"snap.util.attr.\"+m,this,c[m]);return this};c.getBBox=function(c){if(!a.Matrix||!a.path)return this.node.getBBox();var b=this,m=new a.Matrix;if(b.removed)return a._.box();for(;\"use\"==b.type;)if(c||(m=m.add(b.transform().localMatrix.translate(b.attr(\"x\")||\n",
       "0,b.attr(\"y\")||0))),b.original)b=b.original;else var e=b.attr(\"xlink:href\"),b=b.original=b.node.ownerDocument.getElementById(e.substring(e.indexOf(\"#\")+1));var e=b._,h=a.path.get[b.type]||a.path.get.deflt;try{if(c)return e.bboxwt=h?a.path.getBBox(b.realPath=h(b)):a._.box(b.node.getBBox()),a._.box(e.bboxwt);b.realPath=h(b);b.matrix=b.transform().localMatrix;e.bbox=a.path.getBBox(a.path.map(b.realPath,m.add(b.matrix)));return a._.box(e.bbox)}catch(d){return a._.box()}};var f=function(){return this.string};\n",
       "c.transform=function(c){var b=this._;if(null==c){var m=this;c=new a.Matrix(this.node.getCTM());for(var e=n(this),h=[e],d=new a.Matrix,l=e.toTransformString(),b=J(e)==J(this.matrix)?J(b.transform):l;\"svg\"!=m.type&&(m=m.parent());)h.push(n(m));for(m=h.length;m--;)d.add(h[m]);return{string:b,globalMatrix:c,totalMatrix:d,localMatrix:e,diffMatrix:c.clone().add(e.invert()),global:c.toTransformString(),total:d.toTransformString(),local:l,toString:f}}c instanceof a.Matrix?this.matrix=c:n(this,c);this.node&&\n",
       "(\"linearGradient\"==this.type||\"radialGradient\"==this.type?v(this.node,{gradientTransform:this.matrix}):\"pattern\"==this.type?v(this.node,{patternTransform:this.matrix}):v(this.node,{transform:this.matrix}));return this};c.parent=function(){return x(this.node.parentNode)};c.append=c.add=function(c){if(c){if(\"set\"==c.type){var a=this;c.forEach(function(c){a.add(c)});return this}c=x(c);this.node.appendChild(c.node);c.paper=this.paper}return this};c.appendTo=function(c){c&&(c=x(c),c.append(this));return this};\n",
       "c.prepend=function(c){if(c){if(\"set\"==c.type){var a=this,b;c.forEach(function(c){b?b.after(c):a.prepend(c);b=c});return this}c=x(c);var m=c.parent();this.node.insertBefore(c.node,this.node.firstChild);this.add&&this.add();c.paper=this.paper;this.parent()&&this.parent().add();m&&m.add()}return this};c.prependTo=function(c){c=x(c);c.prepend(this);return this};c.before=function(c){if(\"set\"==c.type){var a=this;c.forEach(function(c){var b=c.parent();a.node.parentNode.insertBefore(c.node,a.node);b&&b.add()});\n",
       "this.parent().add();return this}c=x(c);var b=c.parent();this.node.parentNode.insertBefore(c.node,this.node);this.parent()&&this.parent().add();b&&b.add();c.paper=this.paper;return this};c.after=function(c){c=x(c);var a=c.parent();this.node.nextSibling?this.node.parentNode.insertBefore(c.node,this.node.nextSibling):this.node.parentNode.appendChild(c.node);this.parent()&&this.parent().add();a&&a.add();c.paper=this.paper;return this};c.insertBefore=function(c){c=x(c);var a=this.parent();c.node.parentNode.insertBefore(this.node,\n",
       "c.node);this.paper=c.paper;a&&a.add();c.parent()&&c.parent().add();return this};c.insertAfter=function(c){c=x(c);var a=this.parent();c.node.parentNode.insertBefore(this.node,c.node.nextSibling);this.paper=c.paper;a&&a.add();c.parent()&&c.parent().add();return this};c.remove=function(){var c=this.parent();this.node.parentNode&&this.node.parentNode.removeChild(this.node);delete this.paper;this.removed=!0;c&&c.add();return this};c.select=function(c){return x(this.node.querySelector(c))};c.selectAll=\n",
       "function(c){c=this.node.querySelectorAll(c);for(var b=(a.set||Array)(),m=0;m<c.length;m++)b.push(x(c[m]));return b};c.asPX=function(c,a){null==a&&(a=this.attr(c));return+b(this,c,a)};c.use=function(){var c,a=this.node.id;a||(a=this.id,v(this.node,{id:a}));c=\"linearGradient\"==this.type||\"radialGradient\"==this.type||\"pattern\"==this.type?r(this.type,this.node.parentNode):r(\"use\",this.node.parentNode);v(c.node,{\"xlink:href\":\"#\"+a});c.original=this;return c};var l=/\\S+/g;c.addClass=function(c){var a=(c||\n",
       "\"\").match(l)||[];c=this.node;var b=c.className.baseVal,m=b.match(l)||[],e,h,d;if(a.length){for(e=0;d=a[e++];)h=m.indexOf(d),~h||m.push(d);a=m.join(\" \");b!=a&&(c.className.baseVal=a)}return this};c.removeClass=function(c){var a=(c||\"\").match(l)||[];c=this.node;var b=c.className.baseVal,m=b.match(l)||[],e,h;if(m.length){for(e=0;h=a[e++];)h=m.indexOf(h),~h&&m.splice(h,1);a=m.join(\" \");b!=a&&(c.className.baseVal=a)}return this};c.hasClass=function(c){return!!~(this.node.className.baseVal.match(l)||[]).indexOf(c)};\n",
       "c.toggleClass=function(c,a){if(null!=a)return a?this.addClass(c):this.removeClass(c);var b=(c||\"\").match(l)||[],m=this.node,e=m.className.baseVal,h=e.match(l)||[],d,f,E;for(d=0;E=b[d++];)f=h.indexOf(E),~f?h.splice(f,1):h.push(E);b=h.join(\" \");e!=b&&(m.className.baseVal=b);return this};c.clone=function(){var c=x(this.node.cloneNode(!0));v(c.node,\"id\")&&v(c.node,{id:c.id});m(c);c.insertAfter(this);return c};c.toDefs=function(){u(this).appendChild(this.node);return this};c.pattern=c.toPattern=function(c,\n",
       "a,b,m){var e=r(\"pattern\",u(this));null==c&&(c=this.getBBox());y(c,\"object\")&&\"x\"in c&&(a=c.y,b=c.width,m=c.height,c=c.x);v(e.node,{x:c,y:a,width:b,height:m,patternUnits:\"userSpaceOnUse\",id:e.id,viewBox:[c,a,b,m].join(\" \")});e.node.appendChild(this.node);return e};c.marker=function(c,a,b,m,e,h){var d=r(\"marker\",u(this));null==c&&(c=this.getBBox());y(c,\"object\")&&\"x\"in c&&(a=c.y,b=c.width,m=c.height,e=c.refX||c.cx,h=c.refY||c.cy,c=c.x);v(d.node,{viewBox:[c,a,b,m].join(\" \"),markerWidth:b,markerHeight:m,\n",
       "orient:\"auto\",refX:e||0,refY:h||0,id:d.id});d.node.appendChild(this.node);return d};var E=function(c,a,b,m){\"function\"!=typeof b||b.length||(m=b,b=L.linear);this.attr=c;this.dur=a;b&&(this.easing=b);m&&(this.callback=m)};a._.Animation=E;a.animation=function(c,a,b,m){return new E(c,a,b,m)};c.inAnim=function(){var c=[],a;for(a in this.anims)this.anims[h](a)&&function(a){c.push({anim:new E(a._attrs,a.dur,a.easing,a._callback),mina:a,curStatus:a.status(),status:function(c){return a.status(c)},stop:function(){a.stop()}})}(this.anims[a]);\n",
       "return c};a.animate=function(c,a,b,m,e,h){\"function\"!=typeof e||e.length||(h=e,e=L.linear);var d=L.time();c=L(c,a,d,d+m,L.time,b,e);h&&k.once(\"mina.finish.\"+c.id,h);return c};c.stop=function(){for(var c=this.inAnim(),a=0,b=c.length;a<b;a++)c[a].stop();return this};c.animate=function(c,a,b,m){\"function\"!=typeof b||b.length||(m=b,b=L.linear);c instanceof E&&(m=c.callback,b=c.easing,a=b.dur,c=c.attr);var d=[],f=[],l={},t,ca,n,T=this,q;for(q in c)if(c[h](q)){T.equal?(n=T.equal(q,J(c[q])),t=n.from,ca=\n",
       "n.to,n=n.f):(t=+T.attr(q),ca=+c[q]);var la=y(t,\"array\")?t.length:1;l[q]=e(d.length,d.length+la,n);d=d.concat(t);f=f.concat(ca)}t=L.time();var p=L(d,f,t,t+a,L.time,function(c){var a={},b;for(b in l)l[h](b)&&(a[b]=l[b](c));T.attr(a)},b);T.anims[p.id]=p;p._attrs=c;p._callback=m;k(\"snap.animcreated.\"+T.id,p);k.once(\"mina.finish.\"+p.id,function(){delete T.anims[p.id];m&&m.call(T)});k.once(\"mina.stop.\"+p.id,function(){delete T.anims[p.id]});return T};var T={};c.data=function(c,b){var m=T[this.id]=T[this.id]||\n",
       "{};if(0==arguments.length)return k(\"snap.data.get.\"+this.id,this,m,null),m;if(1==arguments.length){if(a.is(c,\"object\")){for(var e in c)c[h](e)&&this.data(e,c[e]);return this}k(\"snap.data.get.\"+this.id,this,m[c],c);return m[c]}m[c]=b;k(\"snap.data.set.\"+this.id,this,b,c);return this};c.removeData=function(c){null==c?T[this.id]={}:T[this.id]&&delete T[this.id][c];return this};c.outerSVG=c.toString=d(1);c.innerSVG=d()})(e.prototype);a.parse=function(c){var a=G.doc.createDocumentFragment(),b=!0,m=G.doc.createElement(\"div\");\n",
       "c=J(c);c.match(/^\\s*<\\s*svg(?:\\s|>)/)||(c=\"<svg>\"+c+\"</svg>\",b=!1);m.innerHTML=c;if(c=m.getElementsByTagName(\"svg\")[0])if(b)a=c;else for(;c.firstChild;)a.appendChild(c.firstChild);m.innerHTML=aa;return new l(a)};l.prototype.select=e.prototype.select;l.prototype.selectAll=e.prototype.selectAll;a.fragment=function(){for(var c=Array.prototype.slice.call(arguments,0),b=G.doc.createDocumentFragment(),m=0,e=c.length;m<e;m++){var h=c[m];h.node&&h.node.nodeType&&b.appendChild(h.node);h.nodeType&&b.appendChild(h);\n",
       "\"string\"==typeof h&&b.appendChild(a.parse(h).node)}return new l(b)};a._.make=r;a._.wrap=x;s.prototype.el=function(c,a){var b=r(c,this.node);a&&b.attr(a);return b};k.on(\"snap.util.getattr\",function(){var c=k.nt(),c=c.substring(c.lastIndexOf(\".\")+1),a=c.replace(/[A-Z]/g,function(c){return\"-\"+c.toLowerCase()});return pa[h](a)?this.node.ownerDocument.defaultView.getComputedStyle(this.node,null).getPropertyValue(a):v(this.node,c)});var pa={\"alignment-baseline\":0,\"baseline-shift\":0,clip:0,\"clip-path\":0,\n",
       "\"clip-rule\":0,color:0,\"color-interpolation\":0,\"color-interpolation-filters\":0,\"color-profile\":0,\"color-rendering\":0,cursor:0,direction:0,display:0,\"dominant-baseline\":0,\"enable-background\":0,fill:0,\"fill-opacity\":0,\"fill-rule\":0,filter:0,\"flood-color\":0,\"flood-opacity\":0,font:0,\"font-family\":0,\"font-size\":0,\"font-size-adjust\":0,\"font-stretch\":0,\"font-style\":0,\"font-variant\":0,\"font-weight\":0,\"glyph-orientation-horizontal\":0,\"glyph-orientation-vertical\":0,\"image-rendering\":0,kerning:0,\"letter-spacing\":0,\n",
       "\"lighting-color\":0,marker:0,\"marker-end\":0,\"marker-mid\":0,\"marker-start\":0,mask:0,opacity:0,overflow:0,\"pointer-events\":0,\"shape-rendering\":0,\"stop-color\":0,\"stop-opacity\":0,stroke:0,\"stroke-dasharray\":0,\"stroke-dashoffset\":0,\"stroke-linecap\":0,\"stroke-linejoin\":0,\"stroke-miterlimit\":0,\"stroke-opacity\":0,\"stroke-width\":0,\"text-anchor\":0,\"text-decoration\":0,\"text-rendering\":0,\"unicode-bidi\":0,visibility:0,\"word-spacing\":0,\"writing-mode\":0};k.on(\"snap.util.attr\",function(c){var a=k.nt(),b={},a=a.substring(a.lastIndexOf(\".\")+\n",
       "1);b[a]=c;var m=a.replace(/-(\\w)/gi,function(c,a){return a.toUpperCase()}),a=a.replace(/[A-Z]/g,function(c){return\"-\"+c.toLowerCase()});pa[h](a)?this.node.style[m]=null==c?aa:c:v(this.node,b)});a.ajax=function(c,a,b,m){var e=new XMLHttpRequest,h=V();if(e){if(y(a,\"function\"))m=b,b=a,a=null;else if(y(a,\"object\")){var d=[],f;for(f in a)a.hasOwnProperty(f)&&d.push(encodeURIComponent(f)+\"=\"+encodeURIComponent(a[f]));a=d.join(\"&\")}e.open(a?\"POST\":\"GET\",c,!0);a&&(e.setRequestHeader(\"X-Requested-With\",\"XMLHttpRequest\"),\n",
       "e.setRequestHeader(\"Content-type\",\"application/x-www-form-urlencoded\"));b&&(k.once(\"snap.ajax.\"+h+\".0\",b),k.once(\"snap.ajax.\"+h+\".200\",b),k.once(\"snap.ajax.\"+h+\".304\",b));e.onreadystatechange=function(){4==e.readyState&&k(\"snap.ajax.\"+h+\".\"+e.status,m,e)};if(4==e.readyState)return e;e.send(a);return e}};a.load=function(c,b,m){a.ajax(c,function(c){c=a.parse(c.responseText);m?b.call(m,c):b(c)})};a.getElementByPoint=function(c,a){var b,m,e=G.doc.elementFromPoint(c,a);if(G.win.opera&&\"svg\"==e.tagName){b=\n",
       "e;m=b.getBoundingClientRect();b=b.ownerDocument;var h=b.body,d=b.documentElement;b=m.top+(g.win.pageYOffset||d.scrollTop||h.scrollTop)-(d.clientTop||h.clientTop||0);m=m.left+(g.win.pageXOffset||d.scrollLeft||h.scrollLeft)-(d.clientLeft||h.clientLeft||0);h=e.createSVGRect();h.x=c-m;h.y=a-b;h.width=h.height=1;b=e.getIntersectionList(h,null);b.length&&(e=b[b.length-1])}return e?x(e):null};a.plugin=function(c){c(a,e,s,G,l)};return G.win.Snap=a}();C.plugin(function(a,k,y,M,A){function w(a,d,f,b,q,e){null==\n",
       "d&&\"[object SVGMatrix]\"==z.call(a)?(this.a=a.a,this.b=a.b,this.c=a.c,this.d=a.d,this.e=a.e,this.f=a.f):null!=a?(this.a=+a,this.b=+d,this.c=+f,this.d=+b,this.e=+q,this.f=+e):(this.a=1,this.c=this.b=0,this.d=1,this.f=this.e=0)}var z=Object.prototype.toString,d=String,f=Math;(function(n){function k(a){return a[0]*a[0]+a[1]*a[1]}function p(a){var d=f.sqrt(k(a));a[0]&&(a[0]/=d);a[1]&&(a[1]/=d)}n.add=function(a,d,e,f,n,p){var k=[[],[],[] ],u=[[this.a,this.c,this.e],[this.b,this.d,this.f],[0,0,1] ];d=[[a,\n",
       "e,n],[d,f,p],[0,0,1] ];a&&a instanceof w&&(d=[[a.a,a.c,a.e],[a.b,a.d,a.f],[0,0,1] ]);for(a=0;3>a;a++)for(e=0;3>e;e++){for(f=n=0;3>f;f++)n+=u[a][f]*d[f][e];k[a][e]=n}this.a=k[0][0];this.b=k[1][0];this.c=k[0][1];this.d=k[1][1];this.e=k[0][2];this.f=k[1][2];return this};n.invert=function(){var a=this.a*this.d-this.b*this.c;return new w(this.d/a,-this.b/a,-this.c/a,this.a/a,(this.c*this.f-this.d*this.e)/a,(this.b*this.e-this.a*this.f)/a)};n.clone=function(){return new w(this.a,this.b,this.c,this.d,this.e,\n",
       "this.f)};n.translate=function(a,d){return this.add(1,0,0,1,a,d)};n.scale=function(a,d,e,f){null==d&&(d=a);(e||f)&&this.add(1,0,0,1,e,f);this.add(a,0,0,d,0,0);(e||f)&&this.add(1,0,0,1,-e,-f);return this};n.rotate=function(b,d,e){b=a.rad(b);d=d||0;e=e||0;var l=+f.cos(b).toFixed(9);b=+f.sin(b).toFixed(9);this.add(l,b,-b,l,d,e);return this.add(1,0,0,1,-d,-e)};n.x=function(a,d){return a*this.a+d*this.c+this.e};n.y=function(a,d){return a*this.b+d*this.d+this.f};n.get=function(a){return+this[d.fromCharCode(97+\n",
       "a)].toFixed(4)};n.toString=function(){return\"matrix(\"+[this.get(0),this.get(1),this.get(2),this.get(3),this.get(4),this.get(5)].join()+\")\"};n.offset=function(){return[this.e.toFixed(4),this.f.toFixed(4)]};n.determinant=function(){return this.a*this.d-this.b*this.c};n.split=function(){var b={};b.dx=this.e;b.dy=this.f;var d=[[this.a,this.c],[this.b,this.d] ];b.scalex=f.sqrt(k(d[0]));p(d[0]);b.shear=d[0][0]*d[1][0]+d[0][1]*d[1][1];d[1]=[d[1][0]-d[0][0]*b.shear,d[1][1]-d[0][1]*b.shear];b.scaley=f.sqrt(k(d[1]));\n",
       "p(d[1]);b.shear/=b.scaley;0>this.determinant()&&(b.scalex=-b.scalex);var e=-d[0][1],d=d[1][1];0>d?(b.rotate=a.deg(f.acos(d)),0>e&&(b.rotate=360-b.rotate)):b.rotate=a.deg(f.asin(e));b.isSimple=!+b.shear.toFixed(9)&&(b.scalex.toFixed(9)==b.scaley.toFixed(9)||!b.rotate);b.isSuperSimple=!+b.shear.toFixed(9)&&b.scalex.toFixed(9)==b.scaley.toFixed(9)&&!b.rotate;b.noRotation=!+b.shear.toFixed(9)&&!b.rotate;return b};n.toTransformString=function(a){a=a||this.split();if(+a.shear.toFixed(9))return\"m\"+[this.get(0),\n",
       "this.get(1),this.get(2),this.get(3),this.get(4),this.get(5)];a.scalex=+a.scalex.toFixed(4);a.scaley=+a.scaley.toFixed(4);a.rotate=+a.rotate.toFixed(4);return(a.dx||a.dy?\"t\"+[+a.dx.toFixed(4),+a.dy.toFixed(4)]:\"\")+(1!=a.scalex||1!=a.scaley?\"s\"+[a.scalex,a.scaley,0,0]:\"\")+(a.rotate?\"r\"+[+a.rotate.toFixed(4),0,0]:\"\")}})(w.prototype);a.Matrix=w;a.matrix=function(a,d,f,b,k,e){return new w(a,d,f,b,k,e)}});C.plugin(function(a,v,y,M,A){function w(h){return function(d){k.stop();d instanceof A&&1==d.node.childNodes.length&&\n",
       "(\"radialGradient\"==d.node.firstChild.tagName||\"linearGradient\"==d.node.firstChild.tagName||\"pattern\"==d.node.firstChild.tagName)&&(d=d.node.firstChild,b(this).appendChild(d),d=u(d));if(d instanceof v)if(\"radialGradient\"==d.type||\"linearGradient\"==d.type||\"pattern\"==d.type){d.node.id||e(d.node,{id:d.id});var f=l(d.node.id)}else f=d.attr(h);else f=a.color(d),f.error?(f=a(b(this).ownerSVGElement).gradient(d))?(f.node.id||e(f.node,{id:f.id}),f=l(f.node.id)):f=d:f=r(f);d={};d[h]=f;e(this.node,d);this.node.style[h]=\n",
       "x}}function z(a){k.stop();a==+a&&(a+=\"px\");this.node.style.fontSize=a}function d(a){var b=[];a=a.childNodes;for(var e=0,f=a.length;e<f;e++){var l=a[e];3==l.nodeType&&b.push(l.nodeValue);\"tspan\"==l.tagName&&(1==l.childNodes.length&&3==l.firstChild.nodeType?b.push(l.firstChild.nodeValue):b.push(d(l)))}return b}function f(){k.stop();return this.node.style.fontSize}var n=a._.make,u=a._.wrap,p=a.is,b=a._.getSomeDefs,q=/^url\\(#?([^)]+)\\)$/,e=a._.$,l=a.url,r=String,s=a._.separator,x=\"\";k.on(\"snap.util.attr.mask\",\n",
       "function(a){if(a instanceof v||a instanceof A){k.stop();a instanceof A&&1==a.node.childNodes.length&&(a=a.node.firstChild,b(this).appendChild(a),a=u(a));if(\"mask\"==a.type)var d=a;else d=n(\"mask\",b(this)),d.node.appendChild(a.node);!d.node.id&&e(d.node,{id:d.id});e(this.node,{mask:l(d.id)})}});(function(a){k.on(\"snap.util.attr.clip\",a);k.on(\"snap.util.attr.clip-path\",a);k.on(\"snap.util.attr.clipPath\",a)})(function(a){if(a instanceof v||a instanceof A){k.stop();if(\"clipPath\"==a.type)var d=a;else d=\n",
       "n(\"clipPath\",b(this)),d.node.appendChild(a.node),!d.node.id&&e(d.node,{id:d.id});e(this.node,{\"clip-path\":l(d.id)})}});k.on(\"snap.util.attr.fill\",w(\"fill\"));k.on(\"snap.util.attr.stroke\",w(\"stroke\"));var G=/^([lr])(?:\\(([^)]*)\\))?(.*)$/i;k.on(\"snap.util.grad.parse\",function(a){a=r(a);var b=a.match(G);if(!b)return null;a=b[1];var e=b[2],b=b[3],e=e.split(/\\s*,\\s*/).map(function(a){return+a==a?+a:a});1==e.length&&0==e[0]&&(e=[]);b=b.split(\"-\");b=b.map(function(a){a=a.split(\":\");var b={color:a[0]};a[1]&&\n",
       "(b.offset=parseFloat(a[1]));return b});return{type:a,params:e,stops:b}});k.on(\"snap.util.attr.d\",function(b){k.stop();p(b,\"array\")&&p(b[0],\"array\")&&(b=a.path.toString.call(b));b=r(b);b.match(/[ruo]/i)&&(b=a.path.toAbsolute(b));e(this.node,{d:b})})(-1);k.on(\"snap.util.attr.#text\",function(a){k.stop();a=r(a);for(a=M.doc.createTextNode(a);this.node.firstChild;)this.node.removeChild(this.node.firstChild);this.node.appendChild(a)})(-1);k.on(\"snap.util.attr.path\",function(a){k.stop();this.attr({d:a})})(-1);\n",
       "k.on(\"snap.util.attr.class\",function(a){k.stop();this.node.className.baseVal=a})(-1);k.on(\"snap.util.attr.viewBox\",function(a){a=p(a,\"object\")&&\"x\"in a?[a.x,a.y,a.width,a.height].join(\" \"):p(a,\"array\")?a.join(\" \"):a;e(this.node,{viewBox:a});k.stop()})(-1);k.on(\"snap.util.attr.transform\",function(a){this.transform(a);k.stop()})(-1);k.on(\"snap.util.attr.r\",function(a){\"rect\"==this.type&&(k.stop(),e(this.node,{rx:a,ry:a}))})(-1);k.on(\"snap.util.attr.textpath\",function(a){k.stop();if(\"text\"==this.type){var d,\n",
       "f;if(!a&&this.textPath){for(a=this.textPath;a.node.firstChild;)this.node.appendChild(a.node.firstChild);a.remove();delete this.textPath}else if(p(a,\"string\")?(d=b(this),a=u(d.parentNode).path(a),d.appendChild(a.node),d=a.id,a.attr({id:d})):(a=u(a),a instanceof v&&(d=a.attr(\"id\"),d||(d=a.id,a.attr({id:d})))),d)if(a=this.textPath,f=this.node,a)a.attr({\"xlink:href\":\"#\"+d});else{for(a=e(\"textPath\",{\"xlink:href\":\"#\"+d});f.firstChild;)a.appendChild(f.firstChild);f.appendChild(a);this.textPath=u(a)}}})(-1);\n",
       "k.on(\"snap.util.attr.text\",function(a){if(\"text\"==this.type){for(var b=this.node,d=function(a){var b=e(\"tspan\");if(p(a,\"array\"))for(var f=0;f<a.length;f++)b.appendChild(d(a[f]));else b.appendChild(M.doc.createTextNode(a));b.normalize&&b.normalize();return b};b.firstChild;)b.removeChild(b.firstChild);for(a=d(a);a.firstChild;)b.appendChild(a.firstChild)}k.stop()})(-1);k.on(\"snap.util.attr.fontSize\",z)(-1);k.on(\"snap.util.attr.font-size\",z)(-1);k.on(\"snap.util.getattr.transform\",function(){k.stop();\n",
       "return this.transform()})(-1);k.on(\"snap.util.getattr.textpath\",function(){k.stop();return this.textPath})(-1);(function(){function b(d){return function(){k.stop();var b=M.doc.defaultView.getComputedStyle(this.node,null).getPropertyValue(\"marker-\"+d);return\"none\"==b?b:a(M.doc.getElementById(b.match(q)[1]))}}function d(a){return function(b){k.stop();var d=\"marker\"+a.charAt(0).toUpperCase()+a.substring(1);if(\"\"==b||!b)this.node.style[d]=\"none\";else if(\"marker\"==b.type){var f=b.node.id;f||e(b.node,{id:b.id});\n",
       "this.node.style[d]=l(f)}}}k.on(\"snap.util.getattr.marker-end\",b(\"end\"))(-1);k.on(\"snap.util.getattr.markerEnd\",b(\"end\"))(-1);k.on(\"snap.util.getattr.marker-start\",b(\"start\"))(-1);k.on(\"snap.util.getattr.markerStart\",b(\"start\"))(-1);k.on(\"snap.util.getattr.marker-mid\",b(\"mid\"))(-1);k.on(\"snap.util.getattr.markerMid\",b(\"mid\"))(-1);k.on(\"snap.util.attr.marker-end\",d(\"end\"))(-1);k.on(\"snap.util.attr.markerEnd\",d(\"end\"))(-1);k.on(\"snap.util.attr.marker-start\",d(\"start\"))(-1);k.on(\"snap.util.attr.markerStart\",\n",
       "d(\"start\"))(-1);k.on(\"snap.util.attr.marker-mid\",d(\"mid\"))(-1);k.on(\"snap.util.attr.markerMid\",d(\"mid\"))(-1)})();k.on(\"snap.util.getattr.r\",function(){if(\"rect\"==this.type&&e(this.node,\"rx\")==e(this.node,\"ry\"))return k.stop(),e(this.node,\"rx\")})(-1);k.on(\"snap.util.getattr.text\",function(){if(\"text\"==this.type||\"tspan\"==this.type){k.stop();var a=d(this.node);return 1==a.length?a[0]:a}})(-1);k.on(\"snap.util.getattr.#text\",function(){return this.node.textContent})(-1);k.on(\"snap.util.getattr.viewBox\",\n",
       "function(){k.stop();var b=e(this.node,\"viewBox\");if(b)return b=b.split(s),a._.box(+b[0],+b[1],+b[2],+b[3])})(-1);k.on(\"snap.util.getattr.points\",function(){var a=e(this.node,\"points\");k.stop();if(a)return a.split(s)})(-1);k.on(\"snap.util.getattr.path\",function(){var a=e(this.node,\"d\");k.stop();return a})(-1);k.on(\"snap.util.getattr.class\",function(){return this.node.className.baseVal})(-1);k.on(\"snap.util.getattr.fontSize\",f)(-1);k.on(\"snap.util.getattr.font-size\",f)(-1)});C.plugin(function(a,v,y,\n",
       "M,A){function w(a){return a}function z(a){return function(b){return+b.toFixed(3)+a}}var d={\"+\":function(a,b){return a+b},\"-\":function(a,b){return a-b},\"/\":function(a,b){return a/b},\"*\":function(a,b){return a*b}},f=String,n=/[a-z]+$/i,u=/^\\s*([+\\-\\/*])\\s*=\\s*([\\d.eE+\\-]+)\\s*([^\\d\\s]+)?\\s*$/;k.on(\"snap.util.attr\",function(a){if(a=f(a).match(u)){var b=k.nt(),b=b.substring(b.lastIndexOf(\".\")+1),q=this.attr(b),e={};k.stop();var l=a[3]||\"\",r=q.match(n),s=d[a[1] ];r&&r==l?a=s(parseFloat(q),+a[2]):(q=this.asPX(b),\n",
       "a=s(this.asPX(b),this.asPX(b,a[2]+l)));isNaN(q)||isNaN(a)||(e[b]=a,this.attr(e))}})(-10);k.on(\"snap.util.equal\",function(a,b){var q=f(this.attr(a)||\"\"),e=f(b).match(u);if(e){k.stop();var l=e[3]||\"\",r=q.match(n),s=d[e[1] ];if(r&&r==l)return{from:parseFloat(q),to:s(parseFloat(q),+e[2]),f:z(r)};q=this.asPX(a);return{from:q,to:s(q,this.asPX(a,e[2]+l)),f:w}}})(-10)});C.plugin(function(a,v,y,M,A){var w=y.prototype,z=a.is;w.rect=function(a,d,k,p,b,q){var e;null==q&&(q=b);z(a,\"object\")&&\"[object Object]\"==\n",
       "a?e=a:null!=a&&(e={x:a,y:d,width:k,height:p},null!=b&&(e.rx=b,e.ry=q));return this.el(\"rect\",e)};w.circle=function(a,d,k){var p;z(a,\"object\")&&\"[object Object]\"==a?p=a:null!=a&&(p={cx:a,cy:d,r:k});return this.el(\"circle\",p)};var d=function(){function a(){this.parentNode.removeChild(this)}return function(d,k){var p=M.doc.createElement(\"img\"),b=M.doc.body;p.style.cssText=\"position:absolute;left:-9999em;top:-9999em\";p.onload=function(){k.call(p);p.onload=p.onerror=null;b.removeChild(p)};p.onerror=a;\n",
       "b.appendChild(p);p.src=d}}();w.image=function(f,n,k,p,b){var q=this.el(\"image\");if(z(f,\"object\")&&\"src\"in f)q.attr(f);else if(null!=f){var e={\"xlink:href\":f,preserveAspectRatio:\"none\"};null!=n&&null!=k&&(e.x=n,e.y=k);null!=p&&null!=b?(e.width=p,e.height=b):d(f,function(){a._.$(q.node,{width:this.offsetWidth,height:this.offsetHeight})});a._.$(q.node,e)}return q};w.ellipse=function(a,d,k,p){var b;z(a,\"object\")&&\"[object Object]\"==a?b=a:null!=a&&(b={cx:a,cy:d,rx:k,ry:p});return this.el(\"ellipse\",b)};\n",
       "w.path=function(a){var d;z(a,\"object\")&&!z(a,\"array\")?d=a:a&&(d={d:a});return this.el(\"path\",d)};w.group=w.g=function(a){var d=this.el(\"g\");1==arguments.length&&a&&!a.type?d.attr(a):arguments.length&&d.add(Array.prototype.slice.call(arguments,0));return d};w.svg=function(a,d,k,p,b,q,e,l){var r={};z(a,\"object\")&&null==d?r=a:(null!=a&&(r.x=a),null!=d&&(r.y=d),null!=k&&(r.width=k),null!=p&&(r.height=p),null!=b&&null!=q&&null!=e&&null!=l&&(r.viewBox=[b,q,e,l]));return this.el(\"svg\",r)};w.mask=function(a){var d=\n",
       "this.el(\"mask\");1==arguments.length&&a&&!a.type?d.attr(a):arguments.length&&d.add(Array.prototype.slice.call(arguments,0));return d};w.ptrn=function(a,d,k,p,b,q,e,l){if(z(a,\"object\"))var r=a;else arguments.length?(r={},null!=a&&(r.x=a),null!=d&&(r.y=d),null!=k&&(r.width=k),null!=p&&(r.height=p),null!=b&&null!=q&&null!=e&&null!=l&&(r.viewBox=[b,q,e,l])):r={patternUnits:\"userSpaceOnUse\"};return this.el(\"pattern\",r)};w.use=function(a){return null!=a?(make(\"use\",this.node),a instanceof v&&(a.attr(\"id\")||\n",
       "a.attr({id:ID()}),a=a.attr(\"id\")),this.el(\"use\",{\"xlink:href\":a})):v.prototype.use.call(this)};w.text=function(a,d,k){var p={};z(a,\"object\")?p=a:null!=a&&(p={x:a,y:d,text:k||\"\"});return this.el(\"text\",p)};w.line=function(a,d,k,p){var b={};z(a,\"object\")?b=a:null!=a&&(b={x1:a,x2:k,y1:d,y2:p});return this.el(\"line\",b)};w.polyline=function(a){1<arguments.length&&(a=Array.prototype.slice.call(arguments,0));var d={};z(a,\"object\")&&!z(a,\"array\")?d=a:null!=a&&(d={points:a});return this.el(\"polyline\",d)};\n",
       "w.polygon=function(a){1<arguments.length&&(a=Array.prototype.slice.call(arguments,0));var d={};z(a,\"object\")&&!z(a,\"array\")?d=a:null!=a&&(d={points:a});return this.el(\"polygon\",d)};(function(){function d(){return this.selectAll(\"stop\")}function n(b,d){var f=e(\"stop\"),k={offset:+d+\"%\"};b=a.color(b);k[\"stop-color\"]=b.hex;1>b.opacity&&(k[\"stop-opacity\"]=b.opacity);e(f,k);this.node.appendChild(f);return this}function u(){if(\"linearGradient\"==this.type){var b=e(this.node,\"x1\")||0,d=e(this.node,\"x2\")||\n",
       "1,f=e(this.node,\"y1\")||0,k=e(this.node,\"y2\")||0;return a._.box(b,f,math.abs(d-b),math.abs(k-f))}b=this.node.r||0;return a._.box((this.node.cx||0.5)-b,(this.node.cy||0.5)-b,2*b,2*b)}function p(a,d){function f(a,b){for(var d=(b-u)/(a-w),e=w;e<a;e++)h[e].offset=+(+u+d*(e-w)).toFixed(2);w=a;u=b}var n=k(\"snap.util.grad.parse\",null,d).firstDefined(),p;if(!n)return null;n.params.unshift(a);p=\"l\"==n.type.toLowerCase()?b.apply(0,n.params):q.apply(0,n.params);n.type!=n.type.toLowerCase()&&e(p.node,{gradientUnits:\"userSpaceOnUse\"});\n",
       "var h=n.stops,n=h.length,u=0,w=0;n--;for(var v=0;v<n;v++)\"offset\"in h[v]&&f(v,h[v].offset);h[n].offset=h[n].offset||100;f(n,h[n].offset);for(v=0;v<=n;v++){var y=h[v];p.addStop(y.color,y.offset)}return p}function b(b,k,p,q,w){b=a._.make(\"linearGradient\",b);b.stops=d;b.addStop=n;b.getBBox=u;null!=k&&e(b.node,{x1:k,y1:p,x2:q,y2:w});return b}function q(b,k,p,q,w,h){b=a._.make(\"radialGradient\",b);b.stops=d;b.addStop=n;b.getBBox=u;null!=k&&e(b.node,{cx:k,cy:p,r:q});null!=w&&null!=h&&e(b.node,{fx:w,fy:h});\n",
       "return b}var e=a._.$;w.gradient=function(a){return p(this.defs,a)};w.gradientLinear=function(a,d,e,f){return b(this.defs,a,d,e,f)};w.gradientRadial=function(a,b,d,e,f){return q(this.defs,a,b,d,e,f)};w.toString=function(){var b=this.node.ownerDocument,d=b.createDocumentFragment(),b=b.createElement(\"div\"),e=this.node.cloneNode(!0);d.appendChild(b);b.appendChild(e);a._.$(e,{xmlns:\"http://www.w3.org/2000/svg\"});b=b.innerHTML;d.removeChild(d.firstChild);return b};w.clear=function(){for(var a=this.node.firstChild,\n",
       "b;a;)b=a.nextSibling,\"defs\"!=a.tagName?a.parentNode.removeChild(a):w.clear.call({node:a}),a=b}})()});C.plugin(function(a,k,y,M){function A(a){var b=A.ps=A.ps||{};b[a]?b[a].sleep=100:b[a]={sleep:100};setTimeout(function(){for(var d in b)b[L](d)&&d!=a&&(b[d].sleep--,!b[d].sleep&&delete b[d])});return b[a]}function w(a,b,d,e){null==a&&(a=b=d=e=0);null==b&&(b=a.y,d=a.width,e=a.height,a=a.x);return{x:a,y:b,width:d,w:d,height:e,h:e,x2:a+d,y2:b+e,cx:a+d/2,cy:b+e/2,r1:F.min(d,e)/2,r2:F.max(d,e)/2,r0:F.sqrt(d*\n",
       "d+e*e)/2,path:s(a,b,d,e),vb:[a,b,d,e].join(\" \")}}function z(){return this.join(\",\").replace(N,\"$1\")}function d(a){a=C(a);a.toString=z;return a}function f(a,b,d,h,f,k,l,n,p){if(null==p)return e(a,b,d,h,f,k,l,n);if(0>p||e(a,b,d,h,f,k,l,n)<p)p=void 0;else{var q=0.5,O=1-q,s;for(s=e(a,b,d,h,f,k,l,n,O);0.01<Z(s-p);)q/=2,O+=(s<p?1:-1)*q,s=e(a,b,d,h,f,k,l,n,O);p=O}return u(a,b,d,h,f,k,l,n,p)}function n(b,d){function e(a){return+(+a).toFixed(3)}return a._.cacher(function(a,h,l){a instanceof k&&(a=a.attr(\"d\"));\n",
       "a=I(a);for(var n,p,D,q,O=\"\",s={},c=0,t=0,r=a.length;t<r;t++){D=a[t];if(\"M\"==D[0])n=+D[1],p=+D[2];else{q=f(n,p,D[1],D[2],D[3],D[4],D[5],D[6]);if(c+q>h){if(d&&!s.start){n=f(n,p,D[1],D[2],D[3],D[4],D[5],D[6],h-c);O+=[\"C\"+e(n.start.x),e(n.start.y),e(n.m.x),e(n.m.y),e(n.x),e(n.y)];if(l)return O;s.start=O;O=[\"M\"+e(n.x),e(n.y)+\"C\"+e(n.n.x),e(n.n.y),e(n.end.x),e(n.end.y),e(D[5]),e(D[6])].join();c+=q;n=+D[5];p=+D[6];continue}if(!b&&!d)return n=f(n,p,D[1],D[2],D[3],D[4],D[5],D[6],h-c)}c+=q;n=+D[5];p=+D[6]}O+=\n",
       "D.shift()+D}s.end=O;return n=b?c:d?s:u(n,p,D[0],D[1],D[2],D[3],D[4],D[5],1)},null,a._.clone)}function u(a,b,d,e,h,f,k,l,n){var p=1-n,q=ma(p,3),s=ma(p,2),c=n*n,t=c*n,r=q*a+3*s*n*d+3*p*n*n*h+t*k,q=q*b+3*s*n*e+3*p*n*n*f+t*l,s=a+2*n*(d-a)+c*(h-2*d+a),t=b+2*n*(e-b)+c*(f-2*e+b),x=d+2*n*(h-d)+c*(k-2*h+d),c=e+2*n*(f-e)+c*(l-2*f+e);a=p*a+n*d;b=p*b+n*e;h=p*h+n*k;f=p*f+n*l;l=90-180*F.atan2(s-x,t-c)/S;return{x:r,y:q,m:{x:s,y:t},n:{x:x,y:c},start:{x:a,y:b},end:{x:h,y:f},alpha:l}}function p(b,d,e,h,f,n,k,l){a.is(b,\n",
       "\"array\")||(b=[b,d,e,h,f,n,k,l]);b=U.apply(null,b);return w(b.min.x,b.min.y,b.max.x-b.min.x,b.max.y-b.min.y)}function b(a,b,d){return b>=a.x&&b<=a.x+a.width&&d>=a.y&&d<=a.y+a.height}function q(a,d){a=w(a);d=w(d);return b(d,a.x,a.y)||b(d,a.x2,a.y)||b(d,a.x,a.y2)||b(d,a.x2,a.y2)||b(a,d.x,d.y)||b(a,d.x2,d.y)||b(a,d.x,d.y2)||b(a,d.x2,d.y2)||(a.x<d.x2&&a.x>d.x||d.x<a.x2&&d.x>a.x)&&(a.y<d.y2&&a.y>d.y||d.y<a.y2&&d.y>a.y)}function e(a,b,d,e,h,f,n,k,l){null==l&&(l=1);l=(1<l?1:0>l?0:l)/2;for(var p=[-0.1252,\n",
       "0.1252,-0.3678,0.3678,-0.5873,0.5873,-0.7699,0.7699,-0.9041,0.9041,-0.9816,0.9816],q=[0.2491,0.2491,0.2335,0.2335,0.2032,0.2032,0.1601,0.1601,0.1069,0.1069,0.0472,0.0472],s=0,c=0;12>c;c++)var t=l*p[c]+l,r=t*(t*(-3*a+9*d-9*h+3*n)+6*a-12*d+6*h)-3*a+3*d,t=t*(t*(-3*b+9*e-9*f+3*k)+6*b-12*e+6*f)-3*b+3*e,s=s+q[c]*F.sqrt(r*r+t*t);return l*s}function l(a,b,d){a=I(a);b=I(b);for(var h,f,l,n,k,s,r,O,x,c,t=d?0:[],w=0,v=a.length;w<v;w++)if(x=a[w],\"M\"==x[0])h=k=x[1],f=s=x[2];else{\"C\"==x[0]?(x=[h,f].concat(x.slice(1)),\n",
       "h=x[6],f=x[7]):(x=[h,f,h,f,k,s,k,s],h=k,f=s);for(var G=0,y=b.length;G<y;G++)if(c=b[G],\"M\"==c[0])l=r=c[1],n=O=c[2];else{\"C\"==c[0]?(c=[l,n].concat(c.slice(1)),l=c[6],n=c[7]):(c=[l,n,l,n,r,O,r,O],l=r,n=O);var z;var K=x,B=c;z=d;var H=p(K),J=p(B);if(q(H,J)){for(var H=e.apply(0,K),J=e.apply(0,B),H=~~(H/8),J=~~(J/8),U=[],A=[],F={},M=z?0:[],P=0;P<H+1;P++){var C=u.apply(0,K.concat(P/H));U.push({x:C.x,y:C.y,t:P/H})}for(P=0;P<J+1;P++)C=u.apply(0,B.concat(P/J)),A.push({x:C.x,y:C.y,t:P/J});for(P=0;P<H;P++)for(K=\n",
       "0;K<J;K++){var Q=U[P],L=U[P+1],B=A[K],C=A[K+1],N=0.001>Z(L.x-Q.x)?\"y\":\"x\",S=0.001>Z(C.x-B.x)?\"y\":\"x\",R;R=Q.x;var Y=Q.y,V=L.x,ea=L.y,fa=B.x,ga=B.y,ha=C.x,ia=C.y;if(W(R,V)<X(fa,ha)||X(R,V)>W(fa,ha)||W(Y,ea)<X(ga,ia)||X(Y,ea)>W(ga,ia))R=void 0;else{var $=(R*ea-Y*V)*(fa-ha)-(R-V)*(fa*ia-ga*ha),aa=(R*ea-Y*V)*(ga-ia)-(Y-ea)*(fa*ia-ga*ha),ja=(R-V)*(ga-ia)-(Y-ea)*(fa-ha);if(ja){var $=$/ja,aa=aa/ja,ja=+$.toFixed(2),ba=+aa.toFixed(2);R=ja<+X(R,V).toFixed(2)||ja>+W(R,V).toFixed(2)||ja<+X(fa,ha).toFixed(2)||\n",
       "ja>+W(fa,ha).toFixed(2)||ba<+X(Y,ea).toFixed(2)||ba>+W(Y,ea).toFixed(2)||ba<+X(ga,ia).toFixed(2)||ba>+W(ga,ia).toFixed(2)?void 0:{x:$,y:aa}}else R=void 0}R&&F[R.x.toFixed(4)]!=R.y.toFixed(4)&&(F[R.x.toFixed(4)]=R.y.toFixed(4),Q=Q.t+Z((R[N]-Q[N])/(L[N]-Q[N]))*(L.t-Q.t),B=B.t+Z((R[S]-B[S])/(C[S]-B[S]))*(C.t-B.t),0<=Q&&1>=Q&&0<=B&&1>=B&&(z?M++:M.push({x:R.x,y:R.y,t1:Q,t2:B})))}z=M}else z=z?0:[];if(d)t+=z;else{H=0;for(J=z.length;H<J;H++)z[H].segment1=w,z[H].segment2=G,z[H].bez1=x,z[H].bez2=c;t=t.concat(z)}}}return t}\n",
       "function r(a){var b=A(a);if(b.bbox)return C(b.bbox);if(!a)return w();a=I(a);for(var d=0,e=0,h=[],f=[],l,n=0,k=a.length;n<k;n++)l=a[n],\"M\"==l[0]?(d=l[1],e=l[2],h.push(d),f.push(e)):(d=U(d,e,l[1],l[2],l[3],l[4],l[5],l[6]),h=h.concat(d.min.x,d.max.x),f=f.concat(d.min.y,d.max.y),d=l[5],e=l[6]);a=X.apply(0,h);l=X.apply(0,f);h=W.apply(0,h);f=W.apply(0,f);f=w(a,l,h-a,f-l);b.bbox=C(f);return f}function s(a,b,d,e,h){if(h)return[[\"M\",+a+ +h,b],[\"l\",d-2*h,0],[\"a\",h,h,0,0,1,h,h],[\"l\",0,e-2*h],[\"a\",h,h,0,0,1,\n",
       "-h,h],[\"l\",2*h-d,0],[\"a\",h,h,0,0,1,-h,-h],[\"l\",0,2*h-e],[\"a\",h,h,0,0,1,h,-h],[\"z\"] ];a=[[\"M\",a,b],[\"l\",d,0],[\"l\",0,e],[\"l\",-d,0],[\"z\"] ];a.toString=z;return a}function x(a,b,d,e,h){null==h&&null==e&&(e=d);a=+a;b=+b;d=+d;e=+e;if(null!=h){var f=Math.PI/180,l=a+d*Math.cos(-e*f);a+=d*Math.cos(-h*f);var n=b+d*Math.sin(-e*f);b+=d*Math.sin(-h*f);d=[[\"M\",l,n],[\"A\",d,d,0,+(180<h-e),0,a,b] ]}else d=[[\"M\",a,b],[\"m\",0,-e],[\"a\",d,e,0,1,1,0,2*e],[\"a\",d,e,0,1,1,0,-2*e],[\"z\"] ];d.toString=z;return d}function G(b){var e=\n",
       "A(b);if(e.abs)return d(e.abs);Q(b,\"array\")&&Q(b&&b[0],\"array\")||(b=a.parsePathString(b));if(!b||!b.length)return[[\"M\",0,0] ];var h=[],f=0,l=0,n=0,k=0,p=0;\"M\"==b[0][0]&&(f=+b[0][1],l=+b[0][2],n=f,k=l,p++,h[0]=[\"M\",f,l]);for(var q=3==b.length&&\"M\"==b[0][0]&&\"R\"==b[1][0].toUpperCase()&&\"Z\"==b[2][0].toUpperCase(),s,r,w=p,c=b.length;w<c;w++){h.push(s=[]);r=b[w];p=r[0];if(p!=p.toUpperCase())switch(s[0]=p.toUpperCase(),s[0]){case \"A\":s[1]=r[1];s[2]=r[2];s[3]=r[3];s[4]=r[4];s[5]=r[5];s[6]=+r[6]+f;s[7]=+r[7]+\n",
       "l;break;case \"V\":s[1]=+r[1]+l;break;case \"H\":s[1]=+r[1]+f;break;case \"R\":for(var t=[f,l].concat(r.slice(1)),u=2,v=t.length;u<v;u++)t[u]=+t[u]+f,t[++u]=+t[u]+l;h.pop();h=h.concat(P(t,q));break;case \"O\":h.pop();t=x(f,l,r[1],r[2]);t.push(t[0]);h=h.concat(t);break;case \"U\":h.pop();h=h.concat(x(f,l,r[1],r[2],r[3]));s=[\"U\"].concat(h[h.length-1].slice(-2));break;case \"M\":n=+r[1]+f,k=+r[2]+l;default:for(u=1,v=r.length;u<v;u++)s[u]=+r[u]+(u%2?f:l)}else if(\"R\"==p)t=[f,l].concat(r.slice(1)),h.pop(),h=h.concat(P(t,\n",
       "q)),s=[\"R\"].concat(r.slice(-2));else if(\"O\"==p)h.pop(),t=x(f,l,r[1],r[2]),t.push(t[0]),h=h.concat(t);else if(\"U\"==p)h.pop(),h=h.concat(x(f,l,r[1],r[2],r[3])),s=[\"U\"].concat(h[h.length-1].slice(-2));else for(t=0,u=r.length;t<u;t++)s[t]=r[t];p=p.toUpperCase();if(\"O\"!=p)switch(s[0]){case \"Z\":f=+n;l=+k;break;case \"H\":f=s[1];break;case \"V\":l=s[1];break;case \"M\":n=s[s.length-2],k=s[s.length-1];default:f=s[s.length-2],l=s[s.length-1]}}h.toString=z;e.abs=d(h);return h}function h(a,b,d,e){return[a,b,d,e,d,\n",
       "e]}function J(a,b,d,e,h,f){var l=1/3,n=2/3;return[l*a+n*d,l*b+n*e,l*h+n*d,l*f+n*e,h,f]}function K(b,d,e,h,f,l,n,k,p,s){var r=120*S/180,q=S/180*(+f||0),c=[],t,x=a._.cacher(function(a,b,c){var d=a*F.cos(c)-b*F.sin(c);a=a*F.sin(c)+b*F.cos(c);return{x:d,y:a}});if(s)v=s[0],t=s[1],l=s[2],u=s[3];else{t=x(b,d,-q);b=t.x;d=t.y;t=x(k,p,-q);k=t.x;p=t.y;F.cos(S/180*f);F.sin(S/180*f);t=(b-k)/2;v=(d-p)/2;u=t*t/(e*e)+v*v/(h*h);1<u&&(u=F.sqrt(u),e*=u,h*=u);var u=e*e,w=h*h,u=(l==n?-1:1)*F.sqrt(Z((u*w-u*v*v-w*t*t)/\n",
       "(u*v*v+w*t*t)));l=u*e*v/h+(b+k)/2;var u=u*-h*t/e+(d+p)/2,v=F.asin(((d-u)/h).toFixed(9));t=F.asin(((p-u)/h).toFixed(9));v=b<l?S-v:v;t=k<l?S-t:t;0>v&&(v=2*S+v);0>t&&(t=2*S+t);n&&v>t&&(v-=2*S);!n&&t>v&&(t-=2*S)}if(Z(t-v)>r){var c=t,w=k,G=p;t=v+r*(n&&t>v?1:-1);k=l+e*F.cos(t);p=u+h*F.sin(t);c=K(k,p,e,h,f,0,n,w,G,[t,c,l,u])}l=t-v;f=F.cos(v);r=F.sin(v);n=F.cos(t);t=F.sin(t);l=F.tan(l/4);e=4/3*e*l;l*=4/3*h;h=[b,d];b=[b+e*r,d-l*f];d=[k+e*t,p-l*n];k=[k,p];b[0]=2*h[0]-b[0];b[1]=2*h[1]-b[1];if(s)return[b,d,k].concat(c);\n",
       "c=[b,d,k].concat(c).join().split(\",\");s=[];k=0;for(p=c.length;k<p;k++)s[k]=k%2?x(c[k-1],c[k],q).y:x(c[k],c[k+1],q).x;return s}function U(a,b,d,e,h,f,l,k){for(var n=[],p=[[],[] ],s,r,c,t,q=0;2>q;++q)0==q?(r=6*a-12*d+6*h,s=-3*a+9*d-9*h+3*l,c=3*d-3*a):(r=6*b-12*e+6*f,s=-3*b+9*e-9*f+3*k,c=3*e-3*b),1E-12>Z(s)?1E-12>Z(r)||(s=-c/r,0<s&&1>s&&n.push(s)):(t=r*r-4*c*s,c=F.sqrt(t),0>t||(t=(-r+c)/(2*s),0<t&&1>t&&n.push(t),s=(-r-c)/(2*s),0<s&&1>s&&n.push(s)));for(r=q=n.length;q--;)s=n[q],c=1-s,p[0][q]=c*c*c*a+3*\n",
       "c*c*s*d+3*c*s*s*h+s*s*s*l,p[1][q]=c*c*c*b+3*c*c*s*e+3*c*s*s*f+s*s*s*k;p[0][r]=a;p[1][r]=b;p[0][r+1]=l;p[1][r+1]=k;p[0].length=p[1].length=r+2;return{min:{x:X.apply(0,p[0]),y:X.apply(0,p[1])},max:{x:W.apply(0,p[0]),y:W.apply(0,p[1])}}}function I(a,b){var e=!b&&A(a);if(!b&&e.curve)return d(e.curve);var f=G(a),l=b&&G(b),n={x:0,y:0,bx:0,by:0,X:0,Y:0,qx:null,qy:null},k={x:0,y:0,bx:0,by:0,X:0,Y:0,qx:null,qy:null},p=function(a,b,c){if(!a)return[\"C\",b.x,b.y,b.x,b.y,b.x,b.y];a[0]in{T:1,Q:1}||(b.qx=b.qy=null);\n",
       "switch(a[0]){case \"M\":b.X=a[1];b.Y=a[2];break;case \"A\":a=[\"C\"].concat(K.apply(0,[b.x,b.y].concat(a.slice(1))));break;case \"S\":\"C\"==c||\"S\"==c?(c=2*b.x-b.bx,b=2*b.y-b.by):(c=b.x,b=b.y);a=[\"C\",c,b].concat(a.slice(1));break;case \"T\":\"Q\"==c||\"T\"==c?(b.qx=2*b.x-b.qx,b.qy=2*b.y-b.qy):(b.qx=b.x,b.qy=b.y);a=[\"C\"].concat(J(b.x,b.y,b.qx,b.qy,a[1],a[2]));break;case \"Q\":b.qx=a[1];b.qy=a[2];a=[\"C\"].concat(J(b.x,b.y,a[1],a[2],a[3],a[4]));break;case \"L\":a=[\"C\"].concat(h(b.x,b.y,a[1],a[2]));break;case \"H\":a=[\"C\"].concat(h(b.x,\n",
       "b.y,a[1],b.y));break;case \"V\":a=[\"C\"].concat(h(b.x,b.y,b.x,a[1]));break;case \"Z\":a=[\"C\"].concat(h(b.x,b.y,b.X,b.Y))}return a},s=function(a,b){if(7<a[b].length){a[b].shift();for(var c=a[b];c.length;)q[b]=\"A\",l&&(u[b]=\"A\"),a.splice(b++,0,[\"C\"].concat(c.splice(0,6)));a.splice(b,1);v=W(f.length,l&&l.length||0)}},r=function(a,b,c,d,e){a&&b&&\"M\"==a[e][0]&&\"M\"!=b[e][0]&&(b.splice(e,0,[\"M\",d.x,d.y]),c.bx=0,c.by=0,c.x=a[e][1],c.y=a[e][2],v=W(f.length,l&&l.length||0))},q=[],u=[],c=\"\",t=\"\",x=0,v=W(f.length,\n",
       "l&&l.length||0);for(;x<v;x++){f[x]&&(c=f[x][0]);\"C\"!=c&&(q[x]=c,x&&(t=q[x-1]));f[x]=p(f[x],n,t);\"A\"!=q[x]&&\"C\"==c&&(q[x]=\"C\");s(f,x);l&&(l[x]&&(c=l[x][0]),\"C\"!=c&&(u[x]=c,x&&(t=u[x-1])),l[x]=p(l[x],k,t),\"A\"!=u[x]&&\"C\"==c&&(u[x]=\"C\"),s(l,x));r(f,l,n,k,x);r(l,f,k,n,x);var w=f[x],z=l&&l[x],y=w.length,U=l&&z.length;n.x=w[y-2];n.y=w[y-1];n.bx=$(w[y-4])||n.x;n.by=$(w[y-3])||n.y;k.bx=l&&($(z[U-4])||k.x);k.by=l&&($(z[U-3])||k.y);k.x=l&&z[U-2];k.y=l&&z[U-1]}l||(e.curve=d(f));return l?[f,l]:f}function P(a,\n",
       "b){for(var d=[],e=0,h=a.length;h-2*!b>e;e+=2){var f=[{x:+a[e-2],y:+a[e-1]},{x:+a[e],y:+a[e+1]},{x:+a[e+2],y:+a[e+3]},{x:+a[e+4],y:+a[e+5]}];b?e?h-4==e?f[3]={x:+a[0],y:+a[1]}:h-2==e&&(f[2]={x:+a[0],y:+a[1]},f[3]={x:+a[2],y:+a[3]}):f[0]={x:+a[h-2],y:+a[h-1]}:h-4==e?f[3]=f[2]:e||(f[0]={x:+a[e],y:+a[e+1]});d.push([\"C\",(-f[0].x+6*f[1].x+f[2].x)/6,(-f[0].y+6*f[1].y+f[2].y)/6,(f[1].x+6*f[2].x-f[3].x)/6,(f[1].y+6*f[2].y-f[3].y)/6,f[2].x,f[2].y])}return d}y=k.prototype;var Q=a.is,C=a._.clone,L=\"hasOwnProperty\",\n",
       "N=/,?([a-z]),?/gi,$=parseFloat,F=Math,S=F.PI,X=F.min,W=F.max,ma=F.pow,Z=F.abs;M=n(1);var na=n(),ba=n(0,1),V=a._unit2px;a.path=A;a.path.getTotalLength=M;a.path.getPointAtLength=na;a.path.getSubpath=function(a,b,d){if(1E-6>this.getTotalLength(a)-d)return ba(a,b).end;a=ba(a,d,1);return b?ba(a,b).end:a};y.getTotalLength=function(){if(this.node.getTotalLength)return this.node.getTotalLength()};y.getPointAtLength=function(a){return na(this.attr(\"d\"),a)};y.getSubpath=function(b,d){return a.path.getSubpath(this.attr(\"d\"),\n",
       "b,d)};a._.box=w;a.path.findDotsAtSegment=u;a.path.bezierBBox=p;a.path.isPointInsideBBox=b;a.path.isBBoxIntersect=q;a.path.intersection=function(a,b){return l(a,b)};a.path.intersectionNumber=function(a,b){return l(a,b,1)};a.path.isPointInside=function(a,d,e){var h=r(a);return b(h,d,e)&&1==l(a,[[\"M\",d,e],[\"H\",h.x2+10] ],1)%2};a.path.getBBox=r;a.path.get={path:function(a){return a.attr(\"path\")},circle:function(a){a=V(a);return x(a.cx,a.cy,a.r)},ellipse:function(a){a=V(a);return x(a.cx||0,a.cy||0,a.rx,\n",
       "a.ry)},rect:function(a){a=V(a);return s(a.x||0,a.y||0,a.width,a.height,a.rx,a.ry)},image:function(a){a=V(a);return s(a.x||0,a.y||0,a.width,a.height)},line:function(a){return\"M\"+[a.attr(\"x1\")||0,a.attr(\"y1\")||0,a.attr(\"x2\"),a.attr(\"y2\")]},polyline:function(a){return\"M\"+a.attr(\"points\")},polygon:function(a){return\"M\"+a.attr(\"points\")+\"z\"},deflt:function(a){a=a.node.getBBox();return s(a.x,a.y,a.width,a.height)}};a.path.toRelative=function(b){var e=A(b),h=String.prototype.toLowerCase;if(e.rel)return d(e.rel);\n",
       "a.is(b,\"array\")&&a.is(b&&b[0],\"array\")||(b=a.parsePathString(b));var f=[],l=0,n=0,k=0,p=0,s=0;\"M\"==b[0][0]&&(l=b[0][1],n=b[0][2],k=l,p=n,s++,f.push([\"M\",l,n]));for(var r=b.length;s<r;s++){var q=f[s]=[],x=b[s];if(x[0]!=h.call(x[0]))switch(q[0]=h.call(x[0]),q[0]){case \"a\":q[1]=x[1];q[2]=x[2];q[3]=x[3];q[4]=x[4];q[5]=x[5];q[6]=+(x[6]-l).toFixed(3);q[7]=+(x[7]-n).toFixed(3);break;case \"v\":q[1]=+(x[1]-n).toFixed(3);break;case \"m\":k=x[1],p=x[2];default:for(var c=1,t=x.length;c<t;c++)q[c]=+(x[c]-(c%2?l:\n",
       "n)).toFixed(3)}else for(f[s]=[],\"m\"==x[0]&&(k=x[1]+l,p=x[2]+n),q=0,c=x.length;q<c;q++)f[s][q]=x[q];x=f[s].length;switch(f[s][0]){case \"z\":l=k;n=p;break;case \"h\":l+=+f[s][x-1];break;case \"v\":n+=+f[s][x-1];break;default:l+=+f[s][x-2],n+=+f[s][x-1]}}f.toString=z;e.rel=d(f);return f};a.path.toAbsolute=G;a.path.toCubic=I;a.path.map=function(a,b){if(!b)return a;var d,e,h,f,l,n,k;a=I(a);h=0;for(l=a.length;h<l;h++)for(k=a[h],f=1,n=k.length;f<n;f+=2)d=b.x(k[f],k[f+1]),e=b.y(k[f],k[f+1]),k[f]=d,k[f+1]=e;return a};\n",
       "a.path.toString=z;a.path.clone=d});C.plugin(function(a,v,y,C){var A=Math.max,w=Math.min,z=function(a){this.items=[];this.bindings={};this.length=0;this.type=\"set\";if(a)for(var f=0,n=a.length;f<n;f++)a[f]&&(this[this.items.length]=this.items[this.items.length]=a[f],this.length++)};v=z.prototype;v.push=function(){for(var a,f,n=0,k=arguments.length;n<k;n++)if(a=arguments[n])f=this.items.length,this[f]=this.items[f]=a,this.length++;return this};v.pop=function(){this.length&&delete this[this.length--];\n",
       "return this.items.pop()};v.forEach=function(a,f){for(var n=0,k=this.items.length;n<k&&!1!==a.call(f,this.items[n],n);n++);return this};v.animate=function(d,f,n,u){\"function\"!=typeof n||n.length||(u=n,n=L.linear);d instanceof a._.Animation&&(u=d.callback,n=d.easing,f=n.dur,d=d.attr);var p=arguments;if(a.is(d,\"array\")&&a.is(p[p.length-1],\"array\"))var b=!0;var q,e=function(){q?this.b=q:q=this.b},l=0,r=u&&function(){l++==this.length&&u.call(this)};return this.forEach(function(a,l){k.once(\"snap.animcreated.\"+\n",
       "a.id,e);b?p[l]&&a.animate.apply(a,p[l]):a.animate(d,f,n,r)})};v.remove=function(){for(;this.length;)this.pop().remove();return this};v.bind=function(a,f,k){var u={};if(\"function\"==typeof f)this.bindings[a]=f;else{var p=k||a;this.bindings[a]=function(a){u[p]=a;f.attr(u)}}return this};v.attr=function(a){var f={},k;for(k in a)if(this.bindings[k])this.bindings[k](a[k]);else f[k]=a[k];a=0;for(k=this.items.length;a<k;a++)this.items[a].attr(f);return this};v.clear=function(){for(;this.length;)this.pop()};\n",
       "v.splice=function(a,f,k){a=0>a?A(this.length+a,0):a;f=A(0,w(this.length-a,f));var u=[],p=[],b=[],q;for(q=2;q<arguments.length;q++)b.push(arguments[q]);for(q=0;q<f;q++)p.push(this[a+q]);for(;q<this.length-a;q++)u.push(this[a+q]);var e=b.length;for(q=0;q<e+u.length;q++)this.items[a+q]=this[a+q]=q<e?b[q]:u[q-e];for(q=this.items.length=this.length-=f-e;this[q];)delete this[q++];return new z(p)};v.exclude=function(a){for(var f=0,k=this.length;f<k;f++)if(this[f]==a)return this.splice(f,1),!0;return!1};\n",
       "v.insertAfter=function(a){for(var f=this.items.length;f--;)this.items[f].insertAfter(a);return this};v.getBBox=function(){for(var a=[],f=[],k=[],u=[],p=this.items.length;p--;)if(!this.items[p].removed){var b=this.items[p].getBBox();a.push(b.x);f.push(b.y);k.push(b.x+b.width);u.push(b.y+b.height)}a=w.apply(0,a);f=w.apply(0,f);k=A.apply(0,k);u=A.apply(0,u);return{x:a,y:f,x2:k,y2:u,width:k-a,height:u-f,cx:a+(k-a)/2,cy:f+(u-f)/2}};v.clone=function(a){a=new z;for(var f=0,k=this.items.length;f<k;f++)a.push(this.items[f].clone());\n",
       "return a};v.toString=function(){return\"Snap\\u2018s set\"};v.type=\"set\";a.set=function(){var a=new z;arguments.length&&a.push.apply(a,Array.prototype.slice.call(arguments,0));return a}});C.plugin(function(a,v,y,C){function A(a){var b=a[0];switch(b.toLowerCase()){case \"t\":return[b,0,0];case \"m\":return[b,1,0,0,1,0,0];case \"r\":return 4==a.length?[b,0,a[2],a[3] ]:[b,0];case \"s\":return 5==a.length?[b,1,1,a[3],a[4] ]:3==a.length?[b,1,1]:[b,1]}}function w(b,d,f){d=q(d).replace(/\\.{3}|\\u2026/g,b);b=a.parseTransformString(b)||\n",
       "[];d=a.parseTransformString(d)||[];for(var k=Math.max(b.length,d.length),p=[],v=[],h=0,w,z,y,I;h<k;h++){y=b[h]||A(d[h]);I=d[h]||A(y);if(y[0]!=I[0]||\"r\"==y[0].toLowerCase()&&(y[2]!=I[2]||y[3]!=I[3])||\"s\"==y[0].toLowerCase()&&(y[3]!=I[3]||y[4]!=I[4])){b=a._.transform2matrix(b,f());d=a._.transform2matrix(d,f());p=[[\"m\",b.a,b.b,b.c,b.d,b.e,b.f] ];v=[[\"m\",d.a,d.b,d.c,d.d,d.e,d.f] ];break}p[h]=[];v[h]=[];w=0;for(z=Math.max(y.length,I.length);w<z;w++)w in y&&(p[h][w]=y[w]),w in I&&(v[h][w]=I[w])}return{from:u(p),\n",
       "to:u(v),f:n(p)}}function z(a){return a}function d(a){return function(b){return+b.toFixed(3)+a}}function f(b){return a.rgb(b[0],b[1],b[2])}function n(a){var b=0,d,f,k,n,h,p,q=[];d=0;for(f=a.length;d<f;d++){h=\"[\";p=['\"'+a[d][0]+'\"'];k=1;for(n=a[d].length;k<n;k++)p[k]=\"val[\"+b++ +\"]\";h+=p+\"]\";q[d]=h}return Function(\"val\",\"return Snap.path.toString.call([\"+q+\"])\")}function u(a){for(var b=[],d=0,f=a.length;d<f;d++)for(var k=1,n=a[d].length;k<n;k++)b.push(a[d][k]);return b}var p={},b=/[a-z]+$/i,q=String;\n",
       "p.stroke=p.fill=\"colour\";v.prototype.equal=function(a,b){return k(\"snap.util.equal\",this,a,b).firstDefined()};k.on(\"snap.util.equal\",function(e,k){var r,s;r=q(this.attr(e)||\"\");var x=this;if(r==+r&&k==+k)return{from:+r,to:+k,f:z};if(\"colour\"==p[e])return r=a.color(r),s=a.color(k),{from:[r.r,r.g,r.b,r.opacity],to:[s.r,s.g,s.b,s.opacity],f:f};if(\"transform\"==e||\"gradientTransform\"==e||\"patternTransform\"==e)return k instanceof a.Matrix&&(k=k.toTransformString()),a._.rgTransform.test(k)||(k=a._.svgTransform2string(k)),\n",
       "w(r,k,function(){return x.getBBox(1)});if(\"d\"==e||\"path\"==e)return r=a.path.toCubic(r,k),{from:u(r[0]),to:u(r[1]),f:n(r[0])};if(\"points\"==e)return r=q(r).split(a._.separator),s=q(k).split(a._.separator),{from:r,to:s,f:function(a){return a}};aUnit=r.match(b);s=q(k).match(b);return aUnit&&aUnit==s?{from:parseFloat(r),to:parseFloat(k),f:d(aUnit)}:{from:this.asPX(e),to:this.asPX(e,k),f:z}})});C.plugin(function(a,v,y,C){var A=v.prototype,w=\"createTouch\"in C.doc;v=\"click dblclick mousedown mousemove mouseout mouseover mouseup touchstart touchmove touchend touchcancel\".split(\" \");\n",
       "var z={mousedown:\"touchstart\",mousemove:\"touchmove\",mouseup:\"touchend\"},d=function(a,b){var d=\"y\"==a?\"scrollTop\":\"scrollLeft\",e=b&&b.node?b.node.ownerDocument:C.doc;return e[d in e.documentElement?\"documentElement\":\"body\"][d]},f=function(){this.returnValue=!1},n=function(){return this.originalEvent.preventDefault()},u=function(){this.cancelBubble=!0},p=function(){return this.originalEvent.stopPropagation()},b=function(){if(C.doc.addEventListener)return function(a,b,e,f){var k=w&&z[b]?z[b]:b,l=function(k){var l=\n",
       "d(\"y\",f),q=d(\"x\",f);if(w&&z.hasOwnProperty(b))for(var r=0,u=k.targetTouches&&k.targetTouches.length;r<u;r++)if(k.targetTouches[r].target==a||a.contains(k.targetTouches[r].target)){u=k;k=k.targetTouches[r];k.originalEvent=u;k.preventDefault=n;k.stopPropagation=p;break}return e.call(f,k,k.clientX+q,k.clientY+l)};b!==k&&a.addEventListener(b,l,!1);a.addEventListener(k,l,!1);return function(){b!==k&&a.removeEventListener(b,l,!1);a.removeEventListener(k,l,!1);return!0}};if(C.doc.attachEvent)return function(a,\n",
       "b,e,h){var k=function(a){a=a||h.node.ownerDocument.window.event;var b=d(\"y\",h),k=d(\"x\",h),k=a.clientX+k,b=a.clientY+b;a.preventDefault=a.preventDefault||f;a.stopPropagation=a.stopPropagation||u;return e.call(h,a,k,b)};a.attachEvent(\"on\"+b,k);return function(){a.detachEvent(\"on\"+b,k);return!0}}}(),q=[],e=function(a){for(var b=a.clientX,e=a.clientY,f=d(\"y\"),l=d(\"x\"),n,p=q.length;p--;){n=q[p];if(w)for(var r=a.touches&&a.touches.length,u;r--;){if(u=a.touches[r],u.identifier==n.el._drag.id||n.el.node.contains(u.target)){b=\n",
       "u.clientX;e=u.clientY;(a.originalEvent?a.originalEvent:a).preventDefault();break}}else a.preventDefault();b+=l;e+=f;k(\"snap.drag.move.\"+n.el.id,n.move_scope||n.el,b-n.el._drag.x,e-n.el._drag.y,b,e,a)}},l=function(b){a.unmousemove(e).unmouseup(l);for(var d=q.length,f;d--;)f=q[d],f.el._drag={},k(\"snap.drag.end.\"+f.el.id,f.end_scope||f.start_scope||f.move_scope||f.el,b);q=[]};for(y=v.length;y--;)(function(d){a[d]=A[d]=function(e,f){a.is(e,\"function\")&&(this.events=this.events||[],this.events.push({name:d,\n",
       "f:e,unbind:b(this.node||document,d,e,f||this)}));return this};a[\"un\"+d]=A[\"un\"+d]=function(a){for(var b=this.events||[],e=b.length;e--;)if(b[e].name==d&&(b[e].f==a||!a)){b[e].unbind();b.splice(e,1);!b.length&&delete this.events;break}return this}})(v[y]);A.hover=function(a,b,d,e){return this.mouseover(a,d).mouseout(b,e||d)};A.unhover=function(a,b){return this.unmouseover(a).unmouseout(b)};var r=[];A.drag=function(b,d,f,h,n,p){function u(r,v,w){(r.originalEvent||r).preventDefault();this._drag.x=v;\n",
       "this._drag.y=w;this._drag.id=r.identifier;!q.length&&a.mousemove(e).mouseup(l);q.push({el:this,move_scope:h,start_scope:n,end_scope:p});d&&k.on(\"snap.drag.start.\"+this.id,d);b&&k.on(\"snap.drag.move.\"+this.id,b);f&&k.on(\"snap.drag.end.\"+this.id,f);k(\"snap.drag.start.\"+this.id,n||h||this,v,w,r)}if(!arguments.length){var v;return this.drag(function(a,b){this.attr({transform:v+(v?\"T\":\"t\")+[a,b]})},function(){v=this.transform().local})}this._drag={};r.push({el:this,start:u});this.mousedown(u);return this};\n",
       "A.undrag=function(){for(var b=r.length;b--;)r[b].el==this&&(this.unmousedown(r[b].start),r.splice(b,1),k.unbind(\"snap.drag.*.\"+this.id));!r.length&&a.unmousemove(e).unmouseup(l);return this}});C.plugin(function(a,v,y,C){y=y.prototype;var A=/^\\s*url\\((.+)\\)/,w=String,z=a._.$;a.filter={};y.filter=function(d){var f=this;\"svg\"!=f.type&&(f=f.paper);d=a.parse(w(d));var k=a._.id(),u=z(\"filter\");z(u,{id:k,filterUnits:\"userSpaceOnUse\"});u.appendChild(d.node);f.defs.appendChild(u);return new v(u)};k.on(\"snap.util.getattr.filter\",\n",
       "function(){k.stop();var d=z(this.node,\"filter\");if(d)return(d=w(d).match(A))&&a.select(d[1])});k.on(\"snap.util.attr.filter\",function(d){if(d instanceof v&&\"filter\"==d.type){k.stop();var f=d.node.id;f||(z(d.node,{id:d.id}),f=d.id);z(this.node,{filter:a.url(f)})}d&&\"none\"!=d||(k.stop(),this.node.removeAttribute(\"filter\"))});a.filter.blur=function(d,f){null==d&&(d=2);return a.format('<feGaussianBlur stdDeviation=\"{def}\"/>',{def:null==f?d:[d,f]})};a.filter.blur.toString=function(){return this()};a.filter.shadow=\n",
       "function(d,f,k,u,p){\"string\"==typeof k&&(p=u=k,k=4);\"string\"!=typeof u&&(p=u,u=\"#000\");null==k&&(k=4);null==p&&(p=1);null==d&&(d=0,f=2);null==f&&(f=d);u=a.color(u||\"#000\");return a.format('<feGaussianBlur in=\"SourceAlpha\" stdDeviation=\"{blur}\"/><feOffset dx=\"{dx}\" dy=\"{dy}\" result=\"offsetblur\"/><feFlood flood-color=\"{color}\"/><feComposite in2=\"offsetblur\" operator=\"in\"/><feComponentTransfer><feFuncA type=\"linear\" slope=\"{opacity}\"/></feComponentTransfer><feMerge><feMergeNode/><feMergeNode in=\"SourceGraphic\"/></feMerge>',\n",
       "{color:u,dx:d,dy:f,blur:k,opacity:p})};a.filter.shadow.toString=function(){return this()};a.filter.grayscale=function(d){null==d&&(d=1);return a.format('<feColorMatrix type=\"matrix\" values=\"{a} {b} {c} 0 0 {d} {e} {f} 0 0 {g} {b} {h} 0 0 0 0 0 1 0\"/>',{a:0.2126+0.7874*(1-d),b:0.7152-0.7152*(1-d),c:0.0722-0.0722*(1-d),d:0.2126-0.2126*(1-d),e:0.7152+0.2848*(1-d),f:0.0722-0.0722*(1-d),g:0.2126-0.2126*(1-d),h:0.0722+0.9278*(1-d)})};a.filter.grayscale.toString=function(){return this()};a.filter.sepia=\n",
       "function(d){null==d&&(d=1);return a.format('<feColorMatrix type=\"matrix\" values=\"{a} {b} {c} 0 0 {d} {e} {f} 0 0 {g} {h} {i} 0 0 0 0 0 1 0\"/>',{a:0.393+0.607*(1-d),b:0.769-0.769*(1-d),c:0.189-0.189*(1-d),d:0.349-0.349*(1-d),e:0.686+0.314*(1-d),f:0.168-0.168*(1-d),g:0.272-0.272*(1-d),h:0.534-0.534*(1-d),i:0.131+0.869*(1-d)})};a.filter.sepia.toString=function(){return this()};a.filter.saturate=function(d){null==d&&(d=1);return a.format('<feColorMatrix type=\"saturate\" values=\"{amount}\"/>',{amount:1-\n",
       "d})};a.filter.saturate.toString=function(){return this()};a.filter.hueRotate=function(d){return a.format('<feColorMatrix type=\"hueRotate\" values=\"{angle}\"/>',{angle:d||0})};a.filter.hueRotate.toString=function(){return this()};a.filter.invert=function(d){null==d&&(d=1);return a.format('<feComponentTransfer><feFuncR type=\"table\" tableValues=\"{amount} {amount2}\"/><feFuncG type=\"table\" tableValues=\"{amount} {amount2}\"/><feFuncB type=\"table\" tableValues=\"{amount} {amount2}\"/></feComponentTransfer>',{amount:d,\n",
       "amount2:1-d})};a.filter.invert.toString=function(){return this()};a.filter.brightness=function(d){null==d&&(d=1);return a.format('<feComponentTransfer><feFuncR type=\"linear\" slope=\"{amount}\"/><feFuncG type=\"linear\" slope=\"{amount}\"/><feFuncB type=\"linear\" slope=\"{amount}\"/></feComponentTransfer>',{amount:d})};a.filter.brightness.toString=function(){return this()};a.filter.contrast=function(d){null==d&&(d=1);return a.format('<feComponentTransfer><feFuncR type=\"linear\" slope=\"{amount}\" intercept=\"{amount2}\"/><feFuncG type=\"linear\" slope=\"{amount}\" intercept=\"{amount2}\"/><feFuncB type=\"linear\" slope=\"{amount}\" intercept=\"{amount2}\"/></feComponentTransfer>',\n",
       "{amount:d,amount2:0.5-d/2})};a.filter.contrast.toString=function(){return this()}});return C});\n",
       "\n",
       "]]> </script>\n",
       "</svg>\n"
      ],
      "text/plain": [
       "Context(Measures.BoundingBox{Tuple{Measures.Length{:w, Float64}, Measures.Length{:h, Float64}}, Tuple{Measures.Length{:w, Float64}, Measures.Length{:h, Float64}}}((0.0w, 0.0h), (1.0w, 1.0h)), UnitBox{Float64, Float64, Float64, Float64}(-1.2, -1.2, 2.4, 2.4, 0.0mm, 0.0mm, 0.0mm, 0.0mm), nothing, nothing, nothing, List([Context(Measures.BoundingBox{Tuple{Measures.Length{:w, Float64}, Measures.Length{:h, Float64}}, Tuple{Measures.Length{:w, Float64}, Measures.Length{:h, Float64}}}((0.0w, 0.0h), (1.0w, 1.0h)), nothing, nothing, nothing, nothing, List([]), List([Compose.Form{Compose.LinePrimitive}(Compose.LinePrimitive[Compose.LinePrimitive{Tuple{Measure, Measure}}(Tuple{Measure, Measure}[(0.030618010431394026cx, 0.7015871575788484cy), (-0.6108256712238711cx, -0.3591349608262852cy)]), Compose.LinePrimitive{Tuple{Measure, Measure}}(Tuple{Measure, Measure}[(-0.25007444910501125cx, 0.16595890897970894cy), (0.03471928470738308cx, 0.6992541966079773cy)]), Compose.LinePrimitive{Tuple{Measure, Measure}}(Tuple{Measure, Measure}[(-0.2665836227997012cx, 0.0032501859175616404cy), (0.005771159508837744cx, -0.9152585485447439cy)]), Compose.LinePrimitive{Tuple{Measure, Measure}}(Tuple{Measure, Measure}[(-0.34229785544269975cx, 0.015510793597045242cy), (-0.6059766934960208cx, -0.3622884276865326cy)]), Compose.LinePrimitive{Tuple{Measure, Measure}}(Tuple{Measure, Measure}[(-0.2059321218507214cx, 0.06667311124420919cy), (0.577034553824712cx, -0.12791663836663392cy)]), Compose.LinePrimitive{Tuple{Measure, Measure}}(Tuple{Measure, Measure}[(0.028032591474365147cx, -0.9116581287988378cy), (0.0078933946323631cx, -0.29087933551797135cy)]), Compose.LinePrimitive{Tuple{Measure, Measure}}(Tuple{Measure, Measure}[(-0.9124060352667414cx, 0.1717741781725726cy), (-0.3793049910051944cx, 0.09981522998710597cy)]), Compose.LinePrimitive{Tuple{Measure, Measure}}(Tuple{Measure, Measure}[(-0.9174917480322539cx, 0.15189779669811876cy), (-0.07748082884209015cx, -0.17083749022806702cy)]), Compose.LinePrimitive{Tuple{Measure, Measure}}(Tuple{Measure, Measure}[(-0.6059766934960208cx, -0.3622884276865326cy), (-0.34229785544269975cx, 0.015510793597045242cy)]), Compose.LinePrimitive{Tuple{Measure, Measure}}(Tuple{Measure, Measure}[(-0.58828933683933cx, -0.4909042476322313cy), (-0.037375622846382434cx, -0.9438650238300739cy)]), Compose.LinePrimitive{Tuple{Measure, Measure}}(Tuple{Measure, Measure}[(-0.6994790764284293cx, -0.35749860920727206cy), (-0.9570844462383554cx, 0.10632710853182771cy)]), Compose.LinePrimitive{Tuple{Measure, Measure}}(Tuple{Measure, Measure}[(0.6101097636631432cx, -0.2201916340898095cy), (0.08360225756385556cx, -0.9290435304054331cy)]), Compose.LinePrimitive{Tuple{Measure, Measure}}(Tuple{Measure, Measure}[(0.6876977121995476cx, -0.06442199390734572cy), (0.9751157460463789cx, 0.9151868294121032cy)]), Compose.LinePrimitive{Tuple{Measure, Measure}}(Tuple{Measure, Measure}[(0.5747138827014179cx, -0.1563741272264406cy), (0.09312699867016448cx, -0.19539850158561103cy)]), Compose.LinePrimitive{Tuple{Measure, Measure}}(Tuple{Measure, Measure}[(0.9140756528065443cx, 0.9792754599718478cy), (0.16228020906776336cx, 0.7979460082430204cy)]), Compose.LinePrimitive{Tuple{Measure, Measure}}(Tuple{Measure, Measure}[(0.9751157460463789cx, 0.9151868294121032cy), (0.6876977121995476cx, -0.06442199390734572cy)]), Compose.LinePrimitive{Tuple{Measure, Measure}}(Tuple{Measure, Measure}[(0.01144528891935551cx, -0.11438242476345138cy), (0.06993799608060805cx, 0.6890664286615107cy)]), Compose.LinePrimitive{Tuple{Measure, Measure}}(Tuple{Measure, Measure}[(-0.05812987702531866cx, -0.14070175103039426cy), (-0.22855372612096117cx, 0.026155924086402958cy)]), Compose.LinePrimitive{Tuple{Measure, Measure}}(Tuple{Measure, Measure}[(-0.07748082884209016cx, -0.17083749022806705cy), (-0.9174917480322539cx, 0.15189779669811876cy)])], Symbol(\"\"))]), List([Compose.Property{Compose.LineWidthPrimitive}(Compose.LineWidthPrimitive[Compose.LineWidthPrimitive(1.0606601717798212mm)]), Compose.Property{Compose.FillPrimitive}(Compose.FillPrimitive[Compose.FillPrimitive(RGBA{Float64}(0.0,0.0,0.0,0.0))]), Compose.Property{Compose.StrokePrimitive}(Compose.StrokePrimitive[Compose.StrokePrimitive(RGBA{Float64}(0.8274509803921568,0.8274509803921568,0.8274509803921568,1.0))])]), 0, false, false, false, false, nothing, nothing, 0.0, Symbol(\"\")), Context(Measures.BoundingBox{Tuple{Measures.Length{:w, Float64}, Measures.Length{:h, Float64}}, Tuple{Measures.Length{:w, Float64}, Measures.Length{:h, Float64}}}((0.0w, 0.0h), (1.0w, 1.0h)), nothing, nothing, nothing, nothing, List([]), List([Compose.Form{Compose.LinePrimitive}(Compose.LinePrimitive[Compose.LinePrimitive{Tuple{Measure, Measure}}(Tuple{Measure, Measure}[(-0.5914667125118922cx, -0.2610267006358818cy), (-0.6108256712238711cx, -0.3591349608262852cy), (-0.5329330744196954cx, -0.29642337207984915cy)]), Compose.LinePrimitive{Tuple{Measure, Measure}}(Tuple{Measure, Measure}[(0.02062330119786579cx, 0.6002526650597259cy), (0.03471928470738308cx, 0.6992541966079773cy), (-0.03971582294958643cx, 0.6324753470514346cy)]), Compose.LinePrimitive{Tuple{Measure, Measure}}(Tuple{Measure, Measure}[(-0.05373365124290115cx, -0.8348895402305949cy), (0.005771159508837744cx, -0.9152585485447439cy), (0.011848032640751148cx, -0.8154433612587471cy)]), Compose.LinePrimitive{Tuple{Measure, Measure}}(Tuple{Measure, Measure}[(-0.580242349423121cx, -0.26565642711147663cy), (-0.6059766934960208cx, -0.3622884276865326cy), (-0.5241491895527957cx, -0.3048057381320113cy)]), Compose.LinePrimitive{Tuple{Measure, Measure}}(Tuple{Measure, Measure}[(0.4775902591814397cx, -0.13844432865947823cy), (0.577034553824712cx, -0.12791663836663392cy), (0.49408873563448935cx, -0.07205975656363198cy)]), Compose.LinePrimitive{Tuple{Measure, Measure}}(Tuple{Measure, Measure}[(0.04512435618065348cx, -0.3836901942694651cy), (0.0078933946323631cx, -0.29087933551797135cy), (-0.023243704211420406cx, -0.3859081789056105cy)]), Compose.LinePrimitive{Tuple{Measure, Measure}}(Tuple{Measure, Measure}[(-0.4770048704840821cx, 0.07849074758281716cy), (-0.3793049910051944cx, 0.09981522998710597cy), (-0.4678545538458456cx, 0.14628000073580927cy)]), Compose.LinePrimitive{Tuple{Measure, Measure}}(Tuple{Measure, Measure}[(-0.17746507740041048cx, -0.1690626549602122cy), (-0.07748082884209015cx, -0.17083749022806702cy), (-0.15293236473020635cx, -0.10520925139656771cy)]), Compose.LinePrimitive{Tuple{Measure, Measure}}(Tuple{Measure, Measure}[(-0.3680321995155995cx, -0.0811212069780107cy), (-0.34229785544269975cx, 0.015510793597045242cy), (-0.42412535938592494cx, -0.041971895957476045cy)]), Compose.LinePrimitive{Tuple{Measure, Measure}}(Tuple{Measure, Measure}[(-0.13168221803142324cx, -0.9106044449925846cy), (-0.037375622846382434cx, -0.9438650238300739cy), (-0.08823917806961351cx, -0.8577668313400261cy)]), Compose.LinePrimitive{Tuple{Measure, Measure}}(Tuple{Measure, Measure}[(-0.8815591604487595cx, 0.04078375489166172cy), (-0.9570844462383554cx, 0.10632710853182771cy), (-0.9413591763614646cx, 0.007571268768809383cy)]), Compose.LinePrimitive{Tuple{Measure, Measure}}(Tuple{Measure, Measure}[(0.11217698676625051cx, -0.8332130297753634cy), (0.08360225756385556cx, -0.9290435304054331cy), (0.16709042851804673cx, -0.8740005897979061cy)]), Compose.LinePrimitive{Tuple{Measure, Measure}}(Tuple{Measure, Measure}[(0.981478873196096cx, 0.815389481687444cy), (0.9751157460463789cx, 0.9151868294121032cy), (0.915841685643289cx, 0.8346474864589175cy)]), Compose.LinePrimitive{Tuple{Measure, Measure}}(Tuple{Measure, Measure}[(0.1840268221363778cx, -0.15371850525870073cy), (0.09312699867016448cx, -0.19539850158561103cy), (0.18955168852767168cx, -0.22189905225693765cy)]), Compose.LinePrimitive{Tuple{Measure, Measure}}(Tuple{Measure, Measure}[(0.2456104972928661cx, 0.8532276784811862cy), (0.16228020906776336cx, 0.7979460082430204cy), (0.2616492859779762cx, 0.786730547752599cy)]), Compose.LinePrimitive{Tuple{Measure, Measure}}(Tuple{Measure, Measure}[(0.6813345850498305cx, 0.03537535381731344cy), (0.6876977121995476cx, -0.06442199390734572cy), (0.7469717726026374cx, 0.016117349045839988cy)]), Compose.LinePrimitive{Tuple{Measure, Measure}}(Tuple{Measure, Measure}[(0.09722663624317196cx, 0.5928618023794129cy), (0.06993799608060805cx, 0.6890664286615107cy), (0.029003165468757024cx, 0.5978286095140811cy)]), Compose.LinePrimitive{Tuple{Measure, Measure}}(Tuple{Measure, Measure}[(-0.13748119160342331cx, -0.015145328395233457cy), (-0.22855372612096117cx, 0.026155924086402958cy), (-0.1853360504927713cx, -0.06402296764163151cy)]), Compose.LinePrimitive{Tuple{Measure, Measure}}(Tuple{Measure, Measure}[(-0.8175074994739335cx, 0.15012296143026396cy), (-0.9174917480322539cx, 0.15189779669811876cy), (-0.8420402121441376cx, 0.08626955786661947cy)])], Symbol(\"\"))]), List([Compose.Property{Compose.LineWidthPrimitive}(Compose.LineWidthPrimitive[Compose.LineWidthPrimitive(1.0606601717798212mm)]), Compose.Property{Compose.StrokePrimitive}(Compose.StrokePrimitive[Compose.StrokePrimitive(RGBA{Float64}(0.8274509803921568,0.8274509803921568,0.8274509803921568,1.0))])]), 0, false, false, false, false, nothing, nothing, 0.0, Symbol(\"\")), Context(Measures.BoundingBox{Tuple{Measures.Length{:w, Float64}, Measures.Length{:h, Float64}}, Tuple{Measures.Length{:w, Float64}, Measures.Length{:h, Float64}}}((0.0w, 0.0h), (1.0w, 1.0h)), nothing, nothing, nothing, nothing, List([]), List([]), List([Compose.Property{Compose.FontSizePrimitive}(Compose.FontSizePrimitive[Compose.FontSizePrimitive(4.0mm)]), Compose.Property{Compose.StrokePrimitive}(Compose.StrokePrimitive[Compose.StrokePrimitive(RGBA{Float64}(0.0,0.0,0.0,0.0))]), Compose.Property{Compose.FillPrimitive}(Compose.FillPrimitive[Compose.FillPrimitive(RGBA{Float64}(0.0,0.0,0.0,1.0))])]), 0, false, false, false, false, nothing, nothing, 0.0, Symbol(\"\")), Context(Measures.BoundingBox{Tuple{Measures.Length{:w, Float64}, Measures.Length{:h, Float64}}, Tuple{Measures.Length{:w, Float64}, Measures.Length{:h, Float64}}}((0.0w, 0.0h), (1.0w, 1.0h)), nothing, nothing, nothing, nothing, List([]), List([Compose.Form{Compose.CirclePrimitive{Tuple{Measure, Measure}, Measure}}(Compose.CirclePrimitive{Tuple{Measure, Measure}, Measure}[Compose.CirclePrimitive{Tuple{Measure, Measure}, Measure}((0.07635586187430765cx, 0.7772214682148684cy), 0.035355339059327376w), Compose.CirclePrimitive{Tuple{Measure, Measure}, Measure}((-0.2917110262719358cx, 0.08799163737281779cy), 0.035355339059327376w), Compose.CirclePrimitive{Tuple{Measure, Measure}, Measure}((0.030898562981072297cx, -1.0cy), 0.035355339059327376w), Compose.CirclePrimitive{Tuple{Measure, Measure}, Measure}((-1.0cx, 0.1835977707868608cy), 0.035355339059327376w), Compose.CirclePrimitive{Tuple{Measure, Measure}, Measure}((-0.6565635226667847cx, -0.43476927146230515cy), 0.035355339059327376w), Compose.CirclePrimitive{Tuple{Measure, Measure}, Measure}((0.6628134582459264cx, -0.14923516449524254cy), 0.035355339059327376w), Compose.CirclePrimitive{Tuple{Measure, Measure}, Measure}((1.0cx, 1.0cy), 0.035355339059327376w), Compose.CirclePrimitive{Tuple{Measure, Measure}, Measure}((0.005027423125655961cx, -0.20253746431680908cy), 0.035355339059327376w)], Symbol(\"\"))]), List([Compose.Property{Compose.LineWidthPrimitive}(Compose.LineWidthPrimitive[Compose.LineWidthPrimitive(0.0mm)]), Compose.Property{Compose.StrokePrimitive}(Compose.StrokePrimitive[Compose.StrokePrimitive(RGBA{Float64}(0.0,0.0,0.0,0.0))]), Compose.Property{Compose.FillPrimitive}(Compose.FillPrimitive[Compose.FillPrimitive(RGBA{Float64}(0.25098039215686274,0.8784313725490196,0.8156862745098039,1.0))])]), 0, false, false, false, false, nothing, nothing, 0.0, Symbol(\"\")), Context(Measures.BoundingBox{Tuple{Measures.Length{:w, Float64}, Measures.Length{:h, Float64}}, Tuple{Measures.Length{:w, Float64}, Measures.Length{:h, Float64}}}((0.0w, 0.0h), (1.0w, 1.0h)), nothing, nothing, nothing, nothing, List([]), List([Compose.Form{Compose.TextPrimitive{Tuple{Measures.Length{:cx, Float64}, Measures.Length{:cy, Float64}}, Rotation{Tuple{Measures.Length{:w, Float64}, Measures.Length{:h, Float64}}}, Tuple{Measures.AbsoluteLength, Measures.AbsoluteLength}}}(Compose.TextPrimitive{Tuple{Measures.Length{:cx, Float64}, Measures.Length{:cy, Float64}}, Rotation{Tuple{Measures.Length{:w, Float64}, Measures.Length{:h, Float64}}}, Tuple{Measures.AbsoluteLength, Measures.AbsoluteLength}}[Compose.TextPrimitive{Tuple{Measures.Length{:cx, Float64}, Measures.Length{:cy, Float64}}, Rotation{Tuple{Measures.Length{:w, Float64}, Measures.Length{:h, Float64}}}, Tuple{Measures.AbsoluteLength, Measures.AbsoluteLength}}((0.07635586187430765cx, 0.7772214682148684cy), \"1\", Compose.HCenter(), Compose.VCenter(), Rotation{Tuple{Measures.Length{:w, Float64}, Measures.Length{:h, Float64}}}(0.0, (0.5w, 0.5h)), (0.0mm, 0.0mm)), Compose.TextPrimitive{Tuple{Measures.Length{:cx, Float64}, Measures.Length{:cy, Float64}}, Rotation{Tuple{Measures.Length{:w, Float64}, Measures.Length{:h, Float64}}}, Tuple{Measures.AbsoluteLength, Measures.AbsoluteLength}}((-0.2917110262719358cx, 0.08799163737281779cy), \"2\", Compose.HCenter(), Compose.VCenter(), Rotation{Tuple{Measures.Length{:w, Float64}, Measures.Length{:h, Float64}}}(0.0, (0.5w, 0.5h)), (0.0mm, 0.0mm)), Compose.TextPrimitive{Tuple{Measures.Length{:cx, Float64}, Measures.Length{:cy, Float64}}, Rotation{Tuple{Measures.Length{:w, Float64}, Measures.Length{:h, Float64}}}, Tuple{Measures.AbsoluteLength, Measures.AbsoluteLength}}((0.030898562981072297cx, -1.0cy), \"3\", Compose.HCenter(), Compose.VCenter(), Rotation{Tuple{Measures.Length{:w, Float64}, Measures.Length{:h, Float64}}}(0.0, (0.5w, 0.5h)), (0.0mm, 0.0mm)), Compose.TextPrimitive{Tuple{Measures.Length{:cx, Float64}, Measures.Length{:cy, Float64}}, Rotation{Tuple{Measures.Length{:w, Float64}, Measures.Length{:h, Float64}}}, Tuple{Measures.AbsoluteLength, Measures.AbsoluteLength}}((-1.0cx, 0.1835977707868608cy), \"4\", Compose.HCenter(), Compose.VCenter(), Rotation{Tuple{Measures.Length{:w, Float64}, Measures.Length{:h, Float64}}}(0.0, (0.5w, 0.5h)), (0.0mm, 0.0mm)), Compose.TextPrimitive{Tuple{Measures.Length{:cx, Float64}, Measures.Length{:cy, Float64}}, Rotation{Tuple{Measures.Length{:w, Float64}, Measures.Length{:h, Float64}}}, Tuple{Measures.AbsoluteLength, Measures.AbsoluteLength}}((-0.6565635226667847cx, -0.43476927146230515cy), \"5\", Compose.HCenter(), Compose.VCenter(), Rotation{Tuple{Measures.Length{:w, Float64}, Measures.Length{:h, Float64}}}(0.0, (0.5w, 0.5h)), (0.0mm, 0.0mm)), Compose.TextPrimitive{Tuple{Measures.Length{:cx, Float64}, Measures.Length{:cy, Float64}}, Rotation{Tuple{Measures.Length{:w, Float64}, Measures.Length{:h, Float64}}}, Tuple{Measures.AbsoluteLength, Measures.AbsoluteLength}}((0.6628134582459264cx, -0.14923516449524254cy), \"6\", Compose.HCenter(), Compose.VCenter(), Rotation{Tuple{Measures.Length{:w, Float64}, Measures.Length{:h, Float64}}}(0.0, (0.5w, 0.5h)), (0.0mm, 0.0mm)), Compose.TextPrimitive{Tuple{Measures.Length{:cx, Float64}, Measures.Length{:cy, Float64}}, Rotation{Tuple{Measures.Length{:w, Float64}, Measures.Length{:h, Float64}}}, Tuple{Measures.AbsoluteLength, Measures.AbsoluteLength}}((1.0cx, 1.0cy), \"7\", Compose.HCenter(), Compose.VCenter(), Rotation{Tuple{Measures.Length{:w, Float64}, Measures.Length{:h, Float64}}}(0.0, (0.5w, 0.5h)), (0.0mm, 0.0mm)), Compose.TextPrimitive{Tuple{Measures.Length{:cx, Float64}, Measures.Length{:cy, Float64}}, Rotation{Tuple{Measures.Length{:w, Float64}, Measures.Length{:h, Float64}}}, Tuple{Measures.AbsoluteLength, Measures.AbsoluteLength}}((0.005027423125655961cx, -0.20253746431680908cy), \"8\", Compose.HCenter(), Compose.VCenter(), Rotation{Tuple{Measures.Length{:w, Float64}, Measures.Length{:h, Float64}}}(0.0, (0.5w, 0.5h)), (0.0mm, 0.0mm))], Symbol(\"\"))]), List([Compose.Property{Compose.FontSizePrimitive}(Compose.FontSizePrimitive[Compose.FontSizePrimitive(4.0mm)]), Compose.Property{Compose.StrokePrimitive}(Compose.StrokePrimitive[Compose.StrokePrimitive(RGBA{Float64}(0.0,0.0,0.0,0.0))]), Compose.Property{Compose.FillPrimitive}(Compose.FillPrimitive[Compose.FillPrimitive(RGBA{Float64}(0.0,0.0,0.0,1.0))])]), 0, false, false, false, false, nothing, nothing, 0.0, Symbol(\"\"))]), List([]), List([]), 0, false, false, false, false, nothing, nothing, 0.0, Symbol(\"\"))"
      ]
     },
     "execution_count": 13,
     "metadata": {},
     "output_type": "execute_result"
    }
   ],
   "source": [
    "gplot(G,nodelabel=collect(1:nv(G)))"
   ]
  },
  {
   "cell_type": "markdown",
   "metadata": {
    "id": "OjxMHa6ppZjT"
   },
   "source": [
    "Try also this:"
   ]
  },
  {
   "cell_type": "code",
   "execution_count": 14,
   "metadata": {
    "colab": {
     "base_uri": "https://localhost:8080/",
     "height": 399
    },
    "executionInfo": {
     "elapsed": 616,
     "status": "ok",
     "timestamp": 1686051905959,
     "user": {
      "displayName": "walid benameur",
      "userId": "15823031990919506834"
     },
     "user_tz": -120
    },
    "id": "B3t6M3XkpawT",
    "outputId": "a22bd3fc-7296-4a8f-e284-52ff64240f2e"
   },
   "outputs": [
    {
     "data": {
      "image/png": "[encoded data removed]",
      "image/svg+xml": [
       "<?xml version=\"1.0\" encoding=\"UTF-8\"?>\n",
       "<svg xmlns=\"http://www.w3.org/2000/svg\"\n",
       "     xmlns:xlink=\"http://www.w3.org/1999/xlink\"\n",
       "     version=\"1.2\"\n",
       "     width=\"141.42mm\" height=\"100mm\" viewBox=\"0 0 141.42 100\"\n",
       "     stroke=\"none\"\n",
       "     fill=\"#000000\"\n",
       "     stroke-width=\"0.3\"\n",
       "     font-size=\"3.88\"\n",
       ">\n",
       "<defs>\n",
       "  <marker id=\"arrow\" markerWidth=\"15\" markerHeight=\"7\" refX=\"5\" refY=\"3.5\" orient=\"auto\" markerUnits=\"strokeWidth\">\n",
       "    <path d=\"M0,0 L15,3.5 L0,7 z\" stroke=\"context-stroke\" fill=\"context-stroke\"/>\n",
       "  </marker>\n",
       "</defs>\n",
       "<g stroke-width=\"1.06\" fill=\"#000000\" fill-opacity=\"0.000\" stroke=\"#D3D3D3\" id=\"img-335c11e8-1\">\n",
       "  <g transform=\"translate(70.71,50)\">\n",
       "    <path fill=\"none\" d=\"M53.72,-0 L-53.72,0 \" class=\"primitive\"/>\n",
       "  </g>\n",
       "  <g transform=\"translate(121.01,64.73)\">\n",
       "    <path fill=\"none\" d=\"M-6.64,11.33 L6.64,-11.33 \" class=\"primitive\"/>\n",
       "  </g>\n",
       "  <g transform=\"translate(91.54,85.56)\">\n",
       "    <path fill=\"none\" d=\"M16.02,-4.69 L-16.02,4.69 \" class=\"primitive\"/>\n",
       "  </g>\n",
       "  <g transform=\"translate(62.08,64.73)\">\n",
       "    <path fill=\"none\" d=\"M45.48,13.32 L-45.48,-13.32 \" class=\"primitive\"/>\n",
       "  </g>\n",
       "  <g transform=\"translate(70.71,50)\">\n",
       "    <path fill=\"none\" d=\"M37.98,26.86 L-37.98,-26.86 \" class=\"primitive\"/>\n",
       "  </g>\n",
       "  <g transform=\"translate(91.54,56.1)\">\n",
       "    <path fill=\"none\" d=\"M-18.84,32.16 L18.84,-32.16 \" class=\"primitive\"/>\n",
       "  </g>\n",
       "  <g transform=\"translate(70.71,79.46)\">\n",
       "    <path fill=\"none\" d=\"M-36.46,0 L36.46,0 \" class=\"primitive\"/>\n",
       "  </g>\n",
       "  <g transform=\"translate(70.71,50)\">\n",
       "    <path fill=\"none\" d=\"M-37.98,26.86 L37.98,-26.86 \" class=\"primitive\"/>\n",
       "  </g>\n",
       "  <g transform=\"translate(62.08,64.73)\">\n",
       "    <path fill=\"none\" d=\"M-45.48,-13.32 L45.48,13.32 \" class=\"primitive\"/>\n",
       "  </g>\n",
       "  <g transform=\"translate(41.25,70.83)\">\n",
       "    <path fill=\"none\" d=\"M-25.78,-18.23 L25.78,18.23 \" class=\"primitive\"/>\n",
       "  </g>\n",
       "  <g transform=\"translate(20.41,64.73)\">\n",
       "    <path fill=\"none\" d=\"M-6.64,-11.33 L6.64,11.33 \" class=\"primitive\"/>\n",
       "  </g>\n",
       "  <g transform=\"translate(49.88,56.1)\">\n",
       "    <path fill=\"none\" d=\"M-18.84,-32.16 L18.84,32.16 \" class=\"primitive\"/>\n",
       "  </g>\n",
       "  <g transform=\"translate(49.88,14.44)\">\n",
       "    <path fill=\"none\" d=\"M-16.02,4.69 L16.02,-4.69 \" class=\"primitive\"/>\n",
       "  </g>\n",
       "  <g transform=\"translate(70.71,20.54)\">\n",
       "    <path fill=\"none\" d=\"M-36.46,0 L36.46,-0 \" class=\"primitive\"/>\n",
       "  </g>\n",
       "  <g transform=\"translate(100.17,29.17)\">\n",
       "    <path fill=\"none\" d=\"M-25.78,-18.23 L25.78,18.23 \" class=\"primitive\"/>\n",
       "  </g>\n",
       "  <g transform=\"translate(49.88,14.44)\">\n",
       "    <path fill=\"none\" d=\"M16.02,-4.69 L-16.02,4.69 \" class=\"primitive\"/>\n",
       "  </g>\n",
       "  <g transform=\"translate(121.01,35.27)\">\n",
       "    <path fill=\"none\" d=\"M-6.64,-11.33 L6.64,11.33 \" class=\"primitive\"/>\n",
       "  </g>\n",
       "  <g transform=\"translate(112.38,50)\">\n",
       "    <path fill=\"none\" d=\"M0,-25.78 L0,25.78 \" class=\"primitive\"/>\n",
       "  </g>\n",
       "  <g transform=\"translate(70.71,50)\">\n",
       "    <path fill=\"none\" d=\"M37.98,-26.86 L-37.98,26.86 \" class=\"primitive\"/>\n",
       "  </g>\n",
       "</g>\n",
       "<g stroke-width=\"1.06\" stroke=\"#D3D3D3\" id=\"img-335c11e8-2\">\n",
       "  <g transform=\"translate(20.68,50)\">\n",
       "    <path fill=\"none\" d=\"M1.85,1.43 L-3.69,0 1.85,-1.43 \" class=\"primitive\"/>\n",
       "  </g>\n",
       "  <g transform=\"translate(126.23,55.81)\">\n",
       "    <path fill=\"none\" d=\"M-2.57,0.66 L1.41,-2.41 1.16,1.75 \" class=\"primitive\"/>\n",
       "  </g>\n",
       "  <g transform=\"translate(78.93,89.26)\">\n",
       "    <path fill=\"none\" d=\"M2.48,0.82 L-3.41,1 0.93,-1.82 \" class=\"primitive\"/>\n",
       "  </g>\n",
       "  <g transform=\"translate(20.01,52.41)\">\n",
       "    <path fill=\"none\" d=\"M0.93,1.82 L-3.41,-1 2.48,-0.82 \" class=\"primitive\"/>\n",
       "  </g>\n",
       "  <g transform=\"translate(35.34,24.99)\">\n",
       "    <path fill=\"none\" d=\"M-0.12,1.93 L-2.61,-1.85 2.73,-0.08 \" class=\"primitive\"/>\n",
       "  </g>\n",
       "  <g transform=\"translate(108.97,26.35)\">\n",
       "    <path fill=\"none\" d=\"M-2.57,0.66 L1.41,-2.41 1.16,1.75 \" class=\"primitive\"/>\n",
       "  </g>\n",
       "  <g transform=\"translate(103.48,79.46)\">\n",
       "    <path fill=\"none\" d=\"M-1.85,-1.43 L3.69,0 -1.85,1.43 \" class=\"primitive\"/>\n",
       "  </g>\n",
       "  <g transform=\"translate(106.08,24.99)\">\n",
       "    <path fill=\"none\" d=\"M-2.73,-0.08 L2.61,-1.85 0.12,1.93 \" class=\"primitive\"/>\n",
       "  </g>\n",
       "  <g transform=\"translate(104.16,77.05)\">\n",
       "    <path fill=\"none\" d=\"M-0.93,-1.82 L3.41,1 -2.48,0.82 \" class=\"primitive\"/>\n",
       "  </g>\n",
       "  <g transform=\"translate(64.42,87.22)\">\n",
       "    <path fill=\"none\" d=\"M0.12,-1.93 L2.61,1.85 -2.73,0.08 \" class=\"primitive\"/>\n",
       "  </g>\n",
       "  <g transform=\"translate(25.64,73.65)\">\n",
       "    <path fill=\"none\" d=\"M1.16,-1.75 L1.41,2.41 -2.57,-0.66 \" class=\"primitive\"/>\n",
       "  </g>\n",
       "  <g transform=\"translate(67.3,85.85)\">\n",
       "    <path fill=\"none\" d=\"M1.16,-1.75 L1.41,2.41 -2.57,-0.66 \" class=\"primitive\"/>\n",
       "  </g>\n",
       "  <g transform=\"translate(62.49,10.74)\">\n",
       "    <path fill=\"none\" d=\"M-2.48,-0.82 L3.41,-1 -0.93,1.82 \" class=\"primitive\"/>\n",
       "  </g>\n",
       "  <g transform=\"translate(103.48,20.54)\">\n",
       "    <path fill=\"none\" d=\"M-1.85,-1.43 L3.69,0 -1.85,1.43 \" class=\"primitive\"/>\n",
       "  </g>\n",
       "  <g transform=\"translate(123.34,45.55)\">\n",
       "    <path fill=\"none\" d=\"M0.12,-1.93 L2.61,1.85 -2.73,0.08 \" class=\"primitive\"/>\n",
       "  </g>\n",
       "  <g transform=\"translate(37.27,18.13)\">\n",
       "    <path fill=\"none\" d=\"M2.48,0.82 L-3.41,1 0.93,-1.82 \" class=\"primitive\"/>\n",
       "  </g>\n",
       "  <g transform=\"translate(126.23,44.19)\">\n",
       "    <path fill=\"none\" d=\"M1.16,-1.75 L1.41,2.41 -2.57,-0.66 \" class=\"primitive\"/>\n",
       "  </g>\n",
       "  <g transform=\"translate(112.38,73.17)\">\n",
       "    <path fill=\"none\" d=\"M2.02,-1.31 L0,2.61 -2.02,-1.31 \" class=\"primitive\"/>\n",
       "  </g>\n",
       "  <g transform=\"translate(35.34,75.01)\">\n",
       "    <path fill=\"none\" d=\"M2.73,0.08 L-2.61,1.85 -0.12,-1.93 \" class=\"primitive\"/>\n",
       "  </g>\n",
       "</g>\n",
       "<g font-size=\"4\" stroke=\"#000000\" stroke-opacity=\"0.000\" fill=\"#000000\" id=\"img-335c11e8-3\">\n",
       "</g>\n",
       "<g stroke-width=\"0\" stroke=\"#000000\" stroke-opacity=\"0.000\" fill=\"#40E0D0\" id=\"img-335c11e8-4\">\n",
       "  <g transform=\"translate(129.64,50)\">\n",
       "    <circle cx=\"0\" cy=\"0\" r=\"5\" class=\"primitive\"/>\n",
       "  </g>\n",
       "  <g transform=\"translate(112.38,79.46)\">\n",
       "    <circle cx=\"0\" cy=\"0\" r=\"5\" class=\"primitive\"/>\n",
       "  </g>\n",
       "  <g transform=\"translate(70.71,91.67)\">\n",
       "    <circle cx=\"0\" cy=\"0\" r=\"5\" class=\"primitive\"/>\n",
       "  </g>\n",
       "  <g transform=\"translate(29.04,79.46)\">\n",
       "    <circle cx=\"0\" cy=\"0\" r=\"5\" class=\"primitive\"/>\n",
       "  </g>\n",
       "  <g transform=\"translate(11.79,50)\">\n",
       "    <circle cx=\"0\" cy=\"0\" r=\"5\" class=\"primitive\"/>\n",
       "  </g>\n",
       "  <g transform=\"translate(29.04,20.54)\">\n",
       "    <circle cx=\"0\" cy=\"0\" r=\"5\" class=\"primitive\"/>\n",
       "  </g>\n",
       "  <g transform=\"translate(70.71,8.33)\">\n",
       "    <circle cx=\"0\" cy=\"0\" r=\"5\" class=\"primitive\"/>\n",
       "  </g>\n",
       "  <g transform=\"translate(112.38,20.54)\">\n",
       "    <circle cx=\"0\" cy=\"0\" r=\"5\" class=\"primitive\"/>\n",
       "  </g>\n",
       "</g>\n",
       "<g font-size=\"4\" stroke=\"#000000\" stroke-opacity=\"0.000\" fill=\"#000000\" id=\"img-335c11e8-5\">\n",
       "  <g transform=\"translate(129.64,50)\">\n",
       "    <g class=\"primitive\">\n",
       "      <text text-anchor=\"middle\" dy=\"0.35em\">1</text>\n",
       "    </g>\n",
       "  </g>\n",
       "  <g transform=\"translate(112.38,79.46)\">\n",
       "    <g class=\"primitive\">\n",
       "      <text text-anchor=\"middle\" dy=\"0.35em\">2</text>\n",
       "    </g>\n",
       "  </g>\n",
       "  <g transform=\"translate(70.71,91.67)\">\n",
       "    <g class=\"primitive\">\n",
       "      <text text-anchor=\"middle\" dy=\"0.35em\">3</text>\n",
       "    </g>\n",
       "  </g>\n",
       "  <g transform=\"translate(29.04,79.46)\">\n",
       "    <g class=\"primitive\">\n",
       "      <text text-anchor=\"middle\" dy=\"0.35em\">4</text>\n",
       "    </g>\n",
       "  </g>\n",
       "  <g transform=\"translate(11.79,50)\">\n",
       "    <g class=\"primitive\">\n",
       "      <text text-anchor=\"middle\" dy=\"0.35em\">5</text>\n",
       "    </g>\n",
       "  </g>\n",
       "  <g transform=\"translate(29.04,20.54)\">\n",
       "    <g class=\"primitive\">\n",
       "      <text text-anchor=\"middle\" dy=\"0.35em\">6</text>\n",
       "    </g>\n",
       "  </g>\n",
       "  <g transform=\"translate(70.71,8.33)\">\n",
       "    <g class=\"primitive\">\n",
       "      <text text-anchor=\"middle\" dy=\"0.35em\">7</text>\n",
       "    </g>\n",
       "  </g>\n",
       "  <g transform=\"translate(112.38,20.54)\">\n",
       "    <g class=\"primitive\">\n",
       "      <text text-anchor=\"middle\" dy=\"0.35em\">8</text>\n",
       "    </g>\n",
       "  </g>\n",
       "</g>\n",
       "</svg>\n"
      ],
      "text/html": [
       "<?xml version=\"1.0\" encoding=\"UTF-8\"?>\n",
       "<svg xmlns=\"http://www.w3.org/2000/svg\"\n",
       "     xmlns:xlink=\"http://www.w3.org/1999/xlink\"\n",
       "     version=\"1.2\"\n",
       "     width=\"141.42mm\" height=\"100mm\" viewBox=\"0 0 141.42 100\"\n",
       "     stroke=\"none\"\n",
       "     fill=\"#000000\"\n",
       "     stroke-width=\"0.3\"\n",
       "     font-size=\"3.88\"\n",
       "\n",
       "     id=\"img-731a6550\">\n",
       "<defs>\n",
       "  <marker id=\"arrow\" markerWidth=\"15\" markerHeight=\"7\" refX=\"5\" refY=\"3.5\" orient=\"auto\" markerUnits=\"strokeWidth\">\n",
       "    <path d=\"M0,0 L15,3.5 L0,7 z\" stroke=\"context-stroke\" fill=\"context-stroke\"/>\n",
       "  </marker>\n",
       "</defs>\n",
       "<g stroke-width=\"1.06\" fill=\"#000000\" fill-opacity=\"0.000\" stroke=\"#D3D3D3\" id=\"img-731a6550-1\">\n",
       "  <g transform=\"translate(70.71,50)\">\n",
       "    <path fill=\"none\" d=\"M53.72,-0 L-53.72,0 \" class=\"primitive\"/>\n",
       "  </g>\n",
       "  <g transform=\"translate(121.01,64.73)\">\n",
       "    <path fill=\"none\" d=\"M-6.64,11.33 L6.64,-11.33 \" class=\"primitive\"/>\n",
       "  </g>\n",
       "  <g transform=\"translate(91.54,85.56)\">\n",
       "    <path fill=\"none\" d=\"M16.02,-4.69 L-16.02,4.69 \" class=\"primitive\"/>\n",
       "  </g>\n",
       "  <g transform=\"translate(62.08,64.73)\">\n",
       "    <path fill=\"none\" d=\"M45.48,13.32 L-45.48,-13.32 \" class=\"primitive\"/>\n",
       "  </g>\n",
       "  <g transform=\"translate(70.71,50)\">\n",
       "    <path fill=\"none\" d=\"M37.98,26.86 L-37.98,-26.86 \" class=\"primitive\"/>\n",
       "  </g>\n",
       "  <g transform=\"translate(91.54,56.1)\">\n",
       "    <path fill=\"none\" d=\"M-18.84,32.16 L18.84,-32.16 \" class=\"primitive\"/>\n",
       "  </g>\n",
       "  <g transform=\"translate(70.71,79.46)\">\n",
       "    <path fill=\"none\" d=\"M-36.46,0 L36.46,0 \" class=\"primitive\"/>\n",
       "  </g>\n",
       "  <g transform=\"translate(70.71,50)\">\n",
       "    <path fill=\"none\" d=\"M-37.98,26.86 L37.98,-26.86 \" class=\"primitive\"/>\n",
       "  </g>\n",
       "  <g transform=\"translate(62.08,64.73)\">\n",
       "    <path fill=\"none\" d=\"M-45.48,-13.32 L45.48,13.32 \" class=\"primitive\"/>\n",
       "  </g>\n",
       "  <g transform=\"translate(41.25,70.83)\">\n",
       "    <path fill=\"none\" d=\"M-25.78,-18.23 L25.78,18.23 \" class=\"primitive\"/>\n",
       "  </g>\n",
       "  <g transform=\"translate(20.41,64.73)\">\n",
       "    <path fill=\"none\" d=\"M-6.64,-11.33 L6.64,11.33 \" class=\"primitive\"/>\n",
       "  </g>\n",
       "  <g transform=\"translate(49.88,56.1)\">\n",
       "    <path fill=\"none\" d=\"M-18.84,-32.16 L18.84,32.16 \" class=\"primitive\"/>\n",
       "  </g>\n",
       "  <g transform=\"translate(49.88,14.44)\">\n",
       "    <path fill=\"none\" d=\"M-16.02,4.69 L16.02,-4.69 \" class=\"primitive\"/>\n",
       "  </g>\n",
       "  <g transform=\"translate(70.71,20.54)\">\n",
       "    <path fill=\"none\" d=\"M-36.46,0 L36.46,-0 \" class=\"primitive\"/>\n",
       "  </g>\n",
       "  <g transform=\"translate(100.17,29.17)\">\n",
       "    <path fill=\"none\" d=\"M-25.78,-18.23 L25.78,18.23 \" class=\"primitive\"/>\n",
       "  </g>\n",
       "  <g transform=\"translate(49.88,14.44)\">\n",
       "    <path fill=\"none\" d=\"M16.02,-4.69 L-16.02,4.69 \" class=\"primitive\"/>\n",
       "  </g>\n",
       "  <g transform=\"translate(121.01,35.27)\">\n",
       "    <path fill=\"none\" d=\"M-6.64,-11.33 L6.64,11.33 \" class=\"primitive\"/>\n",
       "  </g>\n",
       "  <g transform=\"translate(112.38,50)\">\n",
       "    <path fill=\"none\" d=\"M0,-25.78 L0,25.78 \" class=\"primitive\"/>\n",
       "  </g>\n",
       "  <g transform=\"translate(70.71,50)\">\n",
       "    <path fill=\"none\" d=\"M37.98,-26.86 L-37.98,26.86 \" class=\"primitive\"/>\n",
       "  </g>\n",
       "</g>\n",
       "<g stroke-width=\"1.06\" stroke=\"#D3D3D3\" id=\"img-731a6550-2\">\n",
       "  <g transform=\"translate(20.68,50)\">\n",
       "    <path fill=\"none\" d=\"M1.85,1.43 L-3.69,0 1.85,-1.43 \" class=\"primitive\"/>\n",
       "  </g>\n",
       "  <g transform=\"translate(126.23,55.81)\">\n",
       "    <path fill=\"none\" d=\"M-2.57,0.66 L1.41,-2.41 1.16,1.75 \" class=\"primitive\"/>\n",
       "  </g>\n",
       "  <g transform=\"translate(78.93,89.26)\">\n",
       "    <path fill=\"none\" d=\"M2.48,0.82 L-3.41,1 0.93,-1.82 \" class=\"primitive\"/>\n",
       "  </g>\n",
       "  <g transform=\"translate(20.01,52.41)\">\n",
       "    <path fill=\"none\" d=\"M0.93,1.82 L-3.41,-1 2.48,-0.82 \" class=\"primitive\"/>\n",
       "  </g>\n",
       "  <g transform=\"translate(35.34,24.99)\">\n",
       "    <path fill=\"none\" d=\"M-0.12,1.93 L-2.61,-1.85 2.73,-0.08 \" class=\"primitive\"/>\n",
       "  </g>\n",
       "  <g transform=\"translate(108.97,26.35)\">\n",
       "    <path fill=\"none\" d=\"M-2.57,0.66 L1.41,-2.41 1.16,1.75 \" class=\"primitive\"/>\n",
       "  </g>\n",
       "  <g transform=\"translate(103.48,79.46)\">\n",
       "    <path fill=\"none\" d=\"M-1.85,-1.43 L3.69,0 -1.85,1.43 \" class=\"primitive\"/>\n",
       "  </g>\n",
       "  <g transform=\"translate(106.08,24.99)\">\n",
       "    <path fill=\"none\" d=\"M-2.73,-0.08 L2.61,-1.85 0.12,1.93 \" class=\"primitive\"/>\n",
       "  </g>\n",
       "  <g transform=\"translate(104.16,77.05)\">\n",
       "    <path fill=\"none\" d=\"M-0.93,-1.82 L3.41,1 -2.48,0.82 \" class=\"primitive\"/>\n",
       "  </g>\n",
       "  <g transform=\"translate(64.42,87.22)\">\n",
       "    <path fill=\"none\" d=\"M0.12,-1.93 L2.61,1.85 -2.73,0.08 \" class=\"primitive\"/>\n",
       "  </g>\n",
       "  <g transform=\"translate(25.64,73.65)\">\n",
       "    <path fill=\"none\" d=\"M1.16,-1.75 L1.41,2.41 -2.57,-0.66 \" class=\"primitive\"/>\n",
       "  </g>\n",
       "  <g transform=\"translate(67.3,85.85)\">\n",
       "    <path fill=\"none\" d=\"M1.16,-1.75 L1.41,2.41 -2.57,-0.66 \" class=\"primitive\"/>\n",
       "  </g>\n",
       "  <g transform=\"translate(62.49,10.74)\">\n",
       "    <path fill=\"none\" d=\"M-2.48,-0.82 L3.41,-1 -0.93,1.82 \" class=\"primitive\"/>\n",
       "  </g>\n",
       "  <g transform=\"translate(103.48,20.54)\">\n",
       "    <path fill=\"none\" d=\"M-1.85,-1.43 L3.69,0 -1.85,1.43 \" class=\"primitive\"/>\n",
       "  </g>\n",
       "  <g transform=\"translate(123.34,45.55)\">\n",
       "    <path fill=\"none\" d=\"M0.12,-1.93 L2.61,1.85 -2.73,0.08 \" class=\"primitive\"/>\n",
       "  </g>\n",
       "  <g transform=\"translate(37.27,18.13)\">\n",
       "    <path fill=\"none\" d=\"M2.48,0.82 L-3.41,1 0.93,-1.82 \" class=\"primitive\"/>\n",
       "  </g>\n",
       "  <g transform=\"translate(126.23,44.19)\">\n",
       "    <path fill=\"none\" d=\"M1.16,-1.75 L1.41,2.41 -2.57,-0.66 \" class=\"primitive\"/>\n",
       "  </g>\n",
       "  <g transform=\"translate(112.38,73.17)\">\n",
       "    <path fill=\"none\" d=\"M2.02,-1.31 L0,2.61 -2.02,-1.31 \" class=\"primitive\"/>\n",
       "  </g>\n",
       "  <g transform=\"translate(35.34,75.01)\">\n",
       "    <path fill=\"none\" d=\"M2.73,0.08 L-2.61,1.85 -0.12,-1.93 \" class=\"primitive\"/>\n",
       "  </g>\n",
       "</g>\n",
       "<g font-size=\"4\" stroke=\"#000000\" stroke-opacity=\"0.000\" fill=\"#000000\" id=\"img-731a6550-3\">\n",
       "</g>\n",
       "<g stroke-width=\"0\" stroke=\"#000000\" stroke-opacity=\"0.000\" fill=\"#40E0D0\" id=\"img-731a6550-4\">\n",
       "  <g transform=\"translate(129.64,50)\">\n",
       "    <circle cx=\"0\" cy=\"0\" r=\"5\" class=\"primitive\"/>\n",
       "  </g>\n",
       "  <g transform=\"translate(112.38,79.46)\">\n",
       "    <circle cx=\"0\" cy=\"0\" r=\"5\" class=\"primitive\"/>\n",
       "  </g>\n",
       "  <g transform=\"translate(70.71,91.67)\">\n",
       "    <circle cx=\"0\" cy=\"0\" r=\"5\" class=\"primitive\"/>\n",
       "  </g>\n",
       "  <g transform=\"translate(29.04,79.46)\">\n",
       "    <circle cx=\"0\" cy=\"0\" r=\"5\" class=\"primitive\"/>\n",
       "  </g>\n",
       "  <g transform=\"translate(11.79,50)\">\n",
       "    <circle cx=\"0\" cy=\"0\" r=\"5\" class=\"primitive\"/>\n",
       "  </g>\n",
       "  <g transform=\"translate(29.04,20.54)\">\n",
       "    <circle cx=\"0\" cy=\"0\" r=\"5\" class=\"primitive\"/>\n",
       "  </g>\n",
       "  <g transform=\"translate(70.71,8.33)\">\n",
       "    <circle cx=\"0\" cy=\"0\" r=\"5\" class=\"primitive\"/>\n",
       "  </g>\n",
       "  <g transform=\"translate(112.38,20.54)\">\n",
       "    <circle cx=\"0\" cy=\"0\" r=\"5\" class=\"primitive\"/>\n",
       "  </g>\n",
       "</g>\n",
       "<g font-size=\"4\" stroke=\"#000000\" stroke-opacity=\"0.000\" fill=\"#000000\" id=\"img-731a6550-5\">\n",
       "  <g transform=\"translate(129.64,50)\">\n",
       "    <g class=\"primitive\">\n",
       "      <text text-anchor=\"middle\" dy=\"0.35em\">1</text>\n",
       "    </g>\n",
       "  </g>\n",
       "  <g transform=\"translate(112.38,79.46)\">\n",
       "    <g class=\"primitive\">\n",
       "      <text text-anchor=\"middle\" dy=\"0.35em\">2</text>\n",
       "    </g>\n",
       "  </g>\n",
       "  <g transform=\"translate(70.71,91.67)\">\n",
       "    <g class=\"primitive\">\n",
       "      <text text-anchor=\"middle\" dy=\"0.35em\">3</text>\n",
       "    </g>\n",
       "  </g>\n",
       "  <g transform=\"translate(29.04,79.46)\">\n",
       "    <g class=\"primitive\">\n",
       "      <text text-anchor=\"middle\" dy=\"0.35em\">4</text>\n",
       "    </g>\n",
       "  </g>\n",
       "  <g transform=\"translate(11.79,50)\">\n",
       "    <g class=\"primitive\">\n",
       "      <text text-anchor=\"middle\" dy=\"0.35em\">5</text>\n",
       "    </g>\n",
       "  </g>\n",
       "  <g transform=\"translate(29.04,20.54)\">\n",
       "    <g class=\"primitive\">\n",
       "      <text text-anchor=\"middle\" dy=\"0.35em\">6</text>\n",
       "    </g>\n",
       "  </g>\n",
       "  <g transform=\"translate(70.71,8.33)\">\n",
       "    <g class=\"primitive\">\n",
       "      <text text-anchor=\"middle\" dy=\"0.35em\">7</text>\n",
       "    </g>\n",
       "  </g>\n",
       "  <g transform=\"translate(112.38,20.54)\">\n",
       "    <g class=\"primitive\">\n",
       "      <text text-anchor=\"middle\" dy=\"0.35em\">8</text>\n",
       "    </g>\n",
       "  </g>\n",
       "</g>\n",
       "<script> <![CDATA[\n",
       "(function(N){var k=/[\\.\\/]/,L=/\\s*,\\s*/,C=function(a,d){return a-d},a,v,y={n:{}},M=function(){for(var a=0,d=this.length;a<d;a++)if(\"undefined\"!=typeof this[a])return this[a]},A=function(){for(var a=this.length;--a;)if(\"undefined\"!=typeof this[a])return this[a]},w=function(k,d){k=String(k);var f=v,n=Array.prototype.slice.call(arguments,2),u=w.listeners(k),p=0,b,q=[],e={},l=[],r=a;l.firstDefined=M;l.lastDefined=A;a=k;for(var s=v=0,x=u.length;s<x;s++)\"zIndex\"in u[s]&&(q.push(u[s].zIndex),0>u[s].zIndex&&\n",
       "(e[u[s].zIndex]=u[s]));for(q.sort(C);0>q[p];)if(b=e[q[p++] ],l.push(b.apply(d,n)),v)return v=f,l;for(s=0;s<x;s++)if(b=u[s],\"zIndex\"in b)if(b.zIndex==q[p]){l.push(b.apply(d,n));if(v)break;do if(p++,(b=e[q[p] ])&&l.push(b.apply(d,n)),v)break;while(b)}else e[b.zIndex]=b;else if(l.push(b.apply(d,n)),v)break;v=f;a=r;return l};w._events=y;w.listeners=function(a){a=a.split(k);var d=y,f,n,u,p,b,q,e,l=[d],r=[];u=0;for(p=a.length;u<p;u++){e=[];b=0;for(q=l.length;b<q;b++)for(d=l[b].n,f=[d[a[u] ],d[\"*\"] ],n=2;n--;)if(d=\n",
       "f[n])e.push(d),r=r.concat(d.f||[]);l=e}return r};w.on=function(a,d){a=String(a);if(\"function\"!=typeof d)return function(){};for(var f=a.split(L),n=0,u=f.length;n<u;n++)(function(a){a=a.split(k);for(var b=y,f,e=0,l=a.length;e<l;e++)b=b.n,b=b.hasOwnProperty(a[e])&&b[a[e] ]||(b[a[e] ]={n:{}});b.f=b.f||[];e=0;for(l=b.f.length;e<l;e++)if(b.f[e]==d){f=!0;break}!f&&b.f.push(d)})(f[n]);return function(a){+a==+a&&(d.zIndex=+a)}};w.f=function(a){var d=[].slice.call(arguments,1);return function(){w.apply(null,\n",
       "[a,null].concat(d).concat([].slice.call(arguments,0)))}};w.stop=function(){v=1};w.nt=function(k){return k?(new RegExp(\"(?:\\\\.|\\\\/|^)\"+k+\"(?:\\\\.|\\\\/|$)\")).test(a):a};w.nts=function(){return a.split(k)};w.off=w.unbind=function(a,d){if(a){var f=a.split(L);if(1<f.length)for(var n=0,u=f.length;n<u;n++)w.off(f[n],d);else{for(var f=a.split(k),p,b,q,e,l=[y],n=0,u=f.length;n<u;n++)for(e=0;e<l.length;e+=q.length-2){q=[e,1];p=l[e].n;if(\"*\"!=f[n])p[f[n] ]&&q.push(p[f[n] ]);else for(b in p)p.hasOwnProperty(b)&&\n",
       "q.push(p[b]);l.splice.apply(l,q)}n=0;for(u=l.length;n<u;n++)for(p=l[n];p.n;){if(d){if(p.f){e=0;for(f=p.f.length;e<f;e++)if(p.f[e]==d){p.f.splice(e,1);break}!p.f.length&&delete p.f}for(b in p.n)if(p.n.hasOwnProperty(b)&&p.n[b].f){q=p.n[b].f;e=0;for(f=q.length;e<f;e++)if(q[e]==d){q.splice(e,1);break}!q.length&&delete p.n[b].f}}else for(b in delete p.f,p.n)p.n.hasOwnProperty(b)&&p.n[b].f&&delete p.n[b].f;p=p.n}}}else w._events=y={n:{}}};w.once=function(a,d){var f=function(){w.unbind(a,f);return d.apply(this,\n",
       "arguments)};return w.on(a,f)};w.version=\"0.4.2\";w.toString=function(){return\"You are running Eve 0.4.2\"};\"undefined\"!=typeof module&&module.exports?module.exports=w:\"function\"===typeof define&&define.amd?define(\"eve\",[],function(){return w}):N.eve=w})(this);\n",
       "(function(N,k){\"function\"===typeof define&&define.amd?define(\"Snap.svg\",[\"eve\"],function(L){return k(N,L)}):k(N,N.eve)})(this,function(N,k){var L=function(a){var k={},y=N.requestAnimationFrame||N.webkitRequestAnimationFrame||N.mozRequestAnimationFrame||N.oRequestAnimationFrame||N.msRequestAnimationFrame||function(a){setTimeout(a,16)},M=Array.isArray||function(a){return a instanceof Array||\"[object Array]\"==Object.prototype.toString.call(a)},A=0,w=\"M\"+(+new Date).toString(36),z=function(a){if(null==\n",
       "a)return this.s;var b=this.s-a;this.b+=this.dur*b;this.B+=this.dur*b;this.s=a},d=function(a){if(null==a)return this.spd;this.spd=a},f=function(a){if(null==a)return this.dur;this.s=this.s*a/this.dur;this.dur=a},n=function(){delete k[this.id];this.update();a(\"mina.stop.\"+this.id,this)},u=function(){this.pdif||(delete k[this.id],this.update(),this.pdif=this.get()-this.b)},p=function(){this.pdif&&(this.b=this.get()-this.pdif,delete this.pdif,k[this.id]=this)},b=function(){var a;if(M(this.start)){a=[];\n",
       "for(var b=0,e=this.start.length;b<e;b++)a[b]=+this.start[b]+(this.end[b]-this.start[b])*this.easing(this.s)}else a=+this.start+(this.end-this.start)*this.easing(this.s);this.set(a)},q=function(){var l=0,b;for(b in k)if(k.hasOwnProperty(b)){var e=k[b],f=e.get();l++;e.s=(f-e.b)/(e.dur/e.spd);1<=e.s&&(delete k[b],e.s=1,l--,function(b){setTimeout(function(){a(\"mina.finish.\"+b.id,b)})}(e));e.update()}l&&y(q)},e=function(a,r,s,x,G,h,J){a={id:w+(A++).toString(36),start:a,end:r,b:s,s:0,dur:x-s,spd:1,get:G,\n",
       "set:h,easing:J||e.linear,status:z,speed:d,duration:f,stop:n,pause:u,resume:p,update:b};k[a.id]=a;r=0;for(var K in k)if(k.hasOwnProperty(K)&&(r++,2==r))break;1==r&&y(q);return a};e.time=Date.now||function(){return+new Date};e.getById=function(a){return k[a]||null};e.linear=function(a){return a};e.easeout=function(a){return Math.pow(a,1.7)};e.easein=function(a){return Math.pow(a,0.48)};e.easeinout=function(a){if(1==a)return 1;if(0==a)return 0;var b=0.48-a/1.04,e=Math.sqrt(0.1734+b*b);a=e-b;a=Math.pow(Math.abs(a),\n",
       "1/3)*(0>a?-1:1);b=-e-b;b=Math.pow(Math.abs(b),1/3)*(0>b?-1:1);a=a+b+0.5;return 3*(1-a)*a*a+a*a*a};e.backin=function(a){return 1==a?1:a*a*(2.70158*a-1.70158)};e.backout=function(a){if(0==a)return 0;a-=1;return a*a*(2.70158*a+1.70158)+1};e.elastic=function(a){return a==!!a?a:Math.pow(2,-10*a)*Math.sin(2*(a-0.075)*Math.PI/0.3)+1};e.bounce=function(a){a<1/2.75?a*=7.5625*a:a<2/2.75?(a-=1.5/2.75,a=7.5625*a*a+0.75):a<2.5/2.75?(a-=2.25/2.75,a=7.5625*a*a+0.9375):(a-=2.625/2.75,a=7.5625*a*a+0.984375);return a};\n",
       "return N.mina=e}(\"undefined\"==typeof k?function(){}:k),C=function(){function a(c,t){if(c){if(c.tagName)return x(c);if(y(c,\"array\")&&a.set)return a.set.apply(a,c);if(c instanceof e)return c;if(null==t)return c=G.doc.querySelector(c),x(c)}return new s(null==c?\"100%\":c,null==t?\"100%\":t)}function v(c,a){if(a){\"#text\"==c&&(c=G.doc.createTextNode(a.text||\"\"));\"string\"==typeof c&&(c=v(c));if(\"string\"==typeof a)return\"xlink:\"==a.substring(0,6)?c.getAttributeNS(m,a.substring(6)):\"xml:\"==a.substring(0,4)?c.getAttributeNS(la,\n",
       "a.substring(4)):c.getAttribute(a);for(var da in a)if(a[h](da)){var b=J(a[da]);b?\"xlink:\"==da.substring(0,6)?c.setAttributeNS(m,da.substring(6),b):\"xml:\"==da.substring(0,4)?c.setAttributeNS(la,da.substring(4),b):c.setAttribute(da,b):c.removeAttribute(da)}}else c=G.doc.createElementNS(la,c);return c}function y(c,a){a=J.prototype.toLowerCase.call(a);return\"finite\"==a?isFinite(c):\"array\"==a&&(c instanceof Array||Array.isArray&&Array.isArray(c))?!0:\"null\"==a&&null===c||a==typeof c&&null!==c||\"object\"==\n",
       "a&&c===Object(c)||$.call(c).slice(8,-1).toLowerCase()==a}function M(c){if(\"function\"==typeof c||Object(c)!==c)return c;var a=new c.constructor,b;for(b in c)c[h](b)&&(a[b]=M(c[b]));return a}function A(c,a,b){function m(){var e=Array.prototype.slice.call(arguments,0),f=e.join(\"\\u2400\"),d=m.cache=m.cache||{},l=m.count=m.count||[];if(d[h](f)){a:for(var e=l,l=f,B=0,H=e.length;B<H;B++)if(e[B]===l){e.push(e.splice(B,1)[0]);break a}return b?b(d[f]):d[f]}1E3<=l.length&&delete d[l.shift()];l.push(f);d[f]=c.apply(a,\n",
       "e);return b?b(d[f]):d[f]}return m}function w(c,a,b,m,e,f){return null==e?(c-=b,a-=m,c||a?(180*I.atan2(-a,-c)/C+540)%360:0):w(c,a,e,f)-w(b,m,e,f)}function z(c){return c%360*C/180}function d(c){var a=[];c=c.replace(/(?:^|\\s)(\\w+)\\(([^)]+)\\)/g,function(c,b,m){m=m.split(/\\s*,\\s*|\\s+/);\"rotate\"==b&&1==m.length&&m.push(0,0);\"scale\"==b&&(2<m.length?m=m.slice(0,2):2==m.length&&m.push(0,0),1==m.length&&m.push(m[0],0,0));\"skewX\"==b?a.push([\"m\",1,0,I.tan(z(m[0])),1,0,0]):\"skewY\"==b?a.push([\"m\",1,I.tan(z(m[0])),\n",
       "0,1,0,0]):a.push([b.charAt(0)].concat(m));return c});return a}function f(c,t){var b=O(c),m=new a.Matrix;if(b)for(var e=0,f=b.length;e<f;e++){var h=b[e],d=h.length,B=J(h[0]).toLowerCase(),H=h[0]!=B,l=H?m.invert():0,E;\"t\"==B&&2==d?m.translate(h[1],0):\"t\"==B&&3==d?H?(d=l.x(0,0),B=l.y(0,0),H=l.x(h[1],h[2]),l=l.y(h[1],h[2]),m.translate(H-d,l-B)):m.translate(h[1],h[2]):\"r\"==B?2==d?(E=E||t,m.rotate(h[1],E.x+E.width/2,E.y+E.height/2)):4==d&&(H?(H=l.x(h[2],h[3]),l=l.y(h[2],h[3]),m.rotate(h[1],H,l)):m.rotate(h[1],\n",
       "h[2],h[3])):\"s\"==B?2==d||3==d?(E=E||t,m.scale(h[1],h[d-1],E.x+E.width/2,E.y+E.height/2)):4==d?H?(H=l.x(h[2],h[3]),l=l.y(h[2],h[3]),m.scale(h[1],h[1],H,l)):m.scale(h[1],h[1],h[2],h[3]):5==d&&(H?(H=l.x(h[3],h[4]),l=l.y(h[3],h[4]),m.scale(h[1],h[2],H,l)):m.scale(h[1],h[2],h[3],h[4])):\"m\"==B&&7==d&&m.add(h[1],h[2],h[3],h[4],h[5],h[6])}return m}function n(c,t){if(null==t){var m=!0;t=\"linearGradient\"==c.type||\"radialGradient\"==c.type?c.node.getAttribute(\"gradientTransform\"):\"pattern\"==c.type?c.node.getAttribute(\"patternTransform\"):\n",
       "c.node.getAttribute(\"transform\");if(!t)return new a.Matrix;t=d(t)}else t=a._.rgTransform.test(t)?J(t).replace(/\\.{3}|\\u2026/g,c._.transform||aa):d(t),y(t,\"array\")&&(t=a.path?a.path.toString.call(t):J(t)),c._.transform=t;var b=f(t,c.getBBox(1));if(m)return b;c.matrix=b}function u(c){c=c.node.ownerSVGElement&&x(c.node.ownerSVGElement)||c.node.parentNode&&x(c.node.parentNode)||a.select(\"svg\")||a(0,0);var t=c.select(\"defs\"),t=null==t?!1:t.node;t||(t=r(\"defs\",c.node).node);return t}function p(c){return c.node.ownerSVGElement&&\n",
       "x(c.node.ownerSVGElement)||a.select(\"svg\")}function b(c,a,m){function b(c){if(null==c)return aa;if(c==+c)return c;v(B,{width:c});try{return B.getBBox().width}catch(a){return 0}}function h(c){if(null==c)return aa;if(c==+c)return c;v(B,{height:c});try{return B.getBBox().height}catch(a){return 0}}function e(b,B){null==a?d[b]=B(c.attr(b)||0):b==a&&(d=B(null==m?c.attr(b)||0:m))}var f=p(c).node,d={},B=f.querySelector(\".svg---mgr\");B||(B=v(\"rect\"),v(B,{x:-9E9,y:-9E9,width:10,height:10,\"class\":\"svg---mgr\",\n",
       "fill:\"none\"}),f.appendChild(B));switch(c.type){case \"rect\":e(\"rx\",b),e(\"ry\",h);case \"image\":e(\"width\",b),e(\"height\",h);case \"text\":e(\"x\",b);e(\"y\",h);break;case \"circle\":e(\"cx\",b);e(\"cy\",h);e(\"r\",b);break;case \"ellipse\":e(\"cx\",b);e(\"cy\",h);e(\"rx\",b);e(\"ry\",h);break;case \"line\":e(\"x1\",b);e(\"x2\",b);e(\"y1\",h);e(\"y2\",h);break;case \"marker\":e(\"refX\",b);e(\"markerWidth\",b);e(\"refY\",h);e(\"markerHeight\",h);break;case \"radialGradient\":e(\"fx\",b);e(\"fy\",h);break;case \"tspan\":e(\"dx\",b);e(\"dy\",h);break;default:e(a,\n",
       "b)}f.removeChild(B);return d}function q(c){y(c,\"array\")||(c=Array.prototype.slice.call(arguments,0));for(var a=0,b=0,m=this.node;this[a];)delete this[a++];for(a=0;a<c.length;a++)\"set\"==c[a].type?c[a].forEach(function(c){m.appendChild(c.node)}):m.appendChild(c[a].node);for(var h=m.childNodes,a=0;a<h.length;a++)this[b++]=x(h[a]);return this}function e(c){if(c.snap in E)return E[c.snap];var a=this.id=V(),b;try{b=c.ownerSVGElement}catch(m){}this.node=c;b&&(this.paper=new s(b));this.type=c.tagName;this.anims=\n",
       "{};this._={transform:[]};c.snap=a;E[a]=this;\"g\"==this.type&&(this.add=q);if(this.type in{g:1,mask:1,pattern:1})for(var e in s.prototype)s.prototype[h](e)&&(this[e]=s.prototype[e])}function l(c){this.node=c}function r(c,a){var b=v(c);a.appendChild(b);return x(b)}function s(c,a){var b,m,f,d=s.prototype;if(c&&\"svg\"==c.tagName){if(c.snap in E)return E[c.snap];var l=c.ownerDocument;b=new e(c);m=c.getElementsByTagName(\"desc\")[0];f=c.getElementsByTagName(\"defs\")[0];m||(m=v(\"desc\"),m.appendChild(l.createTextNode(\"Created with Snap\")),\n",
       "b.node.appendChild(m));f||(f=v(\"defs\"),b.node.appendChild(f));b.defs=f;for(var ca in d)d[h](ca)&&(b[ca]=d[ca]);b.paper=b.root=b}else b=r(\"svg\",G.doc.body),v(b.node,{height:a,version:1.1,width:c,xmlns:la});return b}function x(c){return!c||c instanceof e||c instanceof l?c:c.tagName&&\"svg\"==c.tagName.toLowerCase()?new s(c):c.tagName&&\"object\"==c.tagName.toLowerCase()&&\"image/svg+xml\"==c.type?new s(c.contentDocument.getElementsByTagName(\"svg\")[0]):new e(c)}a.version=\"0.3.0\";a.toString=function(){return\"Snap v\"+\n",
       "this.version};a._={};var G={win:N,doc:N.document};a._.glob=G;var h=\"hasOwnProperty\",J=String,K=parseFloat,U=parseInt,I=Math,P=I.max,Q=I.min,Y=I.abs,C=I.PI,aa=\"\",$=Object.prototype.toString,F=/^\\s*((#[a-f\\d]{6})|(#[a-f\\d]{3})|rgba?\\(\\s*([\\d\\.]+%?\\s*,\\s*[\\d\\.]+%?\\s*,\\s*[\\d\\.]+%?(?:\\s*,\\s*[\\d\\.]+%?)?)\\s*\\)|hsba?\\(\\s*([\\d\\.]+(?:deg|\\xb0|%)?\\s*,\\s*[\\d\\.]+%?\\s*,\\s*[\\d\\.]+(?:%?\\s*,\\s*[\\d\\.]+)?%?)\\s*\\)|hsla?\\(\\s*([\\d\\.]+(?:deg|\\xb0|%)?\\s*,\\s*[\\d\\.]+%?\\s*,\\s*[\\d\\.]+(?:%?\\s*,\\s*[\\d\\.]+)?%?)\\s*\\))\\s*$/i;a._.separator=\n",
       "RegExp(\"[,\\t\\n\\x0B\\f\\r \\u00a0\\u1680\\u180e\\u2000\\u2001\\u2002\\u2003\\u2004\\u2005\\u2006\\u2007\\u2008\\u2009\\u200a\\u202f\\u205f\\u3000\\u2028\\u2029]+\");var S=RegExp(\"[\\t\\n\\x0B\\f\\r \\u00a0\\u1680\\u180e\\u2000\\u2001\\u2002\\u2003\\u2004\\u2005\\u2006\\u2007\\u2008\\u2009\\u200a\\u202f\\u205f\\u3000\\u2028\\u2029]*,[\\t\\n\\x0B\\f\\r \\u00a0\\u1680\\u180e\\u2000\\u2001\\u2002\\u2003\\u2004\\u2005\\u2006\\u2007\\u2008\\u2009\\u200a\\u202f\\u205f\\u3000\\u2028\\u2029]*\"),X={hs:1,rg:1},W=RegExp(\"([a-z])[\\t\\n\\x0B\\f\\r \\u00a0\\u1680\\u180e\\u2000\\u2001\\u2002\\u2003\\u2004\\u2005\\u2006\\u2007\\u2008\\u2009\\u200a\\u202f\\u205f\\u3000\\u2028\\u2029,]*((-?\\\\d*\\\\.?\\\\d*(?:e[\\\\-+]?\\\\d+)?[\\t\\n\\x0B\\f\\r \\u00a0\\u1680\\u180e\\u2000\\u2001\\u2002\\u2003\\u2004\\u2005\\u2006\\u2007\\u2008\\u2009\\u200a\\u202f\\u205f\\u3000\\u2028\\u2029]*,?[\\t\\n\\x0B\\f\\r \\u00a0\\u1680\\u180e\\u2000\\u2001\\u2002\\u2003\\u2004\\u2005\\u2006\\u2007\\u2008\\u2009\\u200a\\u202f\\u205f\\u3000\\u2028\\u2029]*)+)\",\n",
       "\"ig\"),ma=RegExp(\"([rstm])[\\t\\n\\x0B\\f\\r \\u00a0\\u1680\\u180e\\u2000\\u2001\\u2002\\u2003\\u2004\\u2005\\u2006\\u2007\\u2008\\u2009\\u200a\\u202f\\u205f\\u3000\\u2028\\u2029,]*((-?\\\\d*\\\\.?\\\\d*(?:e[\\\\-+]?\\\\d+)?[\\t\\n\\x0B\\f\\r \\u00a0\\u1680\\u180e\\u2000\\u2001\\u2002\\u2003\\u2004\\u2005\\u2006\\u2007\\u2008\\u2009\\u200a\\u202f\\u205f\\u3000\\u2028\\u2029]*,?[\\t\\n\\x0B\\f\\r \\u00a0\\u1680\\u180e\\u2000\\u2001\\u2002\\u2003\\u2004\\u2005\\u2006\\u2007\\u2008\\u2009\\u200a\\u202f\\u205f\\u3000\\u2028\\u2029]*)+)\",\"ig\"),Z=RegExp(\"(-?\\\\d*\\\\.?\\\\d*(?:e[\\\\-+]?\\\\d+)?)[\\t\\n\\x0B\\f\\r \\u00a0\\u1680\\u180e\\u2000\\u2001\\u2002\\u2003\\u2004\\u2005\\u2006\\u2007\\u2008\\u2009\\u200a\\u202f\\u205f\\u3000\\u2028\\u2029]*,?[\\t\\n\\x0B\\f\\r \\u00a0\\u1680\\u180e\\u2000\\u2001\\u2002\\u2003\\u2004\\u2005\\u2006\\u2007\\u2008\\u2009\\u200a\\u202f\\u205f\\u3000\\u2028\\u2029]*\",\n",
       "\"ig\"),na=0,ba=\"S\"+(+new Date).toString(36),V=function(){return ba+(na++).toString(36)},m=\"http://www.w3.org/1999/xlink\",la=\"http://www.w3.org/2000/svg\",E={},ca=a.url=function(c){return\"url('#\"+c+\"')\"};a._.$=v;a._.id=V;a.format=function(){var c=/\\{([^\\}]+)\\}/g,a=/(?:(?:^|\\.)(.+?)(?=\\[|\\.|$|\\()|\\[('|\")(.+?)\\2\\])(\\(\\))?/g,b=function(c,b,m){var h=m;b.replace(a,function(c,a,b,m,t){a=a||m;h&&(a in h&&(h=h[a]),\"function\"==typeof h&&t&&(h=h()))});return h=(null==h||h==m?c:h)+\"\"};return function(a,m){return J(a).replace(c,\n",
       "function(c,a){return b(c,a,m)})}}();a._.clone=M;a._.cacher=A;a.rad=z;a.deg=function(c){return 180*c/C%360};a.angle=w;a.is=y;a.snapTo=function(c,a,b){b=y(b,\"finite\")?b:10;if(y(c,\"array\"))for(var m=c.length;m--;){if(Y(c[m]-a)<=b)return c[m]}else{c=+c;m=a%c;if(m<b)return a-m;if(m>c-b)return a-m+c}return a};a.getRGB=A(function(c){if(!c||(c=J(c)).indexOf(\"-\")+1)return{r:-1,g:-1,b:-1,hex:\"none\",error:1,toString:ka};if(\"none\"==c)return{r:-1,g:-1,b:-1,hex:\"none\",toString:ka};!X[h](c.toLowerCase().substring(0,\n",
       "2))&&\"#\"!=c.charAt()&&(c=T(c));if(!c)return{r:-1,g:-1,b:-1,hex:\"none\",error:1,toString:ka};var b,m,e,f,d;if(c=c.match(F)){c[2]&&(e=U(c[2].substring(5),16),m=U(c[2].substring(3,5),16),b=U(c[2].substring(1,3),16));c[3]&&(e=U((d=c[3].charAt(3))+d,16),m=U((d=c[3].charAt(2))+d,16),b=U((d=c[3].charAt(1))+d,16));c[4]&&(d=c[4].split(S),b=K(d[0]),\"%\"==d[0].slice(-1)&&(b*=2.55),m=K(d[1]),\"%\"==d[1].slice(-1)&&(m*=2.55),e=K(d[2]),\"%\"==d[2].slice(-1)&&(e*=2.55),\"rgba\"==c[1].toLowerCase().slice(0,4)&&(f=K(d[3])),\n",
       "d[3]&&\"%\"==d[3].slice(-1)&&(f/=100));if(c[5])return d=c[5].split(S),b=K(d[0]),\"%\"==d[0].slice(-1)&&(b/=100),m=K(d[1]),\"%\"==d[1].slice(-1)&&(m/=100),e=K(d[2]),\"%\"==d[2].slice(-1)&&(e/=100),\"deg\"!=d[0].slice(-3)&&\"\\u00b0\"!=d[0].slice(-1)||(b/=360),\"hsba\"==c[1].toLowerCase().slice(0,4)&&(f=K(d[3])),d[3]&&\"%\"==d[3].slice(-1)&&(f/=100),a.hsb2rgb(b,m,e,f);if(c[6])return d=c[6].split(S),b=K(d[0]),\"%\"==d[0].slice(-1)&&(b/=100),m=K(d[1]),\"%\"==d[1].slice(-1)&&(m/=100),e=K(d[2]),\"%\"==d[2].slice(-1)&&(e/=100),\n",
       "\"deg\"!=d[0].slice(-3)&&\"\\u00b0\"!=d[0].slice(-1)||(b/=360),\"hsla\"==c[1].toLowerCase().slice(0,4)&&(f=K(d[3])),d[3]&&\"%\"==d[3].slice(-1)&&(f/=100),a.hsl2rgb(b,m,e,f);b=Q(I.round(b),255);m=Q(I.round(m),255);e=Q(I.round(e),255);f=Q(P(f,0),1);c={r:b,g:m,b:e,toString:ka};c.hex=\"#\"+(16777216|e|m<<8|b<<16).toString(16).slice(1);c.opacity=y(f,\"finite\")?f:1;return c}return{r:-1,g:-1,b:-1,hex:\"none\",error:1,toString:ka}},a);a.hsb=A(function(c,b,m){return a.hsb2rgb(c,b,m).hex});a.hsl=A(function(c,b,m){return a.hsl2rgb(c,\n",
       "b,m).hex});a.rgb=A(function(c,a,b,m){if(y(m,\"finite\")){var e=I.round;return\"rgba(\"+[e(c),e(a),e(b),+m.toFixed(2)]+\")\"}return\"#\"+(16777216|b|a<<8|c<<16).toString(16).slice(1)});var T=function(c){var a=G.doc.getElementsByTagName(\"head\")[0]||G.doc.getElementsByTagName(\"svg\")[0];T=A(function(c){if(\"red\"==c.toLowerCase())return\"rgb(255, 0, 0)\";a.style.color=\"rgb(255, 0, 0)\";a.style.color=c;c=G.doc.defaultView.getComputedStyle(a,aa).getPropertyValue(\"color\");return\"rgb(255, 0, 0)\"==c?null:c});return T(c)},\n",
       "qa=function(){return\"hsb(\"+[this.h,this.s,this.b]+\")\"},ra=function(){return\"hsl(\"+[this.h,this.s,this.l]+\")\"},ka=function(){return 1==this.opacity||null==this.opacity?this.hex:\"rgba(\"+[this.r,this.g,this.b,this.opacity]+\")\"},D=function(c,b,m){null==b&&y(c,\"object\")&&\"r\"in c&&\"g\"in c&&\"b\"in c&&(m=c.b,b=c.g,c=c.r);null==b&&y(c,string)&&(m=a.getRGB(c),c=m.r,b=m.g,m=m.b);if(1<c||1<b||1<m)c/=255,b/=255,m/=255;return[c,b,m]},oa=function(c,b,m,e){c=I.round(255*c);b=I.round(255*b);m=I.round(255*m);c={r:c,\n",
       "g:b,b:m,opacity:y(e,\"finite\")?e:1,hex:a.rgb(c,b,m),toString:ka};y(e,\"finite\")&&(c.opacity=e);return c};a.color=function(c){var b;y(c,\"object\")&&\"h\"in c&&\"s\"in c&&\"b\"in c?(b=a.hsb2rgb(c),c.r=b.r,c.g=b.g,c.b=b.b,c.opacity=1,c.hex=b.hex):y(c,\"object\")&&\"h\"in c&&\"s\"in c&&\"l\"in c?(b=a.hsl2rgb(c),c.r=b.r,c.g=b.g,c.b=b.b,c.opacity=1,c.hex=b.hex):(y(c,\"string\")&&(c=a.getRGB(c)),y(c,\"object\")&&\"r\"in c&&\"g\"in c&&\"b\"in c&&!(\"error\"in c)?(b=a.rgb2hsl(c),c.h=b.h,c.s=b.s,c.l=b.l,b=a.rgb2hsb(c),c.v=b.b):(c={hex:\"none\"},\n",
       "c.r=c.g=c.b=c.h=c.s=c.v=c.l=-1,c.error=1));c.toString=ka;return c};a.hsb2rgb=function(c,a,b,m){y(c,\"object\")&&\"h\"in c&&\"s\"in c&&\"b\"in c&&(b=c.b,a=c.s,c=c.h,m=c.o);var e,h,d;c=360*c%360/60;d=b*a;a=d*(1-Y(c%2-1));b=e=h=b-d;c=~~c;b+=[d,a,0,0,a,d][c];e+=[a,d,d,a,0,0][c];h+=[0,0,a,d,d,a][c];return oa(b,e,h,m)};a.hsl2rgb=function(c,a,b,m){y(c,\"object\")&&\"h\"in c&&\"s\"in c&&\"l\"in c&&(b=c.l,a=c.s,c=c.h);if(1<c||1<a||1<b)c/=360,a/=100,b/=100;var e,h,d;c=360*c%360/60;d=2*a*(0.5>b?b:1-b);a=d*(1-Y(c%2-1));b=e=\n",
       "h=b-d/2;c=~~c;b+=[d,a,0,0,a,d][c];e+=[a,d,d,a,0,0][c];h+=[0,0,a,d,d,a][c];return oa(b,e,h,m)};a.rgb2hsb=function(c,a,b){b=D(c,a,b);c=b[0];a=b[1];b=b[2];var m,e;m=P(c,a,b);e=m-Q(c,a,b);c=((0==e?0:m==c?(a-b)/e:m==a?(b-c)/e+2:(c-a)/e+4)+360)%6*60/360;return{h:c,s:0==e?0:e/m,b:m,toString:qa}};a.rgb2hsl=function(c,a,b){b=D(c,a,b);c=b[0];a=b[1];b=b[2];var m,e,h;m=P(c,a,b);e=Q(c,a,b);h=m-e;c=((0==h?0:m==c?(a-b)/h:m==a?(b-c)/h+2:(c-a)/h+4)+360)%6*60/360;m=(m+e)/2;return{h:c,s:0==h?0:0.5>m?h/(2*m):h/(2-2*\n",
       "m),l:m,toString:ra}};a.parsePathString=function(c){if(!c)return null;var b=a.path(c);if(b.arr)return a.path.clone(b.arr);var m={a:7,c:6,o:2,h:1,l:2,m:2,r:4,q:4,s:4,t:2,v:1,u:3,z:0},e=[];y(c,\"array\")&&y(c[0],\"array\")&&(e=a.path.clone(c));e.length||J(c).replace(W,function(c,a,b){var h=[];c=a.toLowerCase();b.replace(Z,function(c,a){a&&h.push(+a)});\"m\"==c&&2<h.length&&(e.push([a].concat(h.splice(0,2))),c=\"l\",a=\"m\"==a?\"l\":\"L\");\"o\"==c&&1==h.length&&e.push([a,h[0] ]);if(\"r\"==c)e.push([a].concat(h));else for(;h.length>=\n",
       "m[c]&&(e.push([a].concat(h.splice(0,m[c]))),m[c]););});e.toString=a.path.toString;b.arr=a.path.clone(e);return e};var O=a.parseTransformString=function(c){if(!c)return null;var b=[];y(c,\"array\")&&y(c[0],\"array\")&&(b=a.path.clone(c));b.length||J(c).replace(ma,function(c,a,m){var e=[];a.toLowerCase();m.replace(Z,function(c,a){a&&e.push(+a)});b.push([a].concat(e))});b.toString=a.path.toString;return b};a._.svgTransform2string=d;a._.rgTransform=RegExp(\"^[a-z][\\t\\n\\x0B\\f\\r \\u00a0\\u1680\\u180e\\u2000\\u2001\\u2002\\u2003\\u2004\\u2005\\u2006\\u2007\\u2008\\u2009\\u200a\\u202f\\u205f\\u3000\\u2028\\u2029]*-?\\\\.?\\\\d\",\n",
       "\"i\");a._.transform2matrix=f;a._unit2px=b;a._.getSomeDefs=u;a._.getSomeSVG=p;a.select=function(c){return x(G.doc.querySelector(c))};a.selectAll=function(c){c=G.doc.querySelectorAll(c);for(var b=(a.set||Array)(),m=0;m<c.length;m++)b.push(x(c[m]));return b};setInterval(function(){for(var c in E)if(E[h](c)){var a=E[c],b=a.node;(\"svg\"!=a.type&&!b.ownerSVGElement||\"svg\"==a.type&&(!b.parentNode||\"ownerSVGElement\"in b.parentNode&&!b.ownerSVGElement))&&delete E[c]}},1E4);(function(c){function m(c){function a(c,\n",
       "b){var m=v(c.node,b);(m=(m=m&&m.match(d))&&m[2])&&\"#\"==m.charAt()&&(m=m.substring(1))&&(f[m]=(f[m]||[]).concat(function(a){var m={};m[b]=ca(a);v(c.node,m)}))}function b(c){var a=v(c.node,\"xlink:href\");a&&\"#\"==a.charAt()&&(a=a.substring(1))&&(f[a]=(f[a]||[]).concat(function(a){c.attr(\"xlink:href\",\"#\"+a)}))}var e=c.selectAll(\"*\"),h,d=/^\\s*url\\((\"|'|)(.*)\\1\\)\\s*$/;c=[];for(var f={},l=0,E=e.length;l<E;l++){h=e[l];a(h,\"fill\");a(h,\"stroke\");a(h,\"filter\");a(h,\"mask\");a(h,\"clip-path\");b(h);var t=v(h.node,\n",
       "\"id\");t&&(v(h.node,{id:h.id}),c.push({old:t,id:h.id}))}l=0;for(E=c.length;l<E;l++)if(e=f[c[l].old])for(h=0,t=e.length;h<t;h++)e[h](c[l].id)}function e(c,a,b){return function(m){m=m.slice(c,a);1==m.length&&(m=m[0]);return b?b(m):m}}function d(c){return function(){var a=c?\"<\"+this.type:\"\",b=this.node.attributes,m=this.node.childNodes;if(c)for(var e=0,h=b.length;e<h;e++)a+=\" \"+b[e].name+'=\"'+b[e].value.replace(/\"/g,'\\\\\"')+'\"';if(m.length){c&&(a+=\">\");e=0;for(h=m.length;e<h;e++)3==m[e].nodeType?a+=m[e].nodeValue:\n",
       "1==m[e].nodeType&&(a+=x(m[e]).toString());c&&(a+=\"</\"+this.type+\">\")}else c&&(a+=\"/>\");return a}}c.attr=function(c,a){if(!c)return this;if(y(c,\"string\"))if(1<arguments.length){var b={};b[c]=a;c=b}else return k(\"snap.util.getattr.\"+c,this).firstDefined();for(var m in c)c[h](m)&&k(\"snap.util.attr.\"+m,this,c[m]);return this};c.getBBox=function(c){if(!a.Matrix||!a.path)return this.node.getBBox();var b=this,m=new a.Matrix;if(b.removed)return a._.box();for(;\"use\"==b.type;)if(c||(m=m.add(b.transform().localMatrix.translate(b.attr(\"x\")||\n",
       "0,b.attr(\"y\")||0))),b.original)b=b.original;else var e=b.attr(\"xlink:href\"),b=b.original=b.node.ownerDocument.getElementById(e.substring(e.indexOf(\"#\")+1));var e=b._,h=a.path.get[b.type]||a.path.get.deflt;try{if(c)return e.bboxwt=h?a.path.getBBox(b.realPath=h(b)):a._.box(b.node.getBBox()),a._.box(e.bboxwt);b.realPath=h(b);b.matrix=b.transform().localMatrix;e.bbox=a.path.getBBox(a.path.map(b.realPath,m.add(b.matrix)));return a._.box(e.bbox)}catch(d){return a._.box()}};var f=function(){return this.string};\n",
       "c.transform=function(c){var b=this._;if(null==c){var m=this;c=new a.Matrix(this.node.getCTM());for(var e=n(this),h=[e],d=new a.Matrix,l=e.toTransformString(),b=J(e)==J(this.matrix)?J(b.transform):l;\"svg\"!=m.type&&(m=m.parent());)h.push(n(m));for(m=h.length;m--;)d.add(h[m]);return{string:b,globalMatrix:c,totalMatrix:d,localMatrix:e,diffMatrix:c.clone().add(e.invert()),global:c.toTransformString(),total:d.toTransformString(),local:l,toString:f}}c instanceof a.Matrix?this.matrix=c:n(this,c);this.node&&\n",
       "(\"linearGradient\"==this.type||\"radialGradient\"==this.type?v(this.node,{gradientTransform:this.matrix}):\"pattern\"==this.type?v(this.node,{patternTransform:this.matrix}):v(this.node,{transform:this.matrix}));return this};c.parent=function(){return x(this.node.parentNode)};c.append=c.add=function(c){if(c){if(\"set\"==c.type){var a=this;c.forEach(function(c){a.add(c)});return this}c=x(c);this.node.appendChild(c.node);c.paper=this.paper}return this};c.appendTo=function(c){c&&(c=x(c),c.append(this));return this};\n",
       "c.prepend=function(c){if(c){if(\"set\"==c.type){var a=this,b;c.forEach(function(c){b?b.after(c):a.prepend(c);b=c});return this}c=x(c);var m=c.parent();this.node.insertBefore(c.node,this.node.firstChild);this.add&&this.add();c.paper=this.paper;this.parent()&&this.parent().add();m&&m.add()}return this};c.prependTo=function(c){c=x(c);c.prepend(this);return this};c.before=function(c){if(\"set\"==c.type){var a=this;c.forEach(function(c){var b=c.parent();a.node.parentNode.insertBefore(c.node,a.node);b&&b.add()});\n",
       "this.parent().add();return this}c=x(c);var b=c.parent();this.node.parentNode.insertBefore(c.node,this.node);this.parent()&&this.parent().add();b&&b.add();c.paper=this.paper;return this};c.after=function(c){c=x(c);var a=c.parent();this.node.nextSibling?this.node.parentNode.insertBefore(c.node,this.node.nextSibling):this.node.parentNode.appendChild(c.node);this.parent()&&this.parent().add();a&&a.add();c.paper=this.paper;return this};c.insertBefore=function(c){c=x(c);var a=this.parent();c.node.parentNode.insertBefore(this.node,\n",
       "c.node);this.paper=c.paper;a&&a.add();c.parent()&&c.parent().add();return this};c.insertAfter=function(c){c=x(c);var a=this.parent();c.node.parentNode.insertBefore(this.node,c.node.nextSibling);this.paper=c.paper;a&&a.add();c.parent()&&c.parent().add();return this};c.remove=function(){var c=this.parent();this.node.parentNode&&this.node.parentNode.removeChild(this.node);delete this.paper;this.removed=!0;c&&c.add();return this};c.select=function(c){return x(this.node.querySelector(c))};c.selectAll=\n",
       "function(c){c=this.node.querySelectorAll(c);for(var b=(a.set||Array)(),m=0;m<c.length;m++)b.push(x(c[m]));return b};c.asPX=function(c,a){null==a&&(a=this.attr(c));return+b(this,c,a)};c.use=function(){var c,a=this.node.id;a||(a=this.id,v(this.node,{id:a}));c=\"linearGradient\"==this.type||\"radialGradient\"==this.type||\"pattern\"==this.type?r(this.type,this.node.parentNode):r(\"use\",this.node.parentNode);v(c.node,{\"xlink:href\":\"#\"+a});c.original=this;return c};var l=/\\S+/g;c.addClass=function(c){var a=(c||\n",
       "\"\").match(l)||[];c=this.node;var b=c.className.baseVal,m=b.match(l)||[],e,h,d;if(a.length){for(e=0;d=a[e++];)h=m.indexOf(d),~h||m.push(d);a=m.join(\" \");b!=a&&(c.className.baseVal=a)}return this};c.removeClass=function(c){var a=(c||\"\").match(l)||[];c=this.node;var b=c.className.baseVal,m=b.match(l)||[],e,h;if(m.length){for(e=0;h=a[e++];)h=m.indexOf(h),~h&&m.splice(h,1);a=m.join(\" \");b!=a&&(c.className.baseVal=a)}return this};c.hasClass=function(c){return!!~(this.node.className.baseVal.match(l)||[]).indexOf(c)};\n",
       "c.toggleClass=function(c,a){if(null!=a)return a?this.addClass(c):this.removeClass(c);var b=(c||\"\").match(l)||[],m=this.node,e=m.className.baseVal,h=e.match(l)||[],d,f,E;for(d=0;E=b[d++];)f=h.indexOf(E),~f?h.splice(f,1):h.push(E);b=h.join(\" \");e!=b&&(m.className.baseVal=b);return this};c.clone=function(){var c=x(this.node.cloneNode(!0));v(c.node,\"id\")&&v(c.node,{id:c.id});m(c);c.insertAfter(this);return c};c.toDefs=function(){u(this).appendChild(this.node);return this};c.pattern=c.toPattern=function(c,\n",
       "a,b,m){var e=r(\"pattern\",u(this));null==c&&(c=this.getBBox());y(c,\"object\")&&\"x\"in c&&(a=c.y,b=c.width,m=c.height,c=c.x);v(e.node,{x:c,y:a,width:b,height:m,patternUnits:\"userSpaceOnUse\",id:e.id,viewBox:[c,a,b,m].join(\" \")});e.node.appendChild(this.node);return e};c.marker=function(c,a,b,m,e,h){var d=r(\"marker\",u(this));null==c&&(c=this.getBBox());y(c,\"object\")&&\"x\"in c&&(a=c.y,b=c.width,m=c.height,e=c.refX||c.cx,h=c.refY||c.cy,c=c.x);v(d.node,{viewBox:[c,a,b,m].join(\" \"),markerWidth:b,markerHeight:m,\n",
       "orient:\"auto\",refX:e||0,refY:h||0,id:d.id});d.node.appendChild(this.node);return d};var E=function(c,a,b,m){\"function\"!=typeof b||b.length||(m=b,b=L.linear);this.attr=c;this.dur=a;b&&(this.easing=b);m&&(this.callback=m)};a._.Animation=E;a.animation=function(c,a,b,m){return new E(c,a,b,m)};c.inAnim=function(){var c=[],a;for(a in this.anims)this.anims[h](a)&&function(a){c.push({anim:new E(a._attrs,a.dur,a.easing,a._callback),mina:a,curStatus:a.status(),status:function(c){return a.status(c)},stop:function(){a.stop()}})}(this.anims[a]);\n",
       "return c};a.animate=function(c,a,b,m,e,h){\"function\"!=typeof e||e.length||(h=e,e=L.linear);var d=L.time();c=L(c,a,d,d+m,L.time,b,e);h&&k.once(\"mina.finish.\"+c.id,h);return c};c.stop=function(){for(var c=this.inAnim(),a=0,b=c.length;a<b;a++)c[a].stop();return this};c.animate=function(c,a,b,m){\"function\"!=typeof b||b.length||(m=b,b=L.linear);c instanceof E&&(m=c.callback,b=c.easing,a=b.dur,c=c.attr);var d=[],f=[],l={},t,ca,n,T=this,q;for(q in c)if(c[h](q)){T.equal?(n=T.equal(q,J(c[q])),t=n.from,ca=\n",
       "n.to,n=n.f):(t=+T.attr(q),ca=+c[q]);var la=y(t,\"array\")?t.length:1;l[q]=e(d.length,d.length+la,n);d=d.concat(t);f=f.concat(ca)}t=L.time();var p=L(d,f,t,t+a,L.time,function(c){var a={},b;for(b in l)l[h](b)&&(a[b]=l[b](c));T.attr(a)},b);T.anims[p.id]=p;p._attrs=c;p._callback=m;k(\"snap.animcreated.\"+T.id,p);k.once(\"mina.finish.\"+p.id,function(){delete T.anims[p.id];m&&m.call(T)});k.once(\"mina.stop.\"+p.id,function(){delete T.anims[p.id]});return T};var T={};c.data=function(c,b){var m=T[this.id]=T[this.id]||\n",
       "{};if(0==arguments.length)return k(\"snap.data.get.\"+this.id,this,m,null),m;if(1==arguments.length){if(a.is(c,\"object\")){for(var e in c)c[h](e)&&this.data(e,c[e]);return this}k(\"snap.data.get.\"+this.id,this,m[c],c);return m[c]}m[c]=b;k(\"snap.data.set.\"+this.id,this,b,c);return this};c.removeData=function(c){null==c?T[this.id]={}:T[this.id]&&delete T[this.id][c];return this};c.outerSVG=c.toString=d(1);c.innerSVG=d()})(e.prototype);a.parse=function(c){var a=G.doc.createDocumentFragment(),b=!0,m=G.doc.createElement(\"div\");\n",
       "c=J(c);c.match(/^\\s*<\\s*svg(?:\\s|>)/)||(c=\"<svg>\"+c+\"</svg>\",b=!1);m.innerHTML=c;if(c=m.getElementsByTagName(\"svg\")[0])if(b)a=c;else for(;c.firstChild;)a.appendChild(c.firstChild);m.innerHTML=aa;return new l(a)};l.prototype.select=e.prototype.select;l.prototype.selectAll=e.prototype.selectAll;a.fragment=function(){for(var c=Array.prototype.slice.call(arguments,0),b=G.doc.createDocumentFragment(),m=0,e=c.length;m<e;m++){var h=c[m];h.node&&h.node.nodeType&&b.appendChild(h.node);h.nodeType&&b.appendChild(h);\n",
       "\"string\"==typeof h&&b.appendChild(a.parse(h).node)}return new l(b)};a._.make=r;a._.wrap=x;s.prototype.el=function(c,a){var b=r(c,this.node);a&&b.attr(a);return b};k.on(\"snap.util.getattr\",function(){var c=k.nt(),c=c.substring(c.lastIndexOf(\".\")+1),a=c.replace(/[A-Z]/g,function(c){return\"-\"+c.toLowerCase()});return pa[h](a)?this.node.ownerDocument.defaultView.getComputedStyle(this.node,null).getPropertyValue(a):v(this.node,c)});var pa={\"alignment-baseline\":0,\"baseline-shift\":0,clip:0,\"clip-path\":0,\n",
       "\"clip-rule\":0,color:0,\"color-interpolation\":0,\"color-interpolation-filters\":0,\"color-profile\":0,\"color-rendering\":0,cursor:0,direction:0,display:0,\"dominant-baseline\":0,\"enable-background\":0,fill:0,\"fill-opacity\":0,\"fill-rule\":0,filter:0,\"flood-color\":0,\"flood-opacity\":0,font:0,\"font-family\":0,\"font-size\":0,\"font-size-adjust\":0,\"font-stretch\":0,\"font-style\":0,\"font-variant\":0,\"font-weight\":0,\"glyph-orientation-horizontal\":0,\"glyph-orientation-vertical\":0,\"image-rendering\":0,kerning:0,\"letter-spacing\":0,\n",
       "\"lighting-color\":0,marker:0,\"marker-end\":0,\"marker-mid\":0,\"marker-start\":0,mask:0,opacity:0,overflow:0,\"pointer-events\":0,\"shape-rendering\":0,\"stop-color\":0,\"stop-opacity\":0,stroke:0,\"stroke-dasharray\":0,\"stroke-dashoffset\":0,\"stroke-linecap\":0,\"stroke-linejoin\":0,\"stroke-miterlimit\":0,\"stroke-opacity\":0,\"stroke-width\":0,\"text-anchor\":0,\"text-decoration\":0,\"text-rendering\":0,\"unicode-bidi\":0,visibility:0,\"word-spacing\":0,\"writing-mode\":0};k.on(\"snap.util.attr\",function(c){var a=k.nt(),b={},a=a.substring(a.lastIndexOf(\".\")+\n",
       "1);b[a]=c;var m=a.replace(/-(\\w)/gi,function(c,a){return a.toUpperCase()}),a=a.replace(/[A-Z]/g,function(c){return\"-\"+c.toLowerCase()});pa[h](a)?this.node.style[m]=null==c?aa:c:v(this.node,b)});a.ajax=function(c,a,b,m){var e=new XMLHttpRequest,h=V();if(e){if(y(a,\"function\"))m=b,b=a,a=null;else if(y(a,\"object\")){var d=[],f;for(f in a)a.hasOwnProperty(f)&&d.push(encodeURIComponent(f)+\"=\"+encodeURIComponent(a[f]));a=d.join(\"&\")}e.open(a?\"POST\":\"GET\",c,!0);a&&(e.setRequestHeader(\"X-Requested-With\",\"XMLHttpRequest\"),\n",
       "e.setRequestHeader(\"Content-type\",\"application/x-www-form-urlencoded\"));b&&(k.once(\"snap.ajax.\"+h+\".0\",b),k.once(\"snap.ajax.\"+h+\".200\",b),k.once(\"snap.ajax.\"+h+\".304\",b));e.onreadystatechange=function(){4==e.readyState&&k(\"snap.ajax.\"+h+\".\"+e.status,m,e)};if(4==e.readyState)return e;e.send(a);return e}};a.load=function(c,b,m){a.ajax(c,function(c){c=a.parse(c.responseText);m?b.call(m,c):b(c)})};a.getElementByPoint=function(c,a){var b,m,e=G.doc.elementFromPoint(c,a);if(G.win.opera&&\"svg\"==e.tagName){b=\n",
       "e;m=b.getBoundingClientRect();b=b.ownerDocument;var h=b.body,d=b.documentElement;b=m.top+(g.win.pageYOffset||d.scrollTop||h.scrollTop)-(d.clientTop||h.clientTop||0);m=m.left+(g.win.pageXOffset||d.scrollLeft||h.scrollLeft)-(d.clientLeft||h.clientLeft||0);h=e.createSVGRect();h.x=c-m;h.y=a-b;h.width=h.height=1;b=e.getIntersectionList(h,null);b.length&&(e=b[b.length-1])}return e?x(e):null};a.plugin=function(c){c(a,e,s,G,l)};return G.win.Snap=a}();C.plugin(function(a,k,y,M,A){function w(a,d,f,b,q,e){null==\n",
       "d&&\"[object SVGMatrix]\"==z.call(a)?(this.a=a.a,this.b=a.b,this.c=a.c,this.d=a.d,this.e=a.e,this.f=a.f):null!=a?(this.a=+a,this.b=+d,this.c=+f,this.d=+b,this.e=+q,this.f=+e):(this.a=1,this.c=this.b=0,this.d=1,this.f=this.e=0)}var z=Object.prototype.toString,d=String,f=Math;(function(n){function k(a){return a[0]*a[0]+a[1]*a[1]}function p(a){var d=f.sqrt(k(a));a[0]&&(a[0]/=d);a[1]&&(a[1]/=d)}n.add=function(a,d,e,f,n,p){var k=[[],[],[] ],u=[[this.a,this.c,this.e],[this.b,this.d,this.f],[0,0,1] ];d=[[a,\n",
       "e,n],[d,f,p],[0,0,1] ];a&&a instanceof w&&(d=[[a.a,a.c,a.e],[a.b,a.d,a.f],[0,0,1] ]);for(a=0;3>a;a++)for(e=0;3>e;e++){for(f=n=0;3>f;f++)n+=u[a][f]*d[f][e];k[a][e]=n}this.a=k[0][0];this.b=k[1][0];this.c=k[0][1];this.d=k[1][1];this.e=k[0][2];this.f=k[1][2];return this};n.invert=function(){var a=this.a*this.d-this.b*this.c;return new w(this.d/a,-this.b/a,-this.c/a,this.a/a,(this.c*this.f-this.d*this.e)/a,(this.b*this.e-this.a*this.f)/a)};n.clone=function(){return new w(this.a,this.b,this.c,this.d,this.e,\n",
       "this.f)};n.translate=function(a,d){return this.add(1,0,0,1,a,d)};n.scale=function(a,d,e,f){null==d&&(d=a);(e||f)&&this.add(1,0,0,1,e,f);this.add(a,0,0,d,0,0);(e||f)&&this.add(1,0,0,1,-e,-f);return this};n.rotate=function(b,d,e){b=a.rad(b);d=d||0;e=e||0;var l=+f.cos(b).toFixed(9);b=+f.sin(b).toFixed(9);this.add(l,b,-b,l,d,e);return this.add(1,0,0,1,-d,-e)};n.x=function(a,d){return a*this.a+d*this.c+this.e};n.y=function(a,d){return a*this.b+d*this.d+this.f};n.get=function(a){return+this[d.fromCharCode(97+\n",
       "a)].toFixed(4)};n.toString=function(){return\"matrix(\"+[this.get(0),this.get(1),this.get(2),this.get(3),this.get(4),this.get(5)].join()+\")\"};n.offset=function(){return[this.e.toFixed(4),this.f.toFixed(4)]};n.determinant=function(){return this.a*this.d-this.b*this.c};n.split=function(){var b={};b.dx=this.e;b.dy=this.f;var d=[[this.a,this.c],[this.b,this.d] ];b.scalex=f.sqrt(k(d[0]));p(d[0]);b.shear=d[0][0]*d[1][0]+d[0][1]*d[1][1];d[1]=[d[1][0]-d[0][0]*b.shear,d[1][1]-d[0][1]*b.shear];b.scaley=f.sqrt(k(d[1]));\n",
       "p(d[1]);b.shear/=b.scaley;0>this.determinant()&&(b.scalex=-b.scalex);var e=-d[0][1],d=d[1][1];0>d?(b.rotate=a.deg(f.acos(d)),0>e&&(b.rotate=360-b.rotate)):b.rotate=a.deg(f.asin(e));b.isSimple=!+b.shear.toFixed(9)&&(b.scalex.toFixed(9)==b.scaley.toFixed(9)||!b.rotate);b.isSuperSimple=!+b.shear.toFixed(9)&&b.scalex.toFixed(9)==b.scaley.toFixed(9)&&!b.rotate;b.noRotation=!+b.shear.toFixed(9)&&!b.rotate;return b};n.toTransformString=function(a){a=a||this.split();if(+a.shear.toFixed(9))return\"m\"+[this.get(0),\n",
       "this.get(1),this.get(2),this.get(3),this.get(4),this.get(5)];a.scalex=+a.scalex.toFixed(4);a.scaley=+a.scaley.toFixed(4);a.rotate=+a.rotate.toFixed(4);return(a.dx||a.dy?\"t\"+[+a.dx.toFixed(4),+a.dy.toFixed(4)]:\"\")+(1!=a.scalex||1!=a.scaley?\"s\"+[a.scalex,a.scaley,0,0]:\"\")+(a.rotate?\"r\"+[+a.rotate.toFixed(4),0,0]:\"\")}})(w.prototype);a.Matrix=w;a.matrix=function(a,d,f,b,k,e){return new w(a,d,f,b,k,e)}});C.plugin(function(a,v,y,M,A){function w(h){return function(d){k.stop();d instanceof A&&1==d.node.childNodes.length&&\n",
       "(\"radialGradient\"==d.node.firstChild.tagName||\"linearGradient\"==d.node.firstChild.tagName||\"pattern\"==d.node.firstChild.tagName)&&(d=d.node.firstChild,b(this).appendChild(d),d=u(d));if(d instanceof v)if(\"radialGradient\"==d.type||\"linearGradient\"==d.type||\"pattern\"==d.type){d.node.id||e(d.node,{id:d.id});var f=l(d.node.id)}else f=d.attr(h);else f=a.color(d),f.error?(f=a(b(this).ownerSVGElement).gradient(d))?(f.node.id||e(f.node,{id:f.id}),f=l(f.node.id)):f=d:f=r(f);d={};d[h]=f;e(this.node,d);this.node.style[h]=\n",
       "x}}function z(a){k.stop();a==+a&&(a+=\"px\");this.node.style.fontSize=a}function d(a){var b=[];a=a.childNodes;for(var e=0,f=a.length;e<f;e++){var l=a[e];3==l.nodeType&&b.push(l.nodeValue);\"tspan\"==l.tagName&&(1==l.childNodes.length&&3==l.firstChild.nodeType?b.push(l.firstChild.nodeValue):b.push(d(l)))}return b}function f(){k.stop();return this.node.style.fontSize}var n=a._.make,u=a._.wrap,p=a.is,b=a._.getSomeDefs,q=/^url\\(#?([^)]+)\\)$/,e=a._.$,l=a.url,r=String,s=a._.separator,x=\"\";k.on(\"snap.util.attr.mask\",\n",
       "function(a){if(a instanceof v||a instanceof A){k.stop();a instanceof A&&1==a.node.childNodes.length&&(a=a.node.firstChild,b(this).appendChild(a),a=u(a));if(\"mask\"==a.type)var d=a;else d=n(\"mask\",b(this)),d.node.appendChild(a.node);!d.node.id&&e(d.node,{id:d.id});e(this.node,{mask:l(d.id)})}});(function(a){k.on(\"snap.util.attr.clip\",a);k.on(\"snap.util.attr.clip-path\",a);k.on(\"snap.util.attr.clipPath\",a)})(function(a){if(a instanceof v||a instanceof A){k.stop();if(\"clipPath\"==a.type)var d=a;else d=\n",
       "n(\"clipPath\",b(this)),d.node.appendChild(a.node),!d.node.id&&e(d.node,{id:d.id});e(this.node,{\"clip-path\":l(d.id)})}});k.on(\"snap.util.attr.fill\",w(\"fill\"));k.on(\"snap.util.attr.stroke\",w(\"stroke\"));var G=/^([lr])(?:\\(([^)]*)\\))?(.*)$/i;k.on(\"snap.util.grad.parse\",function(a){a=r(a);var b=a.match(G);if(!b)return null;a=b[1];var e=b[2],b=b[3],e=e.split(/\\s*,\\s*/).map(function(a){return+a==a?+a:a});1==e.length&&0==e[0]&&(e=[]);b=b.split(\"-\");b=b.map(function(a){a=a.split(\":\");var b={color:a[0]};a[1]&&\n",
       "(b.offset=parseFloat(a[1]));return b});return{type:a,params:e,stops:b}});k.on(\"snap.util.attr.d\",function(b){k.stop();p(b,\"array\")&&p(b[0],\"array\")&&(b=a.path.toString.call(b));b=r(b);b.match(/[ruo]/i)&&(b=a.path.toAbsolute(b));e(this.node,{d:b})})(-1);k.on(\"snap.util.attr.#text\",function(a){k.stop();a=r(a);for(a=M.doc.createTextNode(a);this.node.firstChild;)this.node.removeChild(this.node.firstChild);this.node.appendChild(a)})(-1);k.on(\"snap.util.attr.path\",function(a){k.stop();this.attr({d:a})})(-1);\n",
       "k.on(\"snap.util.attr.class\",function(a){k.stop();this.node.className.baseVal=a})(-1);k.on(\"snap.util.attr.viewBox\",function(a){a=p(a,\"object\")&&\"x\"in a?[a.x,a.y,a.width,a.height].join(\" \"):p(a,\"array\")?a.join(\" \"):a;e(this.node,{viewBox:a});k.stop()})(-1);k.on(\"snap.util.attr.transform\",function(a){this.transform(a);k.stop()})(-1);k.on(\"snap.util.attr.r\",function(a){\"rect\"==this.type&&(k.stop(),e(this.node,{rx:a,ry:a}))})(-1);k.on(\"snap.util.attr.textpath\",function(a){k.stop();if(\"text\"==this.type){var d,\n",
       "f;if(!a&&this.textPath){for(a=this.textPath;a.node.firstChild;)this.node.appendChild(a.node.firstChild);a.remove();delete this.textPath}else if(p(a,\"string\")?(d=b(this),a=u(d.parentNode).path(a),d.appendChild(a.node),d=a.id,a.attr({id:d})):(a=u(a),a instanceof v&&(d=a.attr(\"id\"),d||(d=a.id,a.attr({id:d})))),d)if(a=this.textPath,f=this.node,a)a.attr({\"xlink:href\":\"#\"+d});else{for(a=e(\"textPath\",{\"xlink:href\":\"#\"+d});f.firstChild;)a.appendChild(f.firstChild);f.appendChild(a);this.textPath=u(a)}}})(-1);\n",
       "k.on(\"snap.util.attr.text\",function(a){if(\"text\"==this.type){for(var b=this.node,d=function(a){var b=e(\"tspan\");if(p(a,\"array\"))for(var f=0;f<a.length;f++)b.appendChild(d(a[f]));else b.appendChild(M.doc.createTextNode(a));b.normalize&&b.normalize();return b};b.firstChild;)b.removeChild(b.firstChild);for(a=d(a);a.firstChild;)b.appendChild(a.firstChild)}k.stop()})(-1);k.on(\"snap.util.attr.fontSize\",z)(-1);k.on(\"snap.util.attr.font-size\",z)(-1);k.on(\"snap.util.getattr.transform\",function(){k.stop();\n",
       "return this.transform()})(-1);k.on(\"snap.util.getattr.textpath\",function(){k.stop();return this.textPath})(-1);(function(){function b(d){return function(){k.stop();var b=M.doc.defaultView.getComputedStyle(this.node,null).getPropertyValue(\"marker-\"+d);return\"none\"==b?b:a(M.doc.getElementById(b.match(q)[1]))}}function d(a){return function(b){k.stop();var d=\"marker\"+a.charAt(0).toUpperCase()+a.substring(1);if(\"\"==b||!b)this.node.style[d]=\"none\";else if(\"marker\"==b.type){var f=b.node.id;f||e(b.node,{id:b.id});\n",
       "this.node.style[d]=l(f)}}}k.on(\"snap.util.getattr.marker-end\",b(\"end\"))(-1);k.on(\"snap.util.getattr.markerEnd\",b(\"end\"))(-1);k.on(\"snap.util.getattr.marker-start\",b(\"start\"))(-1);k.on(\"snap.util.getattr.markerStart\",b(\"start\"))(-1);k.on(\"snap.util.getattr.marker-mid\",b(\"mid\"))(-1);k.on(\"snap.util.getattr.markerMid\",b(\"mid\"))(-1);k.on(\"snap.util.attr.marker-end\",d(\"end\"))(-1);k.on(\"snap.util.attr.markerEnd\",d(\"end\"))(-1);k.on(\"snap.util.attr.marker-start\",d(\"start\"))(-1);k.on(\"snap.util.attr.markerStart\",\n",
       "d(\"start\"))(-1);k.on(\"snap.util.attr.marker-mid\",d(\"mid\"))(-1);k.on(\"snap.util.attr.markerMid\",d(\"mid\"))(-1)})();k.on(\"snap.util.getattr.r\",function(){if(\"rect\"==this.type&&e(this.node,\"rx\")==e(this.node,\"ry\"))return k.stop(),e(this.node,\"rx\")})(-1);k.on(\"snap.util.getattr.text\",function(){if(\"text\"==this.type||\"tspan\"==this.type){k.stop();var a=d(this.node);return 1==a.length?a[0]:a}})(-1);k.on(\"snap.util.getattr.#text\",function(){return this.node.textContent})(-1);k.on(\"snap.util.getattr.viewBox\",\n",
       "function(){k.stop();var b=e(this.node,\"viewBox\");if(b)return b=b.split(s),a._.box(+b[0],+b[1],+b[2],+b[3])})(-1);k.on(\"snap.util.getattr.points\",function(){var a=e(this.node,\"points\");k.stop();if(a)return a.split(s)})(-1);k.on(\"snap.util.getattr.path\",function(){var a=e(this.node,\"d\");k.stop();return a})(-1);k.on(\"snap.util.getattr.class\",function(){return this.node.className.baseVal})(-1);k.on(\"snap.util.getattr.fontSize\",f)(-1);k.on(\"snap.util.getattr.font-size\",f)(-1)});C.plugin(function(a,v,y,\n",
       "M,A){function w(a){return a}function z(a){return function(b){return+b.toFixed(3)+a}}var d={\"+\":function(a,b){return a+b},\"-\":function(a,b){return a-b},\"/\":function(a,b){return a/b},\"*\":function(a,b){return a*b}},f=String,n=/[a-z]+$/i,u=/^\\s*([+\\-\\/*])\\s*=\\s*([\\d.eE+\\-]+)\\s*([^\\d\\s]+)?\\s*$/;k.on(\"snap.util.attr\",function(a){if(a=f(a).match(u)){var b=k.nt(),b=b.substring(b.lastIndexOf(\".\")+1),q=this.attr(b),e={};k.stop();var l=a[3]||\"\",r=q.match(n),s=d[a[1] ];r&&r==l?a=s(parseFloat(q),+a[2]):(q=this.asPX(b),\n",
       "a=s(this.asPX(b),this.asPX(b,a[2]+l)));isNaN(q)||isNaN(a)||(e[b]=a,this.attr(e))}})(-10);k.on(\"snap.util.equal\",function(a,b){var q=f(this.attr(a)||\"\"),e=f(b).match(u);if(e){k.stop();var l=e[3]||\"\",r=q.match(n),s=d[e[1] ];if(r&&r==l)return{from:parseFloat(q),to:s(parseFloat(q),+e[2]),f:z(r)};q=this.asPX(a);return{from:q,to:s(q,this.asPX(a,e[2]+l)),f:w}}})(-10)});C.plugin(function(a,v,y,M,A){var w=y.prototype,z=a.is;w.rect=function(a,d,k,p,b,q){var e;null==q&&(q=b);z(a,\"object\")&&\"[object Object]\"==\n",
       "a?e=a:null!=a&&(e={x:a,y:d,width:k,height:p},null!=b&&(e.rx=b,e.ry=q));return this.el(\"rect\",e)};w.circle=function(a,d,k){var p;z(a,\"object\")&&\"[object Object]\"==a?p=a:null!=a&&(p={cx:a,cy:d,r:k});return this.el(\"circle\",p)};var d=function(){function a(){this.parentNode.removeChild(this)}return function(d,k){var p=M.doc.createElement(\"img\"),b=M.doc.body;p.style.cssText=\"position:absolute;left:-9999em;top:-9999em\";p.onload=function(){k.call(p);p.onload=p.onerror=null;b.removeChild(p)};p.onerror=a;\n",
       "b.appendChild(p);p.src=d}}();w.image=function(f,n,k,p,b){var q=this.el(\"image\");if(z(f,\"object\")&&\"src\"in f)q.attr(f);else if(null!=f){var e={\"xlink:href\":f,preserveAspectRatio:\"none\"};null!=n&&null!=k&&(e.x=n,e.y=k);null!=p&&null!=b?(e.width=p,e.height=b):d(f,function(){a._.$(q.node,{width:this.offsetWidth,height:this.offsetHeight})});a._.$(q.node,e)}return q};w.ellipse=function(a,d,k,p){var b;z(a,\"object\")&&\"[object Object]\"==a?b=a:null!=a&&(b={cx:a,cy:d,rx:k,ry:p});return this.el(\"ellipse\",b)};\n",
       "w.path=function(a){var d;z(a,\"object\")&&!z(a,\"array\")?d=a:a&&(d={d:a});return this.el(\"path\",d)};w.group=w.g=function(a){var d=this.el(\"g\");1==arguments.length&&a&&!a.type?d.attr(a):arguments.length&&d.add(Array.prototype.slice.call(arguments,0));return d};w.svg=function(a,d,k,p,b,q,e,l){var r={};z(a,\"object\")&&null==d?r=a:(null!=a&&(r.x=a),null!=d&&(r.y=d),null!=k&&(r.width=k),null!=p&&(r.height=p),null!=b&&null!=q&&null!=e&&null!=l&&(r.viewBox=[b,q,e,l]));return this.el(\"svg\",r)};w.mask=function(a){var d=\n",
       "this.el(\"mask\");1==arguments.length&&a&&!a.type?d.attr(a):arguments.length&&d.add(Array.prototype.slice.call(arguments,0));return d};w.ptrn=function(a,d,k,p,b,q,e,l){if(z(a,\"object\"))var r=a;else arguments.length?(r={},null!=a&&(r.x=a),null!=d&&(r.y=d),null!=k&&(r.width=k),null!=p&&(r.height=p),null!=b&&null!=q&&null!=e&&null!=l&&(r.viewBox=[b,q,e,l])):r={patternUnits:\"userSpaceOnUse\"};return this.el(\"pattern\",r)};w.use=function(a){return null!=a?(make(\"use\",this.node),a instanceof v&&(a.attr(\"id\")||\n",
       "a.attr({id:ID()}),a=a.attr(\"id\")),this.el(\"use\",{\"xlink:href\":a})):v.prototype.use.call(this)};w.text=function(a,d,k){var p={};z(a,\"object\")?p=a:null!=a&&(p={x:a,y:d,text:k||\"\"});return this.el(\"text\",p)};w.line=function(a,d,k,p){var b={};z(a,\"object\")?b=a:null!=a&&(b={x1:a,x2:k,y1:d,y2:p});return this.el(\"line\",b)};w.polyline=function(a){1<arguments.length&&(a=Array.prototype.slice.call(arguments,0));var d={};z(a,\"object\")&&!z(a,\"array\")?d=a:null!=a&&(d={points:a});return this.el(\"polyline\",d)};\n",
       "w.polygon=function(a){1<arguments.length&&(a=Array.prototype.slice.call(arguments,0));var d={};z(a,\"object\")&&!z(a,\"array\")?d=a:null!=a&&(d={points:a});return this.el(\"polygon\",d)};(function(){function d(){return this.selectAll(\"stop\")}function n(b,d){var f=e(\"stop\"),k={offset:+d+\"%\"};b=a.color(b);k[\"stop-color\"]=b.hex;1>b.opacity&&(k[\"stop-opacity\"]=b.opacity);e(f,k);this.node.appendChild(f);return this}function u(){if(\"linearGradient\"==this.type){var b=e(this.node,\"x1\")||0,d=e(this.node,\"x2\")||\n",
       "1,f=e(this.node,\"y1\")||0,k=e(this.node,\"y2\")||0;return a._.box(b,f,math.abs(d-b),math.abs(k-f))}b=this.node.r||0;return a._.box((this.node.cx||0.5)-b,(this.node.cy||0.5)-b,2*b,2*b)}function p(a,d){function f(a,b){for(var d=(b-u)/(a-w),e=w;e<a;e++)h[e].offset=+(+u+d*(e-w)).toFixed(2);w=a;u=b}var n=k(\"snap.util.grad.parse\",null,d).firstDefined(),p;if(!n)return null;n.params.unshift(a);p=\"l\"==n.type.toLowerCase()?b.apply(0,n.params):q.apply(0,n.params);n.type!=n.type.toLowerCase()&&e(p.node,{gradientUnits:\"userSpaceOnUse\"});\n",
       "var h=n.stops,n=h.length,u=0,w=0;n--;for(var v=0;v<n;v++)\"offset\"in h[v]&&f(v,h[v].offset);h[n].offset=h[n].offset||100;f(n,h[n].offset);for(v=0;v<=n;v++){var y=h[v];p.addStop(y.color,y.offset)}return p}function b(b,k,p,q,w){b=a._.make(\"linearGradient\",b);b.stops=d;b.addStop=n;b.getBBox=u;null!=k&&e(b.node,{x1:k,y1:p,x2:q,y2:w});return b}function q(b,k,p,q,w,h){b=a._.make(\"radialGradient\",b);b.stops=d;b.addStop=n;b.getBBox=u;null!=k&&e(b.node,{cx:k,cy:p,r:q});null!=w&&null!=h&&e(b.node,{fx:w,fy:h});\n",
       "return b}var e=a._.$;w.gradient=function(a){return p(this.defs,a)};w.gradientLinear=function(a,d,e,f){return b(this.defs,a,d,e,f)};w.gradientRadial=function(a,b,d,e,f){return q(this.defs,a,b,d,e,f)};w.toString=function(){var b=this.node.ownerDocument,d=b.createDocumentFragment(),b=b.createElement(\"div\"),e=this.node.cloneNode(!0);d.appendChild(b);b.appendChild(e);a._.$(e,{xmlns:\"http://www.w3.org/2000/svg\"});b=b.innerHTML;d.removeChild(d.firstChild);return b};w.clear=function(){for(var a=this.node.firstChild,\n",
       "b;a;)b=a.nextSibling,\"defs\"!=a.tagName?a.parentNode.removeChild(a):w.clear.call({node:a}),a=b}})()});C.plugin(function(a,k,y,M){function A(a){var b=A.ps=A.ps||{};b[a]?b[a].sleep=100:b[a]={sleep:100};setTimeout(function(){for(var d in b)b[L](d)&&d!=a&&(b[d].sleep--,!b[d].sleep&&delete b[d])});return b[a]}function w(a,b,d,e){null==a&&(a=b=d=e=0);null==b&&(b=a.y,d=a.width,e=a.height,a=a.x);return{x:a,y:b,width:d,w:d,height:e,h:e,x2:a+d,y2:b+e,cx:a+d/2,cy:b+e/2,r1:F.min(d,e)/2,r2:F.max(d,e)/2,r0:F.sqrt(d*\n",
       "d+e*e)/2,path:s(a,b,d,e),vb:[a,b,d,e].join(\" \")}}function z(){return this.join(\",\").replace(N,\"$1\")}function d(a){a=C(a);a.toString=z;return a}function f(a,b,d,h,f,k,l,n,p){if(null==p)return e(a,b,d,h,f,k,l,n);if(0>p||e(a,b,d,h,f,k,l,n)<p)p=void 0;else{var q=0.5,O=1-q,s;for(s=e(a,b,d,h,f,k,l,n,O);0.01<Z(s-p);)q/=2,O+=(s<p?1:-1)*q,s=e(a,b,d,h,f,k,l,n,O);p=O}return u(a,b,d,h,f,k,l,n,p)}function n(b,d){function e(a){return+(+a).toFixed(3)}return a._.cacher(function(a,h,l){a instanceof k&&(a=a.attr(\"d\"));\n",
       "a=I(a);for(var n,p,D,q,O=\"\",s={},c=0,t=0,r=a.length;t<r;t++){D=a[t];if(\"M\"==D[0])n=+D[1],p=+D[2];else{q=f(n,p,D[1],D[2],D[3],D[4],D[5],D[6]);if(c+q>h){if(d&&!s.start){n=f(n,p,D[1],D[2],D[3],D[4],D[5],D[6],h-c);O+=[\"C\"+e(n.start.x),e(n.start.y),e(n.m.x),e(n.m.y),e(n.x),e(n.y)];if(l)return O;s.start=O;O=[\"M\"+e(n.x),e(n.y)+\"C\"+e(n.n.x),e(n.n.y),e(n.end.x),e(n.end.y),e(D[5]),e(D[6])].join();c+=q;n=+D[5];p=+D[6];continue}if(!b&&!d)return n=f(n,p,D[1],D[2],D[3],D[4],D[5],D[6],h-c)}c+=q;n=+D[5];p=+D[6]}O+=\n",
       "D.shift()+D}s.end=O;return n=b?c:d?s:u(n,p,D[0],D[1],D[2],D[3],D[4],D[5],1)},null,a._.clone)}function u(a,b,d,e,h,f,k,l,n){var p=1-n,q=ma(p,3),s=ma(p,2),c=n*n,t=c*n,r=q*a+3*s*n*d+3*p*n*n*h+t*k,q=q*b+3*s*n*e+3*p*n*n*f+t*l,s=a+2*n*(d-a)+c*(h-2*d+a),t=b+2*n*(e-b)+c*(f-2*e+b),x=d+2*n*(h-d)+c*(k-2*h+d),c=e+2*n*(f-e)+c*(l-2*f+e);a=p*a+n*d;b=p*b+n*e;h=p*h+n*k;f=p*f+n*l;l=90-180*F.atan2(s-x,t-c)/S;return{x:r,y:q,m:{x:s,y:t},n:{x:x,y:c},start:{x:a,y:b},end:{x:h,y:f},alpha:l}}function p(b,d,e,h,f,n,k,l){a.is(b,\n",
       "\"array\")||(b=[b,d,e,h,f,n,k,l]);b=U.apply(null,b);return w(b.min.x,b.min.y,b.max.x-b.min.x,b.max.y-b.min.y)}function b(a,b,d){return b>=a.x&&b<=a.x+a.width&&d>=a.y&&d<=a.y+a.height}function q(a,d){a=w(a);d=w(d);return b(d,a.x,a.y)||b(d,a.x2,a.y)||b(d,a.x,a.y2)||b(d,a.x2,a.y2)||b(a,d.x,d.y)||b(a,d.x2,d.y)||b(a,d.x,d.y2)||b(a,d.x2,d.y2)||(a.x<d.x2&&a.x>d.x||d.x<a.x2&&d.x>a.x)&&(a.y<d.y2&&a.y>d.y||d.y<a.y2&&d.y>a.y)}function e(a,b,d,e,h,f,n,k,l){null==l&&(l=1);l=(1<l?1:0>l?0:l)/2;for(var p=[-0.1252,\n",
       "0.1252,-0.3678,0.3678,-0.5873,0.5873,-0.7699,0.7699,-0.9041,0.9041,-0.9816,0.9816],q=[0.2491,0.2491,0.2335,0.2335,0.2032,0.2032,0.1601,0.1601,0.1069,0.1069,0.0472,0.0472],s=0,c=0;12>c;c++)var t=l*p[c]+l,r=t*(t*(-3*a+9*d-9*h+3*n)+6*a-12*d+6*h)-3*a+3*d,t=t*(t*(-3*b+9*e-9*f+3*k)+6*b-12*e+6*f)-3*b+3*e,s=s+q[c]*F.sqrt(r*r+t*t);return l*s}function l(a,b,d){a=I(a);b=I(b);for(var h,f,l,n,k,s,r,O,x,c,t=d?0:[],w=0,v=a.length;w<v;w++)if(x=a[w],\"M\"==x[0])h=k=x[1],f=s=x[2];else{\"C\"==x[0]?(x=[h,f].concat(x.slice(1)),\n",
       "h=x[6],f=x[7]):(x=[h,f,h,f,k,s,k,s],h=k,f=s);for(var G=0,y=b.length;G<y;G++)if(c=b[G],\"M\"==c[0])l=r=c[1],n=O=c[2];else{\"C\"==c[0]?(c=[l,n].concat(c.slice(1)),l=c[6],n=c[7]):(c=[l,n,l,n,r,O,r,O],l=r,n=O);var z;var K=x,B=c;z=d;var H=p(K),J=p(B);if(q(H,J)){for(var H=e.apply(0,K),J=e.apply(0,B),H=~~(H/8),J=~~(J/8),U=[],A=[],F={},M=z?0:[],P=0;P<H+1;P++){var C=u.apply(0,K.concat(P/H));U.push({x:C.x,y:C.y,t:P/H})}for(P=0;P<J+1;P++)C=u.apply(0,B.concat(P/J)),A.push({x:C.x,y:C.y,t:P/J});for(P=0;P<H;P++)for(K=\n",
       "0;K<J;K++){var Q=U[P],L=U[P+1],B=A[K],C=A[K+1],N=0.001>Z(L.x-Q.x)?\"y\":\"x\",S=0.001>Z(C.x-B.x)?\"y\":\"x\",R;R=Q.x;var Y=Q.y,V=L.x,ea=L.y,fa=B.x,ga=B.y,ha=C.x,ia=C.y;if(W(R,V)<X(fa,ha)||X(R,V)>W(fa,ha)||W(Y,ea)<X(ga,ia)||X(Y,ea)>W(ga,ia))R=void 0;else{var $=(R*ea-Y*V)*(fa-ha)-(R-V)*(fa*ia-ga*ha),aa=(R*ea-Y*V)*(ga-ia)-(Y-ea)*(fa*ia-ga*ha),ja=(R-V)*(ga-ia)-(Y-ea)*(fa-ha);if(ja){var $=$/ja,aa=aa/ja,ja=+$.toFixed(2),ba=+aa.toFixed(2);R=ja<+X(R,V).toFixed(2)||ja>+W(R,V).toFixed(2)||ja<+X(fa,ha).toFixed(2)||\n",
       "ja>+W(fa,ha).toFixed(2)||ba<+X(Y,ea).toFixed(2)||ba>+W(Y,ea).toFixed(2)||ba<+X(ga,ia).toFixed(2)||ba>+W(ga,ia).toFixed(2)?void 0:{x:$,y:aa}}else R=void 0}R&&F[R.x.toFixed(4)]!=R.y.toFixed(4)&&(F[R.x.toFixed(4)]=R.y.toFixed(4),Q=Q.t+Z((R[N]-Q[N])/(L[N]-Q[N]))*(L.t-Q.t),B=B.t+Z((R[S]-B[S])/(C[S]-B[S]))*(C.t-B.t),0<=Q&&1>=Q&&0<=B&&1>=B&&(z?M++:M.push({x:R.x,y:R.y,t1:Q,t2:B})))}z=M}else z=z?0:[];if(d)t+=z;else{H=0;for(J=z.length;H<J;H++)z[H].segment1=w,z[H].segment2=G,z[H].bez1=x,z[H].bez2=c;t=t.concat(z)}}}return t}\n",
       "function r(a){var b=A(a);if(b.bbox)return C(b.bbox);if(!a)return w();a=I(a);for(var d=0,e=0,h=[],f=[],l,n=0,k=a.length;n<k;n++)l=a[n],\"M\"==l[0]?(d=l[1],e=l[2],h.push(d),f.push(e)):(d=U(d,e,l[1],l[2],l[3],l[4],l[5],l[6]),h=h.concat(d.min.x,d.max.x),f=f.concat(d.min.y,d.max.y),d=l[5],e=l[6]);a=X.apply(0,h);l=X.apply(0,f);h=W.apply(0,h);f=W.apply(0,f);f=w(a,l,h-a,f-l);b.bbox=C(f);return f}function s(a,b,d,e,h){if(h)return[[\"M\",+a+ +h,b],[\"l\",d-2*h,0],[\"a\",h,h,0,0,1,h,h],[\"l\",0,e-2*h],[\"a\",h,h,0,0,1,\n",
       "-h,h],[\"l\",2*h-d,0],[\"a\",h,h,0,0,1,-h,-h],[\"l\",0,2*h-e],[\"a\",h,h,0,0,1,h,-h],[\"z\"] ];a=[[\"M\",a,b],[\"l\",d,0],[\"l\",0,e],[\"l\",-d,0],[\"z\"] ];a.toString=z;return a}function x(a,b,d,e,h){null==h&&null==e&&(e=d);a=+a;b=+b;d=+d;e=+e;if(null!=h){var f=Math.PI/180,l=a+d*Math.cos(-e*f);a+=d*Math.cos(-h*f);var n=b+d*Math.sin(-e*f);b+=d*Math.sin(-h*f);d=[[\"M\",l,n],[\"A\",d,d,0,+(180<h-e),0,a,b] ]}else d=[[\"M\",a,b],[\"m\",0,-e],[\"a\",d,e,0,1,1,0,2*e],[\"a\",d,e,0,1,1,0,-2*e],[\"z\"] ];d.toString=z;return d}function G(b){var e=\n",
       "A(b);if(e.abs)return d(e.abs);Q(b,\"array\")&&Q(b&&b[0],\"array\")||(b=a.parsePathString(b));if(!b||!b.length)return[[\"M\",0,0] ];var h=[],f=0,l=0,n=0,k=0,p=0;\"M\"==b[0][0]&&(f=+b[0][1],l=+b[0][2],n=f,k=l,p++,h[0]=[\"M\",f,l]);for(var q=3==b.length&&\"M\"==b[0][0]&&\"R\"==b[1][0].toUpperCase()&&\"Z\"==b[2][0].toUpperCase(),s,r,w=p,c=b.length;w<c;w++){h.push(s=[]);r=b[w];p=r[0];if(p!=p.toUpperCase())switch(s[0]=p.toUpperCase(),s[0]){case \"A\":s[1]=r[1];s[2]=r[2];s[3]=r[3];s[4]=r[4];s[5]=r[5];s[6]=+r[6]+f;s[7]=+r[7]+\n",
       "l;break;case \"V\":s[1]=+r[1]+l;break;case \"H\":s[1]=+r[1]+f;break;case \"R\":for(var t=[f,l].concat(r.slice(1)),u=2,v=t.length;u<v;u++)t[u]=+t[u]+f,t[++u]=+t[u]+l;h.pop();h=h.concat(P(t,q));break;case \"O\":h.pop();t=x(f,l,r[1],r[2]);t.push(t[0]);h=h.concat(t);break;case \"U\":h.pop();h=h.concat(x(f,l,r[1],r[2],r[3]));s=[\"U\"].concat(h[h.length-1].slice(-2));break;case \"M\":n=+r[1]+f,k=+r[2]+l;default:for(u=1,v=r.length;u<v;u++)s[u]=+r[u]+(u%2?f:l)}else if(\"R\"==p)t=[f,l].concat(r.slice(1)),h.pop(),h=h.concat(P(t,\n",
       "q)),s=[\"R\"].concat(r.slice(-2));else if(\"O\"==p)h.pop(),t=x(f,l,r[1],r[2]),t.push(t[0]),h=h.concat(t);else if(\"U\"==p)h.pop(),h=h.concat(x(f,l,r[1],r[2],r[3])),s=[\"U\"].concat(h[h.length-1].slice(-2));else for(t=0,u=r.length;t<u;t++)s[t]=r[t];p=p.toUpperCase();if(\"O\"!=p)switch(s[0]){case \"Z\":f=+n;l=+k;break;case \"H\":f=s[1];break;case \"V\":l=s[1];break;case \"M\":n=s[s.length-2],k=s[s.length-1];default:f=s[s.length-2],l=s[s.length-1]}}h.toString=z;e.abs=d(h);return h}function h(a,b,d,e){return[a,b,d,e,d,\n",
       "e]}function J(a,b,d,e,h,f){var l=1/3,n=2/3;return[l*a+n*d,l*b+n*e,l*h+n*d,l*f+n*e,h,f]}function K(b,d,e,h,f,l,n,k,p,s){var r=120*S/180,q=S/180*(+f||0),c=[],t,x=a._.cacher(function(a,b,c){var d=a*F.cos(c)-b*F.sin(c);a=a*F.sin(c)+b*F.cos(c);return{x:d,y:a}});if(s)v=s[0],t=s[1],l=s[2],u=s[3];else{t=x(b,d,-q);b=t.x;d=t.y;t=x(k,p,-q);k=t.x;p=t.y;F.cos(S/180*f);F.sin(S/180*f);t=(b-k)/2;v=(d-p)/2;u=t*t/(e*e)+v*v/(h*h);1<u&&(u=F.sqrt(u),e*=u,h*=u);var u=e*e,w=h*h,u=(l==n?-1:1)*F.sqrt(Z((u*w-u*v*v-w*t*t)/\n",
       "(u*v*v+w*t*t)));l=u*e*v/h+(b+k)/2;var u=u*-h*t/e+(d+p)/2,v=F.asin(((d-u)/h).toFixed(9));t=F.asin(((p-u)/h).toFixed(9));v=b<l?S-v:v;t=k<l?S-t:t;0>v&&(v=2*S+v);0>t&&(t=2*S+t);n&&v>t&&(v-=2*S);!n&&t>v&&(t-=2*S)}if(Z(t-v)>r){var c=t,w=k,G=p;t=v+r*(n&&t>v?1:-1);k=l+e*F.cos(t);p=u+h*F.sin(t);c=K(k,p,e,h,f,0,n,w,G,[t,c,l,u])}l=t-v;f=F.cos(v);r=F.sin(v);n=F.cos(t);t=F.sin(t);l=F.tan(l/4);e=4/3*e*l;l*=4/3*h;h=[b,d];b=[b+e*r,d-l*f];d=[k+e*t,p-l*n];k=[k,p];b[0]=2*h[0]-b[0];b[1]=2*h[1]-b[1];if(s)return[b,d,k].concat(c);\n",
       "c=[b,d,k].concat(c).join().split(\",\");s=[];k=0;for(p=c.length;k<p;k++)s[k]=k%2?x(c[k-1],c[k],q).y:x(c[k],c[k+1],q).x;return s}function U(a,b,d,e,h,f,l,k){for(var n=[],p=[[],[] ],s,r,c,t,q=0;2>q;++q)0==q?(r=6*a-12*d+6*h,s=-3*a+9*d-9*h+3*l,c=3*d-3*a):(r=6*b-12*e+6*f,s=-3*b+9*e-9*f+3*k,c=3*e-3*b),1E-12>Z(s)?1E-12>Z(r)||(s=-c/r,0<s&&1>s&&n.push(s)):(t=r*r-4*c*s,c=F.sqrt(t),0>t||(t=(-r+c)/(2*s),0<t&&1>t&&n.push(t),s=(-r-c)/(2*s),0<s&&1>s&&n.push(s)));for(r=q=n.length;q--;)s=n[q],c=1-s,p[0][q]=c*c*c*a+3*\n",
       "c*c*s*d+3*c*s*s*h+s*s*s*l,p[1][q]=c*c*c*b+3*c*c*s*e+3*c*s*s*f+s*s*s*k;p[0][r]=a;p[1][r]=b;p[0][r+1]=l;p[1][r+1]=k;p[0].length=p[1].length=r+2;return{min:{x:X.apply(0,p[0]),y:X.apply(0,p[1])},max:{x:W.apply(0,p[0]),y:W.apply(0,p[1])}}}function I(a,b){var e=!b&&A(a);if(!b&&e.curve)return d(e.curve);var f=G(a),l=b&&G(b),n={x:0,y:0,bx:0,by:0,X:0,Y:0,qx:null,qy:null},k={x:0,y:0,bx:0,by:0,X:0,Y:0,qx:null,qy:null},p=function(a,b,c){if(!a)return[\"C\",b.x,b.y,b.x,b.y,b.x,b.y];a[0]in{T:1,Q:1}||(b.qx=b.qy=null);\n",
       "switch(a[0]){case \"M\":b.X=a[1];b.Y=a[2];break;case \"A\":a=[\"C\"].concat(K.apply(0,[b.x,b.y].concat(a.slice(1))));break;case \"S\":\"C\"==c||\"S\"==c?(c=2*b.x-b.bx,b=2*b.y-b.by):(c=b.x,b=b.y);a=[\"C\",c,b].concat(a.slice(1));break;case \"T\":\"Q\"==c||\"T\"==c?(b.qx=2*b.x-b.qx,b.qy=2*b.y-b.qy):(b.qx=b.x,b.qy=b.y);a=[\"C\"].concat(J(b.x,b.y,b.qx,b.qy,a[1],a[2]));break;case \"Q\":b.qx=a[1];b.qy=a[2];a=[\"C\"].concat(J(b.x,b.y,a[1],a[2],a[3],a[4]));break;case \"L\":a=[\"C\"].concat(h(b.x,b.y,a[1],a[2]));break;case \"H\":a=[\"C\"].concat(h(b.x,\n",
       "b.y,a[1],b.y));break;case \"V\":a=[\"C\"].concat(h(b.x,b.y,b.x,a[1]));break;case \"Z\":a=[\"C\"].concat(h(b.x,b.y,b.X,b.Y))}return a},s=function(a,b){if(7<a[b].length){a[b].shift();for(var c=a[b];c.length;)q[b]=\"A\",l&&(u[b]=\"A\"),a.splice(b++,0,[\"C\"].concat(c.splice(0,6)));a.splice(b,1);v=W(f.length,l&&l.length||0)}},r=function(a,b,c,d,e){a&&b&&\"M\"==a[e][0]&&\"M\"!=b[e][0]&&(b.splice(e,0,[\"M\",d.x,d.y]),c.bx=0,c.by=0,c.x=a[e][1],c.y=a[e][2],v=W(f.length,l&&l.length||0))},q=[],u=[],c=\"\",t=\"\",x=0,v=W(f.length,\n",
       "l&&l.length||0);for(;x<v;x++){f[x]&&(c=f[x][0]);\"C\"!=c&&(q[x]=c,x&&(t=q[x-1]));f[x]=p(f[x],n,t);\"A\"!=q[x]&&\"C\"==c&&(q[x]=\"C\");s(f,x);l&&(l[x]&&(c=l[x][0]),\"C\"!=c&&(u[x]=c,x&&(t=u[x-1])),l[x]=p(l[x],k,t),\"A\"!=u[x]&&\"C\"==c&&(u[x]=\"C\"),s(l,x));r(f,l,n,k,x);r(l,f,k,n,x);var w=f[x],z=l&&l[x],y=w.length,U=l&&z.length;n.x=w[y-2];n.y=w[y-1];n.bx=$(w[y-4])||n.x;n.by=$(w[y-3])||n.y;k.bx=l&&($(z[U-4])||k.x);k.by=l&&($(z[U-3])||k.y);k.x=l&&z[U-2];k.y=l&&z[U-1]}l||(e.curve=d(f));return l?[f,l]:f}function P(a,\n",
       "b){for(var d=[],e=0,h=a.length;h-2*!b>e;e+=2){var f=[{x:+a[e-2],y:+a[e-1]},{x:+a[e],y:+a[e+1]},{x:+a[e+2],y:+a[e+3]},{x:+a[e+4],y:+a[e+5]}];b?e?h-4==e?f[3]={x:+a[0],y:+a[1]}:h-2==e&&(f[2]={x:+a[0],y:+a[1]},f[3]={x:+a[2],y:+a[3]}):f[0]={x:+a[h-2],y:+a[h-1]}:h-4==e?f[3]=f[2]:e||(f[0]={x:+a[e],y:+a[e+1]});d.push([\"C\",(-f[0].x+6*f[1].x+f[2].x)/6,(-f[0].y+6*f[1].y+f[2].y)/6,(f[1].x+6*f[2].x-f[3].x)/6,(f[1].y+6*f[2].y-f[3].y)/6,f[2].x,f[2].y])}return d}y=k.prototype;var Q=a.is,C=a._.clone,L=\"hasOwnProperty\",\n",
       "N=/,?([a-z]),?/gi,$=parseFloat,F=Math,S=F.PI,X=F.min,W=F.max,ma=F.pow,Z=F.abs;M=n(1);var na=n(),ba=n(0,1),V=a._unit2px;a.path=A;a.path.getTotalLength=M;a.path.getPointAtLength=na;a.path.getSubpath=function(a,b,d){if(1E-6>this.getTotalLength(a)-d)return ba(a,b).end;a=ba(a,d,1);return b?ba(a,b).end:a};y.getTotalLength=function(){if(this.node.getTotalLength)return this.node.getTotalLength()};y.getPointAtLength=function(a){return na(this.attr(\"d\"),a)};y.getSubpath=function(b,d){return a.path.getSubpath(this.attr(\"d\"),\n",
       "b,d)};a._.box=w;a.path.findDotsAtSegment=u;a.path.bezierBBox=p;a.path.isPointInsideBBox=b;a.path.isBBoxIntersect=q;a.path.intersection=function(a,b){return l(a,b)};a.path.intersectionNumber=function(a,b){return l(a,b,1)};a.path.isPointInside=function(a,d,e){var h=r(a);return b(h,d,e)&&1==l(a,[[\"M\",d,e],[\"H\",h.x2+10] ],1)%2};a.path.getBBox=r;a.path.get={path:function(a){return a.attr(\"path\")},circle:function(a){a=V(a);return x(a.cx,a.cy,a.r)},ellipse:function(a){a=V(a);return x(a.cx||0,a.cy||0,a.rx,\n",
       "a.ry)},rect:function(a){a=V(a);return s(a.x||0,a.y||0,a.width,a.height,a.rx,a.ry)},image:function(a){a=V(a);return s(a.x||0,a.y||0,a.width,a.height)},line:function(a){return\"M\"+[a.attr(\"x1\")||0,a.attr(\"y1\")||0,a.attr(\"x2\"),a.attr(\"y2\")]},polyline:function(a){return\"M\"+a.attr(\"points\")},polygon:function(a){return\"M\"+a.attr(\"points\")+\"z\"},deflt:function(a){a=a.node.getBBox();return s(a.x,a.y,a.width,a.height)}};a.path.toRelative=function(b){var e=A(b),h=String.prototype.toLowerCase;if(e.rel)return d(e.rel);\n",
       "a.is(b,\"array\")&&a.is(b&&b[0],\"array\")||(b=a.parsePathString(b));var f=[],l=0,n=0,k=0,p=0,s=0;\"M\"==b[0][0]&&(l=b[0][1],n=b[0][2],k=l,p=n,s++,f.push([\"M\",l,n]));for(var r=b.length;s<r;s++){var q=f[s]=[],x=b[s];if(x[0]!=h.call(x[0]))switch(q[0]=h.call(x[0]),q[0]){case \"a\":q[1]=x[1];q[2]=x[2];q[3]=x[3];q[4]=x[4];q[5]=x[5];q[6]=+(x[6]-l).toFixed(3);q[7]=+(x[7]-n).toFixed(3);break;case \"v\":q[1]=+(x[1]-n).toFixed(3);break;case \"m\":k=x[1],p=x[2];default:for(var c=1,t=x.length;c<t;c++)q[c]=+(x[c]-(c%2?l:\n",
       "n)).toFixed(3)}else for(f[s]=[],\"m\"==x[0]&&(k=x[1]+l,p=x[2]+n),q=0,c=x.length;q<c;q++)f[s][q]=x[q];x=f[s].length;switch(f[s][0]){case \"z\":l=k;n=p;break;case \"h\":l+=+f[s][x-1];break;case \"v\":n+=+f[s][x-1];break;default:l+=+f[s][x-2],n+=+f[s][x-1]}}f.toString=z;e.rel=d(f);return f};a.path.toAbsolute=G;a.path.toCubic=I;a.path.map=function(a,b){if(!b)return a;var d,e,h,f,l,n,k;a=I(a);h=0;for(l=a.length;h<l;h++)for(k=a[h],f=1,n=k.length;f<n;f+=2)d=b.x(k[f],k[f+1]),e=b.y(k[f],k[f+1]),k[f]=d,k[f+1]=e;return a};\n",
       "a.path.toString=z;a.path.clone=d});C.plugin(function(a,v,y,C){var A=Math.max,w=Math.min,z=function(a){this.items=[];this.bindings={};this.length=0;this.type=\"set\";if(a)for(var f=0,n=a.length;f<n;f++)a[f]&&(this[this.items.length]=this.items[this.items.length]=a[f],this.length++)};v=z.prototype;v.push=function(){for(var a,f,n=0,k=arguments.length;n<k;n++)if(a=arguments[n])f=this.items.length,this[f]=this.items[f]=a,this.length++;return this};v.pop=function(){this.length&&delete this[this.length--];\n",
       "return this.items.pop()};v.forEach=function(a,f){for(var n=0,k=this.items.length;n<k&&!1!==a.call(f,this.items[n],n);n++);return this};v.animate=function(d,f,n,u){\"function\"!=typeof n||n.length||(u=n,n=L.linear);d instanceof a._.Animation&&(u=d.callback,n=d.easing,f=n.dur,d=d.attr);var p=arguments;if(a.is(d,\"array\")&&a.is(p[p.length-1],\"array\"))var b=!0;var q,e=function(){q?this.b=q:q=this.b},l=0,r=u&&function(){l++==this.length&&u.call(this)};return this.forEach(function(a,l){k.once(\"snap.animcreated.\"+\n",
       "a.id,e);b?p[l]&&a.animate.apply(a,p[l]):a.animate(d,f,n,r)})};v.remove=function(){for(;this.length;)this.pop().remove();return this};v.bind=function(a,f,k){var u={};if(\"function\"==typeof f)this.bindings[a]=f;else{var p=k||a;this.bindings[a]=function(a){u[p]=a;f.attr(u)}}return this};v.attr=function(a){var f={},k;for(k in a)if(this.bindings[k])this.bindings[k](a[k]);else f[k]=a[k];a=0;for(k=this.items.length;a<k;a++)this.items[a].attr(f);return this};v.clear=function(){for(;this.length;)this.pop()};\n",
       "v.splice=function(a,f,k){a=0>a?A(this.length+a,0):a;f=A(0,w(this.length-a,f));var u=[],p=[],b=[],q;for(q=2;q<arguments.length;q++)b.push(arguments[q]);for(q=0;q<f;q++)p.push(this[a+q]);for(;q<this.length-a;q++)u.push(this[a+q]);var e=b.length;for(q=0;q<e+u.length;q++)this.items[a+q]=this[a+q]=q<e?b[q]:u[q-e];for(q=this.items.length=this.length-=f-e;this[q];)delete this[q++];return new z(p)};v.exclude=function(a){for(var f=0,k=this.length;f<k;f++)if(this[f]==a)return this.splice(f,1),!0;return!1};\n",
       "v.insertAfter=function(a){for(var f=this.items.length;f--;)this.items[f].insertAfter(a);return this};v.getBBox=function(){for(var a=[],f=[],k=[],u=[],p=this.items.length;p--;)if(!this.items[p].removed){var b=this.items[p].getBBox();a.push(b.x);f.push(b.y);k.push(b.x+b.width);u.push(b.y+b.height)}a=w.apply(0,a);f=w.apply(0,f);k=A.apply(0,k);u=A.apply(0,u);return{x:a,y:f,x2:k,y2:u,width:k-a,height:u-f,cx:a+(k-a)/2,cy:f+(u-f)/2}};v.clone=function(a){a=new z;for(var f=0,k=this.items.length;f<k;f++)a.push(this.items[f].clone());\n",
       "return a};v.toString=function(){return\"Snap\\u2018s set\"};v.type=\"set\";a.set=function(){var a=new z;arguments.length&&a.push.apply(a,Array.prototype.slice.call(arguments,0));return a}});C.plugin(function(a,v,y,C){function A(a){var b=a[0];switch(b.toLowerCase()){case \"t\":return[b,0,0];case \"m\":return[b,1,0,0,1,0,0];case \"r\":return 4==a.length?[b,0,a[2],a[3] ]:[b,0];case \"s\":return 5==a.length?[b,1,1,a[3],a[4] ]:3==a.length?[b,1,1]:[b,1]}}function w(b,d,f){d=q(d).replace(/\\.{3}|\\u2026/g,b);b=a.parseTransformString(b)||\n",
       "[];d=a.parseTransformString(d)||[];for(var k=Math.max(b.length,d.length),p=[],v=[],h=0,w,z,y,I;h<k;h++){y=b[h]||A(d[h]);I=d[h]||A(y);if(y[0]!=I[0]||\"r\"==y[0].toLowerCase()&&(y[2]!=I[2]||y[3]!=I[3])||\"s\"==y[0].toLowerCase()&&(y[3]!=I[3]||y[4]!=I[4])){b=a._.transform2matrix(b,f());d=a._.transform2matrix(d,f());p=[[\"m\",b.a,b.b,b.c,b.d,b.e,b.f] ];v=[[\"m\",d.a,d.b,d.c,d.d,d.e,d.f] ];break}p[h]=[];v[h]=[];w=0;for(z=Math.max(y.length,I.length);w<z;w++)w in y&&(p[h][w]=y[w]),w in I&&(v[h][w]=I[w])}return{from:u(p),\n",
       "to:u(v),f:n(p)}}function z(a){return a}function d(a){return function(b){return+b.toFixed(3)+a}}function f(b){return a.rgb(b[0],b[1],b[2])}function n(a){var b=0,d,f,k,n,h,p,q=[];d=0;for(f=a.length;d<f;d++){h=\"[\";p=['\"'+a[d][0]+'\"'];k=1;for(n=a[d].length;k<n;k++)p[k]=\"val[\"+b++ +\"]\";h+=p+\"]\";q[d]=h}return Function(\"val\",\"return Snap.path.toString.call([\"+q+\"])\")}function u(a){for(var b=[],d=0,f=a.length;d<f;d++)for(var k=1,n=a[d].length;k<n;k++)b.push(a[d][k]);return b}var p={},b=/[a-z]+$/i,q=String;\n",
       "p.stroke=p.fill=\"colour\";v.prototype.equal=function(a,b){return k(\"snap.util.equal\",this,a,b).firstDefined()};k.on(\"snap.util.equal\",function(e,k){var r,s;r=q(this.attr(e)||\"\");var x=this;if(r==+r&&k==+k)return{from:+r,to:+k,f:z};if(\"colour\"==p[e])return r=a.color(r),s=a.color(k),{from:[r.r,r.g,r.b,r.opacity],to:[s.r,s.g,s.b,s.opacity],f:f};if(\"transform\"==e||\"gradientTransform\"==e||\"patternTransform\"==e)return k instanceof a.Matrix&&(k=k.toTransformString()),a._.rgTransform.test(k)||(k=a._.svgTransform2string(k)),\n",
       "w(r,k,function(){return x.getBBox(1)});if(\"d\"==e||\"path\"==e)return r=a.path.toCubic(r,k),{from:u(r[0]),to:u(r[1]),f:n(r[0])};if(\"points\"==e)return r=q(r).split(a._.separator),s=q(k).split(a._.separator),{from:r,to:s,f:function(a){return a}};aUnit=r.match(b);s=q(k).match(b);return aUnit&&aUnit==s?{from:parseFloat(r),to:parseFloat(k),f:d(aUnit)}:{from:this.asPX(e),to:this.asPX(e,k),f:z}})});C.plugin(function(a,v,y,C){var A=v.prototype,w=\"createTouch\"in C.doc;v=\"click dblclick mousedown mousemove mouseout mouseover mouseup touchstart touchmove touchend touchcancel\".split(\" \");\n",
       "var z={mousedown:\"touchstart\",mousemove:\"touchmove\",mouseup:\"touchend\"},d=function(a,b){var d=\"y\"==a?\"scrollTop\":\"scrollLeft\",e=b&&b.node?b.node.ownerDocument:C.doc;return e[d in e.documentElement?\"documentElement\":\"body\"][d]},f=function(){this.returnValue=!1},n=function(){return this.originalEvent.preventDefault()},u=function(){this.cancelBubble=!0},p=function(){return this.originalEvent.stopPropagation()},b=function(){if(C.doc.addEventListener)return function(a,b,e,f){var k=w&&z[b]?z[b]:b,l=function(k){var l=\n",
       "d(\"y\",f),q=d(\"x\",f);if(w&&z.hasOwnProperty(b))for(var r=0,u=k.targetTouches&&k.targetTouches.length;r<u;r++)if(k.targetTouches[r].target==a||a.contains(k.targetTouches[r].target)){u=k;k=k.targetTouches[r];k.originalEvent=u;k.preventDefault=n;k.stopPropagation=p;break}return e.call(f,k,k.clientX+q,k.clientY+l)};b!==k&&a.addEventListener(b,l,!1);a.addEventListener(k,l,!1);return function(){b!==k&&a.removeEventListener(b,l,!1);a.removeEventListener(k,l,!1);return!0}};if(C.doc.attachEvent)return function(a,\n",
       "b,e,h){var k=function(a){a=a||h.node.ownerDocument.window.event;var b=d(\"y\",h),k=d(\"x\",h),k=a.clientX+k,b=a.clientY+b;a.preventDefault=a.preventDefault||f;a.stopPropagation=a.stopPropagation||u;return e.call(h,a,k,b)};a.attachEvent(\"on\"+b,k);return function(){a.detachEvent(\"on\"+b,k);return!0}}}(),q=[],e=function(a){for(var b=a.clientX,e=a.clientY,f=d(\"y\"),l=d(\"x\"),n,p=q.length;p--;){n=q[p];if(w)for(var r=a.touches&&a.touches.length,u;r--;){if(u=a.touches[r],u.identifier==n.el._drag.id||n.el.node.contains(u.target)){b=\n",
       "u.clientX;e=u.clientY;(a.originalEvent?a.originalEvent:a).preventDefault();break}}else a.preventDefault();b+=l;e+=f;k(\"snap.drag.move.\"+n.el.id,n.move_scope||n.el,b-n.el._drag.x,e-n.el._drag.y,b,e,a)}},l=function(b){a.unmousemove(e).unmouseup(l);for(var d=q.length,f;d--;)f=q[d],f.el._drag={},k(\"snap.drag.end.\"+f.el.id,f.end_scope||f.start_scope||f.move_scope||f.el,b);q=[]};for(y=v.length;y--;)(function(d){a[d]=A[d]=function(e,f){a.is(e,\"function\")&&(this.events=this.events||[],this.events.push({name:d,\n",
       "f:e,unbind:b(this.node||document,d,e,f||this)}));return this};a[\"un\"+d]=A[\"un\"+d]=function(a){for(var b=this.events||[],e=b.length;e--;)if(b[e].name==d&&(b[e].f==a||!a)){b[e].unbind();b.splice(e,1);!b.length&&delete this.events;break}return this}})(v[y]);A.hover=function(a,b,d,e){return this.mouseover(a,d).mouseout(b,e||d)};A.unhover=function(a,b){return this.unmouseover(a).unmouseout(b)};var r=[];A.drag=function(b,d,f,h,n,p){function u(r,v,w){(r.originalEvent||r).preventDefault();this._drag.x=v;\n",
       "this._drag.y=w;this._drag.id=r.identifier;!q.length&&a.mousemove(e).mouseup(l);q.push({el:this,move_scope:h,start_scope:n,end_scope:p});d&&k.on(\"snap.drag.start.\"+this.id,d);b&&k.on(\"snap.drag.move.\"+this.id,b);f&&k.on(\"snap.drag.end.\"+this.id,f);k(\"snap.drag.start.\"+this.id,n||h||this,v,w,r)}if(!arguments.length){var v;return this.drag(function(a,b){this.attr({transform:v+(v?\"T\":\"t\")+[a,b]})},function(){v=this.transform().local})}this._drag={};r.push({el:this,start:u});this.mousedown(u);return this};\n",
       "A.undrag=function(){for(var b=r.length;b--;)r[b].el==this&&(this.unmousedown(r[b].start),r.splice(b,1),k.unbind(\"snap.drag.*.\"+this.id));!r.length&&a.unmousemove(e).unmouseup(l);return this}});C.plugin(function(a,v,y,C){y=y.prototype;var A=/^\\s*url\\((.+)\\)/,w=String,z=a._.$;a.filter={};y.filter=function(d){var f=this;\"svg\"!=f.type&&(f=f.paper);d=a.parse(w(d));var k=a._.id(),u=z(\"filter\");z(u,{id:k,filterUnits:\"userSpaceOnUse\"});u.appendChild(d.node);f.defs.appendChild(u);return new v(u)};k.on(\"snap.util.getattr.filter\",\n",
       "function(){k.stop();var d=z(this.node,\"filter\");if(d)return(d=w(d).match(A))&&a.select(d[1])});k.on(\"snap.util.attr.filter\",function(d){if(d instanceof v&&\"filter\"==d.type){k.stop();var f=d.node.id;f||(z(d.node,{id:d.id}),f=d.id);z(this.node,{filter:a.url(f)})}d&&\"none\"!=d||(k.stop(),this.node.removeAttribute(\"filter\"))});a.filter.blur=function(d,f){null==d&&(d=2);return a.format('<feGaussianBlur stdDeviation=\"{def}\"/>',{def:null==f?d:[d,f]})};a.filter.blur.toString=function(){return this()};a.filter.shadow=\n",
       "function(d,f,k,u,p){\"string\"==typeof k&&(p=u=k,k=4);\"string\"!=typeof u&&(p=u,u=\"#000\");null==k&&(k=4);null==p&&(p=1);null==d&&(d=0,f=2);null==f&&(f=d);u=a.color(u||\"#000\");return a.format('<feGaussianBlur in=\"SourceAlpha\" stdDeviation=\"{blur}\"/><feOffset dx=\"{dx}\" dy=\"{dy}\" result=\"offsetblur\"/><feFlood flood-color=\"{color}\"/><feComposite in2=\"offsetblur\" operator=\"in\"/><feComponentTransfer><feFuncA type=\"linear\" slope=\"{opacity}\"/></feComponentTransfer><feMerge><feMergeNode/><feMergeNode in=\"SourceGraphic\"/></feMerge>',\n",
       "{color:u,dx:d,dy:f,blur:k,opacity:p})};a.filter.shadow.toString=function(){return this()};a.filter.grayscale=function(d){null==d&&(d=1);return a.format('<feColorMatrix type=\"matrix\" values=\"{a} {b} {c} 0 0 {d} {e} {f} 0 0 {g} {b} {h} 0 0 0 0 0 1 0\"/>',{a:0.2126+0.7874*(1-d),b:0.7152-0.7152*(1-d),c:0.0722-0.0722*(1-d),d:0.2126-0.2126*(1-d),e:0.7152+0.2848*(1-d),f:0.0722-0.0722*(1-d),g:0.2126-0.2126*(1-d),h:0.0722+0.9278*(1-d)})};a.filter.grayscale.toString=function(){return this()};a.filter.sepia=\n",
       "function(d){null==d&&(d=1);return a.format('<feColorMatrix type=\"matrix\" values=\"{a} {b} {c} 0 0 {d} {e} {f} 0 0 {g} {h} {i} 0 0 0 0 0 1 0\"/>',{a:0.393+0.607*(1-d),b:0.769-0.769*(1-d),c:0.189-0.189*(1-d),d:0.349-0.349*(1-d),e:0.686+0.314*(1-d),f:0.168-0.168*(1-d),g:0.272-0.272*(1-d),h:0.534-0.534*(1-d),i:0.131+0.869*(1-d)})};a.filter.sepia.toString=function(){return this()};a.filter.saturate=function(d){null==d&&(d=1);return a.format('<feColorMatrix type=\"saturate\" values=\"{amount}\"/>',{amount:1-\n",
       "d})};a.filter.saturate.toString=function(){return this()};a.filter.hueRotate=function(d){return a.format('<feColorMatrix type=\"hueRotate\" values=\"{angle}\"/>',{angle:d||0})};a.filter.hueRotate.toString=function(){return this()};a.filter.invert=function(d){null==d&&(d=1);return a.format('<feComponentTransfer><feFuncR type=\"table\" tableValues=\"{amount} {amount2}\"/><feFuncG type=\"table\" tableValues=\"{amount} {amount2}\"/><feFuncB type=\"table\" tableValues=\"{amount} {amount2}\"/></feComponentTransfer>',{amount:d,\n",
       "amount2:1-d})};a.filter.invert.toString=function(){return this()};a.filter.brightness=function(d){null==d&&(d=1);return a.format('<feComponentTransfer><feFuncR type=\"linear\" slope=\"{amount}\"/><feFuncG type=\"linear\" slope=\"{amount}\"/><feFuncB type=\"linear\" slope=\"{amount}\"/></feComponentTransfer>',{amount:d})};a.filter.brightness.toString=function(){return this()};a.filter.contrast=function(d){null==d&&(d=1);return a.format('<feComponentTransfer><feFuncR type=\"linear\" slope=\"{amount}\" intercept=\"{amount2}\"/><feFuncG type=\"linear\" slope=\"{amount}\" intercept=\"{amount2}\"/><feFuncB type=\"linear\" slope=\"{amount}\" intercept=\"{amount2}\"/></feComponentTransfer>',\n",
       "{amount:d,amount2:0.5-d/2})};a.filter.contrast.toString=function(){return this()}});return C});\n",
       "\n",
       "]]> </script>\n",
       "</svg>\n"
      ],
      "text/plain": [
       "Context(Measures.BoundingBox{Tuple{Measures.Length{:w, Float64}, Measures.Length{:h, Float64}}, Tuple{Measures.Length{:w, Float64}, Measures.Length{:h, Float64}}}((0.0w, 0.0h), (1.0w, 1.0h)), UnitBox{Float64, Float64, Float64, Float64}(-1.2, -1.2, 2.4, 2.4, 0.0mm, 0.0mm, 0.0mm, 0.0mm), nothing, nothing, nothing, List([Context(Measures.BoundingBox{Tuple{Measures.Length{:w, Float64}, Measures.Length{:h, Float64}}, Tuple{Measures.Length{:w, Float64}, Measures.Length{:h, Float64}}}((0.0w, 0.0h), (1.0w, 1.0h)), nothing, nothing, nothing, nothing, List([]), List([Compose.Form{Compose.LinePrimitive}(Compose.LinePrimitive[Compose.LinePrimitive{Tuple{Measure, Measure}}(Tuple{Measure, Measure}[(0.9116116523516815cx, 1.0824450702943665e-17cy), (-0.9116116523516815cx, 2.0039570351914397e-16cy)]), Compose.LinePrimitive{Tuple{Measure, Measure}}(Tuple{Measure, Measure}[(0.7409315374456847cx, 0.625446595881774cy), (0.9661752437408627cx, 0.08166018530477352cy)]), Compose.LinePrimitive{Tuple{Measure, Measure}}(Tuple{Measure, Measure}[(0.625446595881774cx, 0.7409315374456847cy), (0.08166018530477351cx, 0.9661752437408626cy)]), Compose.LinePrimitive{Tuple{Measure, Measure}}(Tuple{Measure, Measure}[(0.6254465958817739cx, 0.6732820249274102cy), (-0.9183398146952264cx, 0.033824756259137494cy)]), Compose.LinePrimitive{Tuple{Measure, Measure}}(Tuple{Measure, Measure}[(0.6446067811865475cx, 0.6446067811865475cy), (-0.6446067811865477cx, -0.6446067811865475cy)]), Compose.LinePrimitive{Tuple{Measure, Measure}}(Tuple{Measure, Measure}[(0.03382475625913731cx, 0.9183398146952265cy), (0.6732820249274102cx, -0.6254465958817742cy)]), Compose.LinePrimitive{Tuple{Measure, Measure}}(Tuple{Measure, Measure}[(-0.618718433538229cx, 0.7071067811865475cy), (0.618718433538229cx, 0.7071067811865475cy)]), Compose.LinePrimitive{Tuple{Measure, Measure}}(Tuple{Measure, Measure}[(-0.6446067811865475cx, 0.6446067811865475cy), (0.6446067811865475cx, -0.6446067811865477cy)]), Compose.LinePrimitive{Tuple{Measure, Measure}}(Tuple{Measure, Measure}[(-0.9183398146952264cx, 0.03382475625913752cy), (0.6254465958817739cx, 0.6732820249274102cy)]), Compose.LinePrimitive{Tuple{Measure, Measure}}(Tuple{Measure, Measure}[(-0.9375cx, 0.06250000000000021cy), (-0.06250000000000001cx, 0.9375cy)]), Compose.LinePrimitive{Tuple{Measure, Measure}}(Tuple{Measure, Measure}[(-0.9661752437408627cx, 0.08166018530477373cy), (-0.7409315374456849cx, 0.625446595881774cy)]), Compose.LinePrimitive{Tuple{Measure, Measure}}(Tuple{Measure, Measure}[(-0.6732820249274104cx, -0.625446595881774cy), (-0.03382475625913736cx, 0.9183398146952265cy)]), Compose.LinePrimitive{Tuple{Measure, Measure}}(Tuple{Measure, Measure}[(-0.6254465958817742cx, -0.7409315374456847cy), (-0.08166018530477374cx, -0.9661752437408627cy)]), Compose.LinePrimitive{Tuple{Measure, Measure}}(Tuple{Measure, Measure}[(-0.6187184335382292cx, -0.7071067811865475cy), (0.618718433538229cx, -0.7071067811865477cy)]), Compose.LinePrimitive{Tuple{Measure, Measure}}(Tuple{Measure, Measure}[(0.06249999999999979cx, -0.9375cy), (0.9375cx, -0.062499999999999986cy)]), Compose.LinePrimitive{Tuple{Measure, Measure}}(Tuple{Measure, Measure}[(-0.08166018530477374cx, -0.9661752437408627cy), (-0.6254465958817742cx, -0.7409315374456849cy)]), Compose.LinePrimitive{Tuple{Measure, Measure}}(Tuple{Measure, Measure}[(0.7409315374456847cx, -0.6254465958817742cy), (0.9661752437408626cx, -0.08166018530477351cy)]), Compose.LinePrimitive{Tuple{Measure, Measure}}(Tuple{Measure, Measure}[(0.7071067811865475cx, -0.6187184335382292cy), (0.7071067811865475cx, 0.618718433538229cy)]), Compose.LinePrimitive{Tuple{Measure, Measure}}(Tuple{Measure, Measure}[(0.6446067811865475cx, -0.6446067811865477cy), (-0.6446067811865475cx, 0.6446067811865475cy)])], Symbol(\"\"))]), List([Compose.Property{Compose.LineWidthPrimitive}(Compose.LineWidthPrimitive[Compose.LineWidthPrimitive(1.0606601717798212mm)]), Compose.Property{Compose.FillPrimitive}(Compose.FillPrimitive[Compose.FillPrimitive(RGBA{Float64}(0.0,0.0,0.0,0.0))]), Compose.Property{Compose.StrokePrimitive}(Compose.StrokePrimitive[Compose.StrokePrimitive(RGBA{Float64}(0.8274509803921568,0.8274509803921568,0.8274509803921568,1.0))])]), 0, false, false, false, false, nothing, nothing, 0.0, Symbol(\"\")), Context(Measures.BoundingBox{Tuple{Measures.Length{:w, Float64}, Measures.Length{:h, Float64}}, Tuple{Measures.Length{:w, Float64}, Measures.Length{:h, Float64}}}((0.0w, 0.0h), (1.0w, 1.0h)), nothing, nothing, nothing, nothing, List([]), List([Compose.Form{Compose.LinePrimitive}(Compose.LinePrimitive[Compose.LinePrimitive{Tuple{Measure, Measure}}(Tuple{Measure, Measure}[(-0.8176423902730907cx, 0.03420201433256707cy), (-0.9116116523516815cx, 2.0039570351914397e-16cy), (-0.8176423902730907cx, -0.034202014332566685cy)]), Compose.LinePrimitive{Tuple{Measure, Measure}}(Tuple{Measure, Measure}[(0.8986162229792967cx, 0.1553879189857859cy), (0.9661752437408627cx, 0.08166018530477352cy), (0.9618133050043292cx, 0.1815650074629593cy)]), Compose.LinePrimitive{Tuple{Measure, Measure}}(Tuple{Measure, Measure}[(0.18156500746295928cx, 0.961813305004329cy), (0.08166018530477351cx, 0.9661752437408626cy), (0.1553879189857859cx, 0.8986162229792966cy)]), Compose.LinePrimitive{Tuple{Measure, Measure}}(Tuple{Measure, Measure}[(-0.844612081014214cx, 0.1013837770207035cy), (-0.9183398146952264cx, 0.033824756259137494cy), (-0.8184349925370407cx, 0.03818669499567105cy)]), Compose.LinePrimitive{Tuple{Measure, Measure}}(Tuple{Measure, Measure}[(-0.6023449550124778cx, -0.5539760024828825cy), (-0.6446067811865477cx, -0.6446067811865475cy), (-0.5539760024828827cx, -0.6023449550124775cy)]), Compose.LinePrimitive{Tuple{Measure, Measure}}(Tuple{Measure, Measure}[(0.6057230041658441cx, -0.5517188622007618cy), (0.6732820249274102cx, -0.6254465958817742cy), (0.6689200861908766cx, -0.5255417737235885cy)]), Compose.LinePrimitive{Tuple{Measure, Measure}}(Tuple{Measure, Measure}[(0.5247491714596382cx, 0.6729047668539806cy), (0.618718433538229cx, 0.7071067811865475cy), (0.5247491714596382cx, 0.7413087955191143cy)]), Compose.LinePrimitive{Tuple{Measure, Measure}}(Tuple{Measure, Measure}[(0.5539760024828825cx, -0.6023449550124778cy), (0.6446067811865475cx, -0.6446067811865477cy), (0.6023449550124775cx, -0.5539760024828827cy)]), Compose.LinePrimitive{Tuple{Measure, Measure}}(Tuple{Measure, Measure}[(0.5517188622007615cx, 0.6057230041658441cy), (0.6254465958817739cx, 0.6732820249274102cy), (0.5255417737235881cx, 0.6689200861908766cy)]), Compose.LinePrimitive{Tuple{Measure, Measure}}(Tuple{Measure, Measure}[(-0.10476182617406998cx, 0.846869221296335cy), (-0.06250000000000001cx, 0.9375cy), (-0.15313077870366504cx, 0.8952381738259301cy)]), Compose.LinePrimitive{Tuple{Measure, Measure}}(Tuple{Measure, Measure}[(-0.7452934761822185cx, 0.5255417737235882cy), (-0.7409315374456849cx, 0.625446595881774cy), (-0.8084905582072509cx, 0.5517188622007616cy)]), Compose.LinePrimitive{Tuple{Measure, Measure}}(Tuple{Measure, Measure}[(-0.03818669499567096cx, 0.8184349925370408cy), (-0.03382475625913736cx, 0.9183398146952265cy), (-0.1013837770207034cx, 0.8446120810142141cy)]), Compose.LinePrimitive{Tuple{Measure, Measure}}(Tuple{Measure, Measure}[(-0.18156500746295953cx, -0.9618133050043292cy), (-0.08166018530477374cx, -0.9661752437408627cy), (-0.15538791898578613cx, -0.8986162229792967cy)]), Compose.LinePrimitive{Tuple{Measure, Measure}}(Tuple{Measure, Measure}[(0.5247491714596382cx, -0.7413087955191145cy), (0.618718433538229cx, -0.7071067811865477cy), (0.5247491714596382cx, -0.6729047668539808cy)]), Compose.LinePrimitive{Tuple{Measure, Measure}}(Tuple{Measure, Measure}[(0.8952381738259301cx, -0.15313077870366498cy), (0.9375cx, -0.062499999999999986cy), (0.846869221296335cx, -0.10476182617406993cy)]), Compose.LinePrimitive{Tuple{Measure, Measure}}(Tuple{Measure, Measure}[(-0.5255417737235885cx, -0.7452934761822184cy), (-0.6254465958817742cx, -0.7409315374456849cy), (-0.5517188622007618cx, -0.8084905582072509cy)]), Compose.LinePrimitive{Tuple{Measure, Measure}}(Tuple{Measure, Measure}[(0.961813305004329cx, -0.18156500746295928cy), (0.9661752437408626cx, -0.08166018530477351cy), (0.8986162229792966cx, -0.1553879189857859cy)]), Compose.LinePrimitive{Tuple{Measure, Measure}}(Tuple{Measure, Measure}[(0.7413087955191143cx, 0.5247491714596382cy), (0.7071067811865475cx, 0.618718433538229cy), (0.6729047668539806cx, 0.5247491714596382cy)]), Compose.LinePrimitive{Tuple{Measure, Measure}}(Tuple{Measure, Measure}[(-0.5539760024828825cx, 0.6023449550124775cy), (-0.6446067811865475cx, 0.6446067811865475cy), (-0.6023449550124775cx, 0.5539760024828825cy)])], Symbol(\"\"))]), List([Compose.Property{Compose.LineWidthPrimitive}(Compose.LineWidthPrimitive[Compose.LineWidthPrimitive(1.0606601717798212mm)]), Compose.Property{Compose.StrokePrimitive}(Compose.StrokePrimitive[Compose.StrokePrimitive(RGBA{Float64}(0.8274509803921568,0.8274509803921568,0.8274509803921568,1.0))])]), 0, false, false, false, false, nothing, nothing, 0.0, Symbol(\"\")), Context(Measures.BoundingBox{Tuple{Measures.Length{:w, Float64}, Measures.Length{:h, Float64}}, Tuple{Measures.Length{:w, Float64}, Measures.Length{:h, Float64}}}((0.0w, 0.0h), (1.0w, 1.0h)), nothing, nothing, nothing, nothing, List([]), List([]), List([Compose.Property{Compose.FontSizePrimitive}(Compose.FontSizePrimitive[Compose.FontSizePrimitive(4.0mm)]), Compose.Property{Compose.StrokePrimitive}(Compose.StrokePrimitive[Compose.StrokePrimitive(RGBA{Float64}(0.0,0.0,0.0,0.0))]), Compose.Property{Compose.FillPrimitive}(Compose.FillPrimitive[Compose.FillPrimitive(RGBA{Float64}(0.0,0.0,0.0,1.0))])]), 0, false, false, false, false, nothing, nothing, 0.0, Symbol(\"\")), Context(Measures.BoundingBox{Tuple{Measures.Length{:w, Float64}, Measures.Length{:h, Float64}}, Tuple{Measures.Length{:w, Float64}, Measures.Length{:h, Float64}}}((0.0w, 0.0h), (1.0w, 1.0h)), nothing, nothing, nothing, nothing, List([]), List([Compose.Form{Compose.CirclePrimitive{Tuple{Measure, Measure}, Measure}}(Compose.CirclePrimitive{Tuple{Measure, Measure}, Measure}[Compose.CirclePrimitive{Tuple{Measure, Measure}, Measure}((1.0cx, 0.0cy), 0.035355339059327376w), Compose.CirclePrimitive{Tuple{Measure, Measure}, Measure}((0.7071067811865475cx, 0.7071067811865475cy), 0.035355339059327376w), Compose.CirclePrimitive{Tuple{Measure, Measure}, Measure}((0.0cx, 1.0cy), 0.035355339059327376w), Compose.CirclePrimitive{Tuple{Measure, Measure}, Measure}((-0.7071067811865475cx, 0.7071067811865475cy), 0.035355339059327376w), Compose.CirclePrimitive{Tuple{Measure, Measure}, Measure}((-1.0cx, 2.220446049250313e-16cy), 0.035355339059327376w), Compose.CirclePrimitive{Tuple{Measure, Measure}, Measure}((-0.7071067811865477cx, -0.7071067811865475cy), 0.035355339059327376w), Compose.CirclePrimitive{Tuple{Measure, Measure}, Measure}((-2.220446049250313e-16cx, -1.0cy), 0.035355339059327376w), Compose.CirclePrimitive{Tuple{Measure, Measure}, Measure}((0.7071067811865475cx, -0.7071067811865477cy), 0.035355339059327376w)], Symbol(\"\"))]), List([Compose.Property{Compose.LineWidthPrimitive}(Compose.LineWidthPrimitive[Compose.LineWidthPrimitive(0.0mm)]), Compose.Property{Compose.StrokePrimitive}(Compose.StrokePrimitive[Compose.StrokePrimitive(RGBA{Float64}(0.0,0.0,0.0,0.0))]), Compose.Property{Compose.FillPrimitive}(Compose.FillPrimitive[Compose.FillPrimitive(RGBA{Float64}(0.25098039215686274,0.8784313725490196,0.8156862745098039,1.0))])]), 0, false, false, false, false, nothing, nothing, 0.0, Symbol(\"\")), Context(Measures.BoundingBox{Tuple{Measures.Length{:w, Float64}, Measures.Length{:h, Float64}}, Tuple{Measures.Length{:w, Float64}, Measures.Length{:h, Float64}}}((0.0w, 0.0h), (1.0w, 1.0h)), nothing, nothing, nothing, nothing, List([]), List([Compose.Form{Compose.TextPrimitive{Tuple{Measures.Length{:cx, Float64}, Measures.Length{:cy, Float64}}, Rotation{Tuple{Measures.Length{:w, Float64}, Measures.Length{:h, Float64}}}, Tuple{Measures.AbsoluteLength, Measures.AbsoluteLength}}}(Compose.TextPrimitive{Tuple{Measures.Length{:cx, Float64}, Measures.Length{:cy, Float64}}, Rotation{Tuple{Measures.Length{:w, Float64}, Measures.Length{:h, Float64}}}, Tuple{Measures.AbsoluteLength, Measures.AbsoluteLength}}[Compose.TextPrimitive{Tuple{Measures.Length{:cx, Float64}, Measures.Length{:cy, Float64}}, Rotation{Tuple{Measures.Length{:w, Float64}, Measures.Length{:h, Float64}}}, Tuple{Measures.AbsoluteLength, Measures.AbsoluteLength}}((1.0cx, 0.0cy), \"1\", Compose.HCenter(), Compose.VCenter(), Rotation{Tuple{Measures.Length{:w, Float64}, Measures.Length{:h, Float64}}}(0.0, (0.5w, 0.5h)), (0.0mm, 0.0mm)), Compose.TextPrimitive{Tuple{Measures.Length{:cx, Float64}, Measures.Length{:cy, Float64}}, Rotation{Tuple{Measures.Length{:w, Float64}, Measures.Length{:h, Float64}}}, Tuple{Measures.AbsoluteLength, Measures.AbsoluteLength}}((0.7071067811865475cx, 0.7071067811865475cy), \"2\", Compose.HCenter(), Compose.VCenter(), Rotation{Tuple{Measures.Length{:w, Float64}, Measures.Length{:h, Float64}}}(0.0, (0.5w, 0.5h)), (0.0mm, 0.0mm)), Compose.TextPrimitive{Tuple{Measures.Length{:cx, Float64}, Measures.Length{:cy, Float64}}, Rotation{Tuple{Measures.Length{:w, Float64}, Measures.Length{:h, Float64}}}, Tuple{Measures.AbsoluteLength, Measures.AbsoluteLength}}((0.0cx, 1.0cy), \"3\", Compose.HCenter(), Compose.VCenter(), Rotation{Tuple{Measures.Length{:w, Float64}, Measures.Length{:h, Float64}}}(0.0, (0.5w, 0.5h)), (0.0mm, 0.0mm)), Compose.TextPrimitive{Tuple{Measures.Length{:cx, Float64}, Measures.Length{:cy, Float64}}, Rotation{Tuple{Measures.Length{:w, Float64}, Measures.Length{:h, Float64}}}, Tuple{Measures.AbsoluteLength, Measures.AbsoluteLength}}((-0.7071067811865475cx, 0.7071067811865475cy), \"4\", Compose.HCenter(), Compose.VCenter(), Rotation{Tuple{Measures.Length{:w, Float64}, Measures.Length{:h, Float64}}}(0.0, (0.5w, 0.5h)), (0.0mm, 0.0mm)), Compose.TextPrimitive{Tuple{Measures.Length{:cx, Float64}, Measures.Length{:cy, Float64}}, Rotation{Tuple{Measures.Length{:w, Float64}, Measures.Length{:h, Float64}}}, Tuple{Measures.AbsoluteLength, Measures.AbsoluteLength}}((-1.0cx, 2.220446049250313e-16cy), \"5\", Compose.HCenter(), Compose.VCenter(), Rotation{Tuple{Measures.Length{:w, Float64}, Measures.Length{:h, Float64}}}(0.0, (0.5w, 0.5h)), (0.0mm, 0.0mm)), Compose.TextPrimitive{Tuple{Measures.Length{:cx, Float64}, Measures.Length{:cy, Float64}}, Rotation{Tuple{Measures.Length{:w, Float64}, Measures.Length{:h, Float64}}}, Tuple{Measures.AbsoluteLength, Measures.AbsoluteLength}}((-0.7071067811865477cx, -0.7071067811865475cy), \"6\", Compose.HCenter(), Compose.VCenter(), Rotation{Tuple{Measures.Length{:w, Float64}, Measures.Length{:h, Float64}}}(0.0, (0.5w, 0.5h)), (0.0mm, 0.0mm)), Compose.TextPrimitive{Tuple{Measures.Length{:cx, Float64}, Measures.Length{:cy, Float64}}, Rotation{Tuple{Measures.Length{:w, Float64}, Measures.Length{:h, Float64}}}, Tuple{Measures.AbsoluteLength, Measures.AbsoluteLength}}((-2.220446049250313e-16cx, -1.0cy), \"7\", Compose.HCenter(), Compose.VCenter(), Rotation{Tuple{Measures.Length{:w, Float64}, Measures.Length{:h, Float64}}}(0.0, (0.5w, 0.5h)), (0.0mm, 0.0mm)), Compose.TextPrimitive{Tuple{Measures.Length{:cx, Float64}, Measures.Length{:cy, Float64}}, Rotation{Tuple{Measures.Length{:w, Float64}, Measures.Length{:h, Float64}}}, Tuple{Measures.AbsoluteLength, Measures.AbsoluteLength}}((0.7071067811865475cx, -0.7071067811865477cy), \"8\", Compose.HCenter(), Compose.VCenter(), Rotation{Tuple{Measures.Length{:w, Float64}, Measures.Length{:h, Float64}}}(0.0, (0.5w, 0.5h)), (0.0mm, 0.0mm))], Symbol(\"\"))]), List([Compose.Property{Compose.FontSizePrimitive}(Compose.FontSizePrimitive[Compose.FontSizePrimitive(4.0mm)]), Compose.Property{Compose.StrokePrimitive}(Compose.StrokePrimitive[Compose.StrokePrimitive(RGBA{Float64}(0.0,0.0,0.0,0.0))]), Compose.Property{Compose.FillPrimitive}(Compose.FillPrimitive[Compose.FillPrimitive(RGBA{Float64}(0.0,0.0,0.0,1.0))])]), 0, false, false, false, false, nothing, nothing, 0.0, Symbol(\"\"))]), List([]), List([]), 0, false, false, false, false, nothing, nothing, 0.0, Symbol(\"\"))"
      ]
     },
     "execution_count": 14,
     "metadata": {},
     "output_type": "execute_result"
    }
   ],
   "source": [
    "gplot(G,layout=circular_layout,nodelabel=collect(1:nv(G)))"
   ]
  },
  {
   "cell_type": "markdown",
   "metadata": {
    "id": "92ks3TS1qThq"
   },
   "source": [
    "Let us try to know more about the graph $G$. We can get the collection of edges as follows."
   ]
  },
  {
   "cell_type": "code",
   "execution_count": 15,
   "metadata": {
    "colab": {
     "base_uri": "https://localhost:8080/"
    },
    "executionInfo": {
     "elapsed": 524,
     "status": "ok",
     "timestamp": 1686051910435,
     "user": {
      "displayName": "walid benameur",
      "userId": "15823031990919506834"
     },
     "user_tz": -120
    },
    "id": "dAHikWV-qV9U",
    "outputId": "f5d84e05-62aa-4f4a-85f5-36ae4580e691"
   },
   "outputs": [
    {
     "data": {
      "text/plain": [
       "19-element Vector{Graphs.SimpleGraphs.SimpleEdge{Int64}}:\n",
       " Edge 1 => 5\n",
       " Edge 2 => 1\n",
       " Edge 2 => 3\n",
       " Edge 2 => 5\n",
       " Edge 2 => 6\n",
       " Edge 3 => 8\n",
       " Edge 4 => 2\n",
       " Edge 4 => 8\n",
       " Edge 5 => 2\n",
       " Edge 5 => 3\n",
       " Edge 5 => 4\n",
       " Edge 6 => 3\n",
       " Edge 6 => 7\n",
       " Edge 6 => 8\n",
       " Edge 7 => 1\n",
       " Edge 7 => 6\n",
       " Edge 8 => 1\n",
       " Edge 8 => 2\n",
       " Edge 8 => 4"
      ]
     },
     "execution_count": 15,
     "metadata": {},
     "output_type": "execute_result"
    }
   ],
   "source": [
    "collect(edges(G))"
   ]
  },
  {
   "cell_type": "markdown",
   "metadata": {
    "id": "DF_btZDGrHM1"
   },
   "source": [
    "We obtain below the source and the destination of the third edge."
   ]
  },
  {
   "cell_type": "code",
   "execution_count": 16,
   "metadata": {
    "colab": {
     "base_uri": "https://localhost:8080/"
    },
    "executionInfo": {
     "elapsed": 815,
     "status": "ok",
     "timestamp": 1686051577681,
     "user": {
      "displayName": "walid benameur",
      "userId": "15823031990919506834"
     },
     "user_tz": -120
    },
    "id": "xEbS9DvvrR4n",
    "outputId": "c88caafb-25b3-42f5-af26-b815630432bb"
   },
   "outputs": [
    {
     "data": {
      "text/plain": [
       "2"
      ]
     },
     "execution_count": 16,
     "metadata": {},
     "output_type": "execute_result"
    }
   ],
   "source": [
    "src(collect(edges(G))[3])"
   ]
  },
  {
   "cell_type": "code",
   "execution_count": 17,
   "metadata": {
    "colab": {
     "base_uri": "https://localhost:8080/"
    },
    "executionInfo": {
     "elapsed": 629,
     "status": "ok",
     "timestamp": 1686051584916,
     "user": {
      "displayName": "walid benameur",
      "userId": "15823031990919506834"
     },
     "user_tz": -120
    },
    "id": "iBIbqHpyrTPr",
    "outputId": "7ff90fd9-d350-47cb-be39-d7e7043c6042"
   },
   "outputs": [
    {
     "data": {
      "text/plain": [
       "3"
      ]
     },
     "execution_count": 17,
     "metadata": {},
     "output_type": "execute_result"
    }
   ],
   "source": [
    "dst(collect(edges(G))[3])"
   ]
  },
  {
   "cell_type": "markdown",
   "metadata": {
    "id": "_i1flSEur2NR"
   },
   "source": [
    "The set of inneighbors and the set of outneighbors of the vertex 3 are shown here."
   ]
  },
  {
   "cell_type": "code",
   "execution_count": 18,
   "metadata": {
    "colab": {
     "base_uri": "https://localhost:8080/"
    },
    "executionInfo": {
     "elapsed": 941,
     "status": "ok",
     "timestamp": 1686051591807,
     "user": {
      "displayName": "walid benameur",
      "userId": "15823031990919506834"
     },
     "user_tz": -120
    },
    "id": "EEAqcIh9r3Z8",
    "outputId": "644c5441-2d8a-48b0-91bf-1d92b30da3fd"
   },
   "outputs": [
    {
     "data": {
      "text/plain": [
       "3-element Vector{Int64}:\n",
       " 2\n",
       " 5\n",
       " 6"
      ]
     },
     "execution_count": 18,
     "metadata": {},
     "output_type": "execute_result"
    }
   ],
   "source": [
    "inneighbors(G,3)"
   ]
  },
  {
   "cell_type": "code",
   "execution_count": 19,
   "metadata": {
    "colab": {
     "base_uri": "https://localhost:8080/"
    },
    "executionInfo": {
     "elapsed": 385,
     "status": "ok",
     "timestamp": 1686051595557,
     "user": {
      "displayName": "walid benameur",
      "userId": "15823031990919506834"
     },
     "user_tz": -120
    },
    "id": "zBFoO8Wwr-Cb",
    "outputId": "203aa75a-f7a7-4a18-b34f-f9b228816543"
   },
   "outputs": [
    {
     "data": {
      "text/plain": [
       "1-element Vector{Int64}:\n",
       " 8"
      ]
     },
     "execution_count": 19,
     "metadata": {},
     "output_type": "execute_result"
    }
   ],
   "source": [
    "outneighbors(G,3)"
   ]
  },
  {
   "cell_type": "code",
   "execution_count": 20,
   "metadata": {},
   "outputs": [
    {
     "data": {
      "text/plain": [
       "19"
      ]
     },
     "execution_count": 20,
     "metadata": {},
     "output_type": "execute_result"
    }
   ],
   "source": [
    "ne(G)"
   ]
  },
  {
   "cell_type": "code",
   "execution_count": 21,
   "metadata": {},
   "outputs": [
    {
     "data": {
      "text/plain": [
       "8"
      ]
     },
     "execution_count": 21,
     "metadata": {},
     "output_type": "execute_result"
    }
   ],
   "source": [
    "nv(G)"
   ]
  },
  {
   "cell_type": "markdown",
   "metadata": {
    "id": "hJNJorbS2uP-"
   },
   "source": [
    "# Maximum concurrent flow problem"
   ]
  },
  {
   "cell_type": "markdown",
   "metadata": {
    "id": "2ks6dgAX2vAF"
   },
   "source": [
    "We are given a network with known link capacities and some traffic demands (commodities). Demands can be routed through the network in fractional way (using many paths).  We want to compute the maximum fraction (can be larger than 1) of this demands that can be routed without violating capacity constraints. Several equivalent models can be considered for this problem."
   ]
  },
  {
   "cell_type": "markdown",
   "metadata": {
    "id": "shg_MsetsN_C"
   },
   "source": [
    "##  Formulation based on Kirchhoff's laws"
   ]
  },
  {
   "cell_type": "markdown",
   "metadata": {
    "id": "eUcyiE2csSYR"
   },
   "source": [
    "$$\n",
    "{({Kirchhoff})}: \n",
    "\\max  \\gamma,\\\\\n",
    "\\sum\\limits_{e \\in \\delta^-(v) } {f}^{ij}_e -  \\sum\\limits_{e \\in \\delta^+(v) }f^{ij}_e = 0,   \\forall  i \\neq j,  v \\in V\\setminus \\{i,j\\} \\\\\n",
    "\\sum\\limits_{e \\in \\delta^+(i)} f^{ij}_e -  \\sum\\limits_{e \\in \\delta^-(i) }f^{ij}_e = \\gamma d^{ij},   \\forall  i \\neq j \\\\\n",
    "\\sum\\limits_{e \\in \\delta^+(j)} f^{ij}_e -  \\sum\\limits_{e \\in \\delta^-(j) }f^{ij}_e = - \\gamma d^{ij},   \\forall  i \\neq j    \\mbox{  (redundant !!)} \\\\\n",
    "\\sum\\limits_{i \\neq j}   f^{ij}_e   \\leq b_e,   \\forall e \\in E \\\\\n",
    "f^{ij}_e \\geq 0,   \\forall e \\in E, i \\neq j.\n",
    "$$\n",
    "\n",
    "\n",
    "Let us implement this model through the following function:"
   ]
  },
  {
   "cell_type": "code",
   "execution_count": 25,
   "metadata": {
    "colab": {
     "base_uri": "https://localhost:8080/"
    },
    "executionInfo": {
     "elapsed": 1368,
     "status": "ok",
     "timestamp": 1686051609243,
     "user": {
      "displayName": "walid benameur",
      "userId": "15823031990919506834"
     },
     "user_tz": -120
    },
    "id": "SHRq-wVUskAo",
    "outputId": "a42cda29-ac01-414f-bed7-30f27df652e4"
   },
   "outputs": [
    {
     "data": {
      "text/plain": [
       "Concurrent_Kirchhoff (generic function with 1 method)"
      ]
     },
     "execution_count": 25,
     "metadata": {},
     "output_type": "execute_result"
    }
   ],
   "source": [
    "function Concurrent_Kirchhoff(H, dem, capac)\n",
    "\n",
    "model=Model(GLPK.Optimizer)\n",
    "\n",
    "@variable(model, gamma)\n",
    "\n",
    "@variable(model, flow[1:nv(H),1:nv(H),1:ne(H)]>=0)\n",
    "\n",
    "@constraint(model,kirchoff[s in 1:nv(H),r in 1:nv(H),i in 1:nv(H)],\n",
    "sum(flow[s,r,e]*(Int(i==src(collect(edges(H))[e])) - Int(i==dst(collect(edges(H))[e]))) for e in 1:ne(H)) == gamma*dem[s,r]*(Int(i==s) - Int(i==r)))\n",
    "\n",
    "@constraint(model,capacity[e in 1:ne(H)], sum(flow[s,r,e] for s in 1:nv(H),r in 1:nv(H))<=capac[e])\n",
    "\n",
    "@objective(model, Max,gamma)\n",
    "\n",
    "#print(model)\n",
    "\n",
    "optimize!(model)\n",
    "\n",
    "\n",
    "if (termination_status(model)== MOI.OPTIMAL)\n",
    "    return objective_value(model)\n",
    "else\n",
    "    println(\"Problem has not an optimal solution\")\n",
    "    return -1\n",
    "end\n",
    "end"
   ]
  },
  {
   "cell_type": "code",
   "execution_count": 23,
   "metadata": {
    "id": "XMMf9pT3tKIf"
   },
   "outputs": [],
   "source": [
    "global Demand = zeros(Float16,nG,nG)     \n",
    "\n",
    "for i in 1:nG, j in 1:nG\n",
    "    if !(i==j)                           ##### no demand from i to i\n",
    "        Demand[i,j] =  rand(1:10)\n",
    "    end\n",
    "end\n",
    "\n",
    "\n",
    "global Capac = zeros(Float16,ne(G))\n",
    "\n",
    "for e in 1:ne(G)                        ##### observe that ne(G) gives the number of edges og G\n",
    "    Capac[e]=rand(10:100)\n",
    "end"
   ]
  },
  {
   "cell_type": "code",
   "execution_count": 13,
   "metadata": {
    "colab": {
     "base_uri": "https://localhost:8080/"
    },
    "executionInfo": {
     "elapsed": 1429,
     "status": "ok",
     "timestamp": 1686051806088,
     "user": {
      "displayName": "walid benameur",
      "userId": "15823031990919506834"
     },
     "user_tz": -120
    },
    "id": "a9ymOPyOhKKc",
    "outputId": "040c6f45-5748-4778-91a7-f7e442b491a1"
   },
   "outputs": [
    {
     "data": {
      "text/plain": [
       "28-element Vector{Float16}:\n",
       "  70.0\n",
       "  89.0\n",
       "  11.0\n",
       "  68.0\n",
       "  24.0\n",
       "  97.0\n",
       "  88.0\n",
       "  47.0\n",
       "  97.0\n",
       "  50.0\n",
       "  24.0\n",
       "  46.0\n",
       "  68.0\n",
       "   ⋮\n",
       "  40.0\n",
       "  24.0\n",
       " 100.0\n",
       "  55.0\n",
       "  41.0\n",
       "  62.0\n",
       "  55.0\n",
       "  54.0\n",
       "  69.0\n",
       "  86.0\n",
       "  39.0\n",
       "  34.0"
      ]
     },
     "execution_count": 13,
     "metadata": {},
     "output_type": "execute_result"
    }
   ],
   "source": [
    "Capac"
   ]
  },
  {
   "cell_type": "markdown",
   "metadata": {
    "id": "yWBMwcPmtPYq"
   },
   "source": [
    "We can now use the function defined above:"
   ]
  },
  {
   "cell_type": "code",
   "execution_count": 26,
   "metadata": {
    "colab": {
     "base_uri": "https://localhost:8080/"
    },
    "executionInfo": {
     "elapsed": 421,
     "status": "ok",
     "timestamp": 1686051935969,
     "user": {
      "displayName": "walid benameur",
      "userId": "15823031990919506834"
     },
     "user_tz": -120
    },
    "id": "hrqJZyootVkc",
    "outputId": "2622853d-3c7a-4886-c986-9a872bd37d69"
   },
   "outputs": [
    {
     "data": {
      "text/plain": [
       "0.39999999999999997"
      ]
     },
     "execution_count": 26,
     "metadata": {},
     "output_type": "execute_result"
    }
   ],
   "source": [
    "Concurrent_Kirchhoff(G,Demand,Capac)"
   ]
  },
  {
   "cell_type": "markdown",
   "metadata": {
    "id": "Gbf5n9QBvVKg"
   },
   "source": [
    "Let us consider larger size networks. Let us for example assume that the number of nodes is 30."
   ]
  },
  {
   "cell_type": "code",
   "execution_count": 58,
   "metadata": {
    "id": "uodBiOFSvWWY"
   },
   "outputs": [],
   "source": [
    "nG = 37\n",
    "global G = SimpleDiGraph(nG)\n",
    "\n",
    "for i in 1:nG\n",
    "        for  j in 1:rand(1:Int(floor(nG/2)))\n",
    "            bol = false\n",
    "            while !bol\n",
    "                v = rand(1:nG)\n",
    "                if !(v==i)       #### to avoid loops\n",
    "                    bol = add_edge!(G,i,v)\n",
    "                end\n",
    "            end\n",
    "        end\n",
    "end\n",
    "\n",
    "global Demand = zeros(Float32,nG,nG)\n",
    "\n",
    "for i in 1:nG, j in 1:nG\n",
    "    if !(i==j)\n",
    "        Demand[i,j] =  rand(1:10)\n",
    "    end\n",
    "end\n",
    "\n",
    "\n",
    "global Capac = zeros(Float32,ne(G))\n",
    "\n",
    "for e in 1:ne(G)\n",
    "    Capac[e]=rand(100:500)\n",
    "end"
   ]
  },
  {
   "cell_type": "markdown",
   "metadata": {
    "id": "GwJJoIUgvhpV"
   },
   "source": [
    "Let us solve again the network design problem and measure the computing time:"
   ]
  },
  {
   "cell_type": "code",
   "execution_count": 59,
   "metadata": {
    "colab": {
     "base_uri": "https://localhost:8080/"
    },
    "executionInfo": {
     "elapsed": 291924,
     "status": "ok",
     "timestamp": 1686052277588,
     "user": {
      "displayName": "walid benameur",
      "userId": "15823031990919506834"
     },
     "user_tz": -120
    },
    "id": "KlQsY3pUug_7",
    "outputId": "7f09d8c2-e88f-4de9-ff8c-3a5517f63557"
   },
   "outputs": [
    {
     "data": {
      "text/plain": [
       "91.018170041"
      ]
     },
     "execution_count": 59,
     "metadata": {},
     "output_type": "execute_result"
    }
   ],
   "source": [
    "time_kir = @elapsed  opt_kir = Concurrent_Kirchhoff(G, Demand, Capac)"
   ]
  },
  {
   "cell_type": "code",
   "execution_count": 60,
   "metadata": {
    "colab": {
     "base_uri": "https://localhost:8080/"
    },
    "executionInfo": {
     "elapsed": 367,
     "status": "ok",
     "timestamp": 1686052309018,
     "user": {
      "displayName": "walid benameur",
      "userId": "15823031990919506834"
     },
     "user_tz": -120
    },
    "id": "IzKYfhk8v1ZY",
    "outputId": "6241a6db-abd7-4031-8c2a-13a8f81f476b"
   },
   "outputs": [
    {
     "data": {
      "text/plain": [
       "1.1855670103092784"
      ]
     },
     "execution_count": 60,
     "metadata": {},
     "output_type": "execute_result"
    }
   ],
   "source": [
    "opt_kir"
   ]
  },
  {
   "cell_type": "markdown",
   "metadata": {
    "id": "GmdPswp3v-iZ"
   },
   "source": [
    "Problem solving requires more time than previously. We want to reduce it. One way to do that is to aggregate demands."
   ]
  },
  {
   "cell_type": "markdown",
   "metadata": {
    "id": "D-X4Ra9-wCbF"
   },
   "source": [
    "## Source aggregation to reduce computing time"
   ]
  },
  {
   "cell_type": "markdown",
   "metadata": {
    "id": "ZR-jbQeNwuTb"
   },
   "source": [
    "In the model below demands are aggregated by their source. This model is mathematically equivalent to the non-aggregated one.\n",
    "\n",
    "$$\n",
    "{({{Kirchhoff}_{agg}})}: \n",
    "\\max  \\gamma,\\\\\n",
    "\\sum\\limits_{e \\in \\delta^+(i) } f^{s}_e -  \\sum\\limits_{e \\in \\delta^-(i) }f^{s}_e = - \\gamma d^{s i},   \\forall  s \\in V,  i \\neq s \\\\\n",
    "\\sum\\limits_{e \\in \\delta^+(s)} f^{s}_e -  \\sum\\limits_{e \\in \\delta^-(s) }f^{s}_e = \\sum_{j} \\gamma d^{sj},   \\forall  s \\in V       \\mbox{ (redundant) !!}\\\\\n",
    "\\sum\\limits_{s}   f^{s}_e   \\leq b_e,   \\forall e \\in E \\\\\n",
    "f^{s}_e \\geq 0,   \\forall e \\in E, s \\in V.\n",
    "$$\n",
    "\n",
    "A simple modification of the previous code leads to the following implementation of Routing_Kirchhoff_aggregated(H, dem, cost). Compare the cost of the solution and the computing time obtained using the new function with what was obtained using Routing_Kirchhoff(). "
   ]
  },
  {
   "cell_type": "code",
   "execution_count": 45,
   "metadata": {
    "colab": {
     "base_uri": "https://localhost:8080/"
    },
    "executionInfo": {
     "elapsed": 772,
     "status": "ok",
     "timestamp": 1686052320585,
     "user": {
      "displayName": "walid benameur",
      "userId": "15823031990919506834"
     },
     "user_tz": -120
    },
    "id": "azd7uMN0xDAC",
    "outputId": "4f7c4626-43b7-4d8d-f464-7c051aec1fd7"
   },
   "outputs": [
    {
     "data": {
      "text/plain": [
       "Concurrent_Kirchhoff_aggregated (generic function with 1 method)"
      ]
     },
     "execution_count": 45,
     "metadata": {},
     "output_type": "execute_result"
    }
   ],
   "source": [
    "function Concurrent_Kirchhoff_aggregated(H, dem, capac)\n",
    "\n",
    "model=Model(GLPK.Optimizer)\n",
    "\n",
    "@variable(model, gamma)\n",
    "\n",
    "@variable(model, flow[1:nv(H),1:ne(H)]>=0)\n",
    "\n",
    "@constraint(model,kirchoff[s in 1:nv(H),i in 1:nv(H)],\n",
    "sum(flow[s,e]*(Int(i==src(collect(edges(H))[e])) - Int(i==dst(collect(edges(H))[e]))) \n",
    "for e in 1:ne(H)) == gamma*Int((i==s))*sum(dem[s,j] for j in 1:nv(H)) \n",
    "        -gamma*dem[s,i]*Int(!(i==s))) \n",
    "\n",
    "@constraint(model,capacity[e in 1:ne(H)], sum(flow[s,e] for s in 1:nv(H))<=capac[e])\n",
    "\n",
    "@objective(model, Max,gamma)\n",
    "\n",
    "optimize!(model)\n",
    "\n",
    "if (termination_status(model)== MOI.OPTIMAL)\n",
    "    return objective_value(model)\n",
    "else \n",
    "    println(\"Problem has not an optimal solution\")\n",
    "    return -1\n",
    "end\n",
    "end"
   ]
  },
  {
   "cell_type": "code",
   "execution_count": 61,
   "metadata": {
    "colab": {
     "base_uri": "https://localhost:8080/"
    },
    "executionInfo": {
     "elapsed": 3946,
     "status": "ok",
     "timestamp": 1686052332261,
     "user": {
      "displayName": "walid benameur",
      "userId": "15823031990919506834"
     },
     "user_tz": -120
    },
    "id": "iNQ0FH-4xmkd",
    "outputId": "90b2bf7d-0c8c-44db-c558-e2af600ea3d9"
   },
   "outputs": [
    {
     "data": {
      "text/plain": [
       "1.643595459"
      ]
     },
     "execution_count": 61,
     "metadata": {},
     "output_type": "execute_result"
    }
   ],
   "source": [
    "time_kir_agg =  @elapsed  opt_kir_agg = Concurrent_Kirchhoff_aggregated(G, Demand, Capac)"
   ]
  },
  {
   "cell_type": "code",
   "execution_count": 62,
   "metadata": {
    "colab": {
     "base_uri": "https://localhost:8080/"
    },
    "executionInfo": {
     "elapsed": 679,
     "status": "ok",
     "timestamp": 1686052340588,
     "user": {
      "displayName": "walid benameur",
      "userId": "15823031990919506834"
     },
     "user_tz": -120
    },
    "id": "Uh71EFdqxrhO",
    "outputId": "1d67e93d-7e48-4866-9086-568ea1ae5daf"
   },
   "outputs": [
    {
     "data": {
      "text/plain": [
       "1.1855670103092781"
      ]
     },
     "execution_count": 62,
     "metadata": {},
     "output_type": "execute_result"
    }
   ],
   "source": [
    "opt_kir_agg"
   ]
  },
  {
   "cell_type": "markdown",
   "metadata": {
    "id": "EURn5Ssly2RQ"
   },
   "source": [
    "Problem solving requires more time than previously. We want to reduce it. One way to do that is to aggregate demands."
   ]
  },
  {
   "cell_type": "markdown",
   "metadata": {
    "id": "Q3quXf3Qy93d"
   },
   "source": [
    "## Path Formulation"
   ]
  },
  {
   "cell_type": "markdown",
   "metadata": {
    "id": "FfoBclgizAxH"
   },
   "source": [
    "For larger size problems, another formulation might be needed. Using a Dantzig-Wolfe decomposition, we get a formulation based on path variables (a path variable represents the flow send throug each path). This leads to the following model.\n",
    "$$\n",
    "{({{Path}})}: \n",
    "\\max  \\gamma \\\\\n",
    "\\sum\\limits_{p \\in \\mathcal{P}^{sr} } f_p    \\geq  \\gamma d^{s r},   \\forall  s, r \\in V,  r \\neq s \\\\\n",
    "\\\\\n",
    "\\sum\\limits_{s, r \\in V, s \\neq r} \\sum\\limits_{p \\in \\mathcal{P}^{sr}:e \\in p} f_p   \\leq b_e,   \\forall e \\in E \\\\\n",
    "f_p  \\geq  0,   \\forall  s,r  \\in V,  s \\neq r, p \\in \\mathcal{P}^{sr}.\n",
    "$$\n",
    "\n",
    "Write the dual problem of this Linear program. Let $\\pi$ (resp. $\\lambda$) be the dual vector related to demand (resp. capacity) constraints. The constraint related to each path $p \\in \\mathcal{P}^{sr}$  (in the dual problem) is given by $\\pi_{sr} - \\sum_{e \\in p} \\lambda_e \\leq 0$. \n",
    "\n",
    "To solve the linear program, we will iteratively generate path variable. We start with a subset of paths (say a path for each demand), then we solve the restricted linear program and get the dual variables. We check wether there are  paths violating the constraints  $\\pi_{sr} - \\sum_{e \\in p} \\lambda_e \\geq 0$. This can be done by computing shortest paths in the sense of $u_e$ weights. If some paths are found, we add them to the restricted linear program and repeat the process until no new paths can be found. Notice that when a path variable is added to the restricted linear program, the contraint related to this path will be automatically satisfied in the next iterations. A path can then never be added more than once. \n",
    "\n",
    "We give here a possible implementation of this column generation approach. \n",
    "First we will need this intermediate function giving the index of edge ij if the graph contains such an edge."
   ]
  },
  {
   "cell_type": "code",
   "execution_count": 54,
   "metadata": {
    "colab": {
     "base_uri": "https://localhost:8080/"
    },
    "executionInfo": {
     "elapsed": 281,
     "status": "ok",
     "timestamp": 1686052372502,
     "user": {
      "displayName": "walid benameur",
      "userId": "15823031990919506834"
     },
     "user_tz": -120
    },
    "id": "g-DQOmjzzhbs",
    "outputId": "364ce6ad-eaa5-4ea4-9731-01c192430d7b"
   },
   "outputs": [
    {
     "data": {
      "text/plain": [
       "Edge_num (generic function with 1 method)"
      ]
     },
     "execution_count": 54,
     "metadata": {},
     "output_type": "execute_result"
    }
   ],
   "source": [
    "function Edge_num(H,i,j)\n",
    "\n",
    "if !(j in outneighbors(H,i))\n",
    "    println(\"No edge from \", i, \"  to\", j)\n",
    "    return 0\n",
    "\n",
    "else\n",
    "found = false\n",
    "l = 0\n",
    "    while !found\n",
    "        l=l+1\n",
    "        if (src(collect(edges(H))[l])==i)&&(dst(collect(edges(H))[l])==j)\n",
    "            found = true\n",
    "            return l\n",
    "        end\n",
    "    end\n",
    "end\n",
    "end"
   ]
  },
  {
   "cell_type": "code",
   "execution_count": 55,
   "metadata": {
    "colab": {
     "base_uri": "https://localhost:8080/"
    },
    "executionInfo": {
     "elapsed": 282,
     "status": "ok",
     "timestamp": 1686053471564,
     "user": {
      "displayName": "walid benameur",
      "userId": "15823031990919506834"
     },
     "user_tz": -120
    },
    "id": "gqmHA8lPzpQk",
    "outputId": "4b773e92-7668-451e-a919-4617e8134f59"
   },
   "outputs": [
    {
     "data": {
      "text/plain": [
       "Concurrent_Path (generic function with 1 method)"
      ]
     },
     "execution_count": 55,
     "metadata": {},
     "output_type": "execute_result"
    }
   ],
   "source": [
    "function Concurrent_Path(H, dem, capac, printoption)\n",
    "\n",
    "model=Model(GLPK.Optimizer)\n",
    "\n",
    "@variable(model, gamma>=0)\n",
    "\n",
    "@objective(model, Max,gamma)\n",
    "\n",
    "@constraint(model,capacity[e in 1:ne(H)], 0 <=capac[e])\n",
    "\n",
    "@constraint(model,demand[s in 1:nv(H), r in 1:nv(H)], gamma*dem[s,r]<=0)\n",
    "\n",
    "@variable(model,path[1:1]>=0)\n",
    "\n",
    "Nb_path_generated= zeros(Int,nv(H),nv(H))\n",
    "lamda = zeros(Float16,ne(H))\n",
    "obj = Float16\n",
    "\n",
    "#### Add one path per demand at the beginng: a shortest one\n",
    "for s in 1:nv(H)\n",
    "    ds = dijkstra_shortest_paths(H,s)\n",
    "\n",
    "    for r in 1:nv(H)\n",
    "        if !(r==s)\n",
    "            if ds.pathcounts[r]==0\n",
    "                println(\"Graph is not strongly connected \")\n",
    "                return -1\n",
    "            end\n",
    "            Nb_path_generated[s,r]=Nb_path_generated[s,r]+1\n",
    "            push!(path, @variable(model, lower_bound = 0,\n",
    "                        base_name = \"path[$(s)->$(r)_$(Nb_path_generated[s,r])]\"))\n",
    "            set_normalized_coefficient(demand[s,r], path[end], -1)\n",
    "            p = r\n",
    "            q = ds.parents[r]\n",
    "            num = Edge_num(H,q,p)\n",
    "            set_normalized_coefficient(capacity[num], path[end], 1)\n",
    "            while !(q==s)\n",
    "                p= q\n",
    "                q= ds.parents[p]\n",
    "                num = Edge_num(H,q,p)\n",
    "                set_normalized_coefficient(capacity[num],path[end], 1)\n",
    "            end\n",
    "        end\n",
    "    end\n",
    "end\n",
    "\n",
    "#### path generation ####\n",
    "    \n",
    "stop = false\n",
    "up = Inf\n",
    "while !stop\n",
    "    stop = true\n",
    "    optimize!(model)\n",
    "    pi = dual.(demand)\n",
    "    lamda = dual.(capacity)\n",
    "    obj=objective_value(model)\n",
    "    viol = 0.0\n",
    "    weights=zeros(nv(H),nv(H))\n",
    "\n",
    "\n",
    "    for e in 1:ne(H)\n",
    "        weights[src(collect(edges(H))[e]), dst(collect(edges(H))[e])]= abs(lamda[e])\n",
    "    end\n",
    "\n",
    "\n",
    "    for s in 1:nv(H)\n",
    "        ds = dijkstra_shortest_paths(G,s, weights)\n",
    "\n",
    "        for r in 1:nv(H)\n",
    "          viol+=(ds.dists[r]*dem[s,r])               \n",
    "\n",
    "            if (!(r==s))&&(ds.dists[r]<  abs(pi[s,r])-0.0001)          \n",
    "\n",
    "                Nb_path_generated[s,r]=Nb_path_generated[s,r]+1\n",
    "                stop = false\n",
    "                push!(path, @variable(model, lower_bound = 0,\n",
    "                            base_name = \"path[$(s)->$(r)_ $(Nb_path_generated[s,r])]\"))\n",
    "                set_normalized_coefficient(demand[s,r], path[end], -1)\n",
    "                p = r\n",
    "                q = ds.parents[r]\n",
    "                num = Edge_num(H,q,p)\n",
    "                set_normalized_coefficient(capacity[num], path[end], 1)\n",
    "                while !(q==s)\n",
    "                    p= q\n",
    "                    q= ds.parents[p]\n",
    "                    num = Edge_num(H,q,p)\n",
    "                    set_normalized_coefficient(capacity[num],path[end], 1)\n",
    "                end\n",
    "            end\n",
    "        end\n",
    "    end\n",
    "if obj/viol<up\n",
    "    up = obj/viol\n",
    "end\n",
    "        if (printoption==1) println(\"low = \", obj, \" up =\", up) end\n",
    "end\n",
    "#print(model)\n",
    "return obj, -1*lamda\n",
    "end"
   ]
  },
  {
   "cell_type": "code",
   "execution_count": 63,
   "metadata": {
    "colab": {
     "base_uri": "https://localhost:8080/"
    },
    "executionInfo": {
     "elapsed": 2097,
     "status": "ok",
     "timestamp": 1686053479553,
     "user": {
      "displayName": "walid benameur",
      "userId": "15823031990919506834"
     },
     "user_tz": -120
    },
    "id": "HOzg52Re0SpA",
    "outputId": "92ff7779-dd41-4e19-dbd1-d172d64dba7e"
   },
   "outputs": [
    {
     "name": "stdout",
     "output_type": "stream",
     "text": [
      "low = 0.9565217391304348 up =1.3364485981308418\n",
      "low = 1.0317460317460316 up =1.3364485981308418\n",
      "low = 1.090047393364929 up =1.1855670103092781\n",
      "low = 1.1855670103092784 up =1.1855670103092775\n"
     ]
    },
    {
     "data": {
      "text/plain": [
       "0.706565"
      ]
     },
     "execution_count": 63,
     "metadata": {},
     "output_type": "execute_result"
    }
   ],
   "source": [
    "time_path = @elapsed  opt_path = Concurrent_Path(G, Demand, Capac,1)"
   ]
  },
  {
   "cell_type": "code",
   "execution_count": 64,
   "metadata": {
    "colab": {
     "base_uri": "https://localhost:8080/"
    },
    "executionInfo": {
     "elapsed": 502,
     "status": "ok",
     "timestamp": 1686052746442,
     "user": {
      "displayName": "walid benameur",
      "userId": "15823031990919506834"
     },
     "user_tz": -120
    },
    "id": "VTvgxJRX0e5D",
    "outputId": "9db36fa8-a95d-4606-bf8c-5dfc8f813929"
   },
   "outputs": [
    {
     "data": {
      "text/plain": [
       "(1.1855670103092784, [0.0, 0.0, 0.0, 0.0, 0.0, 0.0, 0.0, 0.0, 0.0, 0.0  …  0.0, 0.0, 0.0, 0.0, 0.0, 0.0, 0.0, 0.0, 0.0, 0.0])"
      ]
     },
     "execution_count": 64,
     "metadata": {},
     "output_type": "execute_result"
    }
   ],
   "source": [
    "opt_path"
   ]
  },
  {
   "cell_type": "markdown",
   "metadata": {
    "id": "1nfvrPL90ndn"
   },
   "source": [
    "You can modify the code to print the model (for example at the beginning and at the end).  \n",
    "\n",
    "Observe that we printed a lower bound and an upper bound after the solution of each restricted master problem. We are using the fact that\n",
    "$$\\bar{\\gamma}   \\leq \\gamma^* \\leq \\frac{\\bar{\\gamma}}{\\sum_{s=1}^{n} \\sum_{r=1}^{n} \\pi_{s,r}(\\bar{\\lambda}) d_{s,r} },$$  where $\\bar{\\lambda}$ is the current dual vector (capacity constraints),  $\\bar{\\gamma}$ is optimum obkective value of the current master problem  and $\\pi_{s,r}(\\bar{\\lambda})$ is the length of the shortest path from $s$ to $r$ in sense of the $\\bar{\\lambda}$  weights (try to prove the validiy of the upper bound). Notice that the upper bound might be infinite."
   ]
  },
  {
   "cell_type": "markdown",
   "metadata": {
    "id": "Aiu_n4pZ0yTC"
   },
   "source": [
    "# Survivable Network Design"
   ]
  },
  {
   "cell_type": "markdown",
   "metadata": {
    "id": "ahHmAL3a1RRb"
   },
   "source": [
    "We would like to design a network that can survive when link failures occur in the network. We assume that each link in the network can fail. We also assume that we cannot have two simultaneous link failures. \n",
    "Once a failure occurs, the traffic can be rerouted. Several rerouting strategies can be considered."
   ]
  },
  {
   "cell_type": "markdown",
   "metadata": {
    "id": "Z-u-qYOT1V2I"
   },
   "source": [
    "## Global end-to-end rerouting"
   ]
  },
  {
   "cell_type": "markdown",
   "metadata": {
    "id": "4XVlK5zm1clf"
   },
   "source": [
    "Let us start with a global end-to-end rerouting strategy where for each link failure all demands can be rerouted (even those that were not interrupted by the failure). A possible model is given below.\n",
    "$$\n",
    "{({Global-{rerouting}})}: \n",
    "\\min  \\sum\\limits_{e \\in E} {cost}_e \\times b_e,\\\\\n",
    "\\sum\\limits_{e \\in \\delta^-(i) } {rer}^{sr}_{e, f} -  \\sum\\limits_{e \\in \\delta^+(i) } {rer}^{sr}_{e, f} = 0,   \\forall  s \\neq r,  i \\in V\\setminus \\{s,r\\}, f \\in E \\\\\n",
    "\\sum\\limits_{e \\in \\delta^+(s)} {rer}^{sr}_{e, f} -  \\sum\\limits_{e \\in \\delta^-(s) }{rer}^{sr}_{e, f} = d^{sr},   \\forall  s \\neq r \\in V, f \\in E \\\\\n",
    "\\sum\\limits_{e \\in \\delta^+(r)} {rer}^{sr}_{e, f} -  \\sum\\limits_{e \\in \\delta^-(r) } {rer}^{sr}_{e, f} = - d^{sr},   \\forall  s \\neq r \\in V, f \\in E \\mbox{  (redundant !!)} \\\\\n",
    "\\sum\\limits_{s \\neq r}   {rer}^{sr}_{e, f}   \\leq b_e,   \\forall e, f \\in E, e \\neq f \\\\\n",
    "{rer}^{sr}_{e, f} \\geq 0,   \\forall e, f \\in E, e \\neq f,  s \\neq r.\n",
    "$$\n",
    "\n",
    "Notice that since we are requiring that the network is able to route traffic for each link failure, it will be able to route traffic when there are no failures. This is why the previous model does not contain variables related to routing when there are no failures. \n",
    "\n",
    "Try the following code. "
   ]
  },
  {
   "cell_type": "code",
   "execution_count": 65,
   "metadata": {
    "colab": {
     "base_uri": "https://localhost:8080/"
    },
    "executionInfo": {
     "elapsed": 329,
     "status": "ok",
     "timestamp": 1686053548339,
     "user": {
      "displayName": "walid benameur",
      "userId": "15823031990919506834"
     },
     "user_tz": -120
    },
    "id": "dyLAq8mZ1yAR",
    "outputId": "3f35d8e4-2d52-4258-f7d6-6a32f34c26e3"
   },
   "outputs": [
    {
     "data": {
      "text/plain": [
       "Global_rerouting (generic function with 1 method)"
      ]
     },
     "execution_count": 65,
     "metadata": {},
     "output_type": "execute_result"
    }
   ],
   "source": [
    "function Global_rerouting(H, dem, cost)\n",
    "\n",
    "model=Model(GLPK.Optimizer)\n",
    "\n",
    "@variable(model, capa[1:ne(H)]>=0)\n",
    "\n",
    "@objective(model, Min,sum(capa[e]*cost[e] for e in 1:ne(H)))\n",
    "\n",
    "@variable(model, reroute[1:ne(H),1:nv(H),1:nv(H),1:ne(H)]>=0)  ### failure is the first argument\n",
    "\n",
    "@constraint(model,failure_kirchoff[f in 1:ne(H), s in 1:nv(H),r in 1:nv(H),i in 1:nv(H)],\n",
    "sum(reroute[f,s,r,e]*(Int(i==src(collect(edges(H))[e]))-Int(i==dst(collect(edges(H))[e]))) \n",
    "            for e in 1:ne(H)) == dem[s,r]*(Int(i==s) - Int(i==r)))\n",
    "\n",
    "@constraint(model,forbidden[f in 1:ne(H), s in 1:nv(H),r in 1:nv(H)], reroute[f,s,r,f]==0.0)\n",
    "\n",
    "@constraint(model,failure_capacity[f in 1:ne(H),e in 1:ne(H)],   Int(!(e==f))*(sum(reroute[f,s,r,e] for s in 1:nv(H),r in 1:nv(H)) -capa[e])<=0)\n",
    "\n",
    "optimize!(model)\n",
    "    \n",
    "if (termination_status(model)== MOI.OPTIMAL)\n",
    "    return objective_value(model)\n",
    "else \n",
    "    println(\"Global Rerouting Problem has not an optimal solution\")\n",
    "    return -1\n",
    "end\n",
    "end"
   ]
  },
  {
   "cell_type": "markdown",
   "metadata": {
    "id": "4BRAndkl12ZG"
   },
   "source": [
    "Let us try with a small graph:"
   ]
  },
  {
   "cell_type": "code",
   "execution_count": 66,
   "metadata": {
    "id": "a3Vr2SCT13eK"
   },
   "outputs": [],
   "source": [
    "nG = 8\n",
    "global G = SimpleDiGraph(nG)\n",
    "\n",
    "for i in 1:nG, j in 1:nG\n",
    "            if  (j+i)%2==1\n",
    "                add_edge!(G,i,j)\n",
    "            end\n",
    "end\n",
    "\n",
    "global Demand = zeros(Float16,nG,nG)\n",
    "\n",
    "for i in 1:nG, j in 1:nG\n",
    "    if !(i==j)\n",
    "        Demand[i,j] = i*j\n",
    "    end\n",
    "end\n",
    "\n",
    "global Cost = zeros(Float16,ne(G))\n",
    "\n",
    "for e in 1:ne(G)\n",
    "    Cost[e]= 1\n",
    "end\n"
   ]
  },
  {
   "cell_type": "code",
   "execution_count": 67,
   "metadata": {
    "colab": {
     "base_uri": "https://localhost:8080/"
    },
    "executionInfo": {
     "elapsed": 31877,
     "status": "ok",
     "timestamp": 1686053677541,
     "user": {
      "displayName": "walid benameur",
      "userId": "15823031990919506834"
     },
     "user_tz": -120
    },
    "id": "L1T7Tej750gU",
    "outputId": "7b34853d-8589-4f1f-fe42-b27eb2799f75"
   },
   "outputs": [
    {
     "data": {
      "text/plain": [
       "1893.75"
      ]
     },
     "execution_count": 67,
     "metadata": {},
     "output_type": "execute_result"
    }
   ],
   "source": [
    "opt_global = Global_rerouting(G, Demand, Cost)"
   ]
  },
  {
   "cell_type": "markdown",
   "metadata": {
    "id": "y1WroE-o554d"
   },
   "source": [
    "## Partial end-to-end rerouting"
   ]
  },
  {
   "cell_type": "markdown",
   "metadata": {
    "id": "dvZbyRsd6AEW"
   },
   "source": [
    "To avoid rerouting of demands that were not directly interrupted by a failure, we might consider partial end-to-end rerouting. Notice that the resources that were used by a demand (before failure) that is impacted by a failure are not used again (they are considered as already used). \n",
    "A possible model is given below:\n",
    "$${({Partial-{rerouting}})}: \n",
    "\\min  \\sum\\limits_{e \\in E} {cost}_e \\times b_e,\\\\\n",
    "\\sum\\limits_{e \\in \\delta^-(v) } {f}^{ij}_e -  \\sum\\limits_{e \\in \\delta^+(v) }f^{ij}_e = 0,   \\forall  i \\neq j,  v \\in V\\setminus \\{i,j\\} \\\\\n",
    "\\sum\\limits_{e \\in \\delta^+(i)} f^{ij}_e -  \\sum\\limits_{e \\in \\delta^-(i) }f^{ij}_e = d^{ij},   \\forall  i \\neq j \\\\\n",
    "\\sum\\limits_{e \\in \\delta^+(j)} f^{ij}_e -  \\sum\\limits_{e \\in \\delta^-(j) }f^{ij}_e = - d^{ij},   \\forall  i \\neq j    \\mbox{  (redundant !!)} \\\\\n",
    "\\sum\\limits_{i \\neq j}   f^{ij}_e   \\leq b_e,   \\forall e \\in E \\\\\n",
    "f^{ij}_e \\geq 0,   \\forall e \\in E, i \\neq j.\\\\\n",
    "\\sum\\limits_{e \\in \\delta^-(v) } {rer}^{ij}_{e, h} -  \\sum\\limits_{e \\in \\delta^+(v) } {rer}^{ij}_{e, h} = 0,   \\forall  i \\neq j,  v \\in V\\setminus \\{i,j\\}, h \\in E \\\\\n",
    "\\sum\\limits_{e \\in \\delta^+(i)} {rer}^{ij}_{e, h} -  \\sum\\limits_{e \\in \\delta^-(i) }{rer}^{ij}_{e, h} = f^{ij}_h,   \\forall  i \\neq j, h \\in E \\\\\n",
    "\\sum\\limits_{e \\in \\delta^+(j)} {rer}^{ij}_{e, h} -  \\sum\\limits_{e \\in \\delta^-(j) } {rer}^{ij}_{e, h} = - f^{ij}_h,   \\forall  i \\neq j,  h \\in E    \\mbox{  (redundant !!)} \\\\\n",
    "\\sum\\limits_{i \\neq j}   {rer}^{ij}_{e, h}  + \\sum\\limits_{i \\neq j}   f^{ij}_e    \\leq b_e,   \\forall e, h \\in E, e \\neq h \\\\\n",
    "{rer}^{ij}_{e, h} \\geq 0,   \\forall e, h \\in E, e \\neq h,  i \\neq j.\n",
    "$$\n",
    "\n",
    "\n",
    "The function above can be slightly modified to implement a partial rerouting strategy. "
   ]
  },
  {
   "cell_type": "code",
   "execution_count": 68,
   "metadata": {
    "colab": {
     "base_uri": "https://localhost:8080/"
    },
    "executionInfo": {
     "elapsed": 624,
     "status": "ok",
     "timestamp": 1686053726431,
     "user": {
      "displayName": "walid benameur",
      "userId": "15823031990919506834"
     },
     "user_tz": -120
    },
    "id": "sAXmSaiT6JZu",
    "outputId": "4a9b7da3-c83f-419c-c935-06d27046bdef"
   },
   "outputs": [
    {
     "data": {
      "text/plain": [
       "Partial_rerouting (generic function with 1 method)"
      ]
     },
     "execution_count": 68,
     "metadata": {},
     "output_type": "execute_result"
    }
   ],
   "source": [
    "function Partial_rerouting(H, dem, cost)\n",
    "\n",
    "model=Model(GLPK.Optimizer)\n",
    "\n",
    "@variable(model, capa[1:ne(H)]>=0)\n",
    "\n",
    "@objective(model, Min,sum(capa[e]*cost[e] for e in 1:ne(H)))\n",
    "@variable(model, flow[1:nv(H),1:nv(H),1:ne(H)]>=0)\n",
    "\n",
    "@variable(model, reroute[1:ne(H),1:nv(H),1:nv(H),1:ne(H)]>=0)  ### failure is the first argument\n",
    "\n",
    "@constraint(model,kirchoff[s in 1:nv(H),r in 1:nv(H),i in 1:nv(H)],\n",
    "sum(flow[s,r,e]*(Int(i==src(collect(edges(H))[e])) - Int(i==dst(collect(edges(H))[e]))) \n",
    "            for e in 1:ne(H)) == dem[s,r]*(Int(i==s) - Int(i==r)))\n",
    "\n",
    "@constraint(model,capacity[e in 1:ne(H)],\n",
    "        sum(flow[s,r,e] for s in 1:nv(H),r in 1:nv(H))<=capa[e])\n",
    "\n",
    "@constraint(model,failure_kirchoff[f in 1:ne(H), s in 1:nv(H),r in 1:nv(H),i in 1:nv(H)],\n",
    "sum(reroute[f,s,r,e]*(Int(i==src(collect(edges(H))[e])) - Int(i==dst(collect(edges(H))[e]))) \n",
    "            for e in 1:ne(H)) == flow[s,r,f]*(Int(i==s) - Int(i==r)))\n",
    "\n",
    "@constraint(model,forbidden[f in 1:ne(H), s in 1:nv(H),r in 1:nv(H)], reroute[f,s,r,f]==0.0)\n",
    "\n",
    "@constraint(model,failure_capacity[f in 1:ne(H),e in 1:ne(H)],   \n",
    "Int(!(e==f))*(sum(flow[s,r,e] for s in 1:nv(H),r in 1:nv(H))+ \n",
    "sum(reroute[f,s,r,e] for s in 1:nv(H),r in 1:nv(H))-capa[e]) <=0)\n",
    "\n",
    "optimize!(model)\n",
    "\n",
    "if (termination_status(model)== MOI.OPTIMAL)\n",
    "    return objective_value(model)\n",
    "else \n",
    "    println(\"Partial Rerouting Problem has not an optimal solution\")\n",
    "    return -1\n",
    "end\n",
    "end"
   ]
  },
  {
   "cell_type": "code",
   "execution_count": 69,
   "metadata": {
    "colab": {
     "base_uri": "https://localhost:8080/"
    },
    "executionInfo": {
     "elapsed": 18069,
     "status": "ok",
     "timestamp": 1686053753086,
     "user": {
      "displayName": "walid benameur",
      "userId": "15823031990919506834"
     },
     "user_tz": -120
    },
    "id": "vbWsl2Oz6PkO",
    "outputId": "02abb3b2-e802-427d-d90f-018e936b7613"
   },
   "outputs": [
    {
     "data": {
      "text/plain": [
       "1973.3333333333335"
      ]
     },
     "execution_count": 69,
     "metadata": {},
     "output_type": "execute_result"
    }
   ],
   "source": [
    "opt_partial = Partial_rerouting(G, Demand, Cost)"
   ]
  },
  {
   "cell_type": "markdown",
   "metadata": {
    "id": "Krf3Pzy86Uir"
   },
   "source": [
    "Observe that the cost obtained with partial rerouting is higher than the one obtained using global rerouting."
   ]
  },
  {
   "cell_type": "markdown",
   "metadata": {
    "id": "B6OIwe1_6qQR"
   },
   "source": [
    "## Local rerouting"
   ]
  },
  {
   "cell_type": "markdown",
   "metadata": {
    "id": "V7TUJwAV6uDX"
   },
   "source": [
    "Another strategy that can be used is local Rerouting. Here we assume that if a link ij fails, then all traffic that was going through this link should be rerouted from i to j (the source and destination of demands do not care about the failure since rerouting is managed by the extremities of the failing link).\n",
    "Propose a function to implement this rerouting strategy. What is the solution's cost ? "
   ]
  },
  {
   "cell_type": "code",
   "execution_count": null,
   "metadata": {},
   "outputs": [],
   "source": []
  },
  {
   "cell_type": "markdown",
   "metadata": {
    "id": "IKNXu5hZ66J8"
   },
   "source": [
    "# A two-level decomposition for the global rerouting problem: Benders decompostion and Dantzig-Wolfe decomposition"
   ]
  },
  {
   "cell_type": "markdown",
   "metadata": {
    "id": "ZlkMrpMd6-hA"
   },
   "source": [
    "It is clear that the global rerouting problem becomes difficult to solve when the size of the network increases. We are going to decompose the problem at two layers. Observe that once the capacities are fixed, one has to check that for each linlk failure $f$, the network is able to route all demands. This can be done, for example, by solving a maximum concurrent flow problem (assuming $f$ is under failure). If the optimal $\\gamma$ is larger than $1$, we know that capacities are sufficient to handle traffic under this failure. Otherwise, we get an inequality $\\sum_{e \\neq f} \\lambda_e b_e \\geq 1$ that is violated (these inequalities are exactly those introduced at the end of the lecture...since $\\sum_{s,r} \\pi^{s,r} d^{s,r} = 1$). This inequality is then added to a master problem where variables are capacities ($b_e$) and constraints are added in this way. Each concurent flow problem is solved by column generation (Dantzig-Wolfe decompostion).   A possible implementation is given below: "
   ]
  },
  {
   "cell_type": "code",
   "execution_count": null,
   "metadata": {
    "colab": {
     "base_uri": "https://localhost:8080/"
    },
    "executionInfo": {
     "elapsed": 6,
     "status": "ok",
     "timestamp": 1672503288039,
     "user": {
      "displayName": "walid benameur",
      "userId": "15823031990919506834"
     },
     "user_tz": -60
    },
    "id": "_JE-MpkR7E6O",
    "outputId": "679184c3-a31f-448e-c5e0-3a00294e0f6d"
   },
   "outputs": [
    {
     "data": {
      "text/plain": [
       "Benders_Global_rerouting (generic function with 1 method)"
      ]
     },
     "execution_count": 37,
     "metadata": {},
     "output_type": "execute_result"
    }
   ],
   "source": [
    "function Benders_Global_rerouting(H, dem, cost, print)\n",
    "\n",
    "      model=Model(GLPK.Optimizer)\n",
    "\n",
    "    @variable(model, capa[1:ne(H)]>=0)\n",
    "\n",
    "    @objective(model, Min,sum(capa[e]*cost[e] for e in 1:ne(H)))\n",
    "\n",
    "     current_capa = zeros(Float16,ne(H))\n",
    "     capa_under_failure = zeros(Float16,ne(H))\n",
    "\n",
    "    stop = false\n",
    "iter = 0\n",
    "    while !stop\n",
    "        stop = true\n",
    "        optimize!(model)\n",
    "        iter = iter+1\n",
    "        if (print==1) println(\"obj = \", objective_value(model), \" it =\", iter) end\n",
    "\n",
    "        for e in 1:ne(H)\n",
    "             current_capa[e] = value(capa[e])\n",
    "        end\n",
    "        for e in 1:ne(H)\n",
    "\n",
    "            for i in 1:ne(H)\n",
    "                capa_under_failure[i]=current_capa[i]\n",
    "            end\n",
    "            capa_under_failure[e]=0.0   ### capacity of link e is 0 under failure of e\n",
    "\n",
    "            res = Concurrent_Path(H, dem, capa_under_failure,0)\n",
    "            if res[1]<1-0.0001\n",
    "                @constraint(model,res[2]'*capa -res[2][e]*capa[e] >=1)              \n",
    "            stop = false\n",
    "            end\n",
    "        end\n",
    "\n",
    "    end\n",
    "\n",
    "return objective_value(model)\n",
    "end"
   ]
  },
  {
   "cell_type": "code",
   "execution_count": null,
   "metadata": {
    "colab": {
     "base_uri": "https://localhost:8080/"
    },
    "executionInfo": {
     "elapsed": 9309,
     "status": "ok",
     "timestamp": 1672503297344,
     "user": {
      "displayName": "walid benameur",
      "userId": "15823031990919506834"
     },
     "user_tz": -60
    },
    "id": "nxWyZM-a7LMO",
    "outputId": "a3829035-1b3f-4953-9c55-7598c6227b06"
   },
   "outputs": [
    {
     "name": "stdout",
     "output_type": "stream",
     "text": [
      "obj = 0.0 it =1\n",
      "obj = 67.2 it =2\n",
      "obj = 197.86666666666665 it =3\n",
      "obj = 309.8666666666666 it =4\n",
      "obj = 315.2 it =5\n",
      "obj = 328.53333333333336 it =6\n",
      "obj = 352.5333333333335 it =7\n",
      "obj = 695.1666666666672 it =8\n",
      "obj = 1202.5000000000007 it =9\n",
      "obj = 1428.5000000000018 it =10\n",
      "obj = 1564.499999999968 it =11\n",
      "obj = 1633.500000000001 it =12\n",
      "obj = 1689.3333333333526 it =13\n",
      "obj = 1745.833333333336 it =14\n",
      "obj = 1771.999999999971 it =15\n",
      "obj = 1804.6666666666656 it =16\n",
      "obj = 1821.9999999999977 it =17\n",
      "obj = 1844.0000000000014 it =18\n",
      "obj = 1843.9999999999995 it =19\n",
      "obj = 1844.0000000000002 it =20\n",
      "obj = 1843.9999999999984 it =21\n",
      "obj = 1843.999999999998 it =22\n",
      "obj = 1843.9999999999998 it =23\n",
      "obj = 1844.0 it =24\n",
      "obj = 1844.0000000000018 it =25\n",
      "obj = 1843.999999999999 it =26\n",
      "obj = 1843.999999999999 it =27\n",
      "obj = 1844.0000000000018 it =28\n",
      "obj = 1843.999999999999 it =29\n",
      "obj = 1848.1599999999999 it =30\n",
      "obj = 1848.16 it =31\n",
      "obj = 1893.7499999999998 it =32\n",
      "obj = 1893.7500000000011 it =33\n",
      "obj = 1893.7500000000007 it =34\n",
      "obj = 1893.750000000001 it =35\n"
     ]
    },
    {
     "data": {
      "text/plain": [
       "1893.750000000001"
      ]
     },
     "execution_count": 38,
     "metadata": {},
     "output_type": "execute_result"
    }
   ],
   "source": [
    "Benders_Global_rerouting(G, Demand, Cost,1)"
   ]
  },
  {
   "cell_type": "markdown",
   "metadata": {
    "id": "M57ArC1I7P6B"
   },
   "source": [
    "Let us consider a little bit larger size network and try again the Benders approach (notice that the model based on Kirchhoff laws is difficult to solve). "
   ]
  },
  {
   "cell_type": "code",
   "execution_count": null,
   "metadata": {
    "id": "HlUcU0HI7Tvn"
   },
   "outputs": [],
   "source": [
    "nG = 10\n",
    "global G = SimpleDiGraph(nG)\n",
    "\n",
    "for i in 1:nG, j in 1:nG\n",
    "            if  (j+i)%2==1\n",
    "                add_edge!(G,i,j)\n",
    "            end\n",
    "end\n",
    "\n",
    "global Demand = zeros(Float32,nG,nG)\n",
    "\n",
    "for i in 1:nG, j in 1:nG\n",
    "    if !(i==j)\n",
    "        Demand[i,j] = i*j\n",
    "    end\n",
    "end\n",
    "\n",
    "global Cost = zeros(Float32,ne(G))\n",
    "\n",
    "for e in 1:ne(G)\n",
    "    Cost[e]= 1\n",
    "end"
   ]
  },
  {
   "cell_type": "code",
   "execution_count": null,
   "metadata": {
    "colab": {
     "base_uri": "https://localhost:8080/",
     "height": 1000
    },
    "executionInfo": {
     "elapsed": 569952,
     "status": "error",
     "timestamp": 1672503867292,
     "user": {
      "displayName": "walid benameur",
      "userId": "15823031990919506834"
     },
     "user_tz": -60
    },
    "id": "GlUik5sc7X72",
    "outputId": "13eb8890-8939-49e6-f0b7-74e7e41b670f"
   },
   "outputs": [
    {
     "name": "stdout",
     "output_type": "stream",
     "text": [
      "obj = 0.0 it =1\n",
      "obj = 102.85714285714286 it =2\n",
      "obj = 305.35714285714283 it =3\n",
      "obj = 485.3571428571428 it =4\n",
      "obj = 488.69047619047615 it =5\n",
      "obj = 562.8571428571429 it =6\n",
      "obj = 577.8571428571429 it =7\n",
      "obj = 607.8571428571429 it =8\n",
      "obj = 622.8571428571429 it =9\n",
      "obj = 645.3571428571428 it =10\n",
      "obj = 650.3571428571429 it =11\n",
      "obj = 1432.4999999999998 it =12\n",
      "obj = 1473.8 it =13\n",
      "obj = 2245.1818181818257 it =14\n",
      "obj = 2763.0000000000146 it =15\n",
      "obj = 3155.020408163265 it =16\n",
      "obj = 3316.281065088767 it =17\n",
      "obj = 3405.999999999998 it =18\n",
      "obj = 3543.822222222219 it =19\n",
      "obj = 3692.969660194173 it =20\n",
      "obj = 3810.5789473684113 it =21\n",
      "obj = 3943.9999999999995 it =22\n",
      "obj = 3943.999999999999 it =23\n",
      "obj = 3943.9999999999973 it =24\n",
      "obj = 3943.999999999997 it =25\n",
      "obj = 3978.499999999997 it =26\n",
      "obj = 3989.2500000000005 it =27\n",
      "obj = 3989.250000000002 it =28\n",
      "obj = 3989.249999999998 it =29\n",
      "obj = 4008.9999999999986 it =30\n",
      "obj = 4009.000000000012 it =31\n",
      "obj = 4008.9999999999977 it =32\n",
      "obj = 4009.0000000000023 it =33\n",
      "obj = 4008.99999999992 it =34\n",
      "obj = 4010.2771949199346 it =35\n",
      "obj = 4017.6031746031726 it =36\n",
      "obj = 4025.729157604754 it =37\n",
      "obj = 4031.10767435074 it =38\n",
      "obj = 4041.511111111109 it =39\n",
      "obj = 4043.3777777777764 it =40\n",
      "obj = 4044.7089041096124 it =41\n",
      "obj = 4046.3951367781006 it =42\n",
      "obj = 4051.6595744680867 it =43\n",
      "obj = 4054.9425287356275 it =44\n",
      "obj = 4057.8333333333335 it =45\n",
      "obj = 4059.6877323420113 it =46\n",
      "obj = 4062.3503083892824 it =47\n",
      "obj = 4094.2557449265987 it =48\n",
      "obj = 4112.077388149889 it =49\n",
      "obj = 4120.290873911646 it =50\n",
      "obj = 4130.510123658099 it =51\n",
      "obj = 4133.524570024568 it =52\n",
      "obj = 4138.611928992547 it =53\n",
      "obj = 4142.207742770453 it =54\n",
      "obj = 4147.679590881743 it =55\n",
      "obj = 4147.679590881738 it =56\n",
      "obj = 4148.92187151875 it =57\n",
      "obj = 4154.8216589325675 it =58\n",
      "obj = 4157.505933569454 it =59\n",
      "obj = 4158.450436009689 it =60\n",
      "obj = 4159.503428196779 it =61\n",
      "obj = 4167.147727272727 it =62\n",
      "obj = 4168.672910927451 it =63\n",
      "obj = 4177.950323574727 it =64\n",
      "obj = 4289.496000000001 it =65\n",
      "obj = 4291.419593345644 it =66\n",
      "obj = 4291.684515195355 it =67\n",
      "obj = 4291.684515195358 it =68\n",
      "obj = 4291.684515195363 it =69\n",
      "obj = 4291.684515195385 it =70\n",
      "obj = 4291.684515195336 it =71\n",
      "obj = 4291.684515195383 it =72\n",
      "obj = 4291.684515195355 it =73\n",
      "obj = 4291.684515195344 it =74\n",
      "obj = 4291.684515195343 it =75\n",
      "obj = 4291.684515195365 it =76\n",
      "obj = 4291.684515195321 it =77\n",
      "obj = 4291.6845151953685 it =78\n",
      "obj = 4291.684515195345 it =79\n",
      "obj = 4291.684515195362 it =80\n",
      "obj = 4292.123680241309 it =81\n",
      "obj = 4292.200573065907 it =82\n",
      "obj = 4292.200573065889 it =83\n",
      "obj = 4292.200573065921 it =84\n",
      "obj = 4292.200573065897 it =85\n",
      "obj = 4292.200573065893 it =86\n",
      "obj = 4292.200573065903 it =87\n",
      "obj = 4292.2005730659175 it =88\n",
      "obj = 4292.200573065896 it =89\n",
      "obj = 4292.2005730659 it =90\n",
      "obj = 4292.2005730658975 it =91\n",
      "obj = 4292.200573065887 it =92\n",
      "obj = 4292.20057306589 it =93\n",
      "obj = 4292.200573065881 it =94\n",
      "obj = 4292.200573065914 it =95\n",
      "obj = 4300.087565674249 it =96\n",
      "obj = 4302.3870967741905 it =97\n",
      "obj = 4302.3870967741905 it =98\n",
      "obj = 4302.387096774167 it =99\n",
      "obj = 4302.38709677415 it =100\n",
      "obj = 4302.387096774218 it =101\n",
      "obj = 4302.3870967741805 it =102\n",
      "obj = 4302.387096774197 it =103\n",
      "obj = 4302.645418326705 it =104\n",
      "obj = 4302.645418326671 it =105\n",
      "obj = 4302.645418326681 it =106\n",
      "obj = 4304.828125000019 it =107\n",
      "obj = 4304.828124999965 it =108\n",
      "obj = 4304.828125000016 it =109\n",
      "obj = 4304.828125000003 it =110\n",
      "obj = 4304.828125000003 it =111\n",
      "obj = 4304.828125000003 it =112\n",
      "obj = 4304.828125000003 it =113\n",
      "obj = 4304.828125000003 it =114\n",
      "obj = 4304.828125000003 it =115\n",
      "obj = 4304.828125000003 it =116\n",
      "obj = 4304.828125000003 it =117\n",
      "obj = 4304.828125000003 it =118\n",
      "obj = 4304.828125000003 it =119\n",
      "obj = 4304.828125000003 it =120\n",
      "obj = 4304.828125000003 it =121\n",
      "obj = 4304.828125000003 it =122\n",
      "obj = 4304.828125000003 it =123\n",
      "obj = 4304.828125000003 it =124\n",
      "obj = 4304.828125000003 it =125\n",
      "obj = 4304.828125000003 it =126\n",
      "obj = 4304.828125000003 it =127\n",
      "obj = 4304.828125000003 it =128\n",
      "obj = 4304.828125000003 it =129\n",
      "obj = 4304.828125000003 it =130\n",
      "obj = 4304.828125000003 it =131\n",
      "obj = 4304.828125000003 it =132\n",
      "obj = 4304.828125000003 it =133\n",
      "obj = 4304.828125000003 it =134\n",
      "obj = 4304.828125000003 it =135\n",
      "obj = 4304.828125000003 it =136\n",
      "obj = 4304.828125000003 it =137\n",
      "obj = 4304.828125000003 it =138\n",
      "obj = 4304.828125000003 it =139\n",
      "obj = 4304.828125000003 it =140\n",
      "obj = 4304.828125000003 it =141\n",
      "obj = 4304.828125000003 it =142\n",
      "obj = 4304.828125000003 it =143\n",
      "obj = 4304.828125000003 it =144\n",
      "obj = 4304.828125000003 it =145\n",
      "obj = 4304.828125000003 it =146\n",
      "obj = 4304.828125000003 it =147\n",
      "obj = 4304.828125000003 it =148\n",
      "obj = 4304.828125000003 it =149\n",
      "obj = 4304.828125000003 it =150\n",
      "obj = 4304.828125000003 it =151\n",
      "obj = 4304.828125000003 it =152\n",
      "obj = 4304.828125000003 it =153\n",
      "obj = 4304.828125000003 it =154\n",
      "obj = 4304.828125000003 it =155\n",
      "obj = 4304.828125000003 it =156\n",
      "obj = 4304.828125000003 it =157\n",
      "obj = 4304.828125000003 it =158\n",
      "obj = 4304.828125000003 it =159\n",
      "obj = 4304.828125000003 it =160\n",
      "obj = 4304.828125000003 it =161\n",
      "obj = 4304.828125000003 it =162\n",
      "obj = 4304.828125000003 it =163\n",
      "obj = 4304.828125000003 it =164\n",
      "obj = 4304.828125000003 it =165\n",
      "obj = 4304.828125000003 it =166\n",
      "obj = 4304.828125000003 it =167\n",
      "obj = 4304.828125000003 it =168\n",
      "obj = 4304.828125000003 it =169\n",
      "obj = 4304.828125000003 it =170\n",
      "obj = 4304.828125000003 it =171\n",
      "obj = 4304.828125000003 it =172\n",
      "obj = 4304.828125000003 it =173\n",
      "obj = 4304.828125000003 it =174\n",
      "obj = 4304.828125000003 it =175\n",
      "obj = 4304.828125000003 it =176\n",
      "obj = 4304.828125000003 it =177\n",
      "obj = 4304.828125000003 it =178\n",
      "obj = 4304.828125000003 it =179\n",
      "obj = 4304.828125000003 it =180\n",
      "obj = 4304.828125000003 it =181\n",
      "obj = 4304.828125000003 it =182\n",
      "obj = 4304.828125000003 it =183\n",
      "obj = 4304.828125000003 it =184\n",
      "obj = 4304.828125000003 it =185\n",
      "obj = 4304.828125000003 it =186\n",
      "obj = 4304.828125000003 it =187\n",
      "obj = 4304.828125000003 it =188\n",
      "obj = 4304.828125000003 it =189\n",
      "obj = 4304.828125000003 it =190\n",
      "obj = 4304.828125000003 it =191\n",
      "obj = 4304.828125000003 it =192\n",
      "obj = 4304.828125000003 it =193\n",
      "obj = 4304.828125000003 it =194\n",
      "obj = 4304.828125000003 it =195\n",
      "obj = 4304.828125000003 it =196\n",
      "obj = 4304.828125000003 it =197\n",
      "obj = 4304.828125000003 it =198\n",
      "obj = 4304.828125000003 it =199\n",
      "obj = 4304.828125000003 it =200\n",
      "obj = 4304.828125000003 it =201\n",
      "obj = 4304.828125000003 it =202\n",
      "obj = 4304.828125000003 it =203\n",
      "obj = 4304.828125000003 it =204\n",
      "obj = 4304.828125000003 it =205\n",
      "obj = 4304.828125000003 it =206\n",
      "obj = 4304.828125000003 it =207\n",
      "obj = 4304.828125000003 it =208\n",
      "obj = 4304.828125000003 it =209\n",
      "obj = 4304.828125000003 it =210\n",
      "obj = 4304.828125000003 it =211\n",
      "obj = 4304.828125000003 it =212\n",
      "obj = 4304.828125000003 it =213\n",
      "obj = 4304.828125000003 it =214\n",
      "obj = 4304.828125000003 it =215\n",
      "obj = 4304.828125000003 it =216\n",
      "obj = 4304.828125000003 it =217\n",
      "obj = 4304.828125000003 it =218\n",
      "obj = 4304.828125000003 it =219\n",
      "obj = 4304.828125000003 it =220\n",
      "obj = 4304.828125000003 it =221\n",
      "obj = 4304.828125000003 it =222\n",
      "obj = 4304.828125000003 it =223\n",
      "obj = 4304.828125000003 it =224\n",
      "obj = 4304.828125000003 it =225\n",
      "obj = 4304.828125000003 it =226\n",
      "obj = 4304.828125000003 it =227\n",
      "obj = 4304.828125000003 it =228\n",
      "obj = 4304.828125000003 it =229\n",
      "obj = 4304.828125000003 it =230\n",
      "obj = 4304.828125000003 it =231\n",
      "obj = 4304.828125000003 it =232\n",
      "obj = 4304.828125000003 it =233\n",
      "obj = 4304.828125000003 it =234\n",
      "obj = 4304.828125000003 it =235\n",
      "obj = 4304.828125000003 it =236\n",
      "obj = 4304.828125000003 it =237\n",
      "obj = 4304.828125000003 it =238\n",
      "obj = 4304.828125000003 it =239\n",
      "obj = 4304.828125000003 it =240\n",
      "obj = 4304.828125000003 it =241\n",
      "obj = 4304.828125000003 it =242\n",
      "obj = 4304.828125000003 it =243\n",
      "obj = 4304.828125000003 it =244\n",
      "obj = 4304.828125000003 it =245\n",
      "obj = 4304.828125000003 it =246\n",
      "obj = 4304.828125000003 it =247\n",
      "obj = 4304.828125000003 it =248\n",
      "obj = 4304.828125000003 it =249\n",
      "obj = 4304.828125000003 it =250\n",
      "obj = 4304.828125000003 it =251\n",
      "obj = 4304.828125000003 it =252\n",
      "obj = 4304.828125000003 it =253\n",
      "obj = 4304.828125000003 it =254\n",
      "obj = 4304.828125000003 it =255\n",
      "obj = 4304.828125000003 it =256\n",
      "obj = 4304.828125000003 it =257\n",
      "obj = 4304.828125000003 it =258\n",
      "obj = 4304.828125000003 it =259\n",
      "obj = 4304.828125000003 it =260\n",
      "obj = 4304.828125000003 it =261\n",
      "obj = 4304.828125000003 it =262\n",
      "obj = 4304.828125000003 it =263\n",
      "obj = 4304.828125000003 it =264\n",
      "obj = 4304.828125000003 it =265\n",
      "obj = 4304.828125000003 it =266\n",
      "obj = 4304.828125000003 it =267\n",
      "obj = 4304.828125000003 it =268\n",
      "obj = 4304.828125000003 it =269\n",
      "obj = 4304.828125000003 it =270\n",
      "obj = 4304.828125000003 it =271\n",
      "obj = 4304.828125000003 it =272\n",
      "obj = 4304.828125000003 it =273\n",
      "obj = 4304.828125000003 it =274\n",
      "obj = 4304.828125000003 it =275\n",
      "obj = 4304.828125000003 it =276\n",
      "obj = 4304.828125000003 it =277\n",
      "obj = 4304.828125000003 it =278\n",
      "obj = 4304.828125000003 it =279\n",
      "obj = 4304.828125000003 it =280\n",
      "obj = 4304.828125000003 it =281\n",
      "obj = 4304.828125000003 it =282\n",
      "obj = 4304.828125000003 it =283\n",
      "obj = 4304.828125000003 it =284\n",
      "obj = 4304.828125000003 it =285\n",
      "obj = 4304.828125000003 it =286\n",
      "obj = 4304.828125000003 it =287\n",
      "obj = 4304.828125000003 it =288\n",
      "obj = 4304.828125000003 it =289\n",
      "obj = 4304.828125000003 it =290\n",
      "obj = 4304.828125000003 it =291\n",
      "obj = 4304.828125000003 it =292\n",
      "obj = 4304.828125000003 it =293\n",
      "obj = 4304.828125000003 it =294\n",
      "obj = 4304.828125000003 it =295\n",
      "obj = 4304.828125000003 it =296\n",
      "obj = 4304.828125000003 it =297\n",
      "obj = 4304.828125000003 it =298\n",
      "obj = 4304.828125000003 it =299\n",
      "obj = 4304.828125000003 it =300\n",
      "obj = 4304.828125000003 it =301\n",
      "obj = 4304.828125000003 it =302\n",
      "obj = 4304.828125000003 it =303\n",
      "obj = 4304.828125000003 it =304\n",
      "obj = 4304.828125000003 it =305\n",
      "obj = 4304.828125000003 it =306\n",
      "obj = 4304.828125000003 it =307\n",
      "obj = 4304.828125000003 it =308\n",
      "obj = 4304.828125000003 it =309\n",
      "obj = 4304.828125000003 it =310\n",
      "obj = 4304.828125000003 it =311\n",
      "obj = 4304.828125000003 it =312\n",
      "obj = 4304.828125000003 it =313\n",
      "obj = 4304.828125000003 it =314\n",
      "obj = 4304.828125000003 it =315\n",
      "obj = 4304.828125000003 it =316\n",
      "obj = 4304.828125000003 it =317\n",
      "obj = 4304.828125000003 it =318\n",
      "obj = 4304.828125000003 it =319\n",
      "obj = 4304.828125000003 it =320\n",
      "obj = 4304.828125000003 it =321\n",
      "obj = 4304.828125000003 it =322\n",
      "obj = 4304.828125000003 it =323\n",
      "obj = 4304.828125000003 it =324\n",
      "obj = 4304.828125000003 it =325\n",
      "obj = 4304.828125000003 it =326\n",
      "obj = 4304.828125000003 it =327\n",
      "obj = 4304.828125000003 it =328\n",
      "obj = 4304.828125000003 it =329\n",
      "obj = 4304.828125000003 it =330\n",
      "obj = 4304.828125000003 it =331\n",
      "obj = 4304.828125000003 it =332\n",
      "obj = 4304.828125000003 it =333\n",
      "obj = 4304.828125000003 it =334\n",
      "obj = 4304.828125000003 it =335\n",
      "obj = 4304.828125000003 it =336\n",
      "obj = 4304.828125000003 it =337\n",
      "obj = 4304.828125000003 it =338\n",
      "obj = 4304.828125000003 it =339\n",
      "obj = 4304.828125000003 it =340\n",
      "obj = 4304.828125000003 it =341\n",
      "obj = 4304.828125000003 it =342\n",
      "obj = 4304.828125000003 it =343\n",
      "obj = 4304.828125000003 it =344\n",
      "obj = 4304.828125000003 it =345\n",
      "obj = 4304.828125000003 it =346\n",
      "obj = 4304.828125000003 it =347\n",
      "obj = 4304.828125000003 it =348\n",
      "obj = 4304.828125000003 it =349\n",
      "obj = 4304.828125000003 it =350\n",
      "obj = 4304.828125000003 it =351\n",
      "obj = 4304.828125000003 it =352\n",
      "obj = 4304.828125000003 it =353\n",
      "obj = 4304.828125000003 it =354\n",
      "obj = 4304.828125000003 it =355\n",
      "obj = 4304.828125000003 it =356\n",
      "obj = 4304.828125000003 it =357\n",
      "obj = 4304.828125000003 it =358\n",
      "obj = 4304.828125000003 it =359\n",
      "obj = 4304.828125000003 it =360\n",
      "obj = 4304.828125000003 it =361\n",
      "obj = 4304.828125000003 it =362\n",
      "obj = 4304.828125000003 it =363\n",
      "obj = 4304.828125000003 it =364\n",
      "obj = 4304.828125000003 it =365\n",
      "obj = 4304.828125000003 it =366\n",
      "obj = 4304.828125000003 it =367\n",
      "obj = 4304.828125000003 it =368\n",
      "obj = 4304.828125000003 it =369\n",
      "obj = 4304.828125000003 it =370\n",
      "obj = 4304.828125000003 it =371\n",
      "obj = 4304.828125000003 it =372\n",
      "obj = 4304.828125000003 it =373\n",
      "obj = 4304.828125000003 it =374\n",
      "obj = 4304.828125000003 it =375\n",
      "obj = 4304.828125000003 it =376\n",
      "obj = 4304.828125000003 it =377\n",
      "obj = 4304.828125000003 it =378\n",
      "obj = 4304.828125000003 it =379\n",
      "obj = 4304.828125000003 it =380\n",
      "obj = 4304.828125000003 it =381\n",
      "obj = 4304.828125000003 it =382\n",
      "obj = 4304.828125000003 it =383\n",
      "obj = 4304.828125000003 it =384\n",
      "obj = 4304.828125000003 it =385\n",
      "obj = 4304.828125000003 it =386\n",
      "obj = 4304.828125000003 it =387\n",
      "obj = 4304.828125000003 it =388\n",
      "obj = 4304.828125000003 it =389\n",
      "obj = 4304.828125000003 it =390\n",
      "obj = 4304.828125000003 it =391\n",
      "obj = 4304.828125000003 it =392\n",
      "obj = 4304.828125000003 it =393\n",
      "obj = 4304.828125000003 it =394\n",
      "obj = 4304.828125000003 it =395\n",
      "obj = 4304.828125000003 it =396\n",
      "obj = 4304.828125000003 it =397\n",
      "obj = 4304.828125000003 it =398\n",
      "obj = 4304.828125000003 it =399\n",
      "obj = 4304.828125000003 it =400\n",
      "obj = 4304.828125000003 it =401\n",
      "obj = 4304.828125000003 it =402\n",
      "obj = 4304.828125000003 it =403\n",
      "obj = 4304.828125000003 it =404\n",
      "obj = 4304.828125000003 it =405\n",
      "obj = 4304.828125000003 it =406\n",
      "obj = 4304.828125000003 it =407\n",
      "obj = 4304.828125000003 it =408\n",
      "obj = 4304.828125000003 it =409\n",
      "obj = 4304.828125000003 it =410\n",
      "obj = 4304.828125000003 it =411\n",
      "obj = 4304.828125000003 it =412\n",
      "obj = 4304.828125000003 it =413\n",
      "obj = 4304.828125000003 it =414\n",
      "obj = 4304.828125000003 it =415\n",
      "obj = 4304.828125000003 it =416\n",
      "obj = 4304.828125000003 it =417\n",
      "obj = 4304.828125000003 it =418\n",
      "obj = 4304.828125000003 it =419\n",
      "obj = 4304.828125000003 it =420\n",
      "obj = 4304.828125000003 it =421\n",
      "obj = 4304.828125000003 it =422\n",
      "obj = 4304.828125000003 it =423\n",
      "obj = 4304.828125000003 it =424\n",
      "obj = 4304.828125000003 it =425\n",
      "obj = 4304.828125000003 it =426\n",
      "obj = 4304.828125000003 it =427\n",
      "obj = 4304.828125000003 it =428\n",
      "obj = 4304.828125000003 it =429\n",
      "obj = 4304.828125000003 it =430\n",
      "obj = 4304.828125000003 it =431\n",
      "obj = 4304.828125000003 it =432\n",
      "obj = 4304.828125000003 it =433\n",
      "obj = 4304.828125000003 it =434\n",
      "obj = 4304.828125000003 it =435\n",
      "obj = 4304.828125000003 it =436\n",
      "obj = 4304.828125000003 it =437\n",
      "obj = 4304.828125000003 it =438\n",
      "obj = 4304.828125000003 it =439\n",
      "obj = 4304.828125000003 it =440\n",
      "obj = 4304.828125000003 it =441\n",
      "obj = 4304.828125000003 it =442\n",
      "obj = 4304.828125000003 it =443\n",
      "obj = 4304.828125000003 it =444\n",
      "obj = 4304.828125000003 it =445\n",
      "obj = 4304.828125000003 it =446\n"
     ]
    },
    {
     "ename": "LoadError",
     "evalue": "ignored",
     "output_type": "error",
     "traceback": [
      "InterruptException:",
      "",
      "Stacktrace:",
      "  [1] Array",
      "    @ ./boot.jl:459 [inlined]",
      "  [2] Array",
      "    @ ./boot.jl:467 [inlined]",
      "  [3] Array",
      "    @ ./boot.jl:474 [inlined]",
      "  [4] similar",
      "    @ ./abstractarray.jl:829 [inlined]",
      "  [5] similar",
      "    @ ./abstractarray.jl:828 [inlined]",
      "  [6] similar",
      "    @ ./broadcast.jl:212 [inlined]",
      "  [7] similar",
      "    @ ./broadcast.jl:211 [inlined]",
      "  [8] copy",
      "    @ ./broadcast.jl:885 [inlined]",
      "  [9] materialize",
      "    @ ./broadcast.jl:860 [inlined]",
      " [10] Concurrent_Path(H::SimpleDiGraph{Int64}, dem::Matrix{Float32}, capac::Vector{Float16}, print::Int64)",
      "    @ Main ./In[27]:54",
      " [11] Benders_Global_rerouting(H::SimpleDiGraph{Int64}, dem::Matrix{Float32}, cost::Vector{Float32}, print::Int64)",
      "    @ Main ./In[37]:30",
      " [12] top-level scope",
      "    @ In[40]:1"
     ]
    }
   ],
   "source": [
    "Benders_Global_rerouting(G, Demand, Cost,1)"
   ]
  },
  {
   "cell_type": "markdown",
   "metadata": {
    "id": "Ji3fp3047cQw"
   },
   "source": [
    "We stopped here the program since it seems that the value of the objective function does not change while the program continues adding cuts. This tailing-off phenomenon is very common in column and/or cut generation. \n",
    "To avoid (or reduce) this problem, stabilization techniques have been proposed. One of the simplest and most efficient procedures is the In-Out technique of Ben-Ameur&Neto. At each iteration, a current capacity vector $b_{in}$ (satisfying all constraints) is known while $b_{out}$ is the optimum of the current master problem. The cost of $b_{in}$ is higher than the cost of $b_{out}$. Instead of looking for constraints violated by $b_{out}$, we consider a point $b_{sep}$ belonging the the segment $[b_{in},b_{out}]$ and try to find constraints violated by \n",
    "$b_{sep}$. If we do not find such inequalities, we deduce that we have a new feasible point having a lower cost (so $b_{sep}$ becomes the new $b_{in}$). If we are able to find violated inequalities, these inequalities will also be violated by $b_{out}$ (for convexity reasons). So we will also eliminate (separate) the current $b_{out}$ (by solving the new master problem we cannot get the same $b_{out}$). Since $b_{sep}$ is somewhat close to the set of feasible capacity vectors, the inequalities obtained by considering $b_{sep}$ are intuitively better than those obtained in classical way."
   ]
  },
  {
   "cell_type": "code",
   "execution_count": null,
   "metadata": {
    "colab": {
     "base_uri": "https://localhost:8080/"
    },
    "executionInfo": {
     "elapsed": 3,
     "status": "ok",
     "timestamp": 1672503930852,
     "user": {
      "displayName": "walid benameur",
      "userId": "15823031990919506834"
     },
     "user_tz": -60
    },
    "id": "2YCZfA957kiN",
    "outputId": "c18ca1fc-0c22-4226-90f0-2db43503d36b"
   },
   "outputs": [
    {
     "data": {
      "text/plain": [
       "Inout_Benders_Global_rerouting (generic function with 1 method)"
      ]
     },
     "execution_count": 43,
     "metadata": {},
     "output_type": "execute_result"
    }
   ],
   "source": [
    "function Inout_Benders_Global_rerouting(H, dem, cost)\n",
    "\n",
    "  model=Model(GLPK.Optimizer)\n",
    "   \n",
    "    @variable(model, capa[1:ne(H)]>=0)\n",
    "\n",
    "    @objective(model, Min,sum(capa[e]*cost[e] for e in 1:ne(H)))\n",
    "\n",
    "    capa_in = zeros(Float16,ne(H))\n",
    "    capa_out = zeros(Float16,ne(H))\n",
    "\n",
    "    current_capa = zeros(Float16,ne(H))\n",
    "    capa_under_failure = zeros(Float16,ne(H))\n",
    "\n",
    "    tot = sum(dem[s,r] for s in 1:nv(H), r in 1:nv(H))\n",
    "\n",
    "    for e in 1:ne(H)\n",
    "        capa_in[e] = tot\n",
    "    end\n",
    "    cost_in = tot*ne(H)\n",
    "    cost_out = 0.0\n",
    "    stop = false\n",
    "    iter = 0\n",
    "    while ((cost_in - cost_out)/cost_in > 0.0001)\n",
    "        if (stop ==true)\n",
    "            for e in 1:ne(H)\n",
    "                capa_in[e] = current_capa[e]\n",
    "            end\n",
    "            cost_in = cost'*capa_in\n",
    "        end\n",
    "        stop = true\n",
    "        optimize!(model)\n",
    "        iter = iter+1\n",
    "        println(\"obj = \", objective_value(model), \" cost_in = \", cost_in , \" it =\", iter)\n",
    "\n",
    "        cost_out = objective_value(model)\n",
    "       beta = rand()\n",
    "        for e in 1:ne(H)\n",
    "             current_capa[e] = beta*value(capa[e])+(1-beta)*capa_in[e]\n",
    "        end\n",
    "        for e in 1:ne(H)\n",
    "\n",
    "            for i in 1:ne(H)\n",
    "                capa_under_failure[i]=current_capa[i]\n",
    "            end\n",
    "            capa_under_failure[e]=0.0\n",
    "\n",
    "            res = Concurrent_Path(H, dem, capa_under_failure,0)\n",
    "            if res[1]<1-0.0001\n",
    "                @constraint(model,res[2]'*capa -res[2][e]*capa[e] >=1)\n",
    "                \n",
    "            stop = false\n",
    "            end\n",
    "        end\n",
    "\n",
    "    end\n",
    "\n",
    "return cost_in\n",
    "end\n",
    "\n"
   ]
  },
  {
   "cell_type": "code",
   "execution_count": null,
   "metadata": {
    "colab": {
     "base_uri": "https://localhost:8080/"
    },
    "executionInfo": {
     "elapsed": 70707,
     "status": "ok",
     "timestamp": 1672504011303,
     "user": {
      "displayName": "walid benameur",
      "userId": "15823031990919506834"
     },
     "user_tz": -60
    },
    "id": "ng-qr17I7sax",
    "outputId": "08e5b424-1b45-4d50-bfe4-5347906ce7db"
   },
   "outputs": [
    {
     "name": "stdout",
     "output_type": "stream",
     "text": [
      "obj = 0.0 cost_in = 132000.0 it =1\n",
      "obj = 0.0 cost_in = 56900.0 it =2\n",
      "obj = 0.0 cost_in = 10700.0 it =3\n",
      "obj = 0.0 cost_in = 7150.0 it =4\n",
      "obj = 2480.0 cost_in = 7150.0 it =5\n",
      "obj = 3152.0000000000005 cost_in = 7150.0 it =6\n",
      "obj = 3442.250000000001 cost_in = 7150.0 it =7\n",
      "obj = 3442.250000000001 cost_in = 5675.75 it =8\n",
      "obj = 3697.999999999994 cost_in = 5675.75 it =9\n",
      "obj = 3697.999999999994 cost_in = 5226.6875 it =10\n",
      "obj = 3697.999999999994 cost_in = 4527.875 it =11\n",
      "obj = 3989.9999999999504 cost_in = 4527.875 it =12\n",
      "obj = 4128.999999999997 cost_in = 4527.875 it =13\n",
      "obj = 4129.000000000024 cost_in = 4527.875 it =14\n",
      "obj = 4129.000000000024 cost_in = 4482.0625 it =15\n",
      "obj = 4135.999999999996 cost_in = 4482.0625 it =16\n",
      "obj = 4277.863636363641 cost_in = 4482.0625 it =17\n",
      "obj = 4277.863636363641 cost_in = 4431.0312 it =18\n",
      "obj = 4277.863636363641 cost_in = 4386.25 it =19\n",
      "obj = 4277.863636363637 cost_in = 4386.25 it =20\n",
      "obj = 4277.863636363625 cost_in = 4386.25 it =21\n",
      "obj = 4280.045454545459 cost_in = 4386.25 it =22\n",
      "obj = 4294.379925901185 cost_in = 4386.25 it =23\n",
      "obj = 4298.430161730707 cost_in = 4386.25 it =24\n",
      "obj = 4298.430161730707 cost_in = 4377.8984 it =25\n",
      "obj = 4298.430161730734 cost_in = 4377.8984 it =26\n",
      "obj = 4298.8981481481505 cost_in = 4377.8984 it =27\n",
      "obj = 4298.8981481481505 cost_in = 4349.867 it =28\n",
      "obj = 4298.8981481481505 cost_in = 4346.211 it =29\n",
      "obj = 4304.8281250000055 cost_in = 4346.211 it =30\n",
      "obj = 4304.8281250000055 cost_in = 4328.7305 it =31\n",
      "obj = 4304.828124999997 cost_in = 4328.7305 it =32\n",
      "obj = 4304.828125000006 cost_in = 4328.7305 it =33\n",
      "obj = 4304.828125000006 cost_in = 4322.455 it =34\n",
      "obj = 4304.828125000006 cost_in = 4319.631 it =35\n",
      "obj = 4304.828124999991 cost_in = 4319.631 it =36\n",
      "obj = 4304.828125000007 cost_in = 4319.631 it =37\n",
      "obj = 4304.828124999997 cost_in = 4319.631 it =38\n",
      "obj = 4304.828125000003 cost_in = 4319.631 it =39\n",
      "obj = 4304.828125000003 cost_in = 4317.5234 it =40\n",
      "obj = 4304.828124999965 cost_in = 4317.5234 it =41\n",
      "obj = 4304.828124999996 cost_in = 4317.5234 it =42\n",
      "obj = 4304.828124999996 cost_in = 4315.633 it =43\n",
      "obj = 4304.828124999996 cost_in = 4314.086 it =44\n",
      "obj = 4304.828124999996 cost_in = 4313.293 it =45\n",
      "obj = 4304.828124999996 cost_in = 4312.871 it =46\n",
      "obj = 4304.828124999996 cost_in = 4309.785 it =47\n",
      "obj = 4304.828124999992 cost_in = 4309.785 it =48\n",
      "obj = 4304.828124999998 cost_in = 4309.785 it =49\n",
      "obj = 4304.828124999997 cost_in = 4309.785 it =50\n",
      "obj = 4304.828124999989 cost_in = 4309.785 it =51\n",
      "obj = 4304.8281250000055 cost_in = 4309.785 it =52\n",
      "obj = 4304.828124999993 cost_in = 4309.785 it =53\n",
      "obj = 4304.828125000003 cost_in = 4309.785 it =54\n",
      "obj = 4304.828125000003 cost_in = 4307.3086 it =55\n",
      "obj = 4304.828125000003 cost_in = 4306.418 it =56\n",
      "obj = 4304.828125000003 cost_in = 4306.0 it =57\n",
      "obj = 4304.828125000003 cost_in = 4305.7695 it =58\n",
      "obj = 4304.828125000003 cost_in = 4305.508 it =59\n",
      "obj = 4304.828125000003 cost_in = 4305.176 it =60\n"
     ]
    },
    {
     "data": {
      "text/plain": [
       "4305.176f0"
      ]
     },
     "execution_count": 44,
     "metadata": {},
     "output_type": "execute_result"
    }
   ],
   "source": [
    "Inout_Benders_Global_rerouting(G, Demand, Cost)"
   ]
  }
 ],
 "metadata": {
  "accelerator": "GPU",
  "colab": {
   "gpuType": "T4",
   "provenance": [
    {
     "file_id": "1bblSx81zqha_kZmvbbOd85ulVlYNjC6n",
     "timestamp": 1686054113319
    },
    {
     "file_id": "1Enbk1WM7KTlIPgoEDJAK3PB3wNIPhLf9",
     "timestamp": 1672498116919
    },
    {
     "file_id": "https://github.com/Dsantra92/Julia-on-Colab/blob/version%2F1.7.2/Julia_on_colab.ipynb",
     "timestamp": 1671633709916
    }
   ]
  },
  "kernelspec": {
   "display_name": "Julia 1.8.5",
   "language": "julia",
   "name": "julia-1.8"
  },
  "language_info": {
   "file_extension": ".jl",
   "mimetype": "application/julia",
   "name": "julia",
   "version": "1.8.5"
  }
 },
 "nbformat": 4,
 "nbformat_minor": 1
}
